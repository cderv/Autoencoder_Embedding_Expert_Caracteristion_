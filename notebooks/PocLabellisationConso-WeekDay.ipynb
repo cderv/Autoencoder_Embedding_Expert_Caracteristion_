{
 "cells": [
  {
   "cell_type": "markdown",
   "metadata": {},
   "source": [
    "### Library "
   ]
  },
  {
   "cell_type": "code",
   "execution_count": 2,
   "metadata": {},
   "outputs": [
    {
     "name": "stderr",
     "output_type": "stream",
     "text": [
      "Using TensorFlow backend.\n"
     ]
    }
   ],
   "source": [
    "import sys\n",
    "import os\n",
    "import datetime\n",
    "import pandas as pd\n",
    "import numpy as np\n",
    "import pickle\n",
    "from matplotlib import pyplot as plt\n",
    "import seaborn as sn\n",
    "from scipy import stats\n",
    "\n",
    "path_main_folder = '/home/restor/partage/apogee-parades/AED_autoencoder'\n",
    "\n",
    "sys.path.append(path_main_folder)\n",
    "\n",
    "from CVAE.cvae import compile_cvae, run_cvae\n",
    "from CVAE.cvae_model import CVAE_temp, CVAE\n",
    "from conso.load_shape_data import *  \n",
    "from Visualisation.buildProjector import *\n",
    "#from conso.load_shape_data import get_x_conso_autoencoder\n",
    "from conso.conso_helpers import plot_latent_space_projection, pyplot_latent_space_projection_temp, pyplot_latent_space_projection_error\n",
    "from sklearn.manifold import TSNE"
   ]
  },
  {
   "cell_type": "markdown",
   "metadata": {},
   "source": [
    "## Recette pour apprendre un bon autoencoder conditionnel\n",
    "Apres avoir augmenté le nombre de couches, inséré des sigmoids proches de l'espace latent de l'autoencoder, donner plus de poids à la loss de reconstruction (cf référence d'Antoine Rosin sur l'over pruning), et augmenter l'apprentissage, on atteint une loss de reconstruction de l'ordre de 0.4 qui donne de bons résultats et de belles projections!\n",
    "On peut augmenter l'importance de la KL loss mais le temps d'apprentissage doit être augmenté (1000 pour beta=0.01 vs 500 pour beta=0.01.\n",
    "Question: souhaite-t-on un espace très gaussien dans toutes les directions ? Ce serait intéressant si l'on souhaite générer des courbes de conso. Mais si l'on souhaite explorer l'espace latent, cela peut-être une contrainte potentiellement trop forte\n",
    "\n",
    "A vérifier mais plus on passe de conditions, plus la loss de reconstruction devrait diminuer."
   ]
  },
  {
   "cell_type": "markdown",
   "metadata": {},
   "source": [
    "### Load and shape data "
   ]
  },
  {
   "cell_type": "code",
   "execution_count": 3,
   "metadata": {},
   "outputs": [],
   "source": [
    "# Load raw data\n",
    "path_data = os.path.join(path_main_folder, 'data')\n",
    "dict_data_conso = load_data_conso(path_data)"
   ]
  },
  {
   "cell_type": "code",
   "execution_count": 4,
   "metadata": {},
   "outputs": [],
   "source": [
    "# Load Holiday day information\n",
    "holiday_days_csv = os.path.join(path_data, \"joursFeries.csv\")\n",
    "holiday_days_df = pd.read_csv(holiday_days_csv, sep=\";\")\n",
    "holiday_days_df.ds = pd.to_datetime(holiday_days_df.ds)\n",
    "holiday_days_df['is_hd'] = 1"
   ]
  },
  {
   "cell_type": "code",
   "execution_count": 5,
   "metadata": {},
   "outputs": [],
   "source": [
    "# Unifomization\n",
    "data_conso_df, dict_colnames_conso = get_uniformed_data_conso(dict_data_conso)"
   ]
  },
  {
   "cell_type": "code",
   "execution_count": 6,
   "metadata": {},
   "outputs": [],
   "source": [
    "# Change ganularity ?\n",
    "name_granu = '30m'#'1H'\n",
    "data_conso_df = change_granularity(data_conso_df, granularity=\"30min\") #1H\""
   ]
  },
  {
   "cell_type": "code",
   "execution_count": 7,
   "metadata": {},
   "outputs": [
    {
     "data": {
      "text/html": [
       "<div>\n",
       "<style scoped>\n",
       "    .dataframe tbody tr th:only-of-type {\n",
       "        vertical-align: middle;\n",
       "    }\n",
       "\n",
       "    .dataframe tbody tr th {\n",
       "        vertical-align: top;\n",
       "    }\n",
       "\n",
       "    .dataframe thead th {\n",
       "        text-align: right;\n",
       "    }\n",
       "</style>\n",
       "<table border=\"1\" class=\"dataframe\">\n",
       "  <thead>\n",
       "    <tr style=\"text-align: right;\">\n",
       "      <th></th>\n",
       "      <th>ds</th>\n",
       "      <th>conso_nat_t0</th>\n",
       "      <th>002Th+0</th>\n",
       "      <th>005Th+0</th>\n",
       "      <th>015Th+0</th>\n",
       "      <th>027Th+0</th>\n",
       "      <th>070Th+0</th>\n",
       "      <th>110Th+0</th>\n",
       "      <th>120Th+0</th>\n",
       "      <th>130Th+0</th>\n",
       "      <th>...</th>\n",
       "      <th>630Th+0</th>\n",
       "      <th>643Th+0</th>\n",
       "      <th>645Th+0</th>\n",
       "      <th>650Th+0</th>\n",
       "      <th>675Th+0</th>\n",
       "      <th>690Th+0</th>\n",
       "      <th>747Th+0</th>\n",
       "      <th>meteo_natTh+0</th>\n",
       "      <th>type_tempo</th>\n",
       "      <th>is_holiday_day</th>\n",
       "    </tr>\n",
       "  </thead>\n",
       "  <tbody>\n",
       "    <tr>\n",
       "      <th>0</th>\n",
       "      <td>2012-12-28 00:00:00</td>\n",
       "      <td>59679.0</td>\n",
       "      <td>7.7</td>\n",
       "      <td>7.90</td>\n",
       "      <td>7.2</td>\n",
       "      <td>7.10</td>\n",
       "      <td>6.40</td>\n",
       "      <td>11.30</td>\n",
       "      <td>8.70</td>\n",
       "      <td>9.10</td>\n",
       "      <td>...</td>\n",
       "      <td>10.90</td>\n",
       "      <td>13.00</td>\n",
       "      <td>11.40</td>\n",
       "      <td>11.4</td>\n",
       "      <td>13.20</td>\n",
       "      <td>14.20</td>\n",
       "      <td>15.2</td>\n",
       "      <td>8.857143</td>\n",
       "      <td>NaN</td>\n",
       "      <td>0.0</td>\n",
       "    </tr>\n",
       "    <tr>\n",
       "      <th>1</th>\n",
       "      <td>2012-12-28 00:30:00</td>\n",
       "      <td>58103.0</td>\n",
       "      <td>7.6</td>\n",
       "      <td>7.80</td>\n",
       "      <td>7.2</td>\n",
       "      <td>7.55</td>\n",
       "      <td>6.80</td>\n",
       "      <td>11.40</td>\n",
       "      <td>9.05</td>\n",
       "      <td>9.05</td>\n",
       "      <td>...</td>\n",
       "      <td>10.90</td>\n",
       "      <td>11.45</td>\n",
       "      <td>10.95</td>\n",
       "      <td>11.1</td>\n",
       "      <td>12.95</td>\n",
       "      <td>13.90</td>\n",
       "      <td>14.7</td>\n",
       "      <td>8.764286</td>\n",
       "      <td>NaN</td>\n",
       "      <td>0.0</td>\n",
       "    </tr>\n",
       "    <tr>\n",
       "      <th>2</th>\n",
       "      <td>2012-12-28 01:00:00</td>\n",
       "      <td>55354.0</td>\n",
       "      <td>7.5</td>\n",
       "      <td>7.70</td>\n",
       "      <td>7.2</td>\n",
       "      <td>8.00</td>\n",
       "      <td>7.20</td>\n",
       "      <td>11.50</td>\n",
       "      <td>9.40</td>\n",
       "      <td>9.00</td>\n",
       "      <td>...</td>\n",
       "      <td>10.90</td>\n",
       "      <td>9.90</td>\n",
       "      <td>10.50</td>\n",
       "      <td>10.8</td>\n",
       "      <td>12.70</td>\n",
       "      <td>13.60</td>\n",
       "      <td>14.2</td>\n",
       "      <td>8.671429</td>\n",
       "      <td>NaN</td>\n",
       "      <td>0.0</td>\n",
       "    </tr>\n",
       "    <tr>\n",
       "      <th>3</th>\n",
       "      <td>2012-12-28 01:30:00</td>\n",
       "      <td>55196.0</td>\n",
       "      <td>7.5</td>\n",
       "      <td>7.55</td>\n",
       "      <td>7.0</td>\n",
       "      <td>7.90</td>\n",
       "      <td>7.25</td>\n",
       "      <td>11.45</td>\n",
       "      <td>9.65</td>\n",
       "      <td>9.00</td>\n",
       "      <td>...</td>\n",
       "      <td>10.95</td>\n",
       "      <td>9.80</td>\n",
       "      <td>9.10</td>\n",
       "      <td>10.5</td>\n",
       "      <td>12.60</td>\n",
       "      <td>13.25</td>\n",
       "      <td>13.6</td>\n",
       "      <td>8.585714</td>\n",
       "      <td>NaN</td>\n",
       "      <td>0.0</td>\n",
       "    </tr>\n",
       "    <tr>\n",
       "      <th>4</th>\n",
       "      <td>2012-12-28 02:00:00</td>\n",
       "      <td>54324.0</td>\n",
       "      <td>7.5</td>\n",
       "      <td>7.40</td>\n",
       "      <td>6.8</td>\n",
       "      <td>7.80</td>\n",
       "      <td>7.30</td>\n",
       "      <td>11.40</td>\n",
       "      <td>9.90</td>\n",
       "      <td>9.00</td>\n",
       "      <td>...</td>\n",
       "      <td>11.00</td>\n",
       "      <td>9.70</td>\n",
       "      <td>7.70</td>\n",
       "      <td>10.2</td>\n",
       "      <td>12.50</td>\n",
       "      <td>12.90</td>\n",
       "      <td>13.0</td>\n",
       "      <td>8.500000</td>\n",
       "      <td>NaN</td>\n",
       "      <td>0.0</td>\n",
       "    </tr>\n",
       "  </tbody>\n",
       "</table>\n",
       "<p>5 rows × 40 columns</p>\n",
       "</div>"
      ],
      "text/plain": [
       "                   ds  conso_nat_t0  002Th+0  005Th+0  015Th+0  027Th+0  \\\n",
       "0 2012-12-28 00:00:00       59679.0      7.7     7.90      7.2     7.10   \n",
       "1 2012-12-28 00:30:00       58103.0      7.6     7.80      7.2     7.55   \n",
       "2 2012-12-28 01:00:00       55354.0      7.5     7.70      7.2     8.00   \n",
       "3 2012-12-28 01:30:00       55196.0      7.5     7.55      7.0     7.90   \n",
       "4 2012-12-28 02:00:00       54324.0      7.5     7.40      6.8     7.80   \n",
       "\n",
       "   070Th+0  110Th+0  120Th+0  130Th+0       ...        630Th+0  643Th+0  \\\n",
       "0     6.40    11.30     8.70     9.10       ...          10.90    13.00   \n",
       "1     6.80    11.40     9.05     9.05       ...          10.90    11.45   \n",
       "2     7.20    11.50     9.40     9.00       ...          10.90     9.90   \n",
       "3     7.25    11.45     9.65     9.00       ...          10.95     9.80   \n",
       "4     7.30    11.40     9.90     9.00       ...          11.00     9.70   \n",
       "\n",
       "   645Th+0  650Th+0  675Th+0  690Th+0  747Th+0  meteo_natTh+0  type_tempo  \\\n",
       "0    11.40     11.4    13.20    14.20     15.2       8.857143         NaN   \n",
       "1    10.95     11.1    12.95    13.90     14.7       8.764286         NaN   \n",
       "2    10.50     10.8    12.70    13.60     14.2       8.671429         NaN   \n",
       "3     9.10     10.5    12.60    13.25     13.6       8.585714         NaN   \n",
       "4     7.70     10.2    12.50    12.90     13.0       8.500000         NaN   \n",
       "\n",
       "   is_holiday_day  \n",
       "0             0.0  \n",
       "1             0.0  \n",
       "2             0.0  \n",
       "3             0.0  \n",
       "4             0.0  \n",
       "\n",
       "[5 rows x 40 columns]"
      ]
     },
     "execution_count": 7,
     "metadata": {},
     "output_type": "execute_result"
    }
   ],
   "source": [
    "data_conso_df.head(5)"
   ]
  },
  {
   "cell_type": "markdown",
   "metadata": {},
   "source": [
    "# Creer le dataset de l'autoencodeur 1 - pas de conditions"
   ]
  },
  {
   "cell_type": "code",
   "execution_count": 8,
   "metadata": {},
   "outputs": [],
   "source": [
    "# Get x_conso dataframe for autoencoder purpose\n",
    "x_conso = get_x_conso_autoencoder(data_conso_df, dict_colnames_conso)"
   ]
  },
  {
   "cell_type": "code",
   "execution_count": 9,
   "metadata": {},
   "outputs": [
    {
     "data": {
      "text/html": [
       "<div>\n",
       "<style scoped>\n",
       "    .dataframe tbody tr th:only-of-type {\n",
       "        vertical-align: middle;\n",
       "    }\n",
       "\n",
       "    .dataframe tbody tr th {\n",
       "        vertical-align: top;\n",
       "    }\n",
       "\n",
       "    .dataframe thead th {\n",
       "        text-align: right;\n",
       "    }\n",
       "</style>\n",
       "<table border=\"1\" class=\"dataframe\">\n",
       "  <thead>\n",
       "    <tr style=\"text-align: right;\">\n",
       "      <th></th>\n",
       "      <th>ds</th>\n",
       "      <th>conso_nat_t0</th>\n",
       "      <th>meteo_natTh+0</th>\n",
       "      <th>is_holiday_day</th>\n",
       "    </tr>\n",
       "  </thead>\n",
       "  <tbody>\n",
       "    <tr>\n",
       "      <th>0</th>\n",
       "      <td>2012-12-28 00:00:00</td>\n",
       "      <td>59679.0</td>\n",
       "      <td>8.857143</td>\n",
       "      <td>0.0</td>\n",
       "    </tr>\n",
       "    <tr>\n",
       "      <th>1</th>\n",
       "      <td>2012-12-28 00:30:00</td>\n",
       "      <td>58103.0</td>\n",
       "      <td>8.764286</td>\n",
       "      <td>0.0</td>\n",
       "    </tr>\n",
       "    <tr>\n",
       "      <th>2</th>\n",
       "      <td>2012-12-28 01:00:00</td>\n",
       "      <td>55354.0</td>\n",
       "      <td>8.671429</td>\n",
       "      <td>0.0</td>\n",
       "    </tr>\n",
       "    <tr>\n",
       "      <th>3</th>\n",
       "      <td>2012-12-28 01:30:00</td>\n",
       "      <td>55196.0</td>\n",
       "      <td>8.585714</td>\n",
       "      <td>0.0</td>\n",
       "    </tr>\n",
       "    <tr>\n",
       "      <th>4</th>\n",
       "      <td>2012-12-28 02:00:00</td>\n",
       "      <td>54324.0</td>\n",
       "      <td>8.500000</td>\n",
       "      <td>0.0</td>\n",
       "    </tr>\n",
       "  </tbody>\n",
       "</table>\n",
       "</div>"
      ],
      "text/plain": [
       "                   ds  conso_nat_t0  meteo_natTh+0  is_holiday_day\n",
       "0 2012-12-28 00:00:00       59679.0       8.857143             0.0\n",
       "1 2012-12-28 00:30:00       58103.0       8.764286             0.0\n",
       "2 2012-12-28 01:00:00       55354.0       8.671429             0.0\n",
       "3 2012-12-28 01:30:00       55196.0       8.585714             0.0\n",
       "4 2012-12-28 02:00:00       54324.0       8.500000             0.0"
      ]
     },
     "execution_count": 9,
     "metadata": {},
     "output_type": "execute_result"
    }
   ],
   "source": [
    "x_conso.head(5)"
   ]
  },
  {
   "cell_type": "markdown",
   "metadata": {},
   "source": [
    "### Build dataset "
   ]
  },
  {
   "cell_type": "code",
   "execution_count": 10,
   "metadata": {},
   "outputs": [],
   "source": [
    "# Split train and test\n",
    "#date_test_start = datetime.date(2014,1,1)\n",
    "#date_test_end = datetime.date(2015,1,1)\n",
    "#dict_xconso = get_train_test_x_conso(x_conso, date_test_start, date_test_end)\n",
    "\n",
    "dict_xconso = {'train': x_conso}"
   ]
  },
  {
   "cell_type": "code",
   "execution_count": 11,
   "metadata": {},
   "outputs": [],
   "source": [
    "# Normalize x_conso\n",
    "type_scaler = 's'\n",
    "dict_xconso, _ = normalize_xconso(dict_xconso, dict_colnames_conso, type_scaler = 'standard')"
   ]
  },
  {
   "cell_type": "code",
   "execution_count": 12,
   "metadata": {},
   "outputs": [],
   "source": [
    "name_type_cond = 'm-wd-temp'\n",
    "name_train = '0' # 1: first period ; 0 all periods\n",
    "name_type_x = 'c'\n",
    "type_x = ['conso']\n",
    "type_cond = []#['month', 'weekday', 'temperature']"
   ]
  },
  {
   "cell_type": "code",
   "execution_count": 13,
   "metadata": {},
   "outputs": [
    {
     "name": "stdout",
     "output_type": "stream",
     "text": [
      "(1830, 13)\n"
     ]
    },
    {
     "name": "stderr",
     "output_type": "stream",
     "text": [
      "/home/restor/partage/apogee-parades/AED_autoencoder/conso/load_shape_data.py:387: FutureWarning:\n",
      "\n",
      "Method .as_matrix will be removed in a future version. Use .values instead.\n",
      "\n",
      "/home/restor/partage/apogee-parades/AED_autoencoder/conso/load_shape_data.py:390: FutureWarning:\n",
      "\n",
      "Method .as_matrix will be removed in a future version. Use .values instead.\n",
      "\n",
      "/home/restor/partage/apogee-parades/AED_autoencoder/conso/load_shape_data.py:498: FutureWarning:\n",
      "\n",
      "Method .as_matrix will be removed in a future version. Use .values instead.\n",
      "\n"
     ]
    }
   ],
   "source": [
    "dataset = get_dataset_autoencoder(dict_xconso=dict_xconso, type_x=type_x, slidingWindowSize=0)"
   ]
  },
  {
   "cell_type": "code",
   "execution_count": 14,
   "metadata": {},
   "outputs": [],
   "source": [
    "# modify dataset to fit with new data format\n",
    "#Pass a constant vector for conditions\n",
    "nPoints=dataset['train']['x'][1].shape[0]\n",
    "cond_pre =np.zeros((nPoints,), dtype=int)#[0] #dataset['train']['x'][1][:,:14] #les dimensions pour les conditions sans embeddings préalable\n",
    "x = dataset['train']['x'][0]\n",
    "\n",
    "dataset['train']['x'] = [x, cond_pre]#, to_emb]"
   ]
  },
  {
   "cell_type": "markdown",
   "metadata": {},
   "source": [
    "### Build model"
   ]
  },
  {
   "cell_type": "code",
   "execution_count": 28,
   "metadata": {
    "lines_to_next_cell": 2
   },
   "outputs": [],
   "source": [
    "#on sauvegarde le dataset\n",
    "path_out = os.path.join(path_main_folder, 'out')"
   ]
  },
  {
   "cell_type": "code",
   "execution_count": 29,
   "metadata": {},
   "outputs": [],
   "source": [
    "# Parameters\n",
    "e_dims=[48,35,24,12]#[24,12]\n",
    "d_dims=[48,35,24,12]#[12,24]\n",
    "emb_dims=0\n",
    "cond_pre_dim = 1#dataset['train']['x'][1].shape[1]\n",
    "input_dim = dataset['train']['x'][0].shape[1]\n",
    "to_emb_dim = 0#dataset['train']['x'][2].shape[1]\n",
    "z_dim= 5\n",
    "beta = 0.005 #inferieur à 1 et plutot en dessous de 0.1"
   ]
  },
  {
   "cell_type": "code",
   "execution_count": 30,
   "metadata": {},
   "outputs": [],
   "source": [
    "name_model = 'cvae_conso_NoCondition-30min-journalier'.format(name_granu,name_type_x, name_type_cond)\n",
    "#name_model = 'cvae_classification'"
   ]
  },
  {
   "cell_type": "code",
   "execution_count": 31,
   "metadata": {},
   "outputs": [
    {
     "data": {
      "text/plain": [
       "'cvae_conso_NoCondition-30min-journalier'"
      ]
     },
     "execution_count": 31,
     "metadata": {},
     "output_type": "execute_result"
    }
   ],
   "source": [
    "name_model"
   ]
  },
  {
   "cell_type": "code",
   "execution_count": 32,
   "metadata": {},
   "outputs": [
    {
     "name": "stdout",
     "output_type": "stream",
     "text": [
      "2\n",
      "3\n",
      "0\n",
      "1\n",
      "complete model: \n",
      "__________________________________________________________________________________________________\n",
      "Layer (type)                    Output Shape         Param #     Connected to                     \n",
      "==================================================================================================\n",
      "x_true (InputLayer)             (None, 48)           0                                            \n",
      "__________________________________________________________________________________________________\n",
      "cond (InputLayer)               (None, 1)            0                                            \n",
      "__________________________________________________________________________________________________\n",
      "encoder (Model)                 [(None, 5), (None, 5 5409        x_true[0][0]                     \n",
      "                                                                 cond[0][0]                       \n",
      "__________________________________________________________________________________________________\n",
      "sample_z (Lambda)               (None, 5)            0           encoder[1][0]                    \n",
      "                                                                 encoder[1][1]                    \n",
      "__________________________________________________________________________________________________\n",
      "decoder (Model)                 (None, 48)           11837       sample_z[0][0]                   \n",
      "                                                                 cond[0][0]                       \n",
      "==================================================================================================\n",
      "Total params: 17,246\n",
      "Trainable params: 17,246\n",
      "Non-trainable params: 0\n",
      "__________________________________________________________________________________________________\n",
      "encoder: \n",
      "__________________________________________________________________________________________________\n",
      "Layer (type)                    Output Shape         Param #     Connected to                     \n",
      "==================================================================================================\n",
      "enc_x_true (InputLayer)         (None, 48)           0                                            \n",
      "__________________________________________________________________________________________________\n",
      "enc_cond (InputLayer)           (None, 1)            0                                            \n",
      "__________________________________________________________________________________________________\n",
      "enc_input (Concatenate)         (None, 49)           0           enc_x_true[0][0]                 \n",
      "                                                                 enc_cond[0][0]                   \n",
      "__________________________________________________________________________________________________\n",
      "enc_dense_0 (Dense)             (None, 48)           2400        enc_input[0][0]                  \n",
      "__________________________________________________________________________________________________\n",
      "dropout_1 (Dropout)             (None, 48)           0           enc_dense_0[0][0]                \n",
      "__________________________________________________________________________________________________\n",
      "enc_dense_1 (Dense)             (None, 35)           1715        dropout_1[0][0]                  \n",
      "__________________________________________________________________________________________________\n",
      "dropout_2 (Dropout)             (None, 35)           0           enc_dense_1[0][0]                \n",
      "__________________________________________________________________________________________________\n",
      "enc_dense_2 (Dense)             (None, 24)           864         dropout_2[0][0]                  \n",
      "__________________________________________________________________________________________________\n",
      "dropout_3 (Dropout)             (None, 24)           0           enc_dense_2[0][0]                \n",
      "__________________________________________________________________________________________________\n",
      "enc_dense_3 (Dense)             (None, 12)           300         dropout_3[0][0]                  \n",
      "__________________________________________________________________________________________________\n",
      "dropout_4 (Dropout)             (None, 12)           0           enc_dense_3[0][0]                \n",
      "__________________________________________________________________________________________________\n",
      "latent_dense_mu (Dense)         (None, 5)            65          dropout_4[0][0]                  \n",
      "__________________________________________________________________________________________________\n",
      "latent_dense_log_sigma (Dense)  (None, 5)            65          dropout_4[0][0]                  \n",
      "==================================================================================================\n",
      "Total params: 5,409\n",
      "Trainable params: 5,409\n",
      "Non-trainable params: 0\n",
      "__________________________________________________________________________________________________\n",
      "decoder: \n",
      "__________________________________________________________________________________________________\n",
      "Layer (type)                    Output Shape         Param #     Connected to                     \n",
      "==================================================================================================\n",
      "dec_z (InputLayer)              (None, 5)            0                                            \n",
      "__________________________________________________________________________________________________\n",
      "dec_cond (InputLayer)           (None, 1)            0                                            \n",
      "__________________________________________________________________________________________________\n",
      "dec_input (Concatenate)         (None, 6)            0           dec_z[0][0]                      \n",
      "                                                                 dec_cond[0][0]                   \n",
      "__________________________________________________________________________________________________\n",
      "dense_1 (Dense)                 (None, 48)           336         dec_input[0][0]                  \n",
      "__________________________________________________________________________________________________\n",
      "enc_dense_resnet0 (Concatenate) (None, 54)           0           dense_1[0][0]                    \n",
      "                                                                 dec_input[0][0]                  \n",
      "__________________________________________________________________________________________________\n",
      "dropout_5 (Dropout)             (None, 54)           0           enc_dense_resnet0[0][0]          \n",
      "__________________________________________________________________________________________________\n",
      "dense_2 (Dense)                 (None, 35)           1925        dropout_5[0][0]                  \n",
      "__________________________________________________________________________________________________\n",
      "enc_dense_resnet1 (Concatenate) (None, 89)           0           dense_2[0][0]                    \n",
      "                                                                 dropout_5[0][0]                  \n",
      "__________________________________________________________________________________________________\n",
      "dropout_6 (Dropout)             (None, 89)           0           enc_dense_resnet1[0][0]          \n",
      "__________________________________________________________________________________________________\n",
      "dense_3 (Dense)                 (None, 24)           2160        dropout_6[0][0]                  \n",
      "__________________________________________________________________________________________________\n",
      "enc_dense_resnet2 (Concatenate) (None, 113)          0           dense_3[0][0]                    \n",
      "                                                                 dropout_6[0][0]                  \n",
      "__________________________________________________________________________________________________\n",
      "dropout_7 (Dropout)             (None, 113)          0           enc_dense_resnet2[0][0]          \n",
      "__________________________________________________________________________________________________\n",
      "dense_4 (Dense)                 (None, 12)           1368        dropout_7[0][0]                  \n",
      "__________________________________________________________________________________________________\n",
      "enc_dense_resnet3 (Concatenate) (None, 125)          0           dense_4[0][0]                    \n",
      "                                                                 dropout_7[0][0]                  \n",
      "__________________________________________________________________________________________________\n",
      "dropout_8 (Dropout)             (None, 125)          0           enc_dense_resnet3[0][0]          \n",
      "__________________________________________________________________________________________________\n",
      "dec_x_hat (Dense)               (None, 48)           6048        dropout_8[0][0]                  \n",
      "==================================================================================================\n",
      "Total params: 11,837\n",
      "Trainable params: 11,837\n",
      "Non-trainable params: 0\n",
      "__________________________________________________________________________________________________\n"
     ]
    }
   ],
   "source": [
    "model = CVAE(input_dim=input_dim,\n",
    "                  e_dims=e_dims, \n",
    "                  d_dims=d_dims, \n",
    "                  cond_dim=1,\n",
    "                  z_dim=z_dim, \n",
    "                  beta=beta,\n",
    "                  name=name_model, \n",
    "                  output=path_out)"
   ]
  },
  {
   "cell_type": "markdown",
   "metadata": {},
   "source": [
    "### Trainning model "
   ]
  },
  {
   "cell_type": "code",
   "execution_count": 33,
   "metadata": {},
   "outputs": [],
   "source": [
    "nbsample=20\n",
    "from keras.callbacks import TensorBoard\n",
    "from keras.callbacks import Callback\n",
    "\n",
    "class NEpochLogger(Callback):\n",
    "    def __init__(self, display):\n",
    "        self.seen = 0\n",
    "        self.display = display\n",
    "\n",
    "    def on_epoch_end(self, epoch, logs={}):\n",
    "        self.seen += logs.get('size', 0)\n",
    "        if epoch % self.display == 0:\n",
    "            metrics_log = ''\n",
    "            for k in self.params['metrics']:\n",
    "                if k in logs:\n",
    "                    val = logs[k]\n",
    "                    if abs(val) > 1e-3:\n",
    "                        metrics_log += ' - %s: %.4f' % (k, val)\n",
    "                    else:\n",
    "                        metrics_log += ' - %s: %.4e' % (k, val)\n",
    "            print('{} Epochs ... {}'.format(epoch, metrics_log))"
   ]
  },
  {
   "cell_type": "code",
   "execution_count": 34,
   "metadata": {},
   "outputs": [],
   "source": [
    "from keras.callbacks import TensorBoard\n",
    "from time import time\n",
    "\n",
    "#embeddingsMetadata = {'dec_dense_0': 'metadata.tsv'}\n",
    "tensorboard = TensorBoard(log_dir=\"logs/{}\".format(name_model +str(time())),write_graph=True)#,write_images=True,embeddings_freq=10, embeddings_layer_names=['dec_dense_0'],embeddings_metadata= embeddingsMetadata)\n",
    "#os.path.join(path_out,name_model)\n",
    "\n",
    " #tensorboard = TensorBoard(log_dir=model_path,write_graph=True,write_images=True)"
   ]
  },
  {
   "cell_type": "code",
   "execution_count": 35,
   "metadata": {},
   "outputs": [
    {
     "name": "stdout",
     "output_type": "stream",
     "text": [
      "\n",
      "\n",
      "--- START TRAINING ---\n",
      "\n",
      "0 Epochs ...  - loss: 16.1994 - kl_loss: 11.4759 - recon_loss: 16.1420\n",
      "50 Epochs ...  - loss: 0.3101 - kl_loss: 18.3008 - recon_loss: 0.2186\n",
      "100 Epochs ...  - loss: 0.2295 - kl_loss: 15.8072 - recon_loss: 0.1505\n",
      "150 Epochs ...  - loss: 0.1968 - kl_loss: 14.4548 - recon_loss: 0.1245\n",
      "200 Epochs ...  - loss: 0.1771 - kl_loss: 13.7184 - recon_loss: 0.1085\n",
      "250 Epochs ...  - loss: 0.1642 - kl_loss: 13.3185 - recon_loss: 0.0976\n",
      "300 Epochs ...  - loss: 0.1563 - kl_loss: 13.0061 - recon_loss: 0.0913\n",
      "350 Epochs ...  - loss: 0.1510 - kl_loss: 12.7136 - recon_loss: 0.0874\n",
      "400 Epochs ...  - loss: 0.1462 - kl_loss: 12.6102 - recon_loss: 0.0832\n",
      "450 Epochs ...  - loss: 0.1436 - kl_loss: 12.4132 - recon_loss: 0.0816\n"
     ]
    },
    {
     "data": {
      "image/png": "[encoded data removed]",
      "text/plain": [
       "<Figure size 432x288 with 1 Axes>"
      ]
     },
     "metadata": {
      "needs_background": "light"
     },
     "output_type": "display_data"
    }
   ],
   "source": [
    "#model.main_train(dataset, training_epochs=200, batch_size=20, verbose=False,callbacks=[tensorboard])\n",
    "#nbDispaly=\n",
    "out_batch = NEpochLogger(display=50)\n",
    "model.main_train(dataset, training_epochs=500, batch_size=20, verbose=False,callbacks=[tensorboard,out_batch])\n",
    "\n",
    "#visualizer = LatentSpaceVisualizer(model_folder_path=model_path, dataset_path=labellisation_data_folder + 'sequences_dataset/sequences_et_labels.npz')\n",
    " #   visualizer.visualize_embedding_after_training()"
   ]
  },
  {
   "cell_type": "code",
   "execution_count": 36,
   "metadata": {},
   "outputs": [],
   "source": [
    "with open(os.path.join(path_out,name_model,\"config.txt\"),'w') as file: \n",
    "    file.write(str(cond_pre_dim) + '\\n')\n",
    "    file.write(str(emb_dims) + '\\n')\n",
    "    file.write(str(e_dims) + '\\n') \n",
    "    file.write(str(d_dims) + '\\n') \n",
    "    file.write(str(z_dim) + '\\n')\n",
    "    file.write(str(beta) + '\\n')"
   ]
  },
  {
   "cell_type": "code",
   "execution_count": 37,
   "metadata": {},
   "outputs": [],
   "source": [
    "#sauvegarde du dataset associé\n",
    "name_dataset = 'dataset.pickle'\n",
    "\n",
    "with open( os.path.join(path_out,name_model, name_dataset), \"wb\" ) as file:\n",
    "    pickle.dump( dataset, file )"
   ]
  },
  {
   "cell_type": "markdown",
   "metadata": {},
   "source": [
    "## Loading model "
   ]
  },
  {
   "cell_type": "code",
   "execution_count": 38,
   "metadata": {},
   "outputs": [],
   "source": [
    "model.load_model(os.path.join(path_out, name_model, 'models'))"
   ]
  },
  {
   "cell_type": "markdown",
   "metadata": {},
   "source": [
    "### Analysis of the latent space"
   ]
  },
  {
   "cell_type": "code",
   "execution_count": 39,
   "metadata": {},
   "outputs": [],
   "source": [
    "name_set_plot = 'train'\n",
    "version = '-v1'"
   ]
  },
  {
   "cell_type": "code",
   "execution_count": 40,
   "metadata": {},
   "outputs": [],
   "source": [
    "#temp_emb = model.embedding.predict(dataset['train']['x'][2])\n",
    "cond = dataset['train']['x'][1]\n",
    "#cond = np.concatenate((cond_pre, temp_emb), axis=1)\n",
    "\n",
    "x_input = dataset['train']['x'][0]\n",
    "\n",
    "input_encoder = [x_input, cond]"
   ]
  },
  {
   "cell_type": "code",
   "execution_count": 41,
   "metadata": {},
   "outputs": [],
   "source": [
    "x_encoded = model.encoder.predict(input_encoder)[0]"
   ]
  },
  {
   "cell_type": "code",
   "execution_count": 42,
   "metadata": {},
   "outputs": [],
   "source": [
    "# t-sne if latent space more than 2 dimension\n",
    "#x_encoded = TSNE(n_components=2).fit_transform(x_encoded)"
   ]
  },
  {
   "cell_type": "code",
   "execution_count": 43,
   "metadata": {},
   "outputs": [],
   "source": [
    "calendar_info = pd.DataFrame(dataset[name_set_plot]['ds'])\n",
    "calendar_info['month'] = calendar_info.ds.dt.month\n",
    "calendar_info['weekday'] = calendar_info.ds.dt.weekday\n",
    "calendar_info['is_weekday'] = (calendar_info.weekday < 5).apply(lambda x:int(x))\n",
    "calendar_info = pd.merge(calendar_info, holiday_days_df[['ds', 'is_hd']], on='ds', how ='left')\n",
    "calendar_info.loc[calendar_info['is_hd'].isna(),'is_hd'] = 0"
   ]
  },
  {
   "cell_type": "code",
   "execution_count": 44,
   "metadata": {},
   "outputs": [
    {
     "data": {
      "text/plain": [
       "[<matplotlib.lines.Line2D at 0x7ff35afa9978>]"
      ]
     },
     "execution_count": 44,
     "metadata": {},
     "output_type": "execute_result"
    },
    {
     "data": {
      "image/png": "[encoded data removed]",
      "text/plain": [
       "<Figure size 300x300 with 1 Axes>"
      ]
     },
     "metadata": {
      "needs_background": "light"
     },
     "output_type": "display_data"
    }
   ],
   "source": [
    "indice=300\n",
    "x_hat = model.cvae.predict(x=dataset['train']['x'])\n",
    "fig = plt.figure(dpi=100,figsize=(3,3))\n",
    "#set(gca,'Color','k')\n",
    "plt.plot(x[indice,])\n",
    "plt.plot(x_hat[indice,])\n",
    "#plt.figimage"
   ]
  },
  {
   "cell_type": "code",
   "execution_count": 45,
   "metadata": {},
   "outputs": [],
   "source": [
    "nPoints=1500\n",
    "#nPoints=calendar_info.shape[0]"
   ]
  },
  {
   "cell_type": "code",
   "execution_count": 46,
   "metadata": {},
   "outputs": [
    {
     "ename": "FileExistsError",
     "evalue": "[Errno 17] File exists: '/home/restor/partage/apogee-parades/AED_autoencoder/notebooks/logs/projector_Conso_NoCond'",
     "output_type": "error",
     "traceback": [
      "\u001b[0;31m---------------------------------------------------------------------------\u001b[0m",
      "\u001b[0;31mFileExistsError\u001b[0m                           Traceback (most recent call last)",
      "\u001b[0;32m<ipython-input-46-1784671f474b>\u001b[0m in \u001b[0;36m<module>\u001b[0;34m\u001b[0m\n\u001b[1;32m      1\u001b[0m \u001b[0mlog_dir\u001b[0m\u001b[0;34m=\u001b[0m\u001b[0;34m\"/home/restor/partage/apogee-parades/AED_autoencoder/notebooks/logs/projector_Conso_NoCond\"\u001b[0m\u001b[0;34m\u001b[0m\u001b[0m\n\u001b[0;32m----> 2\u001b[0;31m \u001b[0mos\u001b[0m\u001b[0;34m.\u001b[0m\u001b[0mmakedirs\u001b[0m\u001b[0;34m(\u001b[0m\u001b[0mlog_dir\u001b[0m\u001b[0;34m)\u001b[0m\u001b[0;34m\u001b[0m\u001b[0m\n\u001b[0m",
      "\u001b[0;32m/usr/lib64/python3.6/os.py\u001b[0m in \u001b[0;36mmakedirs\u001b[0;34m(name, mode, exist_ok)\u001b[0m\n\u001b[1;32m    218\u001b[0m             \u001b[0;32mreturn\u001b[0m\u001b[0;34m\u001b[0m\u001b[0m\n\u001b[1;32m    219\u001b[0m     \u001b[0;32mtry\u001b[0m\u001b[0;34m:\u001b[0m\u001b[0;34m\u001b[0m\u001b[0m\n\u001b[0;32m--> 220\u001b[0;31m         \u001b[0mmkdir\u001b[0m\u001b[0;34m(\u001b[0m\u001b[0mname\u001b[0m\u001b[0;34m,\u001b[0m \u001b[0mmode\u001b[0m\u001b[0;34m)\u001b[0m\u001b[0;34m\u001b[0m\u001b[0m\n\u001b[0m\u001b[1;32m    221\u001b[0m     \u001b[0;32mexcept\u001b[0m \u001b[0mOSError\u001b[0m\u001b[0;34m:\u001b[0m\u001b[0;34m\u001b[0m\u001b[0m\n\u001b[1;32m    222\u001b[0m         \u001b[0;31m# Cannot rely on checking for EEXIST, since the operating system\u001b[0m\u001b[0;34m\u001b[0m\u001b[0;34m\u001b[0m\u001b[0m\n",
      "\u001b[0;31mFileExistsError\u001b[0m: [Errno 17] File exists: '/home/restor/partage/apogee-parades/AED_autoencoder/notebooks/logs/projector_Conso_NoCond'"
     ]
    }
   ],
   "source": [
    "log_dir=\"/home/restor/partage/apogee-parades/AED_autoencoder/notebooks/logs/projector_Conso_NoCond\"\n",
    "os.makedirs(log_dir)"
   ]
  },
  {
   "cell_type": "code",
   "execution_count": 47,
   "metadata": {},
   "outputs": [
    {
     "data": {
      "text/plain": [
       "<Figure size 432x288 with 0 Axes>"
      ]
     },
     "metadata": {},
     "output_type": "display_data"
    }
   ],
   "source": [
    "import os,cv2\n",
    "images=createLoadProfileImages(x,x_hat,nPoints)\n"
   ]
  },
  {
   "cell_type": "code",
   "execution_count": 48,
   "metadata": {},
   "outputs": [
    {
     "data": {
      "text/plain": [
       "True"
      ]
     },
     "execution_count": 48,
     "metadata": {},
     "output_type": "execute_result"
    }
   ],
   "source": [
    "sprites=images_to_sprite(images)\n",
    "cv2.imwrite(os.path.join(log_dir, 'sprite_4_classes.png'), sprites)"
   ]
  },
  {
   "cell_type": "code",
   "execution_count": 53,
   "metadata": {},
   "outputs": [],
   "source": [
    "x_encoded = model.encoder.predict(input_encoder)[0]\n",
    "x_reduced=x_encoded[0:nPoints,]\n",
    "writeMetaData(log_dir,x_conso,calendar_info,nPoints)\n",
    "buildProjector(x_reduced,images, log_dir)"
   ]
  },
  {
   "cell_type": "code",
   "execution_count": 55,
   "metadata": {},
   "outputs": [
    {
     "data": {
      "text/plain": [
       "(1500, 5)"
      ]
     },
     "execution_count": 55,
     "metadata": {},
     "output_type": "execute_result"
    }
   ],
   "source": [
    "x_reduced.shape"
   ]
  },
  {
   "cell_type": "markdown",
   "metadata": {},
   "source": [
    "### Essayons une PCA aussi"
   ]
  },
  {
   "cell_type": "code",
   "execution_count": 56,
   "metadata": {},
   "outputs": [
    {
     "ename": "FileExistsError",
     "evalue": "[Errno 17] File exists: '/home/restor/partage/apogee-parades/AED_autoencoder/notebooks/logs/projector_Conso_NoCond_PCA'",
     "output_type": "error",
     "traceback": [
      "\u001b[0;31m---------------------------------------------------------------------------\u001b[0m",
      "\u001b[0;31mFileExistsError\u001b[0m                           Traceback (most recent call last)",
      "\u001b[0;32m<ipython-input-56-b57f0a5fd234>\u001b[0m in \u001b[0;36m<module>\u001b[0;34m\u001b[0m\n\u001b[1;32m      1\u001b[0m \u001b[0mlog_dir\u001b[0m\u001b[0;34m=\u001b[0m\u001b[0;34m\"/home/restor/partage/apogee-parades/AED_autoencoder/notebooks/logs/projector_Conso_NoCond_PCA\"\u001b[0m\u001b[0;34m\u001b[0m\u001b[0m\n\u001b[0;32m----> 2\u001b[0;31m \u001b[0mos\u001b[0m\u001b[0;34m.\u001b[0m\u001b[0mmakedirs\u001b[0m\u001b[0;34m(\u001b[0m\u001b[0mlog_dir\u001b[0m\u001b[0;34m)\u001b[0m\u001b[0;34m\u001b[0m\u001b[0m\n\u001b[0m",
      "\u001b[0;32m/usr/lib64/python3.6/os.py\u001b[0m in \u001b[0;36mmakedirs\u001b[0;34m(name, mode, exist_ok)\u001b[0m\n\u001b[1;32m    218\u001b[0m             \u001b[0;32mreturn\u001b[0m\u001b[0;34m\u001b[0m\u001b[0m\n\u001b[1;32m    219\u001b[0m     \u001b[0;32mtry\u001b[0m\u001b[0;34m:\u001b[0m\u001b[0;34m\u001b[0m\u001b[0m\n\u001b[0;32m--> 220\u001b[0;31m         \u001b[0mmkdir\u001b[0m\u001b[0;34m(\u001b[0m\u001b[0mname\u001b[0m\u001b[0;34m,\u001b[0m \u001b[0mmode\u001b[0m\u001b[0;34m)\u001b[0m\u001b[0;34m\u001b[0m\u001b[0m\n\u001b[0m\u001b[1;32m    221\u001b[0m     \u001b[0;32mexcept\u001b[0m \u001b[0mOSError\u001b[0m\u001b[0;34m:\u001b[0m\u001b[0;34m\u001b[0m\u001b[0m\n\u001b[1;32m    222\u001b[0m         \u001b[0;31m# Cannot rely on checking for EEXIST, since the operating system\u001b[0m\u001b[0;34m\u001b[0m\u001b[0;34m\u001b[0m\u001b[0m\n",
      "\u001b[0;31mFileExistsError\u001b[0m: [Errno 17] File exists: '/home/restor/partage/apogee-parades/AED_autoencoder/notebooks/logs/projector_Conso_NoCond_PCA'"
     ]
    }
   ],
   "source": [
    "log_dir=\"/home/restor/partage/apogee-parades/AED_autoencoder/notebooks/logs/projector_Conso_NoCond_PCA\"\n",
    "os.makedirs(log_dir)"
   ]
  },
  {
   "cell_type": "code",
   "execution_count": 57,
   "metadata": {},
   "outputs": [
    {
     "data": {
      "text/plain": [
       "True"
      ]
     },
     "execution_count": 57,
     "metadata": {},
     "output_type": "execute_result"
    }
   ],
   "source": [
    "sprites=images_to_sprite(images)\n",
    "cv2.imwrite(os.path.join(log_dir, 'sprite_4_classes.png'), sprites)"
   ]
  },
  {
   "cell_type": "code",
   "execution_count": 58,
   "metadata": {},
   "outputs": [],
   "source": [
    "from sklearn.decomposition import PCA\n",
    "\n",
    "pca = PCA(n_components=5)\n",
    "\n",
    "principalComponents = pca.fit_transform(x)\n",
    "x_reduced=principalComponents\n",
    "x_reduced=x_reduced[0:nPoints,]\n",
    "\n",
    "writeMetaData(log_dir,x_conso,calendar_info,nPoints)\n",
    "buildProjector(x_reduced,images, log_dir)"
   ]
  },
  {
   "cell_type": "code",
   "execution_count": 21,
   "metadata": {},
   "outputs": [
    {
     "data": {
      "text/plain": [
       "array([0.96190808, 0.02412209, 0.00775856, 0.00327148, 0.00130234])"
      ]
     },
     "execution_count": 21,
     "metadata": {},
     "output_type": "execute_result"
    }
   ],
   "source": [
    "pca.explained_variance_ratio_"
   ]
  },
  {
   "cell_type": "markdown",
   "metadata": {},
   "source": [
    "## Analyse prise en compte condition\n",
    "Normalement on ne devrait plus pouvoir classifier aussi facilement jours de weekend et de semaine dans l'espace projeter"
   ]
  },
  {
   "cell_type": "code",
   "execution_count": 38,
   "metadata": {},
   "outputs": [
    {
     "data": {
      "text/plain": [
       "1.0"
      ]
     },
     "execution_count": 38,
     "metadata": {},
     "output_type": "execute_result"
    }
   ],
   "source": [
    "from sklearn.neighbors import KNeighborsClassifier\n",
    "k=15\n",
    "knn = KNeighborsClassifier(n_neighbors=k)\n",
    "\n",
    "yWeekday=dataset['train']['x'][1].flatten()\n",
    "yWeekday=yWeekday[0:nPoints,]\n",
    "\n",
    "knn.fit(x_reduced, yWeekday)\n",
    "train_accuracy= knn.score(x_reduced, yWeekday)\n",
    "train_accuracy"
   ]
  },
  {
   "cell_type": "code",
   "execution_count": 39,
   "metadata": {},
   "outputs": [
    {
     "data": {
      "text/plain": [
       "1.0"
      ]
     },
     "execution_count": 39,
     "metadata": {},
     "output_type": "execute_result"
    }
   ],
   "source": [
    "prob=knn.predict_proba(x_reduced)\n",
    "probScore=[prob[i][yWeekday[i]] for i in range(0,nPoints) ]\n",
    "sum(probScore)/nPoints"
   ]
  },
  {
   "cell_type": "code",
   "execution_count": 40,
   "metadata": {},
   "outputs": [
    {
     "data": {
      "text/plain": [
       "array([[1500]])"
      ]
     },
     "execution_count": 40,
     "metadata": {},
     "output_type": "execute_result"
    }
   ],
   "source": [
    "from sklearn.metrics import confusion_matrix\n",
    "y_pred = knn.predict(x_reduced)\n",
    "confusion_matrix(yWeekday,y_pred)"
   ]
  },
  {
   "cell_type": "markdown",
   "metadata": {},
   "source": [
    "# Creer le dataset de l'autoencodeur 1 - condition weekday"
   ]
  },
  {
   "cell_type": "code",
   "execution_count": 41,
   "metadata": {},
   "outputs": [],
   "source": [
    "# Split train and test\n",
    "#date_test_start = datetime.date(2014,1,1)\n",
    "#date_test_end = datetime.date(2015,1,1)\n",
    "#dict_xconso = get_train_test_x_conso(x_conso, date_test_start, date_test_end)\n",
    "\n",
    "dict_xconso = {'train': x_conso}"
   ]
  },
  {
   "cell_type": "code",
   "execution_count": 42,
   "metadata": {},
   "outputs": [],
   "source": [
    "# Normalize x_conso\n",
    "type_scaler = 's'\n",
    "dict_xconso, _ = normalize_xconso(dict_xconso, dict_colnames_conso, type_scaler = 'standard')"
   ]
  },
  {
   "cell_type": "code",
   "execution_count": 43,
   "metadata": {},
   "outputs": [],
   "source": [
    "name_type_cond = 'm-wd-temp'\n",
    "name_train = '0' # 1: first period ; 0 all periods\n",
    "name_type_x = 'c'\n",
    "type_x = ['conso']\n",
    "type_cond = ['weekday']#normalement is ne va pas chercher quel jour de la semaine, mais si c'est un jour weekend ou semaine ['weekday', 'temperature']"
   ]
  },
  {
   "cell_type": "code",
   "execution_count": 44,
   "metadata": {},
   "outputs": [
    {
     "name": "stderr",
     "output_type": "stream",
     "text": [
      "/home/restor/partage/apogee-parades/AED_autoencoder/conso/load_shape_data.py:387: FutureWarning:\n",
      "\n",
      "Method .as_matrix will be removed in a future version. Use .values instead.\n",
      "\n",
      "/home/restor/partage/apogee-parades/AED_autoencoder/conso/load_shape_data.py:390: FutureWarning:\n",
      "\n",
      "Method .as_matrix will be removed in a future version. Use .values instead.\n",
      "\n",
      "/home/restor/partage/apogee-parades/AED_autoencoder/conso/load_shape_data.py:488: FutureWarning:\n",
      "\n",
      "Method .as_matrix will be removed in a future version. Use .values instead.\n",
      "\n"
     ]
    }
   ],
   "source": [
    "dataset = get_dataset_autoencoder(dict_xconso=dict_xconso, type_x=type_x, type_cond=type_cond, slidingWindowSize=0)"
   ]
  },
  {
   "cell_type": "code",
   "execution_count": 45,
   "metadata": {},
   "outputs": [],
   "source": [
    "# modify dataset to fit with new data format\n",
    "#Pass a constant vector for conditions\n",
    "nPoints=dataset['train']['x'][1].shape[0]\n",
    "cond_pre =dataset['train']['x'][1][:,:2]#[0] #dataset['train']['x'][1][:,:14] #les dimensions pour les conditions sans embeddings préalable\n",
    "x = dataset['train']['x'][0]\n",
    "\n",
    "dataset['train']['x'] = [x, cond_pre]#, to_emb]"
   ]
  },
  {
   "cell_type": "markdown",
   "metadata": {},
   "source": [
    "### Build model"
   ]
  },
  {
   "cell_type": "code",
   "execution_count": 46,
   "metadata": {
    "lines_to_next_cell": 2
   },
   "outputs": [],
   "source": [
    "#on sauvegarde le dataset\n",
    "path_out = os.path.join(path_main_folder, 'out')"
   ]
  },
  {
   "cell_type": "code",
   "execution_count": 91,
   "metadata": {},
   "outputs": [],
   "source": [
    "# Parameters\n",
    "e_dims=[48,35,24,12]#[24,12]#[48,40,30,20,14,8]\n",
    "d_dims=[48,35,24,12]#[12,24]#[48,40,30,20,14,8]\n",
    "emb_dims=0\n",
    "cond_pre_dim = 1#dataset['train']['x'][1].shape[1]\n",
    "input_dim = dataset['train']['x'][0].shape[1]\n",
    "to_emb_dim = 0#dataset['train']['x'][2].shape[1]\n",
    "z_dim= 5\n",
    "beta = 0.05 #0.1 pour une granularite 48"
   ]
  },
  {
   "cell_type": "code",
   "execution_count": 92,
   "metadata": {},
   "outputs": [],
   "source": [
    "name_model = 'cvae_conso_WeekDay-30min-journalier'.format(name_granu,name_type_x, name_type_cond)\n",
    "#name_model = 'cvae_classification'"
   ]
  },
  {
   "cell_type": "code",
   "execution_count": 93,
   "metadata": {},
   "outputs": [
    {
     "name": "stdout",
     "output_type": "stream",
     "text": [
      "2\n",
      "3\n",
      "0\n",
      "1\n",
      "complete model: \n",
      "__________________________________________________________________________________________________\n",
      "Layer (type)                    Output Shape         Param #     Connected to                     \n",
      "==================================================================================================\n",
      "x_true (InputLayer)             (None, 48)           0                                            \n",
      "__________________________________________________________________________________________________\n",
      "cond (InputLayer)               (None, 1)            0                                            \n",
      "__________________________________________________________________________________________________\n",
      "encoder (Model)                 [(None, 5), (None, 5 5409        x_true[0][0]                     \n",
      "                                                                 cond[0][0]                       \n",
      "__________________________________________________________________________________________________\n",
      "sample_z (Lambda)               (None, 5)            0           encoder[1][0]                    \n",
      "                                                                 encoder[1][1]                    \n",
      "__________________________________________________________________________________________________\n",
      "decoder (Model)                 (None, 48)           11837       sample_z[0][0]                   \n",
      "                                                                 cond[0][0]                       \n",
      "==================================================================================================\n",
      "Total params: 17,246\n",
      "Trainable params: 17,246\n",
      "Non-trainable params: 0\n",
      "__________________________________________________________________________________________________\n",
      "encoder: \n",
      "__________________________________________________________________________________________________\n",
      "Layer (type)                    Output Shape         Param #     Connected to                     \n",
      "==================================================================================================\n",
      "enc_x_true (InputLayer)         (None, 48)           0                                            \n",
      "__________________________________________________________________________________________________\n",
      "enc_cond (InputLayer)           (None, 1)            0                                            \n",
      "__________________________________________________________________________________________________\n",
      "enc_input (Concatenate)         (None, 49)           0           enc_x_true[0][0]                 \n",
      "                                                                 enc_cond[0][0]                   \n",
      "__________________________________________________________________________________________________\n",
      "enc_dense_0 (Dense)             (None, 48)           2400        enc_input[0][0]                  \n",
      "__________________________________________________________________________________________________\n",
      "dropout_25 (Dropout)            (None, 48)           0           enc_dense_0[0][0]                \n",
      "__________________________________________________________________________________________________\n",
      "enc_dense_1 (Dense)             (None, 35)           1715        dropout_25[0][0]                 \n",
      "__________________________________________________________________________________________________\n",
      "dropout_26 (Dropout)            (None, 35)           0           enc_dense_1[0][0]                \n",
      "__________________________________________________________________________________________________\n",
      "enc_dense_2 (Dense)             (None, 24)           864         dropout_26[0][0]                 \n",
      "__________________________________________________________________________________________________\n",
      "dropout_27 (Dropout)            (None, 24)           0           enc_dense_2[0][0]                \n",
      "__________________________________________________________________________________________________\n",
      "enc_dense_3 (Dense)             (None, 12)           300         dropout_27[0][0]                 \n",
      "__________________________________________________________________________________________________\n",
      "dropout_28 (Dropout)            (None, 12)           0           enc_dense_3[0][0]                \n",
      "__________________________________________________________________________________________________\n",
      "latent_dense_mu (Dense)         (None, 5)            65          dropout_28[0][0]                 \n",
      "__________________________________________________________________________________________________\n",
      "latent_dense_log_sigma (Dense)  (None, 5)            65          dropout_28[0][0]                 \n",
      "==================================================================================================\n",
      "Total params: 5,409\n",
      "Trainable params: 5,409\n",
      "Non-trainable params: 0\n",
      "__________________________________________________________________________________________________\n",
      "decoder: \n",
      "__________________________________________________________________________________________________\n",
      "Layer (type)                    Output Shape         Param #     Connected to                     \n",
      "==================================================================================================\n",
      "dec_z (InputLayer)              (None, 5)            0                                            \n",
      "__________________________________________________________________________________________________\n",
      "dec_cond (InputLayer)           (None, 1)            0                                            \n",
      "__________________________________________________________________________________________________\n",
      "dec_input (Concatenate)         (None, 6)            0           dec_z[0][0]                      \n",
      "                                                                 dec_cond[0][0]                   \n",
      "__________________________________________________________________________________________________\n",
      "dense_13 (Dense)                (None, 48)           336         dec_input[0][0]                  \n",
      "__________________________________________________________________________________________________\n",
      "enc_dense_resnet0 (Concatenate) (None, 54)           0           dense_13[0][0]                   \n",
      "                                                                 dec_input[0][0]                  \n",
      "__________________________________________________________________________________________________\n",
      "dropout_29 (Dropout)            (None, 54)           0           enc_dense_resnet0[0][0]          \n",
      "__________________________________________________________________________________________________\n",
      "dense_14 (Dense)                (None, 35)           1925        dropout_29[0][0]                 \n",
      "__________________________________________________________________________________________________\n",
      "enc_dense_resnet1 (Concatenate) (None, 89)           0           dense_14[0][0]                   \n",
      "                                                                 dropout_29[0][0]                 \n",
      "__________________________________________________________________________________________________\n",
      "dropout_30 (Dropout)            (None, 89)           0           enc_dense_resnet1[0][0]          \n",
      "__________________________________________________________________________________________________\n",
      "dense_15 (Dense)                (None, 24)           2160        dropout_30[0][0]                 \n",
      "__________________________________________________________________________________________________\n",
      "enc_dense_resnet2 (Concatenate) (None, 113)          0           dense_15[0][0]                   \n",
      "                                                                 dropout_30[0][0]                 \n",
      "__________________________________________________________________________________________________\n",
      "dropout_31 (Dropout)            (None, 113)          0           enc_dense_resnet2[0][0]          \n",
      "__________________________________________________________________________________________________\n",
      "dense_16 (Dense)                (None, 12)           1368        dropout_31[0][0]                 \n",
      "__________________________________________________________________________________________________\n",
      "enc_dense_resnet3 (Concatenate) (None, 125)          0           dense_16[0][0]                   \n",
      "                                                                 dropout_31[0][0]                 \n",
      "__________________________________________________________________________________________________\n",
      "dropout_32 (Dropout)            (None, 125)          0           enc_dense_resnet3[0][0]          \n",
      "__________________________________________________________________________________________________\n",
      "dec_x_hat (Dense)               (None, 48)           6048        dropout_32[0][0]                 \n",
      "==================================================================================================\n",
      "Total params: 11,837\n",
      "Trainable params: 11,837\n",
      "Non-trainable params: 0\n",
      "__________________________________________________________________________________________________\n"
     ]
    }
   ],
   "source": [
    "model = CVAE(input_dim=input_dim,\n",
    "                  e_dims=e_dims, \n",
    "                  d_dims=d_dims, \n",
    "                  cond_dim=1,\n",
    "                  z_dim=z_dim, \n",
    "                  beta=beta,\n",
    "                  name=name_model, \n",
    "                  output=path_out)\n",
    "                    #pDropout=0.5)"
   ]
  },
  {
   "cell_type": "markdown",
   "metadata": {},
   "source": [
    "### Trainning model "
   ]
  },
  {
   "cell_type": "code",
   "execution_count": 94,
   "metadata": {},
   "outputs": [],
   "source": [
    "from keras.callbacks import TensorBoard\n",
    "from time import time\n",
    "\n",
    "#embeddingsMetadata = {'dec_dense_0': 'metadata.tsv'}\n",
    "tensorboard = TensorBoard(log_dir=\"logs/{}\".format(name_model +str(time())),write_graph=True)#,write_images=True,embeddings_freq=10, embeddings_layer_names=['dec_dense_0'],embeddings_metadata= embeddingsMetadata)\n",
    "#os.path.join(path_out,name_model)\n",
    "\n",
    " #tensorboard = TensorBoard(log_dir=model_path,write_graph=True,write_images=True)"
   ]
  },
  {
   "cell_type": "code",
   "execution_count": 96,
   "metadata": {},
   "outputs": [
    {
     "name": "stdout",
     "output_type": "stream",
     "text": [
      "\n",
      "\n",
      "--- START TRAINING ---\n",
      "\n",
      "0 Epochs ...  - loss: 0.4903 - kl_loss: 5.9045 - recon_loss: 0.1951\n",
      "50 Epochs ...  - loss: 0.4854 - kl_loss: 5.9023 - recon_loss: 0.1903\n",
      "100 Epochs ...  - loss: 0.4835 - kl_loss: 5.9191 - recon_loss: 0.1876\n",
      "150 Epochs ...  - loss: 0.4866 - kl_loss: 5.9671 - recon_loss: 0.1882\n",
      "200 Epochs ...  - loss: 0.4933 - kl_loss: 6.0259 - recon_loss: 0.1920\n",
      "250 Epochs ...  - loss: 0.4882 - kl_loss: 5.9944 - recon_loss: 0.1885\n",
      "300 Epochs ...  - loss: 0.4877 - kl_loss: 6.0041 - recon_loss: 0.1875\n",
      "350 Epochs ...  - loss: 0.4852 - kl_loss: 5.9958 - recon_loss: 0.1854\n",
      "400 Epochs ...  - loss: 0.4846 - kl_loss: 6.0221 - recon_loss: 0.1835\n",
      "450 Epochs ...  - loss: 0.4811 - kl_loss: 5.9918 - recon_loss: 0.1815\n"
     ]
    },
    {
     "data": {
      "image/png": "[encoded data removed]",
      "text/plain": [
       "<Figure size 432x288 with 1 Axes>"
      ]
     },
     "metadata": {
      "needs_background": "light"
     },
     "output_type": "display_data"
    }
   ],
   "source": [
    "#model.main_train(dataset, training_epochs=200, batch_size=20, verbose=False,callbacks=[tensorboard])\n",
    "model.main_train(dataset, training_epochs=500, batch_size=20, verbose=False,callbacks=[tensorboard,out_batch])\n",
    "\n",
    "#visualizer = LatentSpaceVisualizer(model_folder_path=model_path, dataset_path=labellisation_data_folder + 'sequences_dataset/sequences_et_labels.npz')\n",
    " #   visualizer.visualize_embedding_after_training()"
   ]
  },
  {
   "cell_type": "code",
   "execution_count": 97,
   "metadata": {},
   "outputs": [],
   "source": [
    "with open(os.path.join(path_out,name_model,\"config.txt\"),'w') as file: \n",
    "    file.write(str(cond_pre_dim) + '\\n')\n",
    "    file.write(str(emb_dims) + '\\n')\n",
    "    file.write(str(e_dims) + '\\n') \n",
    "    file.write(str(d_dims) + '\\n') \n",
    "    file.write(str(z_dim) + '\\n')\n",
    "    file.write(str(beta) + '\\n')"
   ]
  },
  {
   "cell_type": "code",
   "execution_count": 98,
   "metadata": {},
   "outputs": [],
   "source": [
    "#sauvegarde du dataset associé\n",
    "name_dataset = 'dataset.pickle'\n",
    "\n",
    "with open( os.path.join(path_out,name_model, name_dataset), \"wb\" ) as file:\n",
    "    pickle.dump( dataset, file )"
   ]
  },
  {
   "cell_type": "markdown",
   "metadata": {},
   "source": [
    "## Loading model "
   ]
  },
  {
   "cell_type": "code",
   "execution_count": 99,
   "metadata": {},
   "outputs": [],
   "source": [
    "model.load_model(os.path.join(path_out, name_model, 'models'))"
   ]
  },
  {
   "cell_type": "markdown",
   "metadata": {},
   "source": [
    "### Analysis of the latent space"
   ]
  },
  {
   "cell_type": "code",
   "execution_count": 100,
   "metadata": {},
   "outputs": [],
   "source": [
    "name_set_plot = 'train'\n",
    "version = '-v1'\n",
    "nPoints=1500"
   ]
  },
  {
   "cell_type": "code",
   "execution_count": 101,
   "metadata": {},
   "outputs": [],
   "source": [
    "#temp_emb = model.embedding.predict(dataset['train']['x'][2])\n",
    "cond = dataset['train']['x'][1]\n",
    "#cond = np.concatenate((cond_pre, temp_emb), axis=1)\n",
    "\n",
    "x_input = dataset['train']['x'][0]\n",
    "\n",
    "input_encoder = [x_input, cond]"
   ]
  },
  {
   "cell_type": "code",
   "execution_count": 102,
   "metadata": {},
   "outputs": [],
   "source": [
    "x_encoded = model.encoder.predict(input_encoder)[0]\n",
    "x_hat = model.cvae.predict(x=dataset['train']['x'])"
   ]
  },
  {
   "cell_type": "code",
   "execution_count": 103,
   "metadata": {},
   "outputs": [
    {
     "ename": "FileExistsError",
     "evalue": "[Errno 17] File exists: '/home/restor/partage/apogee-parades/AED_autoencoder/notebooks/logs/projector_Conso_WeekDay_4couches'",
     "output_type": "error",
     "traceback": [
      "\u001b[0;31m---------------------------------------------------------------------------\u001b[0m",
      "\u001b[0;31mFileExistsError\u001b[0m                           Traceback (most recent call last)",
      "\u001b[0;32m<ipython-input-103-b8b1f7ddef95>\u001b[0m in \u001b[0;36m<module>\u001b[0;34m\u001b[0m\n\u001b[1;32m      1\u001b[0m \u001b[0mlog_dir\u001b[0m\u001b[0;34m=\u001b[0m\u001b[0;34m\"/home/restor/partage/apogee-parades/AED_autoencoder/notebooks/logs/projector_Conso_WeekDay_4couches\"\u001b[0m\u001b[0;34m\u001b[0m\u001b[0m\n\u001b[0;32m----> 2\u001b[0;31m \u001b[0mos\u001b[0m\u001b[0;34m.\u001b[0m\u001b[0mmakedirs\u001b[0m\u001b[0;34m(\u001b[0m\u001b[0mlog_dir\u001b[0m\u001b[0;34m)\u001b[0m\u001b[0;34m\u001b[0m\u001b[0m\n\u001b[0m",
      "\u001b[0;32m/usr/lib64/python3.6/os.py\u001b[0m in \u001b[0;36mmakedirs\u001b[0;34m(name, mode, exist_ok)\u001b[0m\n\u001b[1;32m    218\u001b[0m             \u001b[0;32mreturn\u001b[0m\u001b[0;34m\u001b[0m\u001b[0m\n\u001b[1;32m    219\u001b[0m     \u001b[0;32mtry\u001b[0m\u001b[0;34m:\u001b[0m\u001b[0;34m\u001b[0m\u001b[0m\n\u001b[0;32m--> 220\u001b[0;31m         \u001b[0mmkdir\u001b[0m\u001b[0;34m(\u001b[0m\u001b[0mname\u001b[0m\u001b[0;34m,\u001b[0m \u001b[0mmode\u001b[0m\u001b[0;34m)\u001b[0m\u001b[0;34m\u001b[0m\u001b[0m\n\u001b[0m\u001b[1;32m    221\u001b[0m     \u001b[0;32mexcept\u001b[0m \u001b[0mOSError\u001b[0m\u001b[0;34m:\u001b[0m\u001b[0;34m\u001b[0m\u001b[0m\n\u001b[1;32m    222\u001b[0m         \u001b[0;31m# Cannot rely on checking for EEXIST, since the operating system\u001b[0m\u001b[0;34m\u001b[0m\u001b[0;34m\u001b[0m\u001b[0m\n",
      "\u001b[0;31mFileExistsError\u001b[0m: [Errno 17] File exists: '/home/restor/partage/apogee-parades/AED_autoencoder/notebooks/logs/projector_Conso_WeekDay_4couches'"
     ]
    }
   ],
   "source": [
    "log_dir=\"/home/restor/partage/apogee-parades/AED_autoencoder/notebooks/logs/projector_Conso_WeekDay_4couches\"\n",
    "os.makedirs(log_dir)"
   ]
  },
  {
   "cell_type": "code",
   "execution_count": 104,
   "metadata": {},
   "outputs": [
    {
     "data": {
      "text/plain": [
       "<Figure size 432x288 with 0 Axes>"
      ]
     },
     "metadata": {},
     "output_type": "display_data"
    }
   ],
   "source": [
    "import os,cv2\n",
    "images=createLoadProfileImages(x,x_hat,nPoints)"
   ]
  },
  {
   "cell_type": "code",
   "execution_count": 63,
   "metadata": {},
   "outputs": [
    {
     "data": {
      "text/plain": [
       "True"
      ]
     },
     "execution_count": 63,
     "metadata": {},
     "output_type": "execute_result"
    }
   ],
   "source": [
    "\n",
    "sprites=images_to_sprite(images)\n",
    "cv2.imwrite(os.path.join(log_dir, 'sprite_4_classes.png'), sprites)"
   ]
  },
  {
   "cell_type": "code",
   "execution_count": 105,
   "metadata": {},
   "outputs": [],
   "source": [
    "\n",
    "x_reduced=x_encoded[0:nPoints,]\n",
    "writeMetaData(log_dir,x_conso,calendar_info,nPoints)\n",
    "buildProjector(x_reduced,images,log_dir)"
   ]
  },
  {
   "cell_type": "markdown",
   "metadata": {},
   "source": [
    "## Analyse classification de conditions dans espace latent\n",
    "Normalement on ne devrait plus pouvoir classifier aussi facilement jours de weekend et de semaine dans l'espace projeter"
   ]
  },
  {
   "cell_type": "code",
   "execution_count": 106,
   "metadata": {},
   "outputs": [
    {
     "data": {
      "text/plain": [
       "0.8186666666666667"
      ]
     },
     "execution_count": 106,
     "metadata": {},
     "output_type": "execute_result"
    }
   ],
   "source": [
    "from sklearn.neighbors import KNeighborsClassifier\n",
    "k=20\n",
    "knn = KNeighborsClassifier(n_neighbors=k)\n",
    "\n",
    "yWeekday=calendar_info['is_weekday']\n",
    "yWeekday=yWeekday[0:nPoints,]\n",
    "\n",
    "knn.fit(x_reduced, yWeekday)\n",
    "train_accuracy= knn.score(x_reduced, yWeekday)\n",
    "train_accuracy"
   ]
  },
  {
   "cell_type": "code",
   "execution_count": 107,
   "metadata": {},
   "outputs": [],
   "source": [
    "prob=knn.predict_proba(x_reduced)\n",
    "probScore=[prob[i][yWeekday[i]] for i in range(0,nPoints) ]"
   ]
  },
  {
   "cell_type": "code",
   "execution_count": 108,
   "metadata": {},
   "outputs": [
    {
     "data": {
      "text/plain": [
       "0.7254666666666671"
      ]
     },
     "execution_count": 108,
     "metadata": {},
     "output_type": "execute_result"
    }
   ],
   "source": [
    "#plutot sous forme d un probability score\n",
    "sum(probScore)/nPoints"
   ]
  },
  {
   "cell_type": "code",
   "execution_count": 109,
   "metadata": {},
   "outputs": [
    {
     "data": {
      "text/plain": [
       "array([[ 219,  210],\n",
       "       [  62, 1009]])"
      ]
     },
     "execution_count": 109,
     "metadata": {},
     "output_type": "execute_result"
    }
   ],
   "source": [
    "from sklearn.metrics import confusion_matrix\n",
    "y_pred = knn.predict(x_reduced)\n",
    "confusion_matrix(yWeekday,y_pred)\n",
    "\n",
    "#normalement on doit trouver 5/7 de jours de semaine (1082 sur 1500) et 2/7 de jours de weekend (428 sur 1500)  "
   ]
  },
  {
   "cell_type": "markdown",
   "metadata": {},
   "source": [
    "## classification si espace random\n"
   ]
  },
  {
   "cell_type": "code",
   "execution_count": 110,
   "metadata": {},
   "outputs": [
    {
     "data": {
      "text/plain": [
       "0.7113333333333334"
      ]
     },
     "execution_count": 110,
     "metadata": {},
     "output_type": "execute_result"
    }
   ],
   "source": [
    "x_reduced_random=np.random.rand(nPoints,1)\n",
    "knn_random = KNeighborsClassifier(n_neighbors=k)\n",
    "knn_random.fit(x_reduced_random, yWeekday)\n",
    "train_accuracy_random= knn_random.score(x_reduced_random, yWeekday)\n",
    "train_accuracy_random"
   ]
  },
  {
   "cell_type": "code",
   "execution_count": 111,
   "metadata": {},
   "outputs": [],
   "source": [
    "prob_random=knn_random.predict_proba(x_reduced_random)\n",
    "probScore_random=[prob_random[i][yWeekday[i]] for i in range(0,nPoints) ]\n"
   ]
  },
  {
   "cell_type": "code",
   "execution_count": 112,
   "metadata": {},
   "outputs": [
    {
     "data": {
      "text/plain": [
       "0.6084333333333329"
      ]
     },
     "execution_count": 112,
     "metadata": {},
     "output_type": "execute_result"
    }
   ],
   "source": [
    "#plutot sous forme d un probability score\n",
    "sum(probScore_random)/nPoints"
   ]
  },
  {
   "cell_type": "code",
   "execution_count": 113,
   "metadata": {},
   "outputs": [
    {
     "data": {
      "text/plain": [
       "array([[   7,  422],\n",
       "       [  11, 1060]])"
      ]
     },
     "execution_count": 113,
     "metadata": {},
     "output_type": "execute_result"
    }
   ],
   "source": [
    "from sklearn.metrics import confusion_matrix\n",
    "y_pred_random = knn_random.predict(x_reduced_random)\n",
    "confusion_matrix(yWeekday,y_pred_random)\n",
    "\n",
    "#normalement on doit trouver 5/7 de jours de semaine (1082 sur 1500) et 2/7 de jours de weekend (428 sur 1500)  "
   ]
  },
  {
   "cell_type": "markdown",
   "metadata": {},
   "source": [
    "## Analyse classification de catégorie holidays dans espace latent\n",
    "Normalement on ne devrait plus pouvoir classifier aussi facilement jours de weekend et de semaine dans l'espace projeter"
   ]
  },
  {
   "cell_type": "code",
   "execution_count": 114,
   "metadata": {},
   "outputs": [
    {
     "data": {
      "text/plain": [
       "0.7777777777777778"
      ]
     },
     "execution_count": 114,
     "metadata": {},
     "output_type": "execute_result"
    }
   ],
   "source": [
    "from sklearn.neighbors import KNeighborsClassifier\n",
    "k=5\n",
    "knn = KNeighborsClassifier(n_neighbors=k)\n",
    "\n",
    "yHd=calendar_info['is_hd']\n",
    "yHd=yHd[0:nPoints,]\n",
    "indicesHd=[i for i in range(0, nPoints) if yHd[i] == 1]\n",
    "yHd_only=yHd[yHd==1]\n",
    "\n",
    "x_reduced_Hd=x_reduced[indicesHd,]\n",
    "\n",
    "knn.fit(x_reduced, yHd)\n",
    "train_accuracy= knn.score(x_reduced, yHd)\n",
    "scoreHd=np.sum(np.abs((knn.predict(x_reduced_Hd))))/len(indicesHd)\n",
    "scoreHd\n",
    "#train_accuracy"
   ]
  },
  {
   "cell_type": "code",
   "execution_count": null,
   "metadata": {},
   "outputs": [],
   "source": []
  }
 ],
 "metadata": {
  "encoding": "# -*- coding: utf-8 -*-",
  "jupytext_formats": "py:light",
  "kernelspec": {
   "display_name": "Python 3",
   "language": "python",
   "name": "python3"
  },
  "language_info": {
   "codemirror_mode": {
    "name": "ipython",
    "version": 3
   },
   "file_extension": ".py",
   "mimetype": "text/x-python",
   "name": "python",
   "nbconvert_exporter": "python",
   "pygments_lexer": "ipython3",
   "version": "3.6.6"
  }
 },
 "nbformat": 4,
 "nbformat_minor": 2
}
