{
 "cells": [
  {
   "cell_type": "markdown",
   "metadata": {},
   "source": [
    "# Notebook with VAE model and no conditionning"
   ]
  },
  {
   "cell_type": "markdown",
   "metadata": {},
   "source": [
    "## Loading Libraries "
   ]
  },
  {
   "cell_type": "code",
   "execution_count": 58,
   "metadata": {
    "lines_to_next_cell": 2
   },
   "outputs": [],
   "source": [
    "#import external libraries\n",
    "import sys\n",
    "import os\n",
    "import datetime\n",
    "import pandas as pd\n",
    "import numpy as np\n",
    "import pickle\n",
    "from matplotlib import pyplot as plt\n",
    "import seaborn as sn\n",
    "from scipy import stats\n",
    "import cv2 #from open-cv, to convert array to images"
   ]
  },
  {
   "cell_type": "code",
   "execution_count": 59,
   "metadata": {},
   "outputs": [],
   "source": [
    "#paths in git\n",
    "\n",
    "#root git folder \n",
    "path_main_folder = '/home/goubetcle/Documents/CVAE/marota_cvae'\n",
    "#path_main_folder = '/home/jovyan'#specify the root folder of the git repo\n",
    "\n",
    "#add  to path root git folder \n",
    "sys.path.append(path_main_folder)\n",
    "#add  to path source code folder\n",
    "sys.path.append(path_main_folder+'/src')"
   ]
  },
  {
   "cell_type": "code",
   "execution_count": 83,
   "metadata": {},
   "outputs": [],
   "source": [
    "#import class and methods from src\n",
    "from keras import backend as K\n",
    "from CVAE.callbacks import NEpochLogger,callbackWeightLoss\n",
    "#from CVAE.cvae import compile_cvae, run_cvae\n",
    "from CVAE.cvae_model import CVAE, CVAE_emb, CAE\n",
    "from conso.load_shape_data import *  \n",
    "\n",
    "import Visualisation.buildProjector\n",
    "from Visualisation.buildProjector import *\n",
    "from FeaturesScore.scoring import *\n",
    "#from conso.load_shape_data import get_x_conso_autoencoder\n",
    "from conso.conso_helpers import plot_latent_space_projection, pyplot_latent_space_projection_temp, pyplot_latent_space_projection_error\n",
    "from sklearn.manifold import TSNE"
   ]
  },
  {
   "cell_type": "code",
   "execution_count": 61,
   "metadata": {},
   "outputs": [],
   "source": [
    "#directories to store trained model and the related projector\n",
    "\n",
    "log_dir_projector=path_main_folder+\"/notebooks/logs/Expe-bike/VAE/projector\"\n",
    "log_dir_model=path_main_folder+\"/notebooks/logs/Expe-bike/VAE/model\"\n",
    "if not(os.path.isdir(log_dir_projector)):\n",
    "    os.makedirs(log_dir_projector)\n",
    "if not(os.path.isdir(log_dir_model)):\n",
    "    os.makedirs(log_dir_model)"
   ]
  },
  {
   "cell_type": "markdown",
   "metadata": {},
   "source": [
    "# Table of contents:\n",
    "- Load Data\n",
    "- Make Training Set\n",
    "- Define and Train Model\n",
    "- Build Projector\n",
    "- Compute Feature Scores in latent space\n",
    "- Study reconstruction Error\n",
    "- Study Holidays prediction\n",
    "- Detect atypical events\n",
    "- Conclusion"
   ]
  },
  {
   "cell_type": "markdown",
   "metadata": {},
   "source": [
    "# Load dataset "
   ]
  },
  {
   "cell_type": "code",
   "execution_count": 62,
   "metadata": {},
   "outputs": [],
   "source": [
    "# Load dataframe\n",
    "path_data = os.path.join(path_main_folder, 'data/bike-sharing')\n",
    "dataset_train= os.path.join(path_data, \"train.csv\")\n",
    "dataset_test= os.path.join(path_data, \"test.csv\")\n",
    "\n",
    "train = pd.read_csv(dataset_train)\n",
    "test = pd.read_csv(dataset_test)\n",
    "train.head()\n",
    "train.datetime = pd.to_datetime(train.datetime)"
   ]
  },
  {
   "cell_type": "code",
   "execution_count": 63,
   "metadata": {},
   "outputs": [
    {
     "data": {
      "text/plain": [
       "DescribeResult(nobs=456, minmax=(12, 24), mean=23.87280701754386, variance=0.4233468286099864, skewness=-13.815185164323347, kurtosis=242.2238235069406)"
      ]
     },
     "execution_count": 63,
     "metadata": {},
     "output_type": "execute_result"
    }
   ],
   "source": [
    "dates, freq = np.unique(train.datetime.dt.date, return_counts=True)\n",
    "stats.describe(freq)"
   ]
  },
  {
   "cell_type": "code",
   "execution_count": 64,
   "metadata": {},
   "outputs": [],
   "source": [
    "target = dates[np.argmin(freq)]\n",
    "ind = np.where(train.datetime.dt.date==target)[0]\n",
    "train = train.drop(index=ind)"
   ]
  },
  {
   "cell_type": "code",
   "execution_count": 65,
   "metadata": {},
   "outputs": [
    {
     "name": "stdout",
     "output_type": "stream",
     "text": [
      "<class 'pandas.core.frame.DataFrame'>\n",
      "Int64Index: 10874 entries, 0 to 10885\n",
      "Data columns (total 6 columns):\n",
      "ds                10874 non-null datetime64[ns]\n",
      "consumption       10874 non-null float64\n",
      "temperature       10874 non-null float64\n",
      "humidity          10874 non-null float64\n",
      "windspeed         10874 non-null float64\n",
      "is_holiday_day    10874 non-null float64\n",
      "dtypes: datetime64[ns](1), float64(5)\n",
      "memory usage: 594.7 KB\n"
     ]
    }
   ],
   "source": [
    "#Visualize data frame head\n",
    "x_conso = train[['datetime', 'count', 'temp', 'humidity', 'windspeed', 'holiday']].copy()\n",
    "x_conso[['count', 'temp', 'humidity', 'windspeed', 'holiday']] = x_conso[['count', 'temp', 'humidity', 'windspeed', 'holiday']].astype('float64').values\n",
    "x_conso = x_conso.rename(columns={'datetime':'ds', 'count':'consumption', 'temp':'temperature', 'holiday':'is_holiday_day'})\n",
    "x_conso.info()"
   ]
  },
  {
   "cell_type": "markdown",
   "metadata": {},
   "source": [
    "# Make training set of daily electrical consumption profiles and conditions \n",
    "In this experiment there is no condition to pass. This is not something we can do with a PCA anyway"
   ]
  },
  {
   "cell_type": "code",
   "execution_count": 66,
   "metadata": {},
   "outputs": [
    {
     "name": "stdout",
     "output_type": "stream",
     "text": [
      "['consumption']\n"
     ]
    },
    {
     "data": {
      "text/html": [
       "<div>\n",
       "<style scoped>\n",
       "    .dataframe tbody tr th:only-of-type {\n",
       "        vertical-align: middle;\n",
       "    }\n",
       "\n",
       "    .dataframe tbody tr th {\n",
       "        vertical-align: top;\n",
       "    }\n",
       "\n",
       "    .dataframe thead th {\n",
       "        text-align: right;\n",
       "    }\n",
       "</style>\n",
       "<table border=\"1\" class=\"dataframe\">\n",
       "  <thead>\n",
       "    <tr style=\"text-align: right;\">\n",
       "      <th></th>\n",
       "      <th>consumption</th>\n",
       "      <th>temperature</th>\n",
       "      <th>humidity</th>\n",
       "      <th>windspeed</th>\n",
       "      <th>is_holiday_day</th>\n",
       "    </tr>\n",
       "  </thead>\n",
       "  <tbody>\n",
       "    <tr>\n",
       "      <th>count</th>\n",
       "      <td>1.087400e+04</td>\n",
       "      <td>1.087400e+04</td>\n",
       "      <td>1.087400e+04</td>\n",
       "      <td>1.087400e+04</td>\n",
       "      <td>10874.000000</td>\n",
       "    </tr>\n",
       "    <tr>\n",
       "      <th>mean</th>\n",
       "      <td>-4.181969e-17</td>\n",
       "      <td>-1.150042e-16</td>\n",
       "      <td>-8.886685e-17</td>\n",
       "      <td>9.409431e-17</td>\n",
       "      <td>0.028600</td>\n",
       "    </tr>\n",
       "    <tr>\n",
       "      <th>std</th>\n",
       "      <td>1.000046e+00</td>\n",
       "      <td>1.000046e+00</td>\n",
       "      <td>1.000046e+00</td>\n",
       "      <td>1.000046e+00</td>\n",
       "      <td>0.166688</td>\n",
       "    </tr>\n",
       "    <tr>\n",
       "      <th>min</th>\n",
       "      <td>-1.052696e+00</td>\n",
       "      <td>-2.494529e+00</td>\n",
       "      <td>-3.215629e+00</td>\n",
       "      <td>-1.567853e+00</td>\n",
       "      <td>0.000000</td>\n",
       "    </tr>\n",
       "    <tr>\n",
       "      <th>25%</th>\n",
       "      <td>-8.208763e-01</td>\n",
       "      <td>-8.095381e-01</td>\n",
       "      <td>-7.724447e-01</td>\n",
       "      <td>-7.104285e-01</td>\n",
       "      <td>0.000000</td>\n",
       "    </tr>\n",
       "    <tr>\n",
       "      <th>50%</th>\n",
       "      <td>-2.578865e-01</td>\n",
       "      <td>3.295719e-02</td>\n",
       "      <td>7.294971e-03</td>\n",
       "      <td>2.392095e-02</td>\n",
       "      <td>0.000000</td>\n",
       "    </tr>\n",
       "    <tr>\n",
       "      <th>75%</th>\n",
       "      <td>5.093251e-01</td>\n",
       "      <td>7.701406e-01</td>\n",
       "      <td>7.870346e-01</td>\n",
       "      <td>5.137608e-01</td>\n",
       "      <td>0.000000</td>\n",
       "    </tr>\n",
       "    <tr>\n",
       "      <th>max</th>\n",
       "      <td>4.334344e+00</td>\n",
       "      <td>2.665755e+00</td>\n",
       "      <td>1.982635e+00</td>\n",
       "      <td>5.412159e+00</td>\n",
       "      <td>1.000000</td>\n",
       "    </tr>\n",
       "  </tbody>\n",
       "</table>\n",
       "</div>"
      ],
      "text/plain": [
       "        consumption   temperature      humidity     windspeed  is_holiday_day\n",
       "count  1.087400e+04  1.087400e+04  1.087400e+04  1.087400e+04    10874.000000\n",
       "mean  -4.181969e-17 -1.150042e-16 -8.886685e-17  9.409431e-17        0.028600\n",
       "std    1.000046e+00  1.000046e+00  1.000046e+00  1.000046e+00        0.166688\n",
       "min   -1.052696e+00 -2.494529e+00 -3.215629e+00 -1.567853e+00        0.000000\n",
       "25%   -8.208763e-01 -8.095381e-01 -7.724447e-01 -7.104285e-01        0.000000\n",
       "50%   -2.578865e-01  3.295719e-02  7.294971e-03  2.392095e-02        0.000000\n",
       "75%    5.093251e-01  7.701406e-01  7.870346e-01  5.137608e-01        0.000000\n",
       "max    4.334344e+00  2.665755e+00  1.982635e+00  5.412159e+00        1.000000"
      ]
     },
     "execution_count": 66,
     "metadata": {},
     "output_type": "execute_result"
    }
   ],
   "source": [
    "dict_xconso = {'train': x_conso}\n",
    "name_set_plot = 'train'\n",
    "version = '-v1'\n",
    "# Normalize input variables\n",
    "dict_xconso, _ = normalize_xconso(dict_xconso, type_scaler = 'standard', meteo_elements=['temperature', 'humidity', 'windspeed'])\n",
    "dict_xconso['train'].describe()"
   ]
  },
  {
   "cell_type": "code",
   "execution_count": 67,
   "metadata": {},
   "outputs": [
    {
     "data": {
      "text/plain": [
       "455"
      ]
     },
     "execution_count": 67,
     "metadata": {},
     "output_type": "execute_result"
    }
   ],
   "source": [
    "timeserie = train.datetime.dt\n",
    "nPoints = len(np.unique(timeserie.date))\n",
    "nPoints"
   ]
  },
  {
   "cell_type": "code",
   "execution_count": 68,
   "metadata": {},
   "outputs": [
    {
     "name": "stdout",
     "output_type": "stream",
     "text": [
      "['consumption']\n"
     ]
    }
   ],
   "source": [
    "# Normalize input variables\n",
    "type_scaler = 's'\n",
    "dict_xconso, _ = normalize_xconso(dict_xconso, type_scaler = 'standard')"
   ]
  },
  {
   "cell_type": "code",
   "execution_count": 69,
   "metadata": {},
   "outputs": [
    {
     "name": "stdout",
     "output_type": "stream",
     "text": [
      "month (455, 12)\n",
      "weekday (455, 1)\n",
      "(455, 13)\n"
     ]
    }
   ],
   "source": [
    "dataset = get_dataset_autoencoder(dict_xconso=dict_xconso)"
   ]
  },
  {
   "cell_type": "code",
   "execution_count": 70,
   "metadata": {},
   "outputs": [],
   "source": [
    "#A VAE is a CVAE with a null feature as a condition  \n",
    "\n",
    "#Pass a constant vector for conditions\n",
    "nPoints=dataset['train']['x'][1].shape[0]\n",
    "x = dataset['train']['x'][0]\n",
    "cond_pre =np.zeros((nPoints,), dtype=int)#\n",
    "\n",
    "dataset['train']['x'] = [x,cond_pre]\n",
    "dataset['train']['y1'] = dataset['train']['y'] #the CVAE model has two outputs which are identifcal to compute the two losses"
   ]
  },
  {
   "cell_type": "code",
   "execution_count": 71,
   "metadata": {},
   "outputs": [
    {
     "data": {
      "text/plain": [
       "array([0, 0, 0, 0, 0, 0, 0, 0, 0, 0, 0, 0, 0, 0, 0, 0, 0, 0, 0, 0, 0, 0,\n",
       "       0, 0])"
      ]
     },
     "execution_count": 71,
     "metadata": {},
     "output_type": "execute_result"
    }
   ],
   "source": [
    "sum(np.isnan(dataset['train']['x'][0]))"
   ]
  },
  {
   "cell_type": "code",
   "execution_count": 72,
   "metadata": {},
   "outputs": [
    {
     "data": {
      "text/plain": [
       "array([0, 0, 0, 0, 0, 0, 0, 0, 0, 0, 0, 0, 0, 0, 0, 0, 0, 0, 0, 0, 0, 0,\n",
       "       0, 0])"
      ]
     },
     "execution_count": 72,
     "metadata": {},
     "output_type": "execute_result"
    }
   ],
   "source": [
    "sum(np.isnan(dataset['train']['y']))"
   ]
  },
  {
   "cell_type": "code",
   "execution_count": 73,
   "metadata": {},
   "outputs": [],
   "source": [
    "calendar_info = pd.DataFrame(dataset[name_set_plot]['ds'])\n",
    "calendar_info['month'] = calendar_info.ds.dt.month\n",
    "calendar_info['weekday'] = calendar_info.ds.dt.weekday\n",
    "calendar_info['is_weekday'] = (calendar_info.weekday < 5).apply(lambda x:int(x))\n",
    "calendar_info = pd.merge(calendar_info, x_conso[['ds', 'is_holiday_day']], on='ds', how ='left')\n",
    "calendar_info.loc[calendar_info['is_holiday_day'].isna(),'is_holiday_day'] = 0"
   ]
  },
  {
   "cell_type": "code",
   "execution_count": 74,
   "metadata": {},
   "outputs": [
    {
     "data": {
      "text/html": [
       "<div>\n",
       "<style scoped>\n",
       "    .dataframe tbody tr th:only-of-type {\n",
       "        vertical-align: middle;\n",
       "    }\n",
       "\n",
       "    .dataframe tbody tr th {\n",
       "        vertical-align: top;\n",
       "    }\n",
       "\n",
       "    .dataframe thead th {\n",
       "        text-align: right;\n",
       "    }\n",
       "</style>\n",
       "<table border=\"1\" class=\"dataframe\">\n",
       "  <thead>\n",
       "    <tr style=\"text-align: right;\">\n",
       "      <th></th>\n",
       "      <th>ds</th>\n",
       "      <th>month</th>\n",
       "      <th>weekday</th>\n",
       "      <th>is_weekday</th>\n",
       "      <th>is_holiday_day</th>\n",
       "      <th>clear</th>\n",
       "      <th>mist</th>\n",
       "      <th>significant</th>\n",
       "      <th>extreme</th>\n",
       "    </tr>\n",
       "  </thead>\n",
       "  <tbody>\n",
       "    <tr>\n",
       "      <th>0</th>\n",
       "      <td>2011-01-01</td>\n",
       "      <td>1</td>\n",
       "      <td>5</td>\n",
       "      <td>0</td>\n",
       "      <td>0.0</td>\n",
       "      <td>0</td>\n",
       "      <td>0</td>\n",
       "      <td>1</td>\n",
       "      <td>0</td>\n",
       "    </tr>\n",
       "    <tr>\n",
       "      <th>1</th>\n",
       "      <td>2011-01-02</td>\n",
       "      <td>1</td>\n",
       "      <td>6</td>\n",
       "      <td>0</td>\n",
       "      <td>0.0</td>\n",
       "      <td>0</td>\n",
       "      <td>0</td>\n",
       "      <td>1</td>\n",
       "      <td>0</td>\n",
       "    </tr>\n",
       "    <tr>\n",
       "      <th>2</th>\n",
       "      <td>2011-01-03</td>\n",
       "      <td>1</td>\n",
       "      <td>0</td>\n",
       "      <td>1</td>\n",
       "      <td>0.0</td>\n",
       "      <td>1</td>\n",
       "      <td>0</td>\n",
       "      <td>0</td>\n",
       "      <td>0</td>\n",
       "    </tr>\n",
       "    <tr>\n",
       "      <th>3</th>\n",
       "      <td>2011-01-04</td>\n",
       "      <td>1</td>\n",
       "      <td>1</td>\n",
       "      <td>1</td>\n",
       "      <td>0.0</td>\n",
       "      <td>0</td>\n",
       "      <td>1</td>\n",
       "      <td>0</td>\n",
       "      <td>0</td>\n",
       "    </tr>\n",
       "    <tr>\n",
       "      <th>4</th>\n",
       "      <td>2011-01-05</td>\n",
       "      <td>1</td>\n",
       "      <td>2</td>\n",
       "      <td>1</td>\n",
       "      <td>0.0</td>\n",
       "      <td>1</td>\n",
       "      <td>0</td>\n",
       "      <td>0</td>\n",
       "      <td>0</td>\n",
       "    </tr>\n",
       "  </tbody>\n",
       "</table>\n",
       "</div>"
      ],
      "text/plain": [
       "          ds  month  weekday  is_weekday  is_holiday_day  clear  mist  \\\n",
       "0 2011-01-01      1        5           0             0.0      0     0   \n",
       "1 2011-01-02      1        6           0             0.0      0     0   \n",
       "2 2011-01-03      1        0           1             0.0      1     0   \n",
       "3 2011-01-04      1        1           1             0.0      0     1   \n",
       "4 2011-01-05      1        2           1             0.0      1     0   \n",
       "\n",
       "   significant  extreme  \n",
       "0            1        0  \n",
       "1            1        0  \n",
       "2            0        0  \n",
       "3            0        0  \n",
       "4            0        0  "
      ]
     },
     "execution_count": 74,
     "metadata": {},
     "output_type": "execute_result"
    }
   ],
   "source": [
    "dates = calendar_info['ds'].dt.date\n",
    "weather = [train.weather.iloc[np.where(train['datetime'].dt.date==date)[0]].max() for date in dates]\n",
    "calendar_info=calendar_info.join(pd.get_dummies(weather).rename(columns={1:'clear', 2:'mist', 3:'significant', 4:'extreme'}))\n",
    "calendar_info.head()"
   ]
  },
  {
   "cell_type": "code",
   "execution_count": null,
   "metadata": {},
   "outputs": [],
   "source": []
  },
  {
   "cell_type": "code",
   "execution_count": null,
   "metadata": {},
   "outputs": [],
   "source": []
  },
  {
   "cell_type": "markdown",
   "metadata": {},
   "source": [
    "# Build and train model VAE"
   ]
  },
  {
   "cell_type": "code",
   "execution_count": 75,
   "metadata": {
    "lines_to_next_cell": 2
   },
   "outputs": [],
   "source": [
    "#on sauvegarde le dataset\n",
    "path_out = log_dir_model"
   ]
  },
  {
   "cell_type": "code",
   "execution_count": 77,
   "metadata": {},
   "outputs": [],
   "source": [
    "# Parameters for autoencoder\n",
    "e_dims=[24,18,12,6]#encoder dim\n",
    "d_dims=[24,18,12,6]#decoder dim. Dense Blocks in skip connections can make the dimensions bigger when layers are concatenated with the previous one\n",
    "to_emb_dim=[]\n",
    "cond_pre_dim = 0#dataset['train']['x'][1].shape[1]\n",
    "input_dim = dataset['train']['x'][0].shape[1]\n",
    "z_dim= 4\n",
    "lambda_val = 0.4"
   ]
  },
  {
   "cell_type": "code",
   "execution_count": 78,
   "metadata": {},
   "outputs": [],
   "source": [
    "name_model = 'vae_conso-1h-journalier-nocond'\n",
    "#name_model = 'cvae_classification'"
   ]
  },
  {
   "cell_type": "code",
   "execution_count": 85,
   "metadata": {},
   "outputs": [
    {
     "name": "stdout",
     "output_type": "stream",
     "text": [
      "The autoreload extension is already loaded. To reload it, use:\n",
      "  %reload_ext autoreload\n"
     ]
    }
   ],
   "source": [
    "#if needs to relaod model classes after modification wothout restarting the kernel\n",
    "\n",
    "import CVAE.cvae_model\n",
    "import CVAE.callbacks\n",
    "import importlib\n",
    "importlib.reload(CVAE.cvae_model)\n",
    "importlib.reload(CVAE.callbacks)\n",
    "\n",
    "%load_ext autoreload\n",
    "%autoreload"
   ]
  },
  {
   "cell_type": "code",
   "execution_count": 86,
   "metadata": {},
   "outputs": [
    {
     "name": "stdout",
     "output_type": "stream",
     "text": [
      "L1 loss\n",
      "False\n",
      "L1 loss\n",
      "False\n",
      "L1 loss\n",
      "False\n",
      "complete model: \n",
      "__________________________________________________________________________________________________\n",
      "Layer (type)                    Output Shape         Param #     Connected to                     \n",
      "==================================================================================================\n",
      "x_true (InputLayer)             (None, 24)           0                                            \n",
      "__________________________________________________________________________________________________\n",
      "cond_pre (InputLayer)           (None, 1)            0                                            \n",
      "__________________________________________________________________________________________________\n",
      "encoder (Model)                 [(None, 4), (None, 4 1472        x_true[0][0]                     \n",
      "                                                                 cond_pre[0][0]                   \n",
      "__________________________________________________________________________________________________\n",
      "sample_z (Lambda)               (None, 4)            0           encoder[1][0]                    \n",
      "                                                                 encoder[1][1]                    \n",
      "__________________________________________________________________________________________________\n",
      "decoder (Model)                 (None, 24)           3204        sample_z[0][0]                   \n",
      "                                                                 cond_pre[0][0]                   \n",
      "__________________________________________________________________________________________________\n",
      "decoder_for_kl (Model)          (None, 24)           0           decoder[1][0]                    \n",
      "==================================================================================================\n",
      "Total params: 4,676\n",
      "Trainable params: 4,676\n",
      "Non-trainable params: 0\n",
      "__________________________________________________________________________________________________\n",
      "encoder: \n",
      "__________________________________________________________________________________________________\n",
      "Layer (type)                    Output Shape         Param #     Connected to                     \n",
      "==================================================================================================\n",
      "enc_x_true (InputLayer)         (None, 24)           0                                            \n",
      "__________________________________________________________________________________________________\n",
      "enc_cond (InputLayer)           (None, 1)            0                                            \n",
      "__________________________________________________________________________________________________\n",
      "enc_input (Concatenate)         (None, 25)           0           enc_x_true[0][0]                 \n",
      "                                                                 enc_cond[0][0]                   \n",
      "__________________________________________________________________________________________________\n",
      "dense_22 (Dense)                (None, 24)           624         enc_input[0][0]                  \n",
      "__________________________________________________________________________________________________\n",
      "enc_dense_0 (Concatenate)       (None, 25)           0           dense_22[0][0]                   \n",
      "                                                                 enc_cond[0][0]                   \n",
      "__________________________________________________________________________________________________\n",
      "dense_23 (Dense)                (None, 18)           468         enc_dense_0[0][0]                \n",
      "__________________________________________________________________________________________________\n",
      "enc_dense_1 (Concatenate)       (None, 19)           0           dense_23[0][0]                   \n",
      "                                                                 enc_cond[0][0]                   \n",
      "__________________________________________________________________________________________________\n",
      "dense_24 (Dense)                (None, 12)           240         enc_dense_1[0][0]                \n",
      "__________________________________________________________________________________________________\n",
      "enc_dense_2 (Concatenate)       (None, 13)           0           dense_24[0][0]                   \n",
      "                                                                 enc_cond[0][0]                   \n",
      "__________________________________________________________________________________________________\n",
      "enc_dense_3 (Dense)             (None, 6)            84          enc_dense_2[0][0]                \n",
      "__________________________________________________________________________________________________\n",
      "latent_dense_mu (Dense)         (None, 4)            28          enc_dense_3[0][0]                \n",
      "__________________________________________________________________________________________________\n",
      "latent_dense_log_sigma (Dense)  (None, 4)            28          enc_dense_3[0][0]                \n",
      "==================================================================================================\n",
      "Total params: 1,472\n",
      "Trainable params: 1,472\n",
      "Non-trainable params: 0\n",
      "__________________________________________________________________________________________________\n",
      "decoder: \n",
      "__________________________________________________________________________________________________\n",
      "Layer (type)                    Output Shape         Param #     Connected to                     \n",
      "==================================================================================================\n",
      "dec_z (InputLayer)              (None, 4)            0                                            \n",
      "__________________________________________________________________________________________________\n",
      "dec_cond (InputLayer)           (None, 1)            0                                            \n",
      "__________________________________________________________________________________________________\n",
      "dec_input (Concatenate)         (None, 5)            0           dec_z[0][0]                      \n",
      "                                                                 dec_cond[0][0]                   \n",
      "__________________________________________________________________________________________________\n",
      "dense_25 (Dense)                (None, 6)            36          dec_input[0][0]                  \n",
      "__________________________________________________________________________________________________\n",
      "dec_dense_resnet3 (Concatenate) (None, 11)           0           dense_25[0][0]                   \n",
      "                                                                 dec_input[0][0]                  \n",
      "__________________________________________________________________________________________________\n",
      "dense_26 (Dense)                (None, 12)           144         dec_dense_resnet3[0][0]          \n",
      "__________________________________________________________________________________________________\n",
      "dec_dense_resnet2 (Concatenate) (None, 23)           0           dense_26[0][0]                   \n",
      "                                                                 dec_dense_resnet3[0][0]          \n",
      "__________________________________________________________________________________________________\n",
      "dense_27 (Dense)                (None, 18)           432         dec_dense_resnet2[0][0]          \n",
      "__________________________________________________________________________________________________\n",
      "dec_dense_resnet1 (Concatenate) (None, 41)           0           dense_27[0][0]                   \n",
      "                                                                 dec_dense_resnet2[0][0]          \n",
      "__________________________________________________________________________________________________\n",
      "dense_28 (Dense)                (None, 24)           1008        dec_dense_resnet1[0][0]          \n",
      "__________________________________________________________________________________________________\n",
      "dec_dense_resnet0 (Concatenate) (None, 65)           0           dense_28[0][0]                   \n",
      "                                                                 dec_dense_resnet1[0][0]          \n",
      "__________________________________________________________________________________________________\n",
      "dec_x_hat (Dense)               (None, 24)           1584        dec_dense_resnet0[0][0]          \n",
      "==================================================================================================\n",
      "Total params: 3,204\n",
      "Trainable params: 3,204\n",
      "Non-trainable params: 0\n",
      "__________________________________________________________________________________________________\n"
     ]
    }
   ],
   "source": [
    "Lambda = K.variable(lambda_val, dtype='float32')\n",
    "model = CVAE.cvae_model.CVAE(input_dim=input_dim,\n",
    "             cond_dim=1, \n",
    "             e_dims=e_dims, \n",
    "             d_dims=d_dims, \n",
    "             z_dim=z_dim, \n",
    "             beta=Lambda,\n",
    "             name=name_model, \n",
    "             output=path_out,is_L2_Loss=False,lr=3e-4)"
   ]
  },
  {
   "cell_type": "markdown",
   "metadata": {},
   "source": [
    "### Trainning model "
   ]
  },
  {
   "cell_type": "code",
   "execution_count": 87,
   "metadata": {
    "lines_to_next_cell": 2
   },
   "outputs": [],
   "source": [
    "from keras.callbacks import TensorBoard\n",
    "from time import time\n",
    "\n",
    "#embeddingsMetadata = {'dec_dense_0': 'metadata.tsv'}\n",
    "tensorboard = TensorBoard(log_dir=\"logs/{}\".format(name_model +str(time())),write_graph=False,histogram_freq=50,write_grads=True,write_images=True)#,,embeddings_freq=10, embeddings_layer_names=['dec_dense_0'],embeddings_metadata= embeddingsMetadata)"
   ]
  },
  {
   "cell_type": "code",
   "execution_count": 88,
   "metadata": {},
   "outputs": [
    {
     "name": "stdout",
     "output_type": "stream",
     "text": [
      "\n",
      "\n",
      "--- START TRAINING ---\n",
      "\n",
      "[ 73.93711 349.4256  261.62344 255.7723 ]\n",
      "14.822064492753618\n",
      "              is_weekday   weekday     month  is_holiday_day  temperature\n",
      "score model     0.896038  0.317271  0.153915        0.123077    -5.260497\n",
      "random model    0.466407  0.137887  0.065411        0.046154    -5.907602\n",
      "0 Epochs ...  - loss: 19.6761 - decoder_loss: 19.2451 - decoder_for_kl_loss: 1.0775 - decoder_kl_loss: 1.0775 - decoder_recon_loss: 19.2451 - decoder_for_kl_kl_loss: 1.0775 - decoder_for_kl_recon_loss: 19.2451 - val_loss: 21.1359 - val_decoder_loss: 20.6378 - val_decoder_for_kl_loss: 1.2454 - val_decoder_kl_loss: 1.2454 - val_decoder_recon_loss: 20.6378 - val_decoder_for_kl_kl_loss: 1.2454 - val_decoder_for_kl_recon_loss: 20.6378 val_loss 21.13593449799911 ... lambda Loss 0.4000000059604645\n",
      "[380.1123  376.58618 394.37894 207.30388]\n",
      "12.146131159420285\n",
      "              is_weekday   weekday     month  is_holiday_day  temperature\n",
      "score model     0.951221  0.409705  0.215721        0.123077    -2.887258\n",
      "random model    0.477056  0.115734  0.107077        0.046154    -5.455396\n",
      "100 Epochs ...  - loss: 5.8995 - decoder_loss: 3.9947 - decoder_for_kl_loss: 4.7619 - decoder_kl_loss: 4.7619 - decoder_recon_loss: 3.9947 - decoder_for_kl_kl_loss: 4.7619 - decoder_for_kl_recon_loss: 3.9947 - val_loss: 6.6004 - val_decoder_loss: 4.5771 - val_decoder_for_kl_loss: 5.0582 - val_decoder_kl_loss: 5.0582 - val_decoder_recon_loss: 4.5771 - val_decoder_for_kl_kl_loss: 5.0582 - val_decoder_for_kl_recon_loss: 4.5771 val_loss 6.600383343903915 ... lambda Loss 0.4000000059604645\n",
      "[357.84604 361.33908 309.55176 125.55312]\n",
      "12.446144202898552\n",
      "              is_weekday   weekday     month  is_holiday_day  temperature\n",
      "score model     0.953562  0.421291  0.204477        0.138462    -2.887939\n",
      "random model    0.492085  0.140282  0.109249        0.030769    -5.205368\n",
      "200 Epochs ...  - loss: 5.2755 - decoder_loss: 3.6674 - decoder_for_kl_loss: 4.0203 - decoder_kl_loss: 4.0203 - decoder_recon_loss: 3.6674 - decoder_for_kl_kl_loss: 4.0203 - decoder_for_kl_recon_loss: 3.6674 - val_loss: 6.3798 - val_decoder_loss: 4.7127 - val_decoder_for_kl_loss: 4.1677 - val_decoder_kl_loss: 4.1677 - val_decoder_recon_loss: 4.7127 - val_decoder_for_kl_kl_loss: 4.1677 - val_decoder_for_kl_recon_loss: 4.7127 val_loss 6.379764598348866 ... lambda Loss 0.4000000059604645\n",
      "[395.57544 360.45047 303.3996   67.3768 ]\n",
      "12.191528260869559\n",
      "              is_weekday   weekday     month  is_holiday_day  temperature\n",
      "score model     0.957506  0.415451  0.200355        0.153846    -2.765008\n",
      "random model    0.478535  0.188451  0.072444        0.000000    -5.815744\n",
      "300 Epochs ...  - loss: 5.0280 - decoder_loss: 3.5406 - decoder_for_kl_loss: 3.7185 - decoder_kl_loss: 3.7185 - decoder_recon_loss: 3.5406 - decoder_for_kl_kl_loss: 3.7185 - decoder_for_kl_recon_loss: 3.5406 - val_loss: 6.2376 - val_decoder_loss: 4.7315 - val_decoder_for_kl_loss: 3.7651 - val_decoder_kl_loss: 3.7651 - val_decoder_recon_loss: 4.7315 - val_decoder_for_kl_kl_loss: 3.7651 - val_decoder_for_kl_recon_loss: 4.7315 val_loss 6.237564978392228 ... lambda Loss 0.4000000059604645\n"
     ]
    },
    {
     "data": {
      "image/png": "[encoded data removed]",
      "text/plain": [
       "<Figure size 432x288 with 1 Axes>"
      ]
     },
     "metadata": {
      "needs_background": "light"
     },
     "output_type": "display_data"
    }
   ],
   "source": [
    "import warnings\n",
    "warnings.filterwarnings('ignore')\n",
    "\n",
    "lambda_decreaseRate=0.0\n",
    "lambda_min=0.01 #p\n",
    "\n",
    "#Turn it to True to train the model. Otherwise you can directly load on already trained model below\n",
    "runTraining=True\n",
    "runBatchCallback=True #In this callback we compute feature scores which is a bit long\n",
    "\n",
    "if runTraining:#Training a neural network requires some computing power and the CPUs in MyBinder environment can be a bit slow. If you don't use callbacks it can be faster also \n",
    "    \n",
    "    if runBatchCallback:\n",
    "        out_batch = NEpochLogger(x_train_data=dataset['train']['x'], display=100,x_conso=x_conso,calendar_info=calendar_info)\n",
    "        model.main_train(dataset, training_epochs=400, batch_size=32, verbose=0,callbacks=[tensorboard,out_batch],validation_split=0.1)\n",
    "    else:\n",
    "        #use verbose=1 to see logs of training at every epoch\n",
    "        model.main_train(dataset, training_epochs=400, batch_size=32, verbose=0,callbacks=[tensorboard],validation_split=0.1)\n"
   ]
  },
  {
   "cell_type": "code",
   "execution_count": 89,
   "metadata": {},
   "outputs": [
    {
     "name": "stdout",
     "output_type": "stream",
     "text": [
      "\n",
      "\n",
      "--- START TRAINING ---\n",
      "\n",
      "[398.98703  363.2824   217.58594   34.782455]\n",
      "11.52988333333332\n",
      "              is_weekday   weekday     month  is_holiday_day  temperature\n",
      "score model     0.958625  0.410428  0.180038        0.169231    -2.527644\n",
      "random model    0.464648  0.156928  0.064628        0.015385    -6.079236\n",
      "0 Epochs ...  - loss: 4.9149 - decoder_loss: 3.5377 - decoder_for_kl_loss: 3.4430 - decoder_kl_loss: 3.4430 - decoder_recon_loss: 3.5377 - decoder_for_kl_kl_loss: 3.4430 - decoder_for_kl_recon_loss: 3.5377 - val_loss: 5.7936 - val_decoder_loss: 4.3664 - val_decoder_for_kl_loss: 3.5680 - val_decoder_kl_loss: 3.5680 - val_decoder_recon_loss: 4.3664 - val_decoder_for_kl_kl_loss: 3.5680 - val_decoder_for_kl_recon_loss: 4.3664 val_loss 5.79356919164243 ... lambda Loss 0.4000000059604645\n",
      "[402.33594 362.54727 132.57204  30.24712]\n",
      "11.267483333333331\n",
      "              is_weekday   weekday     month  is_holiday_day  temperature\n",
      "score model     0.961246  0.406845  0.203088        0.169231    -2.523494\n",
      "random model    0.553363  0.147636  0.067405        0.000000    -6.002253\n",
      "100 Epochs ...  - loss: 4.6484 - decoder_loss: 3.3664 - decoder_for_kl_loss: 3.5425 - decoder_kl_loss: 3.5425 - decoder_recon_loss: 3.3664 - decoder_for_kl_kl_loss: 3.5425 - decoder_for_kl_recon_loss: 3.3664 - val_loss: 5.5671 - val_decoder_loss: 4.2633 - val_decoder_for_kl_loss: 3.6024 - val_decoder_kl_loss: 3.6024 - val_decoder_recon_loss: 4.2633 - val_decoder_for_kl_kl_loss: 3.6024 - val_decoder_for_kl_recon_loss: 4.2633 val_loss 5.567050104555876 ... lambda Loss 0.3619168996810913\n",
      "[405.34583  370.6101    78.422806  30.62701 ]\n",
      "11.25655\n",
      "              is_weekday   weekday     month  is_holiday_day  temperature\n",
      "score model     0.961246  0.398697  0.207210        0.184615    -2.549409\n",
      "random model    0.443119  0.120510  0.098094        0.000000    -5.727293\n",
      "200 Epochs ...  - loss: 4.4278 - decoder_loss: 3.2199 - decoder_for_kl_loss: 3.6886 - decoder_kl_loss: 3.6886 - decoder_recon_loss: 3.2199 - decoder_for_kl_kl_loss: 3.6886 - decoder_for_kl_recon_loss: 3.2199 - val_loss: 5.4640 - val_decoder_loss: 4.2370 - val_decoder_for_kl_loss: 3.7471 - val_decoder_kl_loss: 3.7471 - val_decoder_recon_loss: 4.2370 - val_decoder_for_kl_kl_loss: 3.7471 - val_decoder_for_kl_recon_loss: 4.2370 val_loss 5.464042974554974 ... lambda Loss 0.32745951414108276\n",
      "[395.1329  367.96     46.24955  32.87513]\n",
      "11.456083333333334\n",
      "              is_weekday   weekday     month  is_holiday_day  temperature\n",
      "score model     0.967859  0.417036  0.218927        0.169231    -2.555992\n",
      "random model    0.489868  0.131207  0.088283        0.030769    -5.608085\n",
      "300 Epochs ...  - loss: 4.3153 - decoder_loss: 3.1946 - decoder_for_kl_loss: 3.7827 - decoder_kl_loss: 3.7827 - decoder_recon_loss: 3.1946 - decoder_for_kl_kl_loss: 3.7827 - decoder_for_kl_recon_loss: 3.1946 - val_loss: 5.2068 - val_decoder_loss: 4.0542 - val_decoder_for_kl_loss: 3.8903 - val_decoder_kl_loss: 3.8903 - val_decoder_recon_loss: 4.0542 - val_decoder_for_kl_kl_loss: 3.8903 - val_decoder_for_kl_recon_loss: 4.0542 val_loss 5.2068153878916865 ... lambda Loss 0.29628267884254456\n",
      "[406.28912  369.67606   32.58109   30.404362]\n",
      "11.436266666666663\n",
      "              is_weekday   weekday     month  is_holiday_day  temperature\n",
      "score model     0.967859  0.392415  0.239155        0.169231    -2.489648\n",
      "random model    0.491983  0.166452  0.082122        0.000000    -5.831471\n",
      "400 Epochs ...  - loss: 4.1833 - decoder_loss: 3.1220 - decoder_for_kl_loss: 3.9590 - decoder_kl_loss: 3.9590 - decoder_recon_loss: 3.1220 - decoder_for_kl_kl_loss: 3.9590 - decoder_for_kl_recon_loss: 3.1220 - val_loss: 5.1514 - val_decoder_loss: 4.0759 - val_decoder_for_kl_loss: 4.0118 - val_decoder_kl_loss: 4.0118 - val_decoder_recon_loss: 4.0759 - val_decoder_for_kl_kl_loss: 4.0118 - val_decoder_for_kl_recon_loss: 4.0759 val_loss 5.151416322459346 ... lambda Loss 0.26807427406311035\n",
      "[391.7054   368.0472    24.67767   30.686768]\n",
      "11.39868333333333\n",
      "              is_weekday   weekday     month  is_holiday_day  temperature\n",
      "score model     0.964659  0.392233  0.235033        0.169231    -2.475886\n",
      "random model    0.467836  0.147946  0.096794        0.015385    -5.166571\n",
      "500 Epochs ...  - loss: 4.0489 - decoder_loss: 3.0701 - decoder_for_kl_loss: 4.0352 - decoder_kl_loss: 4.0352 - decoder_recon_loss: 3.0701 - decoder_for_kl_kl_loss: 4.0352 - decoder_for_kl_recon_loss: 3.0701 - val_loss: 5.0282 - val_decoder_loss: 4.0325 - val_decoder_for_kl_loss: 4.1051 - val_decoder_kl_loss: 4.1051 - val_decoder_recon_loss: 4.0325 - val_decoder_for_kl_kl_loss: 4.1051 - val_decoder_for_kl_recon_loss: 4.0325 val_loss 5.028212588766347 ... lambda Loss 0.2425515204668045\n",
      "[396.99362  364.5877    17.617289  28.37324 ]\n",
      "11.49025\n",
      "              is_weekday   weekday     month  is_holiday_day  temperature\n",
      "score model     0.967859  0.406751  0.236421        0.169231    -2.473461\n",
      "random model    0.475821  0.152658  0.089628        0.030769    -5.297081\n",
      "600 Epochs ...  - loss: 3.9255 - decoder_loss: 3.0024 - decoder_for_kl_loss: 4.2060 - decoder_kl_loss: 4.2060 - decoder_recon_loss: 3.0024 - decoder_for_kl_kl_loss: 4.2060 - decoder_for_kl_recon_loss: 3.0024 - val_loss: 4.7937 - val_decoder_loss: 3.8525 - val_decoder_for_kl_loss: 4.2888 - val_decoder_kl_loss: 4.2888 - val_decoder_recon_loss: 3.8525 - val_decoder_for_kl_kl_loss: 4.2888 - val_decoder_for_kl_recon_loss: 3.8525 val_loss 4.793687986290974 ... lambda Loss 0.21945874392986298\n",
      "[383.5583   370.8438    12.354642  27.42277 ]\n",
      "11.398683333333329\n",
      "              is_weekday   weekday     month  is_holiday_day  temperature\n",
      "score model     0.964659  0.417635  0.230083        0.169231    -2.376254\n",
      "random model    0.505158  0.134645  0.080038        0.107692    -5.667172\n",
      "700 Epochs ...  - loss: 3.8465 - decoder_loss: 2.9868 - decoder_for_kl_loss: 4.3299 - decoder_kl_loss: 4.3299 - decoder_recon_loss: 2.9868 - decoder_for_kl_kl_loss: 4.3299 - decoder_for_kl_recon_loss: 2.9868 - val_loss: 4.7475 - val_decoder_loss: 3.8668 - val_decoder_for_kl_loss: 4.4353 - val_decoder_kl_loss: 4.4353 - val_decoder_recon_loss: 3.8668 - val_decoder_for_kl_kl_loss: 4.4353 - val_decoder_for_kl_recon_loss: 3.8668 val_loss 4.747525132220725 ... lambda Loss 0.1985645890235901\n",
      "[382.69513  372.72766   13.421274  25.10976 ]\n",
      "11.740260869565216\n",
      "              is_weekday   weekday     month  is_holiday_day  temperature\n",
      "score model     0.967859  0.414769  0.227349        0.169231    -2.500225\n",
      "random model    0.477899  0.109939  0.076522        0.000000    -5.412478\n",
      "800 Epochs ...  - loss: 3.7088 - decoder_loss: 2.9156 - decoder_for_kl_loss: 4.4152 - decoder_kl_loss: 4.4152 - decoder_recon_loss: 2.9156 - decoder_for_kl_kl_loss: 4.4152 - decoder_for_kl_recon_loss: 2.9156 - val_loss: 4.6562 - val_decoder_loss: 3.8477 - val_decoder_for_kl_loss: 4.4998 - val_decoder_kl_loss: 4.4998 - val_decoder_recon_loss: 3.8477 - val_decoder_for_kl_kl_loss: 4.4998 - val_decoder_for_kl_recon_loss: 3.8477 val_loss 4.656174017035442 ... lambda Loss 0.17965970933437347\n",
      "[392.01312  374.02182   13.372502  23.588634]\n",
      "11.764326086956515\n",
      "              is_weekday   weekday     month  is_holiday_day  temperature\n",
      "score model     0.967859  0.415536  0.249660        0.138462     -2.45359\n",
      "random model    0.490642  0.148923  0.091844        0.030769     -5.82281\n",
      "900 Epochs ...  - loss: 3.6325 - decoder_loss: 2.8879 - decoder_for_kl_loss: 4.5805 - decoder_kl_loss: 4.5805 - decoder_recon_loss: 2.8879 - decoder_for_kl_kl_loss: 4.5805 - decoder_for_kl_recon_loss: 2.8879 - val_loss: 4.6077 - val_decoder_loss: 3.8485 - val_decoder_for_kl_loss: 4.6704 - val_decoder_kl_loss: 4.6704 - val_decoder_recon_loss: 3.8485 - val_decoder_for_kl_kl_loss: 4.6704 - val_decoder_for_kl_recon_loss: 3.8485 val_loss 4.607732150865638 ... lambda Loss 0.1625545471906662\n",
      "[377.1974   377.8468    13.109187  22.001974]\n",
      "11.705559420289857\n",
      "              is_weekday   weekday     month  is_holiday_day  temperature\n",
      "score model     0.961246  0.414661  0.248921        0.138462    -2.497273\n",
      "random model    0.480916  0.158433  0.096616        0.000000    -5.954921\n",
      "1000 Epochs ...  - loss: 3.5632 - decoder_loss: 2.8641 - decoder_for_kl_loss: 4.7534 - decoder_kl_loss: 4.7534 - decoder_recon_loss: 2.8641 - decoder_for_kl_kl_loss: 4.7534 - decoder_for_kl_recon_loss: 2.8641 - val_loss: 4.4516 - val_decoder_loss: 3.7322 - val_decoder_for_kl_loss: 4.8911 - val_decoder_kl_loss: 4.8911 - val_decoder_recon_loss: 3.7322 - val_decoder_for_kl_kl_loss: 4.8911 - val_decoder_for_kl_recon_loss: 3.7322 val_loss 4.451553334360537 ... lambda Loss 0.14707809686660767\n"
     ]
    },
    {
     "name": "stdout",
     "output_type": "stream",
     "text": [
      "[386.14273  376.83145   13.743119  20.957647]\n",
      "12.011960144927537\n",
      "              is_weekday   weekday     month  is_holiday_day  temperature\n",
      "score model     0.967859  0.396655  0.246882        0.138462    -2.490550\n",
      "random model    0.484777  0.142323  0.114111        0.030769    -5.700037\n",
      "1100 Epochs ...  - loss: 3.4676 - decoder_loss: 2.8231 - decoder_for_kl_loss: 4.8432 - decoder_kl_loss: 4.8432 - decoder_recon_loss: 2.8231 - decoder_for_kl_kl_loss: 4.8432 - decoder_for_kl_recon_loss: 2.8231 - val_loss: 4.4455 - val_decoder_loss: 3.7925 - val_decoder_for_kl_loss: 4.9071 - val_decoder_kl_loss: 4.9071 - val_decoder_recon_loss: 3.7925 - val_decoder_for_kl_kl_loss: 4.9071 - val_decoder_for_kl_recon_loss: 3.7925 val_loss 4.445501534835152 ... lambda Loss 0.13307516276836395\n",
      "[379.34415  384.96484   12.571158  19.29156 ]\n",
      "11.641266666666663\n",
      "              is_weekday   weekday     month  is_holiday_day  temperature\n",
      "score model     0.958799  0.397385  0.253132        0.138462    -2.439116\n",
      "random model    0.516499  0.190964  0.081472        0.030769    -5.580323\n",
      "1200 Epochs ...  - loss: 3.3963 - decoder_loss: 2.7955 - decoder_for_kl_loss: 4.9905 - decoder_kl_loss: 4.9905 - decoder_recon_loss: 2.7955 - decoder_for_kl_kl_loss: 4.9905 - decoder_for_kl_recon_loss: 2.7955 - val_loss: 4.4583 - val_decoder_loss: 3.8461 - val_decoder_for_kl_loss: 5.0844 - val_decoder_kl_loss: 5.0844 - val_decoder_recon_loss: 3.8461 - val_decoder_for_kl_kl_loss: 5.0844 - val_decoder_for_kl_recon_loss: 3.8461 val_loss 4.458331439806067 ... lambda Loss 0.12040537595748901\n",
      "[380.5943   381.56683   14.096614  17.942043]\n",
      "11.854704347826079\n",
      "              is_weekday   weekday     month  is_holiday_day  temperature\n",
      "score model     0.962212  0.404818  0.249010        0.153846    -2.494582\n",
      "random model    0.521708  0.120208  0.052216        0.015385    -5.771046\n",
      "1300 Epochs ...  - loss: 3.3150 - decoder_loss: 2.7556 - decoder_for_kl_loss: 5.1348 - decoder_kl_loss: 5.1348 - decoder_recon_loss: 2.7556 - decoder_for_kl_kl_loss: 5.1348 - decoder_for_kl_recon_loss: 2.7556 - val_loss: 4.3793 - val_decoder_loss: 3.8109 - val_decoder_for_kl_loss: 5.2175 - val_decoder_kl_loss: 5.2175 - val_decoder_recon_loss: 3.8109 - val_decoder_for_kl_kl_loss: 5.2175 - val_decoder_for_kl_recon_loss: 3.8109 val_loss 4.3792564454286 ... lambda Loss 0.10894181579351425\n",
      "[377.46606  385.8526    14.103959  17.378735]\n",
      "11.903993478260858\n",
      "              is_weekday   weekday     month  is_holiday_day  temperature\n",
      "score model     0.961246  0.417237  0.251093        0.153846    -2.511219\n",
      "random model    0.482846  0.096998  0.092538        0.030769    -5.988963\n",
      "1400 Epochs ...  - loss: 3.2508 - decoder_loss: 2.7261 - decoder_for_kl_loss: 5.3232 - decoder_kl_loss: 5.3232 - decoder_recon_loss: 2.7261 - decoder_for_kl_kl_loss: 5.3232 - decoder_for_kl_recon_loss: 2.7261 - val_loss: 4.3225 - val_decoder_loss: 3.7890 - val_decoder_for_kl_loss: 5.4123 - val_decoder_kl_loss: 5.4123 - val_decoder_recon_loss: 3.7890 - val_decoder_for_kl_kl_loss: 5.4123 - val_decoder_for_kl_recon_loss: 3.7890 val_loss 4.322485239609428 ... lambda Loss 0.09856972098350525\n",
      "[378.4566   385.75537   13.350261  16.149284]\n",
      "11.791599999999999\n",
      "              is_weekday   weekday     month  is_holiday_day  temperature\n",
      "score model     0.961912  0.407286  0.251049        0.138462    -2.520401\n",
      "random model    0.467340  0.135233  0.072311        0.015385    -5.624023\n",
      "1500 Epochs ...  - loss: 3.1787 - decoder_loss: 2.6934 - decoder_for_kl_loss: 5.4410 - decoder_kl_loss: 5.4410 - decoder_recon_loss: 2.6934 - decoder_for_kl_kl_loss: 5.4410 - decoder_for_kl_recon_loss: 2.6934 - val_loss: 4.3098 - val_decoder_loss: 3.8194 - val_decoder_for_kl_loss: 5.4991 - val_decoder_kl_loss: 5.4991 - val_decoder_recon_loss: 3.8194 - val_decoder_for_kl_kl_loss: 5.4991 - val_decoder_for_kl_recon_loss: 3.8194 val_loss 4.309836149215698 ... lambda Loss 0.08918511122465134\n",
      "[375.49606  386.97092   14.803365  16.04676 ]\n",
      "11.881116666666655\n",
      "              is_weekday   weekday     month  is_holiday_day  temperature\n",
      "score model     0.961912  0.398891  0.256605        0.169231    -2.540816\n",
      "random model    0.437263  0.162377  0.084205        0.030769    -5.924923\n",
      "1600 Epochs ...  - loss: 3.1454 - decoder_loss: 2.6953 - decoder_for_kl_loss: 5.5780 - decoder_kl_loss: 5.5780 - decoder_recon_loss: 2.6953 - decoder_for_kl_kl_loss: 5.5780 - decoder_for_kl_recon_loss: 2.6953 - val_loss: 4.2570 - val_decoder_loss: 3.7999 - val_decoder_for_kl_loss: 5.6646 - val_decoder_kl_loss: 5.6646 - val_decoder_recon_loss: 3.7999 - val_decoder_for_kl_kl_loss: 5.6646 - val_decoder_for_kl_recon_loss: 3.7999 val_loss 4.25698447227478 ... lambda Loss 0.08069399744272232\n",
      "[377.98972  384.92554   20.443867  13.594207]\n",
      "12.044255072463761\n",
      "              is_weekday   weekday     month  is_holiday_day  temperature\n",
      "score model     0.961912  0.418872  0.243322        0.169231    -2.550992\n",
      "random model    0.482129  0.124781  0.052999        0.061538    -5.772967\n",
      "1700 Epochs ...  - loss: 3.0837 - decoder_loss: 2.6716 - decoder_for_kl_loss: 5.6440 - decoder_kl_loss: 5.6440 - decoder_recon_loss: 2.6716 - decoder_for_kl_kl_loss: 5.6440 - decoder_for_kl_recon_loss: 2.6716 - val_loss: 4.2641 - val_decoder_loss: 3.8465 - val_decoder_for_kl_loss: 5.7202 - val_decoder_kl_loss: 5.7202 - val_decoder_recon_loss: 3.8465 - val_decoder_for_kl_kl_loss: 5.7202 - val_decoder_for_kl_recon_loss: 3.8465 val_loss 4.264141310816226 ... lambda Loss 0.07301128655672073\n",
      "[383.24377  386.22327   13.767019  13.185182]\n",
      "12.171117391304337\n",
      "              is_weekday   weekday     month  is_holiday_day  temperature\n",
      "score model     0.961912  0.414002  0.237072        0.169231    -2.593494\n",
      "random model    0.496791  0.139235  0.079167        0.015385    -5.840360\n",
      "1800 Epochs ...  - loss: 3.0410 - decoder_loss: 2.6573 - decoder_for_kl_loss: 5.8093 - decoder_kl_loss: 5.8093 - decoder_recon_loss: 2.6573 - decoder_for_kl_kl_loss: 5.8093 - decoder_for_kl_recon_loss: 2.6573 - val_loss: 4.2439 - val_decoder_loss: 3.8547 - val_decoder_for_kl_loss: 5.8911 - val_decoder_kl_loss: 5.8911 - val_decoder_recon_loss: 3.8547 - val_decoder_for_kl_kl_loss: 5.8911 - val_decoder_for_kl_recon_loss: 3.8547 val_loss 4.243902019832445 ... lambda Loss 0.06606000661849976\n",
      "[378.06726  383.73993   13.709799  12.802118]\n",
      "11.751966666666647\n",
      "              is_weekday   weekday     month  is_holiday_day  temperature\n",
      "score model     0.958500  0.405375  0.230127        0.184615    -2.547046\n",
      "random model    0.457324  0.100190  0.115455        0.061538    -6.206619\n",
      "1900 Epochs ...  - loss: 3.0019 - decoder_loss: 2.6474 - decoder_for_kl_loss: 5.9311 - decoder_kl_loss: 5.9311 - decoder_recon_loss: 2.6474 - decoder_for_kl_kl_loss: 5.9311 - decoder_for_kl_recon_loss: 2.6474 - val_loss: 4.1996 - val_decoder_loss: 3.8404 - val_decoder_for_kl_loss: 6.0108 - val_decoder_kl_loss: 6.0108 - val_decoder_recon_loss: 3.8404 - val_decoder_for_kl_kl_loss: 6.0108 - val_decoder_for_kl_recon_loss: 3.8404 val_loss 4.199625595756199 ... lambda Loss 0.05977057293057442\n"
     ]
    },
    {
     "data": {
      "image/png": "[encoded data removed]",
      "text/plain": [
       "<Figure size 432x288 with 1 Axes>"
      ]
     },
     "metadata": {
      "needs_background": "light"
     },
     "output_type": "display_data"
    }
   ],
   "source": [
    "lambda_decreaseRate=0.001 #parameter by default\n",
    "\n",
    "if runTraining:\n",
    "    weightLoss=callbackWeightLoss(lambda_val,lambda_decreaseRate,lambda_min)\n",
    "    if runBatchCallback:\n",
    "        model.main_train(dataset, training_epochs=2000, batch_size=32, verbose=0,callbacks=[tensorboard,out_batch,weightLoss],validation_split=0.1)\n",
    "    else:\n",
    "        model.main_train(dataset, training_epochs=2000, batch_size=32, verbose=0,callbacks=[tensorboard,weightLoss],validation_split=0.1)\n"
   ]
  },
  {
   "cell_type": "markdown",
   "metadata": {},
   "source": [
    "DimsImportance=[1616  1403    21 1375 ] Only 3 dimensions are significant here (each term is the sum of absolute values in each direction for the all the datapoints.\n",
    "There is no significant overfitting when comparing training error to validation error. This will be confimed later on specific examples."
   ]
  },
  {
   "cell_type": "code",
   "execution_count": 90,
   "metadata": {},
   "outputs": [],
   "source": [
    "with open(os.path.join(path_out,name_model,\"config.txt\"),'w') as file: \n",
    "    file.write(str(cond_pre_dim) + '\\n')\n",
    "    #file.write(str(emb_dims) + '\\n')\n",
    "    file.write(str(e_dims) + '\\n') \n",
    "    file.write(str(d_dims) + '\\n') \n",
    "    file.write(str(z_dim) + '\\n')\n",
    "    file.write(str(Lambda) + '\\n')"
   ]
  },
  {
   "cell_type": "code",
   "execution_count": 91,
   "metadata": {},
   "outputs": [],
   "source": [
    "#sauvegarde du dataset associé\n",
    "name_dataset = 'dataset.pickle'\n",
    "\n",
    "with open( os.path.join(path_out,name_model, name_dataset), \"wb\" ) as file:\n",
    "    pickle.dump( dataset, file )"
   ]
  },
  {
   "cell_type": "markdown",
   "metadata": {},
   "source": [
    "## Loading model "
   ]
  },
  {
   "cell_type": "code",
   "execution_count": 92,
   "metadata": {},
   "outputs": [],
   "source": [
    "model.load_model(os.path.join(path_out, name_model, 'models'))"
   ]
  },
  {
   "cell_type": "code",
   "execution_count": 93,
   "metadata": {},
   "outputs": [],
   "source": [
    "\n",
    "\n",
    "#cond  = dataset['train']['x'][1]\n",
    "x_input = dataset['train']['x'][0]\n",
    "\n",
    "input_encoder = [x_input, cond_pre]"
   ]
  },
  {
   "cell_type": "code",
   "execution_count": 94,
   "metadata": {},
   "outputs": [],
   "source": [
    "x_encoded = model.encoder.predict(input_encoder)[0]\n",
    "x_hat = model.cvae.predict(x=dataset['train']['x'])[0]"
   ]
  },
  {
   "cell_type": "markdown",
   "metadata": {},
   "source": [
    "# Analysis of the latent space with the construction of a tensorboard projector"
   ]
  },
  {
   "cell_type": "code",
   "execution_count": 95,
   "metadata": {},
   "outputs": [
    {
     "data": {
      "text/plain": [
       "<Figure size 432x288 with 0 Axes>"
      ]
     },
     "metadata": {},
     "output_type": "display_data"
    }
   ],
   "source": [
    "includeConsumptionProfileImages=True #can take a bit longer to create and load in tensorboard projector, but it looks better in the projector\n",
    "if includeConsumptionProfileImages:\n",
    "    nPoints=min(1500,nPoints) #if you want to visualize images of consumption profiles and its recontruction in tensorboard, there is a maximum size that can be handle for a sprite image. 1830 is  \n",
    "    x_encoded_reduced=x_encoded[0:nPoints,]\n",
    "    images=createLoadProfileImages(x,x_hat,nPoints)\n",
    "else:\n",
    "    nPoints=nPoints"
   ]
  },
  {
   "cell_type": "code",
   "execution_count": 96,
   "metadata": {},
   "outputs": [],
   "source": [
    "if includeConsumptionProfileImages:\n",
    "    sprites=images_to_sprite(images)\n",
    "    cv2.imwrite(os.path.join(log_dir_projector, 'sprite_4_classes.png'), sprites)"
   ]
  },
  {
   "cell_type": "code",
   "execution_count": 97,
   "metadata": {},
   "outputs": [],
   "source": [
    "\n",
    "writeMetaData(log_dir_projector,x_conso,calendar_info,nPoints,has_Odd=False)\n",
    "if includeConsumptionProfileImages:\n",
    "    buildProjector(x_encoded_reduced,images=images, log_dir=log_dir_projector)\n",
    "else:\n",
    "    buildProjector(x_encoded,images=None, log_dir=log_dir_projector)"
   ]
  },
  {
   "cell_type": "code",
   "execution_count": 98,
   "metadata": {},
   "outputs": [
    {
     "data": {
      "text/plain": [
       "'/home/goubetcle/Documents/CVAE/marota_cvae/notebooks/logs/Expe-bike/VAE/projector'"
      ]
     },
     "execution_count": 98,
     "metadata": {},
     "output_type": "execute_result"
    }
   ],
   "source": [
    "log_dir_projector"
   ]
  },
  {
   "cell_type": "markdown",
   "metadata": {},
   "source": [
    "# Predict Features in latent space"
   ]
  },
  {
   "cell_type": "code",
   "execution_count": 99,
   "metadata": {},
   "outputs": [
    {
     "name": "stdout",
     "output_type": "stream",
     "text": [
      "11.87633333333332\n",
      "              is_weekday   weekday     month  is_holiday_day  temperature\n",
      "score model     0.958500  0.415811  0.245405        0.169231    -2.486928\n",
      "random model    0.478621  0.175324  0.060550        0.030769    -5.657099\n"
     ]
    }
   ],
   "source": [
    "df_noCond_VAE=predictFeaturesInLatentSPace(x_conso,calendar_info,x_encoded)"
   ]
  },
  {
   "cell_type": "markdown",
   "metadata": {},
   "source": [
    "# reconstruction error analysis"
   ]
  },
  {
   "cell_type": "code",
   "execution_count": 100,
   "metadata": {},
   "outputs": [],
   "source": [
    "error=np.sum(np.abs((x - x_hat)),axis=1)/24"
   ]
  },
  {
   "cell_type": "code",
   "execution_count": 101,
   "metadata": {},
   "outputs": [
    {
     "data": {
      "text/plain": [
       "<matplotlib.axes._subplots.AxesSubplot at 0x7f8a802b6828>"
      ]
     },
     "execution_count": 101,
     "metadata": {},
     "output_type": "execute_result"
    },
    {
     "data": {
      "image/png": "[encoded data removed]",
      "text/plain": [
       "<Figure size 432x288 with 1 Axes>"
      ]
     },
     "metadata": {
      "needs_background": "light"
     },
     "output_type": "display_data"
    }
   ],
   "source": [
    "#make a histogram over residuals\n",
    "import seaborn as sn\n",
    "sn.distplot(error, kde=False, fit=stats.beta, bins=100)"
   ]
  },
  {
   "cell_type": "markdown",
   "metadata": {},
   "source": [
    "Check the day with errors above a threshold"
   ]
  },
  {
   "cell_type": "code",
   "execution_count": 47,
   "metadata": {},
   "outputs": [
    {
     "data": {
      "text/html": [
       "<div>\n",
       "<style scoped>\n",
       "    .dataframe tbody tr th:only-of-type {\n",
       "        vertical-align: middle;\n",
       "    }\n",
       "\n",
       "    .dataframe tbody tr th {\n",
       "        vertical-align: top;\n",
       "    }\n",
       "\n",
       "    .dataframe thead th {\n",
       "        text-align: right;\n",
       "    }\n",
       "</style>\n",
       "<table border=\"1\" class=\"dataframe\">\n",
       "  <thead>\n",
       "    <tr style=\"text-align: right;\">\n",
       "      <th></th>\n",
       "      <th>ds</th>\n",
       "      <th>month</th>\n",
       "      <th>weekday</th>\n",
       "      <th>is_weekday</th>\n",
       "      <th>is_holiday_day</th>\n",
       "      <th>clear</th>\n",
       "      <th>mist</th>\n",
       "      <th>significant</th>\n",
       "      <th>extreme</th>\n",
       "      <th>error</th>\n",
       "    </tr>\n",
       "  </thead>\n",
       "  <tbody>\n",
       "    <tr>\n",
       "      <th>243</th>\n",
       "      <td>2012-01-17</td>\n",
       "      <td>1</td>\n",
       "      <td>1</td>\n",
       "      <td>1</td>\n",
       "      <td>0.0</td>\n",
       "      <td>0</td>\n",
       "      <td>0</td>\n",
       "      <td>1</td>\n",
       "      <td>0</td>\n",
       "      <td>0.257170</td>\n",
       "    </tr>\n",
       "    <tr>\n",
       "      <th>311</th>\n",
       "      <td>2012-05-09</td>\n",
       "      <td>5</td>\n",
       "      <td>2</td>\n",
       "      <td>1</td>\n",
       "      <td>0.0</td>\n",
       "      <td>0</td>\n",
       "      <td>0</td>\n",
       "      <td>1</td>\n",
       "      <td>0</td>\n",
       "      <td>0.336503</td>\n",
       "    </tr>\n",
       "    <tr>\n",
       "      <th>322</th>\n",
       "      <td>2012-06-01</td>\n",
       "      <td>6</td>\n",
       "      <td>4</td>\n",
       "      <td>1</td>\n",
       "      <td>0.0</td>\n",
       "      <td>0</td>\n",
       "      <td>0</td>\n",
       "      <td>1</td>\n",
       "      <td>0</td>\n",
       "      <td>0.402304</td>\n",
       "    </tr>\n",
       "    <tr>\n",
       "      <th>344</th>\n",
       "      <td>2012-07-04</td>\n",
       "      <td>7</td>\n",
       "      <td>2</td>\n",
       "      <td>1</td>\n",
       "      <td>1.0</td>\n",
       "      <td>0</td>\n",
       "      <td>1</td>\n",
       "      <td>0</td>\n",
       "      <td>0</td>\n",
       "      <td>0.374608</td>\n",
       "    </tr>\n",
       "    <tr>\n",
       "      <th>369</th>\n",
       "      <td>2012-08-10</td>\n",
       "      <td>8</td>\n",
       "      <td>4</td>\n",
       "      <td>1</td>\n",
       "      <td>0.0</td>\n",
       "      <td>0</td>\n",
       "      <td>0</td>\n",
       "      <td>1</td>\n",
       "      <td>0</td>\n",
       "      <td>0.266133</td>\n",
       "    </tr>\n",
       "    <tr>\n",
       "      <th>378</th>\n",
       "      <td>2012-08-19</td>\n",
       "      <td>8</td>\n",
       "      <td>6</td>\n",
       "      <td>0</td>\n",
       "      <td>0.0</td>\n",
       "      <td>0</td>\n",
       "      <td>0</td>\n",
       "      <td>1</td>\n",
       "      <td>0</td>\n",
       "      <td>0.284062</td>\n",
       "    </tr>\n",
       "    <tr>\n",
       "      <th>399</th>\n",
       "      <td>2012-10-02</td>\n",
       "      <td>10</td>\n",
       "      <td>1</td>\n",
       "      <td>1</td>\n",
       "      <td>0.0</td>\n",
       "      <td>0</td>\n",
       "      <td>0</td>\n",
       "      <td>1</td>\n",
       "      <td>0</td>\n",
       "      <td>0.296377</td>\n",
       "    </tr>\n",
       "    <tr>\n",
       "      <th>412</th>\n",
       "      <td>2012-10-15</td>\n",
       "      <td>10</td>\n",
       "      <td>0</td>\n",
       "      <td>1</td>\n",
       "      <td>0.0</td>\n",
       "      <td>0</td>\n",
       "      <td>0</td>\n",
       "      <td>1</td>\n",
       "      <td>0</td>\n",
       "      <td>0.285492</td>\n",
       "    </tr>\n",
       "    <tr>\n",
       "      <th>416</th>\n",
       "      <td>2012-10-19</td>\n",
       "      <td>10</td>\n",
       "      <td>4</td>\n",
       "      <td>1</td>\n",
       "      <td>0.0</td>\n",
       "      <td>0</td>\n",
       "      <td>0</td>\n",
       "      <td>1</td>\n",
       "      <td>0</td>\n",
       "      <td>0.269747</td>\n",
       "    </tr>\n",
       "    <tr>\n",
       "      <th>423</th>\n",
       "      <td>2012-11-07</td>\n",
       "      <td>11</td>\n",
       "      <td>2</td>\n",
       "      <td>1</td>\n",
       "      <td>0.0</td>\n",
       "      <td>0</td>\n",
       "      <td>0</td>\n",
       "      <td>1</td>\n",
       "      <td>0</td>\n",
       "      <td>0.287136</td>\n",
       "    </tr>\n",
       "  </tbody>\n",
       "</table>\n",
       "</div>"
      ],
      "text/plain": [
       "            ds  month  weekday  is_weekday  is_holiday_day  clear  mist  \\\n",
       "243 2012-01-17      1        1           1             0.0      0     0   \n",
       "311 2012-05-09      5        2           1             0.0      0     0   \n",
       "322 2012-06-01      6        4           1             0.0      0     0   \n",
       "344 2012-07-04      7        2           1             1.0      0     1   \n",
       "369 2012-08-10      8        4           1             0.0      0     0   \n",
       "378 2012-08-19      8        6           0             0.0      0     0   \n",
       "399 2012-10-02     10        1           1             0.0      0     0   \n",
       "412 2012-10-15     10        0           1             0.0      0     0   \n",
       "416 2012-10-19     10        4           1             0.0      0     0   \n",
       "423 2012-11-07     11        2           1             0.0      0     0   \n",
       "\n",
       "     significant  extreme     error  \n",
       "243            1        0  0.257170  \n",
       "311            1        0  0.336503  \n",
       "322            1        0  0.402304  \n",
       "344            0        0  0.374608  \n",
       "369            1        0  0.266133  \n",
       "378            1        0  0.284062  \n",
       "399            1        0  0.296377  \n",
       "412            1        0  0.285492  \n",
       "416            1        0  0.269747  \n",
       "423            1        0  0.287136  "
      ]
     },
     "execution_count": 47,
     "metadata": {},
     "output_type": "execute_result"
    }
   ],
   "source": [
    "ErrorThreshold=0.25\n",
    "idxMaxError=[i for i in range(0,nPoints) if error[i]>=ErrorThreshold]\n",
    "calender_error=calendar_info.loc[idxMaxError]\n",
    "calender_error['error']=error[idxMaxError]\n",
    "\n",
    "calender_error"
   ]
  },
  {
   "cell_type": "markdown",
   "metadata": {},
   "source": [
    "Check the first n days with highest errors "
   ]
  },
  {
   "cell_type": "code",
   "execution_count": 48,
   "metadata": {},
   "outputs": [
    {
     "data": {
      "text/html": [
       "<div>\n",
       "<style scoped>\n",
       "    .dataframe tbody tr th:only-of-type {\n",
       "        vertical-align: middle;\n",
       "    }\n",
       "\n",
       "    .dataframe tbody tr th {\n",
       "        vertical-align: top;\n",
       "    }\n",
       "\n",
       "    .dataframe thead th {\n",
       "        text-align: right;\n",
       "    }\n",
       "</style>\n",
       "<table border=\"1\" class=\"dataframe\">\n",
       "  <thead>\n",
       "    <tr style=\"text-align: right;\">\n",
       "      <th></th>\n",
       "      <th>ds</th>\n",
       "      <th>month</th>\n",
       "      <th>weekday</th>\n",
       "      <th>is_weekday</th>\n",
       "      <th>is_holiday_day</th>\n",
       "      <th>clear</th>\n",
       "      <th>mist</th>\n",
       "      <th>significant</th>\n",
       "      <th>extreme</th>\n",
       "      <th>error</th>\n",
       "    </tr>\n",
       "  </thead>\n",
       "  <tbody>\n",
       "    <tr>\n",
       "      <th>322</th>\n",
       "      <td>2012-06-01</td>\n",
       "      <td>6</td>\n",
       "      <td>4</td>\n",
       "      <td>1</td>\n",
       "      <td>0.0</td>\n",
       "      <td>0</td>\n",
       "      <td>0</td>\n",
       "      <td>1</td>\n",
       "      <td>0</td>\n",
       "      <td>0.402304</td>\n",
       "    </tr>\n",
       "    <tr>\n",
       "      <th>344</th>\n",
       "      <td>2012-07-04</td>\n",
       "      <td>7</td>\n",
       "      <td>2</td>\n",
       "      <td>1</td>\n",
       "      <td>1.0</td>\n",
       "      <td>0</td>\n",
       "      <td>1</td>\n",
       "      <td>0</td>\n",
       "      <td>0</td>\n",
       "      <td>0.374608</td>\n",
       "    </tr>\n",
       "    <tr>\n",
       "      <th>311</th>\n",
       "      <td>2012-05-09</td>\n",
       "      <td>5</td>\n",
       "      <td>2</td>\n",
       "      <td>1</td>\n",
       "      <td>0.0</td>\n",
       "      <td>0</td>\n",
       "      <td>0</td>\n",
       "      <td>1</td>\n",
       "      <td>0</td>\n",
       "      <td>0.336503</td>\n",
       "    </tr>\n",
       "    <tr>\n",
       "      <th>399</th>\n",
       "      <td>2012-10-02</td>\n",
       "      <td>10</td>\n",
       "      <td>1</td>\n",
       "      <td>1</td>\n",
       "      <td>0.0</td>\n",
       "      <td>0</td>\n",
       "      <td>0</td>\n",
       "      <td>1</td>\n",
       "      <td>0</td>\n",
       "      <td>0.296377</td>\n",
       "    </tr>\n",
       "    <tr>\n",
       "      <th>423</th>\n",
       "      <td>2012-11-07</td>\n",
       "      <td>11</td>\n",
       "      <td>2</td>\n",
       "      <td>1</td>\n",
       "      <td>0.0</td>\n",
       "      <td>0</td>\n",
       "      <td>0</td>\n",
       "      <td>1</td>\n",
       "      <td>0</td>\n",
       "      <td>0.287136</td>\n",
       "    </tr>\n",
       "    <tr>\n",
       "      <th>412</th>\n",
       "      <td>2012-10-15</td>\n",
       "      <td>10</td>\n",
       "      <td>0</td>\n",
       "      <td>1</td>\n",
       "      <td>0.0</td>\n",
       "      <td>0</td>\n",
       "      <td>0</td>\n",
       "      <td>1</td>\n",
       "      <td>0</td>\n",
       "      <td>0.285492</td>\n",
       "    </tr>\n",
       "    <tr>\n",
       "      <th>378</th>\n",
       "      <td>2012-08-19</td>\n",
       "      <td>8</td>\n",
       "      <td>6</td>\n",
       "      <td>0</td>\n",
       "      <td>0.0</td>\n",
       "      <td>0</td>\n",
       "      <td>0</td>\n",
       "      <td>1</td>\n",
       "      <td>0</td>\n",
       "      <td>0.284062</td>\n",
       "    </tr>\n",
       "    <tr>\n",
       "      <th>416</th>\n",
       "      <td>2012-10-19</td>\n",
       "      <td>10</td>\n",
       "      <td>4</td>\n",
       "      <td>1</td>\n",
       "      <td>0.0</td>\n",
       "      <td>0</td>\n",
       "      <td>0</td>\n",
       "      <td>1</td>\n",
       "      <td>0</td>\n",
       "      <td>0.269747</td>\n",
       "    </tr>\n",
       "    <tr>\n",
       "      <th>369</th>\n",
       "      <td>2012-08-10</td>\n",
       "      <td>8</td>\n",
       "      <td>4</td>\n",
       "      <td>1</td>\n",
       "      <td>0.0</td>\n",
       "      <td>0</td>\n",
       "      <td>0</td>\n",
       "      <td>1</td>\n",
       "      <td>0</td>\n",
       "      <td>0.266133</td>\n",
       "    </tr>\n",
       "    <tr>\n",
       "      <th>243</th>\n",
       "      <td>2012-01-17</td>\n",
       "      <td>1</td>\n",
       "      <td>1</td>\n",
       "      <td>1</td>\n",
       "      <td>0.0</td>\n",
       "      <td>0</td>\n",
       "      <td>0</td>\n",
       "      <td>1</td>\n",
       "      <td>0</td>\n",
       "      <td>0.257170</td>\n",
       "    </tr>\n",
       "    <tr>\n",
       "      <th>159</th>\n",
       "      <td>2011-09-09</td>\n",
       "      <td>9</td>\n",
       "      <td>4</td>\n",
       "      <td>1</td>\n",
       "      <td>0.0</td>\n",
       "      <td>0</td>\n",
       "      <td>0</td>\n",
       "      <td>1</td>\n",
       "      <td>0</td>\n",
       "      <td>0.246923</td>\n",
       "    </tr>\n",
       "    <tr>\n",
       "      <th>429</th>\n",
       "      <td>2012-11-13</td>\n",
       "      <td>11</td>\n",
       "      <td>1</td>\n",
       "      <td>1</td>\n",
       "      <td>0.0</td>\n",
       "      <td>0</td>\n",
       "      <td>0</td>\n",
       "      <td>1</td>\n",
       "      <td>0</td>\n",
       "      <td>0.245439</td>\n",
       "    </tr>\n",
       "    <tr>\n",
       "      <th>317</th>\n",
       "      <td>2012-05-15</td>\n",
       "      <td>5</td>\n",
       "      <td>1</td>\n",
       "      <td>1</td>\n",
       "      <td>0.0</td>\n",
       "      <td>0</td>\n",
       "      <td>0</td>\n",
       "      <td>1</td>\n",
       "      <td>0</td>\n",
       "      <td>0.240270</td>\n",
       "    </tr>\n",
       "    <tr>\n",
       "      <th>384</th>\n",
       "      <td>2012-09-06</td>\n",
       "      <td>9</td>\n",
       "      <td>3</td>\n",
       "      <td>1</td>\n",
       "      <td>0.0</td>\n",
       "      <td>0</td>\n",
       "      <td>0</td>\n",
       "      <td>1</td>\n",
       "      <td>0</td>\n",
       "      <td>0.229806</td>\n",
       "    </tr>\n",
       "    <tr>\n",
       "      <th>350</th>\n",
       "      <td>2012-07-10</td>\n",
       "      <td>7</td>\n",
       "      <td>1</td>\n",
       "      <td>1</td>\n",
       "      <td>0.0</td>\n",
       "      <td>0</td>\n",
       "      <td>0</td>\n",
       "      <td>1</td>\n",
       "      <td>0</td>\n",
       "      <td>0.224031</td>\n",
       "    </tr>\n",
       "    <tr>\n",
       "      <th>428</th>\n",
       "      <td>2012-11-12</td>\n",
       "      <td>11</td>\n",
       "      <td>0</td>\n",
       "      <td>1</td>\n",
       "      <td>1.0</td>\n",
       "      <td>0</td>\n",
       "      <td>0</td>\n",
       "      <td>1</td>\n",
       "      <td>0</td>\n",
       "      <td>0.218580</td>\n",
       "    </tr>\n",
       "    <tr>\n",
       "      <th>158</th>\n",
       "      <td>2011-09-08</td>\n",
       "      <td>9</td>\n",
       "      <td>3</td>\n",
       "      <td>1</td>\n",
       "      <td>0.0</td>\n",
       "      <td>0</td>\n",
       "      <td>0</td>\n",
       "      <td>1</td>\n",
       "      <td>0</td>\n",
       "      <td>0.218145</td>\n",
       "    </tr>\n",
       "    <tr>\n",
       "      <th>183</th>\n",
       "      <td>2011-10-14</td>\n",
       "      <td>10</td>\n",
       "      <td>4</td>\n",
       "      <td>1</td>\n",
       "      <td>0.0</td>\n",
       "      <td>0</td>\n",
       "      <td>0</td>\n",
       "      <td>1</td>\n",
       "      <td>0</td>\n",
       "      <td>0.211337</td>\n",
       "    </tr>\n",
       "    <tr>\n",
       "      <th>424</th>\n",
       "      <td>2012-11-08</td>\n",
       "      <td>11</td>\n",
       "      <td>3</td>\n",
       "      <td>1</td>\n",
       "      <td>0.0</td>\n",
       "      <td>0</td>\n",
       "      <td>0</td>\n",
       "      <td>1</td>\n",
       "      <td>0</td>\n",
       "      <td>0.210589</td>\n",
       "    </tr>\n",
       "    <tr>\n",
       "      <th>422</th>\n",
       "      <td>2012-11-06</td>\n",
       "      <td>11</td>\n",
       "      <td>1</td>\n",
       "      <td>1</td>\n",
       "      <td>0.0</td>\n",
       "      <td>0</td>\n",
       "      <td>1</td>\n",
       "      <td>0</td>\n",
       "      <td>0</td>\n",
       "      <td>0.203871</td>\n",
       "    </tr>\n",
       "    <tr>\n",
       "      <th>386</th>\n",
       "      <td>2012-09-08</td>\n",
       "      <td>9</td>\n",
       "      <td>5</td>\n",
       "      <td>0</td>\n",
       "      <td>0.0</td>\n",
       "      <td>0</td>\n",
       "      <td>0</td>\n",
       "      <td>1</td>\n",
       "      <td>0</td>\n",
       "      <td>0.201147</td>\n",
       "    </tr>\n",
       "    <tr>\n",
       "      <th>427</th>\n",
       "      <td>2012-11-11</td>\n",
       "      <td>11</td>\n",
       "      <td>6</td>\n",
       "      <td>0</td>\n",
       "      <td>0.0</td>\n",
       "      <td>1</td>\n",
       "      <td>0</td>\n",
       "      <td>0</td>\n",
       "      <td>0</td>\n",
       "      <td>0.199707</td>\n",
       "    </tr>\n",
       "    <tr>\n",
       "      <th>165</th>\n",
       "      <td>2011-09-15</td>\n",
       "      <td>9</td>\n",
       "      <td>3</td>\n",
       "      <td>1</td>\n",
       "      <td>0.0</td>\n",
       "      <td>0</td>\n",
       "      <td>0</td>\n",
       "      <td>1</td>\n",
       "      <td>0</td>\n",
       "      <td>0.198571</td>\n",
       "    </tr>\n",
       "    <tr>\n",
       "      <th>426</th>\n",
       "      <td>2012-11-10</td>\n",
       "      <td>11</td>\n",
       "      <td>5</td>\n",
       "      <td>0</td>\n",
       "      <td>0.0</td>\n",
       "      <td>1</td>\n",
       "      <td>0</td>\n",
       "      <td>0</td>\n",
       "      <td>0</td>\n",
       "      <td>0.197889</td>\n",
       "    </tr>\n",
       "    <tr>\n",
       "      <th>448</th>\n",
       "      <td>2012-12-13</td>\n",
       "      <td>12</td>\n",
       "      <td>3</td>\n",
       "      <td>1</td>\n",
       "      <td>0.0</td>\n",
       "      <td>0</td>\n",
       "      <td>1</td>\n",
       "      <td>0</td>\n",
       "      <td>0</td>\n",
       "      <td>0.195647</td>\n",
       "    </tr>\n",
       "    <tr>\n",
       "      <th>275</th>\n",
       "      <td>2012-03-11</td>\n",
       "      <td>3</td>\n",
       "      <td>6</td>\n",
       "      <td>0</td>\n",
       "      <td>0.0</td>\n",
       "      <td>1</td>\n",
       "      <td>0</td>\n",
       "      <td>0</td>\n",
       "      <td>0</td>\n",
       "      <td>0.192870</td>\n",
       "    </tr>\n",
       "    <tr>\n",
       "      <th>145</th>\n",
       "      <td>2011-08-14</td>\n",
       "      <td>8</td>\n",
       "      <td>6</td>\n",
       "      <td>0</td>\n",
       "      <td>0.0</td>\n",
       "      <td>0</td>\n",
       "      <td>0</td>\n",
       "      <td>1</td>\n",
       "      <td>0</td>\n",
       "      <td>0.191996</td>\n",
       "    </tr>\n",
       "    <tr>\n",
       "      <th>410</th>\n",
       "      <td>2012-10-13</td>\n",
       "      <td>10</td>\n",
       "      <td>5</td>\n",
       "      <td>0</td>\n",
       "      <td>0.0</td>\n",
       "      <td>1</td>\n",
       "      <td>0</td>\n",
       "      <td>0</td>\n",
       "      <td>0</td>\n",
       "      <td>0.191329</td>\n",
       "    </tr>\n",
       "    <tr>\n",
       "      <th>440</th>\n",
       "      <td>2012-12-05</td>\n",
       "      <td>12</td>\n",
       "      <td>2</td>\n",
       "      <td>1</td>\n",
       "      <td>0.0</td>\n",
       "      <td>0</td>\n",
       "      <td>0</td>\n",
       "      <td>1</td>\n",
       "      <td>0</td>\n",
       "      <td>0.190213</td>\n",
       "    </tr>\n",
       "    <tr>\n",
       "      <th>188</th>\n",
       "      <td>2011-10-19</td>\n",
       "      <td>10</td>\n",
       "      <td>2</td>\n",
       "      <td>1</td>\n",
       "      <td>0.0</td>\n",
       "      <td>0</td>\n",
       "      <td>0</td>\n",
       "      <td>1</td>\n",
       "      <td>0</td>\n",
       "      <td>0.189899</td>\n",
       "    </tr>\n",
       "  </tbody>\n",
       "</table>\n",
       "</div>"
      ],
      "text/plain": [
       "            ds  month  weekday  is_weekday  is_holiday_day  clear  mist  \\\n",
       "322 2012-06-01      6        4           1             0.0      0     0   \n",
       "344 2012-07-04      7        2           1             1.0      0     1   \n",
       "311 2012-05-09      5        2           1             0.0      0     0   \n",
       "399 2012-10-02     10        1           1             0.0      0     0   \n",
       "423 2012-11-07     11        2           1             0.0      0     0   \n",
       "412 2012-10-15     10        0           1             0.0      0     0   \n",
       "378 2012-08-19      8        6           0             0.0      0     0   \n",
       "416 2012-10-19     10        4           1             0.0      0     0   \n",
       "369 2012-08-10      8        4           1             0.0      0     0   \n",
       "243 2012-01-17      1        1           1             0.0      0     0   \n",
       "159 2011-09-09      9        4           1             0.0      0     0   \n",
       "429 2012-11-13     11        1           1             0.0      0     0   \n",
       "317 2012-05-15      5        1           1             0.0      0     0   \n",
       "384 2012-09-06      9        3           1             0.0      0     0   \n",
       "350 2012-07-10      7        1           1             0.0      0     0   \n",
       "428 2012-11-12     11        0           1             1.0      0     0   \n",
       "158 2011-09-08      9        3           1             0.0      0     0   \n",
       "183 2011-10-14     10        4           1             0.0      0     0   \n",
       "424 2012-11-08     11        3           1             0.0      0     0   \n",
       "422 2012-11-06     11        1           1             0.0      0     1   \n",
       "386 2012-09-08      9        5           0             0.0      0     0   \n",
       "427 2012-11-11     11        6           0             0.0      1     0   \n",
       "165 2011-09-15      9        3           1             0.0      0     0   \n",
       "426 2012-11-10     11        5           0             0.0      1     0   \n",
       "448 2012-12-13     12        3           1             0.0      0     1   \n",
       "275 2012-03-11      3        6           0             0.0      1     0   \n",
       "145 2011-08-14      8        6           0             0.0      0     0   \n",
       "410 2012-10-13     10        5           0             0.0      1     0   \n",
       "440 2012-12-05     12        2           1             0.0      0     0   \n",
       "188 2011-10-19     10        2           1             0.0      0     0   \n",
       "\n",
       "     significant  extreme     error  \n",
       "322            1        0  0.402304  \n",
       "344            0        0  0.374608  \n",
       "311            1        0  0.336503  \n",
       "399            1        0  0.296377  \n",
       "423            1        0  0.287136  \n",
       "412            1        0  0.285492  \n",
       "378            1        0  0.284062  \n",
       "416            1        0  0.269747  \n",
       "369            1        0  0.266133  \n",
       "243            1        0  0.257170  \n",
       "159            1        0  0.246923  \n",
       "429            1        0  0.245439  \n",
       "317            1        0  0.240270  \n",
       "384            1        0  0.229806  \n",
       "350            1        0  0.224031  \n",
       "428            1        0  0.218580  \n",
       "158            1        0  0.218145  \n",
       "183            1        0  0.211337  \n",
       "424            1        0  0.210589  \n",
       "422            0        0  0.203871  \n",
       "386            1        0  0.201147  \n",
       "427            0        0  0.199707  \n",
       "165            1        0  0.198571  \n",
       "426            0        0  0.197889  \n",
       "448            0        0  0.195647  \n",
       "275            0        0  0.192870  \n",
       "145            1        0  0.191996  \n",
       "410            0        0  0.191329  \n",
       "440            1        0  0.190213  \n",
       "188            1        0  0.189899  "
      ]
     },
     "execution_count": 48,
     "metadata": {},
     "output_type": "execute_result"
    }
   ],
   "source": [
    "nDays=30\n",
    "\n",
    "decreasingOrderIdx=np.argsort(-error)\n",
    "calendar_Error_Highest=calendar_info.loc[decreasingOrderIdx[0:nDays]]\n",
    "calendar_Error_Highest['error']=error[decreasingOrderIdx[0:nDays]]\n",
    "calendar_Error_Highest"
   ]
  },
  {
   "cell_type": "markdown",
   "metadata": {},
   "source": [
    "Visualize the reconstruction error over a specific day"
   ]
  },
  {
   "cell_type": "code",
   "execution_count": 49,
   "metadata": {},
   "outputs": [
    {
     "data": {
      "text/plain": [
       "[<matplotlib.lines.Line2D at 0x7f8a82a92c18>]"
      ]
     },
     "execution_count": 49,
     "metadata": {},
     "output_type": "execute_result"
    },
    {
     "data": {
      "image/png": "[encoded data removed]",
      "text/plain": [
       "<Figure size 300x300 with 1 Axes>"
      ]
     },
     "metadata": {
      "needs_background": "light"
     },
     "output_type": "display_data"
    }
   ],
   "source": [
    "indice=322 #1185 is the changing hour day end of march\n",
    "fig = plt.figure(dpi=100,figsize=(3,3))\n",
    "#set(gca,'Color','k')\n",
    "plt.plot(x[indice,:])\n",
    "plt.plot(x_hat[indice,:])"
   ]
  },
  {
   "cell_type": "markdown",
   "metadata": {},
   "source": [
    "Visualize the reconstruction error over the days with highest error"
   ]
  },
  {
   "cell_type": "code",
   "execution_count": 50,
   "metadata": {},
   "outputs": [
    {
     "data": {
      "image/png": "[encoded data removed]",
      "text/plain": [
       "<Figure size 1000x600 with 9 Axes>"
      ]
     },
     "metadata": {
      "needs_background": "light"
     },
     "output_type": "display_data"
    }
   ],
   "source": [
    "nPlots=10#len(idxMaxError)\n",
    "nCols=5\n",
    "nRows=int(nPlots/nCols)+1\n",
    "fig = plt.figure(dpi=100,figsize=(10,2*nRows))\n",
    "for i in range(1, nPlots):\n",
    "    plt.subplot(nRows, nCols, i)\n",
    "    fig.subplots_adjust(hspace=.5)\n",
    "    indice=decreasingOrderIdx[i-1]\n",
    "    plt.plot(x[indice,:])\n",
    "    plt.plot(x_hat[indice,:])\n",
    "    plt.title( calendar_Error_Highest.ds.dt.date.iloc[i-1])"
   ]
  },
  {
   "cell_type": "markdown",
   "metadata": {},
   "source": [
    "2013-03-31 is the day with a missing hour because of changing day time and the consumption value is set to 0. It is hence normal that it is not well predicted and a good indicator that the model does not tend to overfit."
   ]
  },
  {
   "cell_type": "markdown",
   "metadata": {},
   "source": [
    "# Study of holiday predictions"
   ]
  },
  {
   "cell_type": "code",
   "execution_count": 51,
   "metadata": {},
   "outputs": [],
   "source": [
    "#preparation des features d'interet\n",
    "yHd=calendar_info['is_holiday_day'].astype(int)\n",
    "indicesHd=np.array([i for i in range(0, nPoints) if yHd[i] == 1])\n",
    "yHd_only=yHd[yHd==1]\n",
    "x_encoded_Hd=x_encoded[indicesHd,]"
   ]
  },
  {
   "cell_type": "code",
   "execution_count": 52,
   "metadata": {
    "lines_to_end_of_cell_marker": 2
   },
   "outputs": [],
   "source": [
    "results_hd=scoreKnnResults(x_encoded,yHd,type='classifier',k=5,cv=10)"
   ]
  },
  {
   "cell_type": "markdown",
   "metadata": {},
   "source": [
    "## holidays well predicted"
   ]
  },
  {
   "cell_type": "code",
   "execution_count": 53,
   "metadata": {},
   "outputs": [
    {
     "data": {
      "text/html": [
       "<div>\n",
       "<style scoped>\n",
       "    .dataframe tbody tr th:only-of-type {\n",
       "        vertical-align: middle;\n",
       "    }\n",
       "\n",
       "    .dataframe tbody tr th {\n",
       "        vertical-align: top;\n",
       "    }\n",
       "\n",
       "    .dataframe thead th {\n",
       "        text-align: right;\n",
       "    }\n",
       "</style>\n",
       "<table border=\"1\" class=\"dataframe\">\n",
       "  <thead>\n",
       "    <tr style=\"text-align: right;\">\n",
       "      <th></th>\n",
       "      <th>ds</th>\n",
       "      <th>month</th>\n",
       "      <th>weekday</th>\n",
       "      <th>is_weekday</th>\n",
       "      <th>is_holiday_day</th>\n",
       "      <th>clear</th>\n",
       "      <th>mist</th>\n",
       "      <th>significant</th>\n",
       "      <th>extreme</th>\n",
       "    </tr>\n",
       "  </thead>\n",
       "  <tbody>\n",
       "    <tr>\n",
       "      <th>344</th>\n",
       "      <td>2012-07-04</td>\n",
       "      <td>7</td>\n",
       "      <td>2</td>\n",
       "      <td>1</td>\n",
       "      <td>1.0</td>\n",
       "      <td>0</td>\n",
       "      <td>1</td>\n",
       "      <td>0</td>\n",
       "      <td>0</td>\n",
       "    </tr>\n",
       "    <tr>\n",
       "      <th>405</th>\n",
       "      <td>2012-10-08</td>\n",
       "      <td>10</td>\n",
       "      <td>0</td>\n",
       "      <td>1</td>\n",
       "      <td>1.0</td>\n",
       "      <td>0</td>\n",
       "      <td>0</td>\n",
       "      <td>1</td>\n",
       "      <td>0</td>\n",
       "    </tr>\n",
       "  </tbody>\n",
       "</table>\n",
       "</div>"
      ],
      "text/plain": [
       "            ds  month  weekday  is_weekday  is_holiday_day  clear  mist  \\\n",
       "344 2012-07-04      7        2           1             1.0      0     1   \n",
       "405 2012-10-08     10        0           1             1.0      0     0   \n",
       "\n",
       "     significant  extreme  \n",
       "344            0        0  \n",
       "405            1        0  "
      ]
     },
     "execution_count": 53,
     "metadata": {},
     "output_type": "execute_result"
    }
   ],
   "source": [
    "results_hd_only=[results_hd['predP'][i] for i in indicesHd ]\n",
    "indices_Hd_predict=[i for i in indicesHd if  results_hd['predP'][i]>=0.5]\n",
    "indices_Hd_not_predicted=[i for i in indicesHd if  results_hd['predP'][i]<0.5]\n",
    "calendar_info.loc[indices_Hd_predict]"
   ]
  },
  {
   "cell_type": "code",
   "execution_count": 54,
   "metadata": {
    "lines_to_end_of_cell_marker": 2
   },
   "outputs": [],
   "source": [
    "yWeekday=calendar_info['is_weekday']\n",
    "results_wk=scoreKnnResults(x_encoded,yWeekday,type='classifier',k=10,cv=10)"
   ]
  },
  {
   "cell_type": "code",
   "execution_count": 56,
   "metadata": {},
   "outputs": [
    {
     "data": {
      "text/html": [
       "<div>\n",
       "<style scoped>\n",
       "    .dataframe tbody tr th:only-of-type {\n",
       "        vertical-align: middle;\n",
       "    }\n",
       "\n",
       "    .dataframe tbody tr th {\n",
       "        vertical-align: top;\n",
       "    }\n",
       "\n",
       "    .dataframe thead th {\n",
       "        text-align: right;\n",
       "    }\n",
       "</style>\n",
       "<table border=\"1\" class=\"dataframe\">\n",
       "  <thead>\n",
       "    <tr style=\"text-align: right;\">\n",
       "      <th></th>\n",
       "      <th>ds</th>\n",
       "      <th>month</th>\n",
       "      <th>weekday</th>\n",
       "      <th>is_weekday</th>\n",
       "      <th>is_holiday_day</th>\n",
       "      <th>clear</th>\n",
       "      <th>mist</th>\n",
       "      <th>significant</th>\n",
       "      <th>extreme</th>\n",
       "    </tr>\n",
       "  </thead>\n",
       "  <tbody>\n",
       "    <tr>\n",
       "      <th>16</th>\n",
       "      <td>2011-01-17</td>\n",
       "      <td>1</td>\n",
       "      <td>0</td>\n",
       "      <td>1</td>\n",
       "      <td>1.0</td>\n",
       "      <td>0</td>\n",
       "      <td>0</td>\n",
       "      <td>1</td>\n",
       "      <td>0</td>\n",
       "    </tr>\n",
       "    <tr>\n",
       "      <th>116</th>\n",
       "      <td>2011-07-04</td>\n",
       "      <td>7</td>\n",
       "      <td>0</td>\n",
       "      <td>1</td>\n",
       "      <td>1.0</td>\n",
       "      <td>0</td>\n",
       "      <td>1</td>\n",
       "      <td>0</td>\n",
       "      <td>0</td>\n",
       "    </tr>\n",
       "    <tr>\n",
       "      <th>155</th>\n",
       "      <td>2011-09-05</td>\n",
       "      <td>9</td>\n",
       "      <td>0</td>\n",
       "      <td>1</td>\n",
       "      <td>1.0</td>\n",
       "      <td>0</td>\n",
       "      <td>0</td>\n",
       "      <td>1</td>\n",
       "      <td>0</td>\n",
       "    </tr>\n",
       "    <tr>\n",
       "      <th>158</th>\n",
       "      <td>2011-09-08</td>\n",
       "      <td>9</td>\n",
       "      <td>3</td>\n",
       "      <td>1</td>\n",
       "      <td>0.0</td>\n",
       "      <td>0</td>\n",
       "      <td>0</td>\n",
       "      <td>1</td>\n",
       "      <td>0</td>\n",
       "    </tr>\n",
       "    <tr>\n",
       "      <th>179</th>\n",
       "      <td>2011-10-10</td>\n",
       "      <td>10</td>\n",
       "      <td>0</td>\n",
       "      <td>1</td>\n",
       "      <td>1.0</td>\n",
       "      <td>0</td>\n",
       "      <td>1</td>\n",
       "      <td>0</td>\n",
       "      <td>0</td>\n",
       "    </tr>\n",
       "    <tr>\n",
       "      <th>228</th>\n",
       "      <td>2012-01-02</td>\n",
       "      <td>1</td>\n",
       "      <td>0</td>\n",
       "      <td>1</td>\n",
       "      <td>1.0</td>\n",
       "      <td>0</td>\n",
       "      <td>1</td>\n",
       "      <td>0</td>\n",
       "      <td>0</td>\n",
       "    </tr>\n",
       "    <tr>\n",
       "      <th>242</th>\n",
       "      <td>2012-01-16</td>\n",
       "      <td>1</td>\n",
       "      <td>0</td>\n",
       "      <td>1</td>\n",
       "      <td>1.0</td>\n",
       "      <td>0</td>\n",
       "      <td>0</td>\n",
       "      <td>1</td>\n",
       "      <td>0</td>\n",
       "    </tr>\n",
       "    <tr>\n",
       "      <th>322</th>\n",
       "      <td>2012-06-01</td>\n",
       "      <td>6</td>\n",
       "      <td>4</td>\n",
       "      <td>1</td>\n",
       "      <td>0.0</td>\n",
       "      <td>0</td>\n",
       "      <td>0</td>\n",
       "      <td>1</td>\n",
       "      <td>0</td>\n",
       "    </tr>\n",
       "    <tr>\n",
       "      <th>381</th>\n",
       "      <td>2012-09-03</td>\n",
       "      <td>9</td>\n",
       "      <td>0</td>\n",
       "      <td>1</td>\n",
       "      <td>1.0</td>\n",
       "      <td>0</td>\n",
       "      <td>1</td>\n",
       "      <td>0</td>\n",
       "      <td>0</td>\n",
       "    </tr>\n",
       "  </tbody>\n",
       "</table>\n",
       "</div>"
      ],
      "text/plain": [
       "            ds  month  weekday  is_weekday  is_holiday_day  clear  mist  \\\n",
       "16  2011-01-17      1        0           1             1.0      0     0   \n",
       "116 2011-07-04      7        0           1             1.0      0     1   \n",
       "155 2011-09-05      9        0           1             1.0      0     0   \n",
       "158 2011-09-08      9        3           1             0.0      0     0   \n",
       "179 2011-10-10     10        0           1             1.0      0     1   \n",
       "228 2012-01-02      1        0           1             1.0      0     1   \n",
       "242 2012-01-16      1        0           1             1.0      0     0   \n",
       "322 2012-06-01      6        4           1             0.0      0     0   \n",
       "381 2012-09-03      9        0           1             1.0      0     1   \n",
       "\n",
       "     significant  extreme  \n",
       "16             1        0  \n",
       "116            0        0  \n",
       "155            1        0  \n",
       "158            1        0  \n",
       "179            0        0  \n",
       "228            0        0  \n",
       "242            1        0  \n",
       "322            1        0  \n",
       "381            0        0  "
      ]
     },
     "execution_count": 56,
     "metadata": {},
     "output_type": "execute_result"
    }
   ],
   "source": [
    "weekdays_predicted_as_weekend=[i for i in range(0,nPoints) if  results_wk['predP'][i]<=0.5 and yWeekday[i]==1]\n",
    "calendar_info.loc[weekdays_predicted_as_weekend]"
   ]
  },
  {
   "cell_type": "code",
   "execution_count": 57,
   "metadata": {},
   "outputs": [
    {
     "data": {
      "text/plain": [
       "9"
      ]
     },
     "execution_count": 57,
     "metadata": {},
     "output_type": "execute_result"
    }
   ],
   "source": [
    "len(weekdays_predicted_as_weekend)"
   ]
  },
  {
   "cell_type": "markdown",
   "metadata": {},
   "source": [
    "We find out that holidays actually look alike weekends even if they are happening during weekdays. Days with significant bad weather are predicted the same way for bike sharing."
   ]
  },
  {
   "cell_type": "markdown",
   "metadata": {},
   "source": [
    "# Holidays & nearest neighbors"
   ]
  },
  {
   "cell_type": "code",
   "execution_count": 104,
   "metadata": {},
   "outputs": [
    {
     "data": {
      "text/plain": [
       "<function matplotlib.pyplot.show(*args, **kw)>"
      ]
     },
     "execution_count": 104,
     "metadata": {},
     "output_type": "execute_result"
    },
    {
     "data": {
      "image/png": "[encoded data removed]",
      "text/plain": [
       "<Figure size 300x300 with 1 Axes>"
      ]
     },
     "metadata": {
      "needs_background": "light"
     },
     "output_type": "display_data"
    }
   ],
   "source": [
    "from sklearn.neighbors import NearestNeighbors\n",
    "neigh = NearestNeighbors(10)\n",
    "neigh.fit(x_encoded)\n",
    "\n",
    "[distance_knn,kneighbors]=neigh.kneighbors(x_encoded, 2, return_distance=True)\n",
    "nearest=distance_knn[:,1]\n",
    "fig = plt.figure(dpi=100,figsize=(3,3))\n",
    "plt.hist(nearest,bins=100)\n",
    "plt.show"
   ]
  },
  {
   "cell_type": "code",
   "execution_count": 105,
   "metadata": {},
   "outputs": [
    {
     "data": {
      "text/plain": [
       "DescribeResult(nobs=1830, minmax=(0.016541171424242395, 1.074540498547887), mean=0.16673077278509163, variance=0.012510367346743085, skewness=2.5012268081450864, kurtosis=10.545053959091563)"
      ]
     },
     "execution_count": 105,
     "metadata": {},
     "output_type": "execute_result"
    }
   ],
   "source": [
    "from scipy import stats\n",
    "\n",
    "stats.describe(nearest)"
   ]
  },
  {
   "cell_type": "code",
   "execution_count": 106,
   "metadata": {},
   "outputs": [
    {
     "data": {
      "text/plain": [
       "<function matplotlib.pyplot.show(*args, **kw)>"
      ]
     },
     "execution_count": 106,
     "metadata": {},
     "output_type": "execute_result"
    },
    {
     "data": {
      "image/png": "[encoded data removed]",
      "text/plain": [
       "<Figure size 300x300 with 1 Axes>"
      ]
     },
     "metadata": {
      "needs_background": "light"
     },
     "output_type": "display_data"
    }
   ],
   "source": [
    "fig = plt.figure(dpi=100,figsize=(3,3))\n",
    "plt.hist(nearest[indicesHd],bins=100)\n",
    "plt.show"
   ]
  },
  {
   "cell_type": "code",
   "execution_count": 107,
   "metadata": {},
   "outputs": [
    {
     "data": {
      "text/plain": [
       "DescribeResult(nobs=45, minmax=(0.07724092920572362, 0.7800549293110298), mean=0.2631268081068916, variance=0.022468491085609967, skewness=1.4799056215452613, kurtosis=2.342934273043145)"
      ]
     },
     "execution_count": 107,
     "metadata": {},
     "output_type": "execute_result"
    }
   ],
   "source": [
    "stats.describe(nearest[indicesHd])"
   ]
  },
  {
   "cell_type": "code",
   "execution_count": 108,
   "metadata": {},
   "outputs": [
    {
     "data": {
      "text/html": [
       "<div>\n",
       "<style scoped>\n",
       "    .dataframe tbody tr th:only-of-type {\n",
       "        vertical-align: middle;\n",
       "    }\n",
       "\n",
       "    .dataframe tbody tr th {\n",
       "        vertical-align: top;\n",
       "    }\n",
       "\n",
       "    .dataframe thead th {\n",
       "        text-align: right;\n",
       "    }\n",
       "</style>\n",
       "<table border=\"1\" class=\"dataframe\">\n",
       "  <thead>\n",
       "    <tr style=\"text-align: right;\">\n",
       "      <th></th>\n",
       "      <th>ds</th>\n",
       "      <th>month</th>\n",
       "      <th>weekday</th>\n",
       "      <th>is_weekday</th>\n",
       "      <th>is_holiday_day</th>\n",
       "    </tr>\n",
       "  </thead>\n",
       "  <tbody>\n",
       "    <tr>\n",
       "      <th>21</th>\n",
       "      <td>2013-01-18</td>\n",
       "      <td>1</td>\n",
       "      <td>4</td>\n",
       "      <td>1</td>\n",
       "      <td>0.0</td>\n",
       "    </tr>\n",
       "    <tr>\n",
       "      <th>361</th>\n",
       "      <td>2013-12-24</td>\n",
       "      <td>12</td>\n",
       "      <td>1</td>\n",
       "      <td>1</td>\n",
       "      <td>0.0</td>\n",
       "    </tr>\n",
       "    <tr>\n",
       "      <th>703</th>\n",
       "      <td>2014-12-01</td>\n",
       "      <td>12</td>\n",
       "      <td>0</td>\n",
       "      <td>1</td>\n",
       "      <td>0.0</td>\n",
       "    </tr>\n",
       "    <tr>\n",
       "      <th>719</th>\n",
       "      <td>2014-12-17</td>\n",
       "      <td>12</td>\n",
       "      <td>2</td>\n",
       "      <td>1</td>\n",
       "      <td>0.0</td>\n",
       "    </tr>\n",
       "    <tr>\n",
       "      <th>730</th>\n",
       "      <td>2014-12-28</td>\n",
       "      <td>12</td>\n",
       "      <td>6</td>\n",
       "      <td>0</td>\n",
       "      <td>0.0</td>\n",
       "    </tr>\n",
       "    <tr>\n",
       "      <th>1092</th>\n",
       "      <td>2015-12-25</td>\n",
       "      <td>12</td>\n",
       "      <td>4</td>\n",
       "      <td>1</td>\n",
       "      <td>1.0</td>\n",
       "    </tr>\n",
       "    <tr>\n",
       "      <th>1120</th>\n",
       "      <td>2016-01-22</td>\n",
       "      <td>1</td>\n",
       "      <td>4</td>\n",
       "      <td>1</td>\n",
       "      <td>0.0</td>\n",
       "    </tr>\n",
       "    <tr>\n",
       "      <th>1466</th>\n",
       "      <td>2017-01-02</td>\n",
       "      <td>1</td>\n",
       "      <td>0</td>\n",
       "      <td>1</td>\n",
       "      <td>0.0</td>\n",
       "    </tr>\n",
       "    <tr>\n",
       "      <th>1491</th>\n",
       "      <td>2017-01-27</td>\n",
       "      <td>1</td>\n",
       "      <td>4</td>\n",
       "      <td>1</td>\n",
       "      <td>0.0</td>\n",
       "    </tr>\n",
       "    <tr>\n",
       "      <th>1583</th>\n",
       "      <td>2017-04-29</td>\n",
       "      <td>4</td>\n",
       "      <td>5</td>\n",
       "      <td>0</td>\n",
       "      <td>0.0</td>\n",
       "    </tr>\n",
       "  </tbody>\n",
       "</table>\n",
       "</div>"
      ],
      "text/plain": [
       "             ds  month  weekday  is_weekday  is_holiday_day\n",
       "21   2013-01-18      1        4           1             0.0\n",
       "361  2013-12-24     12        1           1             0.0\n",
       "703  2014-12-01     12        0           1             0.0\n",
       "719  2014-12-17     12        2           1             0.0\n",
       "730  2014-12-28     12        6           0             0.0\n",
       "1092 2015-12-25     12        4           1             1.0\n",
       "1120 2016-01-22      1        4           1             0.0\n",
       "1466 2017-01-02      1        0           1             0.0\n",
       "1491 2017-01-27      1        4           1             0.0\n",
       "1583 2017-04-29      4        5           0             0.0"
      ]
     },
     "execution_count": 108,
     "metadata": {},
     "output_type": "execute_result"
    }
   ],
   "source": [
    "nearestThreshold=0.7\n",
    "calendar_info.loc[np.where(nearest>=nearestThreshold)]"
   ]
  },
  {
   "cell_type": "markdown",
   "metadata": {},
   "source": [
    "2013-01-18  and 2017-01-27 were big snowy events in France and first of january are alwaus atypical days. All of those events happened durng winter, when the electrical consumption is most sensitive to temperature."
   ]
  },
  {
   "cell_type": "code",
   "execution_count": 110,
   "metadata": {},
   "outputs": [
    {
     "data": {
      "text/plain": [
       "array([0.95991154, 0.80261123, 1.0745405 , 0.85577207, 0.91793625,\n",
       "       0.78005493, 0.84032683, 0.70019336, 0.84032683, 0.87500159])"
      ]
     },
     "execution_count": 110,
     "metadata": {},
     "output_type": "execute_result"
    }
   ],
   "source": [
    "indicesNear=[i for i in range(0,len(nearest)) if nearest[i]>=nearestThreshold]\n",
    "nearest[np.where(nearest>=nearestThreshold)]"
   ]
  },
  {
   "cell_type": "code",
   "execution_count": 111,
   "metadata": {},
   "outputs": [
    {
     "data": {
      "text/plain": [
       "<bound method Figure.show of <Figure size 1000x600 with 10 Axes>>"
      ]
     },
     "execution_count": 111,
     "metadata": {},
     "output_type": "execute_result"
    },
    {
     "data": {
      "image/png": "[encoded data removed]",
      "text/plain": [
       "<Figure size 1000x600 with 10 Axes>"
      ]
     },
     "metadata": {
      "needs_background": "light"
     },
     "output_type": "display_data"
    }
   ],
   "source": [
    "nPlots=len(indicesNear)#len(idxMaxError)\n",
    "nCols=5\n",
    "nRows=int(nPlots/nCols)+1\n",
    "fig = plt.figure(dpi=100,figsize=(10,2*nRows))\n",
    "for i in range(1, nPlots+1):\n",
    "    plt.subplot(nRows, nCols, i)\n",
    "    fig.subplots_adjust(hspace=.5)\n",
    "    indice=indicesNear[i-1]\n",
    "    plt.plot(x[indice,:])\n",
    "    plt.plot(x_hat[indice,:])\n",
    "    plt.title( calendar_info.ds.dt.date.iloc[indice])\n",
    "fig.show"
   ]
  },
  {
   "cell_type": "markdown",
   "metadata": {},
   "source": [
    "# Conclusions\n",
    "- 3 dimensions covers most of the information for the variety of daily load curves \n",
    "- We recovered with this simple linear model the two main features that caracterizes electrical consumption: weekday and temperature\n",
    "- Holidays are not yet well predicted and represented, although we know they are an important atypical factor.\n",
    "- We however detect that holidays all look alike weekend days\n",
    "- We discover some first interpretable events.\n",
    "- Results are quite similar than with the PCA model. They are some differences in the events first detected. The projection in the latent space is also more gaussian, which ease the interactive navigation in it, compared to the PCA projection.\n",
    "\n"
   ]
  },
  {
   "cell_type": "code",
   "execution_count": null,
   "metadata": {},
   "outputs": [],
   "source": []
  },
  {
   "cell_type": "code",
   "execution_count": null,
   "metadata": {},
   "outputs": [],
   "source": []
  }
 ],
 "metadata": {
  "jupytext": {
   "formats": "ipynb,py"
  },
  "kernelspec": {
   "display_name": "Python 3",
   "language": "python",
   "name": "python3"
  },
  "language_info": {
   "codemirror_mode": {
    "name": "ipython",
    "version": 3
   },
   "file_extension": ".py",
   "mimetype": "text/x-python",
   "name": "python",
   "nbconvert_exporter": "python",
   "pygments_lexer": "ipython3",
   "version": "3.6.6"
  }
 },
 "nbformat": 4,
 "nbformat_minor": 2
}
