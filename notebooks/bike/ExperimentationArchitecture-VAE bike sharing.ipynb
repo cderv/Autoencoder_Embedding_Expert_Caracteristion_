{
 "cells": [
  {
   "cell_type": "markdown",
   "metadata": {},
   "source": [
    "# Notebook with VAE model and no conditionning"
   ]
  },
  {
   "cell_type": "markdown",
   "metadata": {},
   "source": [
    "## Loading Libraries "
   ]
  },
  {
   "cell_type": "code",
   "execution_count": 1,
   "metadata": {
    "lines_to_next_cell": 2
   },
   "outputs": [],
   "source": [
    "#import external libraries\n",
    "import sys\n",
    "import os\n",
    "import datetime\n",
    "import pandas as pd\n",
    "import numpy as np\n",
    "import pickle\n",
    "from matplotlib import pyplot as plt\n",
    "import seaborn as sn\n",
    "from scipy import stats\n",
    "import cv2 #from open-cv, to convert array to images"
   ]
  },
  {
   "cell_type": "code",
   "execution_count": 2,
   "metadata": {},
   "outputs": [],
   "source": [
    "#paths in git\n",
    "\n",
    "#root git folder \n",
    "path_main_folder = '/home/goubetcle/Documents/CVAE/marota_cvae'\n",
    "#path_main_folder = '/home/jovyan'#specify the root folder of the git repo\n",
    "\n",
    "#add  to path root git folder \n",
    "sys.path.append(path_main_folder)\n",
    "#add  to path source code folder\n",
    "sys.path.append(path_main_folder+'/src')"
   ]
  },
  {
   "cell_type": "code",
   "execution_count": 3,
   "metadata": {},
   "outputs": [
    {
     "name": "stderr",
     "output_type": "stream",
     "text": [
      "Using TensorFlow backend.\n"
     ]
    }
   ],
   "source": [
    "#import class and methods from src\n",
    "from keras import backend as K\n",
    "from CVAE.callbacks import NEpochLogger,callbackWeightLoss\n",
    "#from CVAE.cvae import compile_cvae, run_cvae\n",
    "from CVAE.cvae_model import CVAE, CVAE_emb, CAE\n",
    "from conso.load_shape_data import *  \n",
    "\n",
    "import Visualisation.buildProjector\n",
    "from Visualisation.buildProjector import *\n",
    "from FeaturesScore.scoring import *\n",
    "#from conso.load_shape_data import get_x_conso_autoencoder\n",
    "from conso.conso_helpers import plot_latent_space_projection, pyplot_latent_space_projection_temp, pyplot_latent_space_projection_error\n",
    "from sklearn.manifold import TSNE"
   ]
  },
  {
   "cell_type": "code",
   "execution_count": 4,
   "metadata": {},
   "outputs": [],
   "source": [
    "#directories to store trained model and the related projector\n",
    "\n",
    "log_dir_projector=path_main_folder+\"/notebooks/logs/Expe-bike/VAE/projector\"\n",
    "log_dir_model=path_main_folder+\"/notebooks/logs/Expe-bike/VAE/model\"\n",
    "if not(os.path.isdir(log_dir_projector)):\n",
    "    os.makedirs(log_dir_projector)\n",
    "if not(os.path.isdir(log_dir_model)):\n",
    "    os.makedirs(log_dir_model)"
   ]
  },
  {
   "cell_type": "markdown",
   "metadata": {},
   "source": [
    "# Table of contents:\n",
    "- Load Data\n",
    "- Make Training Set\n",
    "- Define and Train Model\n",
    "- Build Projector\n",
    "- Compute Feature Scores in latent space\n",
    "- Study reconstruction Error\n",
    "- Study Holidays prediction\n",
    "- Detect atypical events\n",
    "- Conclusion"
   ]
  },
  {
   "cell_type": "markdown",
   "metadata": {},
   "source": [
    "# Load dataset "
   ]
  },
  {
   "cell_type": "code",
   "execution_count": 5,
   "metadata": {},
   "outputs": [],
   "source": [
    "# Load dataframe\n",
    "path_data = os.path.join(path_main_folder, 'data/bike-sharing')\n",
    "dataset_train= os.path.join(path_data, \"bike.csv\")\n",
    "\n",
    "train = pd.read_csv(dataset_train)\n",
    "train.head()\n",
    "train.datetime = pd.to_datetime(train.datetime)"
   ]
  },
  {
   "cell_type": "code",
   "execution_count": 6,
   "metadata": {},
   "outputs": [
    {
     "data": {
      "text/plain": [
       "DescribeResult(nobs=731, minmax=(1, 24), mean=23.774281805745552, variance=1.824323969791804, skewness=-11.501712989731729, kurtosis=155.61852429648792)"
      ]
     },
     "execution_count": 6,
     "metadata": {},
     "output_type": "execute_result"
    }
   ],
   "source": [
    "dates, freq = np.unique(train.datetime.dt.date, return_counts=True)\n",
    "stats.describe(freq)"
   ]
  },
  {
   "cell_type": "code",
   "execution_count": 7,
   "metadata": {},
   "outputs": [],
   "source": [
    "target = dates[np.where(freq<22)[0]]\n",
    "idx = np.array([0])\n",
    "for tgt in target:\n",
    "    idx=np.r_[idx,np.where(train.datetime.dt.date==tgt)[0]]\n",
    "ind = idx[1:]\n",
    "train = train.drop(index=ind)"
   ]
  },
  {
   "cell_type": "code",
   "execution_count": 8,
   "metadata": {},
   "outputs": [
    {
     "name": "stdout",
     "output_type": "stream",
     "text": [
      "<class 'pandas.core.frame.DataFrame'>\n",
      "Int64Index: 17278 entries, 0 to 17378\n",
      "Data columns (total 6 columns):\n",
      "ds                17278 non-null datetime64[ns]\n",
      "consumption       17278 non-null float64\n",
      "temperature       17278 non-null float64\n",
      "humidity          17278 non-null float64\n",
      "windspeed         17278 non-null float64\n",
      "is_holiday_day    17278 non-null float64\n",
      "dtypes: datetime64[ns](1), float64(5)\n",
      "memory usage: 944.9 KB\n"
     ]
    }
   ],
   "source": [
    "#Visualize data frame head\n",
    "x_conso = train[['datetime', 'count', 'temp', 'humidity', 'windspeed', 'holiday']].copy()\n",
    "x_conso[['count', 'temp', 'humidity', 'windspeed', 'holiday']] = x_conso[['count', 'temp', 'humidity', 'windspeed', 'holiday']].astype('float64').values\n",
    "x_conso = x_conso.rename(columns={'datetime':'ds', 'count':'consumption', 'temp':'temperature', 'holiday':'is_holiday_day'})\n",
    "x_conso.info()"
   ]
  },
  {
   "cell_type": "markdown",
   "metadata": {},
   "source": [
    "# Make training set of daily electrical consumption profiles and conditions \n",
    "In this experiment there is no condition to pass. This is not something we can do with a PCA anyway"
   ]
  },
  {
   "cell_type": "code",
   "execution_count": 9,
   "metadata": {},
   "outputs": [
    {
     "name": "stdout",
     "output_type": "stream",
     "text": [
      "['consumption']\n"
     ]
    },
    {
     "data": {
      "text/html": [
       "<div>\n",
       "<style scoped>\n",
       "    .dataframe tbody tr th:only-of-type {\n",
       "        vertical-align: middle;\n",
       "    }\n",
       "\n",
       "    .dataframe tbody tr th {\n",
       "        vertical-align: top;\n",
       "    }\n",
       "\n",
       "    .dataframe thead th {\n",
       "        text-align: right;\n",
       "    }\n",
       "</style>\n",
       "<table border=\"1\" class=\"dataframe\">\n",
       "  <thead>\n",
       "    <tr style=\"text-align: right;\">\n",
       "      <th></th>\n",
       "      <th>consumption</th>\n",
       "      <th>temperature</th>\n",
       "      <th>humidity</th>\n",
       "      <th>windspeed</th>\n",
       "      <th>is_holiday_day</th>\n",
       "    </tr>\n",
       "  </thead>\n",
       "  <tbody>\n",
       "    <tr>\n",
       "      <th>count</th>\n",
       "      <td>1.727800e+04</td>\n",
       "      <td>1.727800e+04</td>\n",
       "      <td>1.727800e+04</td>\n",
       "      <td>1.727800e+04</td>\n",
       "      <td>17278.000000</td>\n",
       "    </tr>\n",
       "    <tr>\n",
       "      <th>mean</th>\n",
       "      <td>-8.224826e-17</td>\n",
       "      <td>-1.842361e-16</td>\n",
       "      <td>-1.480469e-16</td>\n",
       "      <td>7.402344e-18</td>\n",
       "      <td>0.028939</td>\n",
       "    </tr>\n",
       "    <tr>\n",
       "      <th>std</th>\n",
       "      <td>1.000029e+00</td>\n",
       "      <td>1.000029e+00</td>\n",
       "      <td>1.000029e+00</td>\n",
       "      <td>1.000029e+00</td>\n",
       "      <td>0.167639</td>\n",
       "    </tr>\n",
       "    <tr>\n",
       "      <th>min</th>\n",
       "      <td>-1.040926e+00</td>\n",
       "      <td>-2.486002e+00</td>\n",
       "      <td>-3.248436e+00</td>\n",
       "      <td>-1.553683e+00</td>\n",
       "      <td>0.000000</td>\n",
       "    </tr>\n",
       "    <tr>\n",
       "      <th>25%</th>\n",
       "      <td>-8.261460e-01</td>\n",
       "      <td>-8.204374e-01</td>\n",
       "      <td>-7.598616e-01</td>\n",
       "      <td>-6.979448e-01</td>\n",
       "      <td>0.000000</td>\n",
       "    </tr>\n",
       "    <tr>\n",
       "      <th>50%</th>\n",
       "      <td>-2.589077e-01</td>\n",
       "      <td>1.234497e-02</td>\n",
       "      <td>1.781788e-02</td>\n",
       "      <td>3.495995e-02</td>\n",
       "      <td>0.000000</td>\n",
       "    </tr>\n",
       "    <tr>\n",
       "      <th>75%</th>\n",
       "      <td>5.010816e-01</td>\n",
       "      <td>8.451274e-01</td>\n",
       "      <td>7.954973e-01</td>\n",
       "      <td>5.238361e-01</td>\n",
       "      <td>0.000000</td>\n",
       "    </tr>\n",
       "    <tr>\n",
       "      <th>max</th>\n",
       "      <td>4.334071e+00</td>\n",
       "      <td>2.614790e+00</td>\n",
       "      <td>1.936094e+00</td>\n",
       "      <td>5.412597e+00</td>\n",
       "      <td>1.000000</td>\n",
       "    </tr>\n",
       "  </tbody>\n",
       "</table>\n",
       "</div>"
      ],
      "text/plain": [
       "        consumption   temperature      humidity     windspeed  is_holiday_day\n",
       "count  1.727800e+04  1.727800e+04  1.727800e+04  1.727800e+04    17278.000000\n",
       "mean  -8.224826e-17 -1.842361e-16 -1.480469e-16  7.402344e-18        0.028939\n",
       "std    1.000029e+00  1.000029e+00  1.000029e+00  1.000029e+00        0.167639\n",
       "min   -1.040926e+00 -2.486002e+00 -3.248436e+00 -1.553683e+00        0.000000\n",
       "25%   -8.261460e-01 -8.204374e-01 -7.598616e-01 -6.979448e-01        0.000000\n",
       "50%   -2.589077e-01  1.234497e-02  1.781788e-02  3.495995e-02        0.000000\n",
       "75%    5.010816e-01  8.451274e-01  7.954973e-01  5.238361e-01        0.000000\n",
       "max    4.334071e+00  2.614790e+00  1.936094e+00  5.412597e+00        1.000000"
      ]
     },
     "execution_count": 9,
     "metadata": {},
     "output_type": "execute_result"
    }
   ],
   "source": [
    "dict_xconso = {'train': x_conso}\n",
    "name_set_plot = 'train'\n",
    "version = '-v1'\n",
    "# Normalize input variables\n",
    "dict_xconso, _ = normalize_xconso(dict_xconso, type_scaler = 'standard', meteo_elements=['temperature', 'humidity', 'windspeed'])\n",
    "dict_xconso['train'].describe()"
   ]
  },
  {
   "cell_type": "code",
   "execution_count": 10,
   "metadata": {},
   "outputs": [
    {
     "data": {
      "text/plain": [
       "723"
      ]
     },
     "execution_count": 10,
     "metadata": {},
     "output_type": "execute_result"
    }
   ],
   "source": [
    "timeserie = train.datetime.dt\n",
    "nPoints = len(np.unique(timeserie.date))\n",
    "nPoints"
   ]
  },
  {
   "cell_type": "code",
   "execution_count": 11,
   "metadata": {},
   "outputs": [
    {
     "name": "stdout",
     "output_type": "stream",
     "text": [
      "['consumption']\n"
     ]
    }
   ],
   "source": [
    "# Normalize input variables\n",
    "type_scaler = 's'\n",
    "dict_xconso, _ = normalize_xconso(dict_xconso, type_scaler = 'standard')"
   ]
  },
  {
   "cell_type": "code",
   "execution_count": 12,
   "metadata": {},
   "outputs": [
    {
     "name": "stdout",
     "output_type": "stream",
     "text": [
      "month (723, 12)\n",
      "weekday (723, 1)\n",
      "(723, 13)\n"
     ]
    }
   ],
   "source": [
    "dataset = get_dataset_autoencoder(dict_xconso=dict_xconso)"
   ]
  },
  {
   "cell_type": "code",
   "execution_count": 13,
   "metadata": {},
   "outputs": [],
   "source": [
    "#A VAE is a CVAE with a null feature as a condition  \n",
    "\n",
    "#Pass a constant vector for conditions\n",
    "nPoints=dataset['train']['x'][1].shape[0]\n",
    "x = dataset['train']['x'][0]\n",
    "cond_pre =np.zeros((nPoints,), dtype=int)#\n",
    "\n",
    "dataset['train']['x'] = [x,cond_pre]\n",
    "dataset['train']['y1'] = dataset['train']['y'] #the CVAE model has two outputs which are identifcal to compute the two losses"
   ]
  },
  {
   "cell_type": "code",
   "execution_count": 14,
   "metadata": {},
   "outputs": [
    {
     "data": {
      "text/plain": [
       "array([0, 0, 0, 0, 0, 0, 0, 0, 0, 0, 0, 0, 0, 0, 0, 0, 0, 0, 0, 0, 0, 0,\n",
       "       0, 0])"
      ]
     },
     "execution_count": 14,
     "metadata": {},
     "output_type": "execute_result"
    }
   ],
   "source": [
    "sum(np.isnan(dataset['train']['x'][0]))"
   ]
  },
  {
   "cell_type": "code",
   "execution_count": 15,
   "metadata": {},
   "outputs": [
    {
     "data": {
      "text/plain": [
       "array([0, 0, 0, 0, 0, 0, 0, 0, 0, 0, 0, 0, 0, 0, 0, 0, 0, 0, 0, 0, 0, 0,\n",
       "       0, 0])"
      ]
     },
     "execution_count": 15,
     "metadata": {},
     "output_type": "execute_result"
    }
   ],
   "source": [
    "sum(np.isnan(dataset['train']['y']))"
   ]
  },
  {
   "cell_type": "code",
   "execution_count": 16,
   "metadata": {},
   "outputs": [],
   "source": [
    "calendar_info = pd.DataFrame(dataset[name_set_plot]['ds'])\n",
    "calendar_info['month'] = calendar_info.ds.dt.month\n",
    "calendar_info['weekday'] = calendar_info.ds.dt.weekday\n",
    "calendar_info['is_weekday'] = (calendar_info.weekday < 5).apply(lambda x:int(x))\n",
    "calendar_info = pd.merge(calendar_info, x_conso[['ds', 'is_holiday_day']], on='ds', how ='left')\n",
    "calendar_info.loc[calendar_info['is_holiday_day'].isna(),'is_holiday_day'] = 0"
   ]
  },
  {
   "cell_type": "code",
   "execution_count": 17,
   "metadata": {},
   "outputs": [
    {
     "data": {
      "text/html": [
       "<div>\n",
       "<style scoped>\n",
       "    .dataframe tbody tr th:only-of-type {\n",
       "        vertical-align: middle;\n",
       "    }\n",
       "\n",
       "    .dataframe tbody tr th {\n",
       "        vertical-align: top;\n",
       "    }\n",
       "\n",
       "    .dataframe thead th {\n",
       "        text-align: right;\n",
       "    }\n",
       "</style>\n",
       "<table border=\"1\" class=\"dataframe\">\n",
       "  <thead>\n",
       "    <tr style=\"text-align: right;\">\n",
       "      <th></th>\n",
       "      <th>ds</th>\n",
       "      <th>month</th>\n",
       "      <th>weekday</th>\n",
       "      <th>is_weekday</th>\n",
       "      <th>is_holiday_day</th>\n",
       "      <th>clear</th>\n",
       "      <th>mist</th>\n",
       "      <th>significant</th>\n",
       "      <th>extreme</th>\n",
       "    </tr>\n",
       "  </thead>\n",
       "  <tbody>\n",
       "    <tr>\n",
       "      <th>0</th>\n",
       "      <td>2011-01-01</td>\n",
       "      <td>1</td>\n",
       "      <td>5</td>\n",
       "      <td>0</td>\n",
       "      <td>0.0</td>\n",
       "      <td>0</td>\n",
       "      <td>0</td>\n",
       "      <td>1</td>\n",
       "      <td>0</td>\n",
       "    </tr>\n",
       "    <tr>\n",
       "      <th>1</th>\n",
       "      <td>2011-01-02</td>\n",
       "      <td>1</td>\n",
       "      <td>6</td>\n",
       "      <td>0</td>\n",
       "      <td>0.0</td>\n",
       "      <td>0</td>\n",
       "      <td>0</td>\n",
       "      <td>1</td>\n",
       "      <td>0</td>\n",
       "    </tr>\n",
       "    <tr>\n",
       "      <th>2</th>\n",
       "      <td>2011-01-03</td>\n",
       "      <td>1</td>\n",
       "      <td>0</td>\n",
       "      <td>1</td>\n",
       "      <td>0.0</td>\n",
       "      <td>1</td>\n",
       "      <td>0</td>\n",
       "      <td>0</td>\n",
       "      <td>0</td>\n",
       "    </tr>\n",
       "    <tr>\n",
       "      <th>3</th>\n",
       "      <td>2011-01-04</td>\n",
       "      <td>1</td>\n",
       "      <td>1</td>\n",
       "      <td>1</td>\n",
       "      <td>0.0</td>\n",
       "      <td>0</td>\n",
       "      <td>1</td>\n",
       "      <td>0</td>\n",
       "      <td>0</td>\n",
       "    </tr>\n",
       "    <tr>\n",
       "      <th>4</th>\n",
       "      <td>2011-01-05</td>\n",
       "      <td>1</td>\n",
       "      <td>2</td>\n",
       "      <td>1</td>\n",
       "      <td>0.0</td>\n",
       "      <td>1</td>\n",
       "      <td>0</td>\n",
       "      <td>0</td>\n",
       "      <td>0</td>\n",
       "    </tr>\n",
       "  </tbody>\n",
       "</table>\n",
       "</div>"
      ],
      "text/plain": [
       "          ds  month  weekday  is_weekday  is_holiday_day  clear  mist  \\\n",
       "0 2011-01-01      1        5           0             0.0      0     0   \n",
       "1 2011-01-02      1        6           0             0.0      0     0   \n",
       "2 2011-01-03      1        0           1             0.0      1     0   \n",
       "3 2011-01-04      1        1           1             0.0      0     1   \n",
       "4 2011-01-05      1        2           1             0.0      1     0   \n",
       "\n",
       "   significant  extreme  \n",
       "0            1        0  \n",
       "1            1        0  \n",
       "2            0        0  \n",
       "3            0        0  \n",
       "4            0        0  "
      ]
     },
     "execution_count": 17,
     "metadata": {},
     "output_type": "execute_result"
    }
   ],
   "source": [
    "dates = calendar_info['ds'].dt.date\n",
    "weather = [train.weather.iloc[np.where(train['datetime'].dt.date==date)[0]].max() for date in dates]\n",
    "calendar_info=calendar_info.join(pd.get_dummies(weather).rename(columns={1:'clear', 2:'mist', 3:'significant', 4:'extreme'}))\n",
    "calendar_info.head()"
   ]
  },
  {
   "cell_type": "code",
   "execution_count": null,
   "metadata": {},
   "outputs": [],
   "source": []
  },
  {
   "cell_type": "code",
   "execution_count": null,
   "metadata": {},
   "outputs": [],
   "source": []
  },
  {
   "cell_type": "markdown",
   "metadata": {},
   "source": [
    "# Build and train model VAE"
   ]
  },
  {
   "cell_type": "code",
   "execution_count": 18,
   "metadata": {
    "lines_to_next_cell": 2
   },
   "outputs": [],
   "source": [
    "#on sauvegarde le dataset\n",
    "path_out = log_dir_model"
   ]
  },
  {
   "cell_type": "code",
   "execution_count": 19,
   "metadata": {},
   "outputs": [],
   "source": [
    "# Parameters for autoencoder\n",
    "e_dims=[24,18,12,6]#encoder dim\n",
    "d_dims=[24,18,12,6]#decoder dim. Dense Blocks in skip connections can make the dimensions bigger when layers are concatenated with the previous one\n",
    "to_emb_dim=[]\n",
    "cond_pre_dim = 0#dataset['train']['x'][1].shape[1]\n",
    "input_dim = dataset['train']['x'][0].shape[1]\n",
    "z_dim= 4\n",
    "lambda_val = 0.4"
   ]
  },
  {
   "cell_type": "code",
   "execution_count": 20,
   "metadata": {},
   "outputs": [],
   "source": [
    "name_model = 'vae_conso-1h-journalier-nocond'\n",
    "#name_model = 'cvae_classification'"
   ]
  },
  {
   "cell_type": "code",
   "execution_count": 21,
   "metadata": {},
   "outputs": [],
   "source": [
    "#if needs to relaod model classes after modification wothout restarting the kernel\n",
    "\n",
    "import CVAE.cvae_model\n",
    "import CVAE.callbacks\n",
    "import importlib\n",
    "importlib.reload(CVAE.cvae_model)\n",
    "importlib.reload(CVAE.callbacks)\n",
    "\n",
    "%load_ext autoreload\n",
    "%autoreload"
   ]
  },
  {
   "cell_type": "code",
   "execution_count": 22,
   "metadata": {},
   "outputs": [
    {
     "name": "stdout",
     "output_type": "stream",
     "text": [
      "WARNING:tensorflow:From /home/goubetcle/.local/lib/python3.6/site-packages/tensorflow/python/framework/op_def_library.py:263: colocate_with (from tensorflow.python.framework.ops) is deprecated and will be removed in a future version.\n",
      "Instructions for updating:\n",
      "Colocations handled automatically by placer.\n",
      "L1 loss\n",
      "False\n",
      "L1 loss\n",
      "False\n",
      "L1 loss\n",
      "False\n",
      "complete model: \n",
      "__________________________________________________________________________________________________\n",
      "Layer (type)                    Output Shape         Param #     Connected to                     \n",
      "==================================================================================================\n",
      "x_true (InputLayer)             (None, 24)           0                                            \n",
      "__________________________________________________________________________________________________\n",
      "cond_pre (InputLayer)           (None, 1)            0                                            \n",
      "__________________________________________________________________________________________________\n",
      "encoder (Model)                 [(None, 4), (None, 4 1472        x_true[0][0]                     \n",
      "                                                                 cond_pre[0][0]                   \n",
      "__________________________________________________________________________________________________\n",
      "sample_z (Lambda)               (None, 4)            0           encoder[1][0]                    \n",
      "                                                                 encoder[1][1]                    \n",
      "__________________________________________________________________________________________________\n",
      "decoder (Model)                 (None, 24)           3204        sample_z[0][0]                   \n",
      "                                                                 cond_pre[0][0]                   \n",
      "__________________________________________________________________________________________________\n",
      "decoder_for_kl (Model)          (None, 24)           0           decoder[1][0]                    \n",
      "==================================================================================================\n",
      "Total params: 4,676\n",
      "Trainable params: 4,676\n",
      "Non-trainable params: 0\n",
      "__________________________________________________________________________________________________\n",
      "encoder: \n",
      "__________________________________________________________________________________________________\n",
      "Layer (type)                    Output Shape         Param #     Connected to                     \n",
      "==================================================================================================\n",
      "enc_x_true (InputLayer)         (None, 24)           0                                            \n",
      "__________________________________________________________________________________________________\n",
      "enc_cond (InputLayer)           (None, 1)            0                                            \n",
      "__________________________________________________________________________________________________\n",
      "enc_input (Concatenate)         (None, 25)           0           enc_x_true[0][0]                 \n",
      "                                                                 enc_cond[0][0]                   \n",
      "__________________________________________________________________________________________________\n",
      "dense_1 (Dense)                 (None, 24)           624         enc_input[0][0]                  \n",
      "__________________________________________________________________________________________________\n",
      "enc_dense_0 (Concatenate)       (None, 25)           0           dense_1[0][0]                    \n",
      "                                                                 enc_cond[0][0]                   \n",
      "__________________________________________________________________________________________________\n",
      "dense_2 (Dense)                 (None, 18)           468         enc_dense_0[0][0]                \n",
      "__________________________________________________________________________________________________\n",
      "enc_dense_1 (Concatenate)       (None, 19)           0           dense_2[0][0]                    \n",
      "                                                                 enc_cond[0][0]                   \n",
      "__________________________________________________________________________________________________\n",
      "dense_3 (Dense)                 (None, 12)           240         enc_dense_1[0][0]                \n",
      "__________________________________________________________________________________________________\n",
      "enc_dense_2 (Concatenate)       (None, 13)           0           dense_3[0][0]                    \n",
      "                                                                 enc_cond[0][0]                   \n",
      "__________________________________________________________________________________________________\n",
      "enc_dense_3 (Dense)             (None, 6)            84          enc_dense_2[0][0]                \n",
      "__________________________________________________________________________________________________\n",
      "latent_dense_mu (Dense)         (None, 4)            28          enc_dense_3[0][0]                \n",
      "__________________________________________________________________________________________________\n",
      "latent_dense_log_sigma (Dense)  (None, 4)            28          enc_dense_3[0][0]                \n",
      "==================================================================================================\n",
      "Total params: 1,472\n",
      "Trainable params: 1,472\n",
      "Non-trainable params: 0\n",
      "__________________________________________________________________________________________________\n",
      "decoder: \n",
      "__________________________________________________________________________________________________\n",
      "Layer (type)                    Output Shape         Param #     Connected to                     \n",
      "==================================================================================================\n",
      "dec_z (InputLayer)              (None, 4)            0                                            \n",
      "__________________________________________________________________________________________________\n",
      "dec_cond (InputLayer)           (None, 1)            0                                            \n",
      "__________________________________________________________________________________________________\n",
      "dec_input (Concatenate)         (None, 5)            0           dec_z[0][0]                      \n",
      "                                                                 dec_cond[0][0]                   \n",
      "__________________________________________________________________________________________________\n",
      "dense_4 (Dense)                 (None, 6)            36          dec_input[0][0]                  \n",
      "__________________________________________________________________________________________________\n",
      "dec_dense_resnet3 (Concatenate) (None, 11)           0           dense_4[0][0]                    \n",
      "                                                                 dec_input[0][0]                  \n",
      "__________________________________________________________________________________________________\n",
      "dense_5 (Dense)                 (None, 12)           144         dec_dense_resnet3[0][0]          \n",
      "__________________________________________________________________________________________________\n",
      "dec_dense_resnet2 (Concatenate) (None, 23)           0           dense_5[0][0]                    \n",
      "                                                                 dec_dense_resnet3[0][0]          \n",
      "__________________________________________________________________________________________________\n",
      "dense_6 (Dense)                 (None, 18)           432         dec_dense_resnet2[0][0]          \n",
      "__________________________________________________________________________________________________\n",
      "dec_dense_resnet1 (Concatenate) (None, 41)           0           dense_6[0][0]                    \n",
      "                                                                 dec_dense_resnet2[0][0]          \n",
      "__________________________________________________________________________________________________\n",
      "dense_7 (Dense)                 (None, 24)           1008        dec_dense_resnet1[0][0]          \n",
      "__________________________________________________________________________________________________\n",
      "dec_dense_resnet0 (Concatenate) (None, 65)           0           dense_7[0][0]                    \n",
      "                                                                 dec_dense_resnet1[0][0]          \n",
      "__________________________________________________________________________________________________\n",
      "dec_x_hat (Dense)               (None, 24)           1584        dec_dense_resnet0[0][0]          \n",
      "==================================================================================================\n",
      "Total params: 3,204\n",
      "Trainable params: 3,204\n",
      "Non-trainable params: 0\n",
      "__________________________________________________________________________________________________\n"
     ]
    }
   ],
   "source": [
    "Lambda = K.variable(lambda_val, dtype='float32')\n",
    "model = CVAE.cvae_model.CVAE(input_dim=input_dim,\n",
    "             cond_dim=1, \n",
    "             e_dims=e_dims, \n",
    "             d_dims=d_dims, \n",
    "             z_dim=z_dim, \n",
    "             beta=Lambda,\n",
    "             name=name_model, \n",
    "             output=path_out,is_L2_Loss=False,lr=3e-4)"
   ]
  },
  {
   "cell_type": "markdown",
   "metadata": {},
   "source": [
    "### Trainning model "
   ]
  },
  {
   "cell_type": "code",
   "execution_count": 23,
   "metadata": {
    "lines_to_next_cell": 2
   },
   "outputs": [],
   "source": [
    "from keras.callbacks import TensorBoard\n",
    "from time import time\n",
    "\n",
    "#embeddingsMetadata = {'dec_dense_0': 'metadata.tsv'}\n",
    "tensorboard = TensorBoard(log_dir=\"logs/{}\".format(name_model +str(time())),write_graph=False,histogram_freq=50,write_grads=True,write_images=True)#,,embeddings_freq=10, embeddings_layer_names=['dec_dense_0'],embeddings_metadata= embeddingsMetadata)"
   ]
  },
  {
   "cell_type": "code",
   "execution_count": 24,
   "metadata": {},
   "outputs": [
    {
     "name": "stdout",
     "output_type": "stream",
     "text": [
      "\n",
      "\n",
      "--- START TRAINING ---\n",
      "\n",
      "WARNING:tensorflow:From /home/goubetcle/.local/lib/python3.6/site-packages/tensorflow/python/ops/math_ops.py:3066: to_int32 (from tensorflow.python.ops.math_ops) is deprecated and will be removed in a future version.\n",
      "Instructions for updating:\n",
      "Use tf.cast instead.\n",
      "[ 87.48778  81.04572 104.31457 156.9451 ]\n",
      "0.3548000000000001\n",
      "              is_weekday   weekday     month  is_holiday_day  temperature\n",
      "score model     0.644640  0.230928  0.172976        0.019048    -4.809029\n",
      "random model    0.501548  0.168775  0.088044        0.019048    -5.985323\n",
      "0 Epochs ...  - loss: 20.6347 - decoder_loss: 20.5689 - decoder_for_kl_loss: 0.1646 - decoder_kl_loss: 0.1646 - decoder_recon_loss: 20.5689 - decoder_for_kl_kl_loss: 0.1646 - decoder_for_kl_recon_loss: 20.5689 - val_loss: 20.8958 - val_decoder_loss: 20.8502 - val_decoder_for_kl_loss: 0.1140 - val_decoder_kl_loss: 0.1140 - val_decoder_recon_loss: 20.8502 - val_decoder_for_kl_kl_loss: 0.1140 - val_decoder_for_kl_recon_loss: 20.8502 val_loss 20.895760131208863 ... lambda Loss 0.4000000059604645\n",
      "[570.9681  202.69627 578.3646  415.18555]\n",
      "0.31576739130434783\n",
      "              is_weekday   weekday     month  is_holiday_day  temperature\n",
      "score model     0.951209  0.368752  0.180573        0.076190    -3.533395\n",
      "random model    0.466177  0.155132  0.085085        0.038095    -5.825092\n",
      "100 Epochs ...  - loss: 5.5475 - decoder_loss: 3.9502 - decoder_for_kl_loss: 3.9932 - decoder_kl_loss: 3.9932 - decoder_recon_loss: 3.9502 - decoder_for_kl_kl_loss: 3.9932 - decoder_for_kl_recon_loss: 3.9502 - val_loss: 6.3235 - val_decoder_loss: 4.6516 - val_decoder_for_kl_loss: 4.1799 - val_decoder_kl_loss: 4.1799 - val_decoder_recon_loss: 4.6516 - val_decoder_for_kl_kl_loss: 4.1799 - val_decoder_for_kl_recon_loss: 4.6516 val_loss 6.323548741536598 ... lambda Loss 0.4000000059604645\n",
      "[583.4881   45.58431 583.3279  245.74326]\n",
      "0.30990434782608706\n",
      "              is_weekday   weekday     month  is_holiday_day  temperature\n",
      "score model     0.956580  0.383843  0.215465        0.085714    -3.235344\n",
      "random model    0.485262  0.126905  0.070241        0.057143    -6.259197\n",
      "200 Epochs ...  - loss: 4.9953 - decoder_loss: 3.5298 - decoder_for_kl_loss: 3.6638 - decoder_kl_loss: 3.6638 - decoder_recon_loss: 3.5298 - decoder_for_kl_kl_loss: 3.6638 - decoder_for_kl_recon_loss: 3.5298 - val_loss: 5.7796 - val_decoder_loss: 4.2742 - val_decoder_for_kl_loss: 3.7634 - val_decoder_kl_loss: 3.7634 - val_decoder_recon_loss: 4.2742 - val_decoder_for_kl_kl_loss: 3.7634 - val_decoder_for_kl_recon_loss: 4.2742 val_loss 5.779560141367455 ... lambda Loss 0.4000000059604645\n",
      "[596.3049    23.306513 584.1272   103.58424 ]\n",
      "0.29497971014492746\n",
      "              is_weekday   weekday     month  is_holiday_day  temperature\n",
      "score model     0.955075  0.383781  0.199302        0.085714    -2.978669\n",
      "random model    0.448415  0.147095  0.064760        0.019048    -5.994710\n",
      "300 Epochs ...  - loss: 4.7883 - decoder_loss: 3.3567 - decoder_for_kl_loss: 3.5791 - decoder_kl_loss: 3.5791 - decoder_recon_loss: 3.3567 - decoder_for_kl_kl_loss: 3.5791 - decoder_for_kl_recon_loss: 3.3567 - val_loss: 5.5858 - val_decoder_loss: 4.1444 - val_decoder_for_kl_loss: 3.6036 - val_decoder_kl_loss: 3.6036 - val_decoder_recon_loss: 4.1444 - val_decoder_for_kl_kl_loss: 3.6036 - val_decoder_for_kl_recon_loss: 4.1444 val_loss 5.585820171931019 ... lambda Loss 0.4000000059604645\n"
     ]
    },
    {
     "data": {
      "image/png": "[encoded data removed]",
      "text/plain": [
       "<Figure size 432x288 with 1 Axes>"
      ]
     },
     "metadata": {
      "needs_background": "light"
     },
     "output_type": "display_data"
    }
   ],
   "source": [
    "import warnings\n",
    "warnings.filterwarnings('ignore')\n",
    "\n",
    "lambda_decreaseRate=0.0\n",
    "lambda_min=0.01 #p\n",
    "\n",
    "#Turn it to True to train the model. Otherwise you can directly load on already trained model below\n",
    "runTraining=True\n",
    "runBatchCallback=True #In this callback we compute feature scores which is a bit long\n",
    "\n",
    "if runTraining:#Training a neural network requires some computing power and the CPUs in MyBinder environment can be a bit slow. If you don't use callbacks it can be faster also \n",
    "    \n",
    "    if runBatchCallback:\n",
    "        out_batch = NEpochLogger(x_train_data=dataset['train']['x'], display=100,x_conso=x_conso,calendar_info=calendar_info)\n",
    "        model.main_train(dataset, training_epochs=400, batch_size=32, verbose=0,callbacks=[tensorboard,out_batch],validation_split=0.1)\n",
    "    else:\n",
    "        #use verbose=1 to see logs of training at every epoch\n",
    "        model.main_train(dataset, training_epochs=400, batch_size=32, verbose=0,callbacks=[tensorboard],validation_split=0.1)\n"
   ]
  },
  {
   "cell_type": "code",
   "execution_count": 25,
   "metadata": {},
   "outputs": [
    {
     "name": "stdout",
     "output_type": "stream",
     "text": [
      "\n",
      "\n",
      "--- START TRAINING ---\n",
      "\n",
      "[599.32635   18.468748 587.71643   26.476109]\n",
      "0.28898333333333326\n",
      "              is_weekday   weekday     month  is_holiday_day  temperature\n",
      "score model     0.953282  0.364534  0.211463        0.095238    -2.804206\n",
      "random model    0.463374  0.139223  0.071611        0.057143    -6.817166\n",
      "0 Epochs ...  - loss: 4.7556 - decoder_loss: 3.3327 - decoder_for_kl_loss: 3.5572 - decoder_kl_loss: 3.5572 - decoder_recon_loss: 3.3327 - decoder_for_kl_kl_loss: 3.5572 - decoder_for_kl_recon_loss: 3.3327 - val_loss: 5.4152 - val_decoder_loss: 3.9614 - val_decoder_for_kl_loss: 3.6344 - val_decoder_kl_loss: 3.6344 - val_decoder_recon_loss: 3.9614 - val_decoder_for_kl_kl_loss: 3.6344 - val_decoder_for_kl_recon_loss: 3.9614 val_loss 5.415201487606519 ... lambda Loss 0.4000000059604645\n",
      "[579.9489    16.95917  592.0965    11.250738]\n",
      "0.28341666666666665\n",
      "              is_weekday   weekday     month  is_holiday_day  temperature\n",
      "score model     0.949856  0.359530  0.215728        0.095238    -2.525091\n",
      "random model    0.513759  0.166271  0.095558        0.038095    -6.117248\n",
      "100 Epochs ...  - loss: 4.5424 - decoder_loss: 3.2289 - decoder_for_kl_loss: 3.6293 - decoder_kl_loss: 3.6293 - decoder_recon_loss: 3.2289 - decoder_for_kl_kl_loss: 3.6293 - decoder_for_kl_recon_loss: 3.2289 - val_loss: 5.2488 - val_decoder_loss: 3.8903 - val_decoder_for_kl_loss: 3.7536 - val_decoder_kl_loss: 3.7536 - val_decoder_recon_loss: 3.8903 - val_decoder_for_kl_kl_loss: 3.7536 - val_decoder_for_kl_recon_loss: 3.8903 val_loss 5.248820435510923 ... lambda Loss 0.3619168996810913\n",
      "[583.87256   16.649685 588.2709     9.786443]\n",
      "0.28881666666666667\n",
      "              is_weekday   weekday     month  is_holiday_day  temperature\n",
      "score model     0.946526  0.355297  0.211431         0.07619    -2.591371\n",
      "random model    0.480231  0.138463  0.089977         0.00000    -6.385076\n",
      "200 Epochs ...  - loss: 4.3986 - decoder_loss: 3.1524 - decoder_for_kl_loss: 3.8058 - decoder_kl_loss: 3.8058 - decoder_recon_loss: 3.1524 - decoder_for_kl_kl_loss: 3.8058 - decoder_for_kl_recon_loss: 3.1524 - val_loss: 5.2530 - val_decoder_loss: 3.9674 - val_decoder_for_kl_loss: 3.9261 - val_decoder_kl_loss: 3.9261 - val_decoder_recon_loss: 3.9674 - val_decoder_for_kl_kl_loss: 3.9261 - val_decoder_for_kl_recon_loss: 3.9674 val_loss 5.25301973133871 ... lambda Loss 0.32745951414108276\n",
      "[573.4294    17.409744 590.70514   10.983965]\n",
      "0.28819637681159416\n",
      "              is_weekday   weekday     month  is_holiday_day  temperature\n",
      "score model     0.953102  0.360656  0.225292        0.066667    -2.562060\n",
      "random model    0.425449  0.121820  0.063869        0.019048    -6.068498\n",
      "300 Epochs ...  - loss: 4.2173 - decoder_loss: 3.0598 - decoder_for_kl_loss: 3.9068 - decoder_kl_loss: 3.9068 - decoder_recon_loss: 3.0598 - decoder_for_kl_kl_loss: 3.9068 - decoder_for_kl_recon_loss: 3.0598 - val_loss: 4.9854 - val_decoder_loss: 3.7807 - val_decoder_for_kl_loss: 4.0659 - val_decoder_kl_loss: 4.0659 - val_decoder_recon_loss: 3.7807 - val_decoder_for_kl_kl_loss: 4.0659 - val_decoder_for_kl_recon_loss: 3.7807 val_loss 4.9853534829126644 ... lambda Loss 0.29628267884254456\n",
      "[586.70184   15.936537 584.87274    7.844016]\n",
      "0.2955971014492754\n",
      "              is_weekday   weekday     month  is_holiday_day  temperature\n",
      "score model     0.946272  0.351255  0.224030        0.066667    -2.569363\n",
      "random model    0.476150  0.121481  0.074595        0.028571    -6.283465\n",
      "400 Epochs ...  - loss: 4.1019 - decoder_loss: 3.0257 - decoder_for_kl_loss: 4.0146 - decoder_kl_loss: 4.0146 - decoder_recon_loss: 3.0257 - decoder_for_kl_kl_loss: 4.0146 - decoder_for_kl_recon_loss: 3.0257 - val_loss: 4.8699 - val_decoder_loss: 3.7494 - val_decoder_for_kl_loss: 4.1799 - val_decoder_kl_loss: 4.1799 - val_decoder_recon_loss: 3.7494 - val_decoder_for_kl_kl_loss: 4.1799 - val_decoder_for_kl_recon_loss: 3.7494 val_loss 4.869937955516658 ... lambda Loss 0.26807427406311035\n",
      "[575.2743     15.5521345 590.09937     8.796376 ]\n",
      "0.2959833333333334\n",
      "              is_weekday   weekday     month  is_holiday_day  temperature\n",
      "score model     0.940943  0.350295  0.218396        0.076190    -2.564756\n",
      "random model    0.459065  0.171977  0.077246        0.038095    -6.651008\n",
      "500 Epochs ...  - loss: 4.0008 - decoder_loss: 2.9806 - decoder_for_kl_loss: 4.2058 - decoder_kl_loss: 4.2058 - decoder_recon_loss: 2.9806 - decoder_for_kl_kl_loss: 4.2058 - decoder_for_kl_recon_loss: 2.9806 - val_loss: 4.6899 - val_decoder_loss: 3.6290 - val_decoder_for_kl_loss: 4.3739 - val_decoder_kl_loss: 4.3739 - val_decoder_recon_loss: 3.6290 - val_decoder_for_kl_kl_loss: 4.3739 - val_decoder_for_kl_recon_loss: 3.6290 val_loss 4.689891612693055 ... lambda Loss 0.2425515204668045\n",
      "[587.4212    14.538723 594.25635    9.390255]\n",
      "0.28913333333333335\n",
      "              is_weekday   weekday     month  is_holiday_day  temperature\n",
      "score model     0.947778  0.357498  0.214302        0.076190    -2.569150\n",
      "random model    0.479707  0.161733  0.095604        0.019048    -6.542953\n",
      "600 Epochs ...  - loss: 3.8527 - decoder_loss: 2.9031 - decoder_for_kl_loss: 4.3271 - decoder_kl_loss: 4.3271 - decoder_recon_loss: 2.9031 - decoder_for_kl_kl_loss: 4.3271 - decoder_for_kl_recon_loss: 2.9031 - val_loss: 4.5037 - val_decoder_loss: 3.5179 - val_decoder_for_kl_loss: 4.4920 - val_decoder_kl_loss: 4.4920 - val_decoder_recon_loss: 3.5179 - val_decoder_for_kl_kl_loss: 4.4920 - val_decoder_for_kl_recon_loss: 3.5179 val_loss 4.50373513731238 ... lambda Loss 0.21945874392986298\n",
      "[585.75073    14.564761  596.84344     6.4714413]\n",
      "0.2955166666666667\n",
      "              is_weekday   weekday     month  is_holiday_day  temperature\n",
      "score model     0.951031  0.379126  0.208972        0.085714    -2.603021\n",
      "random model    0.517684  0.152626  0.094091        0.047619    -6.482849\n",
      "700 Epochs ...  - loss: 3.7681 - decoder_loss: 2.8940 - decoder_for_kl_loss: 4.4018 - decoder_kl_loss: 4.4018 - decoder_recon_loss: 2.8940 - decoder_for_kl_kl_loss: 4.4018 - decoder_for_kl_recon_loss: 2.8940 - val_loss: 4.6132 - val_decoder_loss: 3.7123 - val_decoder_for_kl_loss: 4.5373 - val_decoder_kl_loss: 4.5373 - val_decoder_recon_loss: 3.7123 - val_decoder_for_kl_kl_loss: 4.5373 - val_decoder_for_kl_recon_loss: 3.7123 val_loss 4.61324212975698 ... lambda Loss 0.1985645890235901\n",
      "[580.9489    14.827777 603.549      6.329936]\n",
      "0.2926550724637681\n",
      "              is_weekday   weekday     month  is_holiday_day  temperature\n",
      "score model     0.954487  0.368528  0.214374        0.095238    -2.568391\n",
      "random model    0.451010  0.126488  0.103026        0.000000    -6.091174\n",
      "800 Epochs ...  - loss: 3.6666 - decoder_loss: 2.8529 - decoder_for_kl_loss: 4.5294 - decoder_kl_loss: 4.5294 - decoder_recon_loss: 2.8529 - decoder_for_kl_kl_loss: 4.5294 - decoder_for_kl_recon_loss: 2.8529 - val_loss: 4.4739 - val_decoder_loss: 3.6279 - val_decoder_for_kl_loss: 4.7092 - val_decoder_kl_loss: 4.7092 - val_decoder_recon_loss: 3.6279 - val_decoder_for_kl_kl_loss: 4.7092 - val_decoder_for_kl_recon_loss: 3.6279 val_loss 4.473911612001184 ... lambda Loss 0.17965970933437347\n",
      "[586.68304   14.094887 590.17615    6.310456]\n",
      "0.29577608695652186\n",
      "              is_weekday   weekday     month  is_holiday_day  temperature\n",
      "score model     0.952160  0.365713  0.206154        0.095238    -2.592827\n",
      "random model    0.447875  0.157162  0.076191        0.000000    -6.620670\n",
      "900 Epochs ...  - loss: 3.5793 - decoder_loss: 2.8223 - decoder_for_kl_loss: 4.6570 - decoder_kl_loss: 4.6570 - decoder_recon_loss: 2.8223 - decoder_for_kl_kl_loss: 4.6570 - decoder_for_kl_recon_loss: 2.8223 - val_loss: 4.3751 - val_decoder_loss: 3.5962 - val_decoder_for_kl_loss: 4.7920 - val_decoder_kl_loss: 4.7920 - val_decoder_recon_loss: 3.5962 - val_decoder_for_kl_kl_loss: 4.7920 - val_decoder_for_kl_recon_loss: 3.5962 val_loss 4.37514455351111 ... lambda Loss 0.1625545471906662\n",
      "[581.71356  13.30283 593.15906   6.1816 ]\n",
      "0.29126666666666673\n",
      "              is_weekday   weekday     month  is_holiday_day  temperature\n",
      "score model     0.954076  0.372434  0.203303        0.085714    -2.549388\n",
      "random model    0.482135  0.132685  0.089091        0.038095    -6.255386\n",
      "1000 Epochs ...  - loss: 3.5132 - decoder_loss: 2.8104 - decoder_for_kl_loss: 4.7786 - decoder_kl_loss: 4.7786 - decoder_recon_loss: 2.8104 - decoder_for_kl_kl_loss: 4.7786 - decoder_for_kl_recon_loss: 2.8104 - val_loss: 4.2174 - val_decoder_loss: 3.4949 - val_decoder_for_kl_loss: 4.9125 - val_decoder_kl_loss: 4.9125 - val_decoder_recon_loss: 3.4949 - val_decoder_for_kl_kl_loss: 4.9125 - val_decoder_for_kl_recon_loss: 3.4949 val_loss 4.217419699446796 ... lambda Loss 0.14707809686660767\n"
     ]
    },
    {
     "name": "stdout",
     "output_type": "stream",
     "text": [
      "[581.3517     12.673867  595.08594     7.2500215]\n",
      "0.29281666666666667\n",
      "              is_weekday   weekday     month  is_holiday_day  temperature\n",
      "score model     0.954443  0.383152  0.216906        0.095238    -2.535221\n",
      "random model    0.476931  0.136859  0.075691        0.000000    -6.045938\n",
      "1100 Epochs ...  - loss: 3.4187 - decoder_loss: 2.7630 - decoder_for_kl_loss: 4.9278 - decoder_kl_loss: 4.9278 - decoder_recon_loss: 2.7630 - decoder_for_kl_kl_loss: 4.9278 - decoder_for_kl_recon_loss: 2.7630 - val_loss: 4.2522 - val_decoder_loss: 3.5763 - val_decoder_for_kl_loss: 5.0793 - val_decoder_kl_loss: 5.0793 - val_decoder_recon_loss: 3.5763 - val_decoder_for_kl_kl_loss: 5.0793 - val_decoder_for_kl_recon_loss: 3.5763 val_loss 4.252208020589123 ... lambda Loss 0.13307516276836395\n",
      "[584.3777     13.161988  587.55566     6.0662913]\n",
      "0.29209999999999997\n",
      "              is_weekday   weekday     month  is_holiday_day  temperature\n",
      "score model     0.957604  0.370692  0.214255        0.095238    -2.507759\n",
      "random model    0.506692  0.135466  0.092721        0.038095    -5.878622\n",
      "1200 Epochs ...  - loss: 3.3722 - decoder_loss: 2.7608 - decoder_for_kl_loss: 5.0777 - decoder_kl_loss: 5.0777 - decoder_recon_loss: 2.7608 - decoder_for_kl_kl_loss: 5.0777 - decoder_for_kl_recon_loss: 2.7608 - val_loss: 4.1545 - val_decoder_loss: 3.5273 - val_decoder_for_kl_loss: 5.2087 - val_decoder_kl_loss: 5.2087 - val_decoder_recon_loss: 3.5273 - val_decoder_for_kl_kl_loss: 5.2087 - val_decoder_for_kl_recon_loss: 3.5273 val_loss 4.154498929846777 ... lambda Loss 0.12040537595748901\n",
      "[573.87305   15.009685 587.53876    6.511322]\n",
      "0.2947775362318841\n",
      "              is_weekday   weekday     month  is_holiday_day  temperature\n",
      "score model     0.957344  0.375896  0.218427        0.085714    -2.527035\n",
      "random model    0.495921  0.154938  0.095347        0.038095    -6.195200\n",
      "1300 Epochs ...  - loss: 3.2862 - decoder_loss: 2.7237 - decoder_for_kl_loss: 5.1634 - decoder_kl_loss: 5.1634 - decoder_recon_loss: 2.7237 - decoder_for_kl_kl_loss: 5.1634 - decoder_for_kl_recon_loss: 2.7237 - val_loss: 4.1025 - val_decoder_loss: 3.5265 - val_decoder_for_kl_loss: 5.2878 - val_decoder_kl_loss: 5.2878 - val_decoder_recon_loss: 3.5265 - val_decoder_for_kl_kl_loss: 5.2878 - val_decoder_for_kl_recon_loss: 3.5265 val_loss 4.1025360741027415 ... lambda Loss 0.10894181579351425\n",
      "[576.4678    18.010075 592.54846   23.805101]\n",
      "0.2920463768115942\n",
      "              is_weekday   weekday    month  is_holiday_day  temperature\n",
      "score model     0.957604  0.381142  0.22119        0.104762    -2.533453\n",
      "random model    0.490335  0.139070  0.08425        0.019048    -6.156178\n",
      "1400 Epochs ...  - loss: 3.2377 - decoder_loss: 2.7207 - decoder_for_kl_loss: 5.2445 - decoder_kl_loss: 5.2445 - decoder_recon_loss: 2.7207 - decoder_for_kl_kl_loss: 5.2445 - decoder_for_kl_recon_loss: 2.7207 - val_loss: 4.0827 - val_decoder_loss: 3.5519 - val_decoder_for_kl_loss: 5.3844 - val_decoder_kl_loss: 5.3844 - val_decoder_recon_loss: 3.5519 - val_decoder_for_kl_kl_loss: 5.3844 - val_decoder_for_kl_recon_loss: 3.5519 val_loss 4.082667873330312 ... lambda Loss 0.09856972098350525\n",
      "[583.61285   15.230249 584.69       8.064079]\n",
      "0.2849840579710146\n",
      "              is_weekday   weekday     month  is_holiday_day  temperature\n",
      "score model     0.955322  0.385202  0.207416        0.076190    -2.481348\n",
      "random model    0.456765  0.135881  0.087385        0.038095    -6.234033\n",
      "1500 Epochs ...  - loss: 3.1813 - decoder_loss: 2.6953 - decoder_for_kl_loss: 5.4487 - decoder_kl_loss: 5.4487 - decoder_recon_loss: 2.6953 - decoder_for_kl_kl_loss: 5.4487 - decoder_for_kl_recon_loss: 2.6953 - val_loss: 3.9967 - val_decoder_loss: 3.4995 - val_decoder_for_kl_loss: 5.5756 - val_decoder_kl_loss: 5.5756 - val_decoder_recon_loss: 3.4995 - val_decoder_for_kl_kl_loss: 5.5756 - val_decoder_for_kl_recon_loss: 3.4995 val_loss 3.996724755796668 ... lambda Loss 0.08918511122465134\n",
      "[579.5408    12.883496 592.5623     9.084432]\n",
      "0.2927666666666667\n",
      "              is_weekday   weekday     month  is_holiday_day  temperature\n",
      "score model     0.952468  0.381292  0.219497        0.076190    -2.442907\n",
      "random model    0.488693  0.134679  0.069034        0.019048    -6.027634\n",
      "1600 Epochs ...  - loss: 3.1382 - decoder_loss: 2.6869 - decoder_for_kl_loss: 5.5921 - decoder_kl_loss: 5.5921 - decoder_recon_loss: 2.6869 - decoder_for_kl_kl_loss: 5.5921 - decoder_for_kl_recon_loss: 2.6869 - val_loss: 3.9141 - val_decoder_loss: 3.4500 - val_decoder_for_kl_loss: 5.7514 - val_decoder_kl_loss: 5.7514 - val_decoder_recon_loss: 3.4500 - val_decoder_for_kl_kl_loss: 5.7514 - val_decoder_for_kl_recon_loss: 3.4500 val_loss 3.914077771853094 ... lambda Loss 0.08069399744272232\n",
      "[578.2422     14.63841   588.01666     7.6310735]\n",
      "0.28852971014492745\n",
      "              is_weekday   weekday     month  is_holiday_day  temperature\n",
      "score model     0.952309  0.391196  0.209602        0.066667     -2.44449\n",
      "random model    0.519649  0.158704  0.077371        0.000000     -6.42377\n",
      "1700 Epochs ...  - loss: 3.0716 - decoder_loss: 2.6566 - decoder_for_kl_loss: 5.6833 - decoder_kl_loss: 5.6833 - decoder_recon_loss: 2.6566 - decoder_for_kl_kl_loss: 5.6833 - decoder_for_kl_recon_loss: 2.6566 - val_loss: 3.8999 - val_decoder_loss: 3.4766 - val_decoder_for_kl_loss: 5.7976 - val_decoder_kl_loss: 5.7976 - val_decoder_recon_loss: 3.4766 - val_decoder_for_kl_kl_loss: 5.7976 - val_decoder_for_kl_recon_loss: 3.4766 val_loss 3.8999276749075276 ... lambda Loss 0.07301128655672073\n",
      "[582.53766    12.915602  594.3817      6.5666013]\n",
      "0.29181666666666656\n",
      "              is_weekday   weekday     month  is_holiday_day  temperature\n",
      "score model     0.955907  0.391627  0.230852        0.076190    -2.446492\n",
      "random model    0.511540  0.139259  0.093797        0.028571    -5.977906\n",
      "1800 Epochs ...  - loss: 3.0242 - decoder_loss: 2.6420 - decoder_for_kl_loss: 5.7859 - decoder_kl_loss: 5.7859 - decoder_recon_loss: 2.6420 - decoder_for_kl_kl_loss: 5.7859 - decoder_for_kl_recon_loss: 2.6420 - val_loss: 3.8537 - val_decoder_loss: 3.4635 - val_decoder_for_kl_loss: 5.9074 - val_decoder_kl_loss: 5.9074 - val_decoder_recon_loss: 3.4635 - val_decoder_for_kl_kl_loss: 5.9074 - val_decoder_for_kl_recon_loss: 3.4635 val_loss 3.853719841944028 ... lambda Loss 0.06606000661849976\n",
      "[575.8245    12.428289 591.96173    6.700068]\n",
      "0.29522753623188397\n",
      "              is_weekday   weekday     month  is_holiday_day  temperature\n",
      "score model     0.955907  0.391437  0.226633        0.066667    -2.496020\n",
      "random model    0.452393  0.134606  0.095208        0.009524    -6.039481\n",
      "1900 Epochs ...  - loss: 2.9926 - decoder_loss: 2.6377 - decoder_for_kl_loss: 5.9380 - decoder_kl_loss: 5.9380 - decoder_recon_loss: 2.6377 - decoder_for_kl_kl_loss: 5.9380 - decoder_for_kl_recon_loss: 2.6377 - val_loss: 3.8568 - val_decoder_loss: 3.4949 - val_decoder_for_kl_loss: 6.0539 - val_decoder_kl_loss: 6.0539 - val_decoder_recon_loss: 3.4949 - val_decoder_for_kl_kl_loss: 6.0539 - val_decoder_for_kl_recon_loss: 3.4949 val_loss 3.8567911696760624 ... lambda Loss 0.05977057293057442\n"
     ]
    },
    {
     "data": {
      "image/png": "[encoded data removed]",
      "text/plain": [
       "<Figure size 432x288 with 1 Axes>"
      ]
     },
     "metadata": {
      "needs_background": "light"
     },
     "output_type": "display_data"
    }
   ],
   "source": [
    "lambda_decreaseRate=0.001 #parameter by default\n",
    "\n",
    "if runTraining:\n",
    "    weightLoss=callbackWeightLoss(lambda_val,lambda_decreaseRate,lambda_min)\n",
    "    if runBatchCallback:\n",
    "        model.main_train(dataset, training_epochs=2000, batch_size=32, verbose=0,callbacks=[tensorboard,out_batch,weightLoss],validation_split=0.1)\n",
    "    else:\n",
    "        model.main_train(dataset, training_epochs=2000, batch_size=32, verbose=0,callbacks=[tensorboard,weightLoss],validation_split=0.1)\n"
   ]
  },
  {
   "cell_type": "markdown",
   "metadata": {},
   "source": [
    "DimsImportance=[1616  1403    21 1375 ] Only 3 dimensions are significant here (each term is the sum of absolute values in each direction for the all the datapoints.\n",
    "There is no significant overfitting when comparing training error to validation error. This will be confimed later on specific examples."
   ]
  },
  {
   "cell_type": "code",
   "execution_count": 26,
   "metadata": {},
   "outputs": [],
   "source": [
    "with open(os.path.join(path_out,name_model,\"config.txt\"),'w') as file: \n",
    "    file.write(str(cond_pre_dim) + '\\n')\n",
    "    #file.write(str(emb_dims) + '\\n')\n",
    "    file.write(str(e_dims) + '\\n') \n",
    "    file.write(str(d_dims) + '\\n') \n",
    "    file.write(str(z_dim) + '\\n')\n",
    "    file.write(str(Lambda) + '\\n')"
   ]
  },
  {
   "cell_type": "code",
   "execution_count": 27,
   "metadata": {},
   "outputs": [],
   "source": [
    "#sauvegarde du dataset associé\n",
    "name_dataset = 'dataset.pickle'\n",
    "\n",
    "with open( os.path.join(path_out,name_model, name_dataset), \"wb\" ) as file:\n",
    "    pickle.dump( dataset, file )"
   ]
  },
  {
   "cell_type": "markdown",
   "metadata": {},
   "source": [
    "## Loading model "
   ]
  },
  {
   "cell_type": "code",
   "execution_count": 28,
   "metadata": {},
   "outputs": [],
   "source": [
    "model.load_model(os.path.join(path_out, name_model, 'models'))"
   ]
  },
  {
   "cell_type": "code",
   "execution_count": 29,
   "metadata": {},
   "outputs": [],
   "source": [
    "\n",
    "\n",
    "#cond  = dataset['train']['x'][1]\n",
    "x_input = dataset['train']['x'][0]\n",
    "\n",
    "input_encoder = [x_input, cond_pre]"
   ]
  },
  {
   "cell_type": "code",
   "execution_count": 30,
   "metadata": {},
   "outputs": [],
   "source": [
    "x_encoded = model.encoder.predict(input_encoder)[0]\n",
    "x_hat = model.cvae.predict(x=dataset['train']['x'])[0]"
   ]
  },
  {
   "cell_type": "markdown",
   "metadata": {},
   "source": [
    "# Analysis of the latent space with the construction of a tensorboard projector"
   ]
  },
  {
   "cell_type": "code",
   "execution_count": 31,
   "metadata": {},
   "outputs": [
    {
     "data": {
      "text/plain": [
       "<Figure size 432x288 with 0 Axes>"
      ]
     },
     "metadata": {},
     "output_type": "display_data"
    }
   ],
   "source": [
    "includeConsumptionProfileImages=True #can take a bit longer to create and load in tensorboard projector, but it looks better in the projector\n",
    "if includeConsumptionProfileImages:\n",
    "    nPoints=min(1500,nPoints) #if you want to visualize images of consumption profiles and its recontruction in tensorboard, there is a maximum size that can be handle for a sprite image. 1830 is  \n",
    "    x_encoded_reduced=x_encoded[0:nPoints,]\n",
    "    images=createLoadProfileImages(x,x_hat,nPoints)\n",
    "else:\n",
    "    nPoints=nPoints"
   ]
  },
  {
   "cell_type": "code",
   "execution_count": 32,
   "metadata": {},
   "outputs": [],
   "source": [
    "if includeConsumptionProfileImages:\n",
    "    sprites=images_to_sprite(images)\n",
    "    cv2.imwrite(os.path.join(log_dir_projector, 'sprite_4_classes.png'), sprites)"
   ]
  },
  {
   "cell_type": "code",
   "execution_count": 33,
   "metadata": {},
   "outputs": [],
   "source": [
    "\n",
    "writeMetaData(log_dir_projector,x_conso,calendar_info,nPoints,has_Odd=False)\n",
    "if includeConsumptionProfileImages:\n",
    "    buildProjector(x_encoded_reduced,images=images, log_dir=log_dir_projector)\n",
    "else:\n",
    "    buildProjector(x_encoded,images=None, log_dir=log_dir_projector)"
   ]
  },
  {
   "cell_type": "code",
   "execution_count": 34,
   "metadata": {},
   "outputs": [
    {
     "data": {
      "text/plain": [
       "'/home/goubetcle/Documents/CVAE/marota_cvae/notebooks/logs/Expe-bike/VAE/projector'"
      ]
     },
     "execution_count": 34,
     "metadata": {},
     "output_type": "execute_result"
    }
   ],
   "source": [
    "log_dir_projector"
   ]
  },
  {
   "cell_type": "markdown",
   "metadata": {},
   "source": [
    "# Predict Features in latent space"
   ]
  },
  {
   "cell_type": "code",
   "execution_count": 35,
   "metadata": {},
   "outputs": [
    {
     "name": "stdout",
     "output_type": "stream",
     "text": [
      "0.29522753623188397\n",
      "              is_weekday   weekday     month  is_holiday_day  temperature\n",
      "score model     0.948635  0.376139  0.231923        0.076190    -2.506245\n",
      "random model    0.468553  0.116038  0.082423        0.038095    -6.365145\n"
     ]
    }
   ],
   "source": [
    "df_noCond_VAE=predictFeaturesInLatentSPace(x_conso,calendar_info,x_encoded)"
   ]
  },
  {
   "cell_type": "markdown",
   "metadata": {},
   "source": [
    "# reconstruction error analysis"
   ]
  },
  {
   "cell_type": "code",
   "execution_count": 36,
   "metadata": {},
   "outputs": [],
   "source": [
    "error=np.sum(np.abs((x - x_hat)),axis=1)/24"
   ]
  },
  {
   "cell_type": "code",
   "execution_count": 37,
   "metadata": {},
   "outputs": [
    {
     "data": {
      "text/plain": [
       "<matplotlib.axes._subplots.AxesSubplot at 0x7f118a6a4eb8>"
      ]
     },
     "execution_count": 37,
     "metadata": {},
     "output_type": "execute_result"
    },
    {
     "data": {
      "image/png": "[encoded data removed]",
      "text/plain": [
       "<Figure size 432x288 with 1 Axes>"
      ]
     },
     "metadata": {
      "needs_background": "light"
     },
     "output_type": "display_data"
    }
   ],
   "source": [
    "#make a histogram over residuals\n",
    "import seaborn as sn\n",
    "sn.distplot(error, kde=False, fit=stats.beta, bins=100)"
   ]
  },
  {
   "cell_type": "markdown",
   "metadata": {},
   "source": [
    "Check the day with errors above a threshold"
   ]
  },
  {
   "cell_type": "code",
   "execution_count": 38,
   "metadata": {},
   "outputs": [
    {
     "data": {
      "text/html": [
       "<div>\n",
       "<style scoped>\n",
       "    .dataframe tbody tr th:only-of-type {\n",
       "        vertical-align: middle;\n",
       "    }\n",
       "\n",
       "    .dataframe tbody tr th {\n",
       "        vertical-align: top;\n",
       "    }\n",
       "\n",
       "    .dataframe thead th {\n",
       "        text-align: right;\n",
       "    }\n",
       "</style>\n",
       "<table border=\"1\" class=\"dataframe\">\n",
       "  <thead>\n",
       "    <tr style=\"text-align: right;\">\n",
       "      <th></th>\n",
       "      <th>ds</th>\n",
       "      <th>month</th>\n",
       "      <th>weekday</th>\n",
       "      <th>is_weekday</th>\n",
       "      <th>is_holiday_day</th>\n",
       "      <th>clear</th>\n",
       "      <th>mist</th>\n",
       "      <th>significant</th>\n",
       "      <th>extreme</th>\n",
       "      <th>error</th>\n",
       "    </tr>\n",
       "  </thead>\n",
       "  <tbody>\n",
       "    <tr>\n",
       "      <th>108</th>\n",
       "      <td>2011-04-23</td>\n",
       "      <td>4</td>\n",
       "      <td>5</td>\n",
       "      <td>0</td>\n",
       "      <td>0.0</td>\n",
       "      <td>0</td>\n",
       "      <td>0</td>\n",
       "      <td>1</td>\n",
       "      <td>0</td>\n",
       "      <td>0.263509</td>\n",
       "    </tr>\n",
       "    <tr>\n",
       "      <th>230</th>\n",
       "      <td>2011-08-23</td>\n",
       "      <td>8</td>\n",
       "      <td>1</td>\n",
       "      <td>1</td>\n",
       "      <td>0.0</td>\n",
       "      <td>0</td>\n",
       "      <td>1</td>\n",
       "      <td>0</td>\n",
       "      <td>0</td>\n",
       "      <td>0.302900</td>\n",
       "    </tr>\n",
       "    <tr>\n",
       "      <th>375</th>\n",
       "      <td>2012-01-17</td>\n",
       "      <td>1</td>\n",
       "      <td>1</td>\n",
       "      <td>1</td>\n",
       "      <td>0.0</td>\n",
       "      <td>0</td>\n",
       "      <td>0</td>\n",
       "      <td>1</td>\n",
       "      <td>0</td>\n",
       "      <td>0.274463</td>\n",
       "    </tr>\n",
       "    <tr>\n",
       "      <th>420</th>\n",
       "      <td>2012-03-02</td>\n",
       "      <td>3</td>\n",
       "      <td>4</td>\n",
       "      <td>1</td>\n",
       "      <td>0.0</td>\n",
       "      <td>0</td>\n",
       "      <td>0</td>\n",
       "      <td>1</td>\n",
       "      <td>0</td>\n",
       "      <td>0.302358</td>\n",
       "    </tr>\n",
       "    <tr>\n",
       "      <th>434</th>\n",
       "      <td>2012-03-16</td>\n",
       "      <td>3</td>\n",
       "      <td>4</td>\n",
       "      <td>1</td>\n",
       "      <td>0.0</td>\n",
       "      <td>0</td>\n",
       "      <td>0</td>\n",
       "      <td>1</td>\n",
       "      <td>0</td>\n",
       "      <td>0.254354</td>\n",
       "    </tr>\n",
       "    <tr>\n",
       "      <th>442</th>\n",
       "      <td>2012-03-24</td>\n",
       "      <td>3</td>\n",
       "      <td>5</td>\n",
       "      <td>0</td>\n",
       "      <td>0.0</td>\n",
       "      <td>0</td>\n",
       "      <td>0</td>\n",
       "      <td>1</td>\n",
       "      <td>0</td>\n",
       "      <td>0.274069</td>\n",
       "    </tr>\n",
       "    <tr>\n",
       "      <th>488</th>\n",
       "      <td>2012-05-09</td>\n",
       "      <td>5</td>\n",
       "      <td>2</td>\n",
       "      <td>1</td>\n",
       "      <td>0.0</td>\n",
       "      <td>0</td>\n",
       "      <td>0</td>\n",
       "      <td>1</td>\n",
       "      <td>0</td>\n",
       "      <td>0.319008</td>\n",
       "    </tr>\n",
       "    <tr>\n",
       "      <th>494</th>\n",
       "      <td>2012-05-15</td>\n",
       "      <td>5</td>\n",
       "      <td>1</td>\n",
       "      <td>1</td>\n",
       "      <td>0.0</td>\n",
       "      <td>0</td>\n",
       "      <td>0</td>\n",
       "      <td>1</td>\n",
       "      <td>0</td>\n",
       "      <td>0.263282</td>\n",
       "    </tr>\n",
       "    <tr>\n",
       "      <th>502</th>\n",
       "      <td>2012-05-23</td>\n",
       "      <td>5</td>\n",
       "      <td>2</td>\n",
       "      <td>1</td>\n",
       "      <td>0.0</td>\n",
       "      <td>0</td>\n",
       "      <td>0</td>\n",
       "      <td>1</td>\n",
       "      <td>0</td>\n",
       "      <td>0.285173</td>\n",
       "    </tr>\n",
       "    <tr>\n",
       "      <th>511</th>\n",
       "      <td>2012-06-01</td>\n",
       "      <td>6</td>\n",
       "      <td>4</td>\n",
       "      <td>1</td>\n",
       "      <td>0.0</td>\n",
       "      <td>0</td>\n",
       "      <td>0</td>\n",
       "      <td>1</td>\n",
       "      <td>0</td>\n",
       "      <td>0.439190</td>\n",
       "    </tr>\n",
       "    <tr>\n",
       "      <th>544</th>\n",
       "      <td>2012-07-04</td>\n",
       "      <td>7</td>\n",
       "      <td>2</td>\n",
       "      <td>1</td>\n",
       "      <td>1.0</td>\n",
       "      <td>0</td>\n",
       "      <td>1</td>\n",
       "      <td>0</td>\n",
       "      <td>0</td>\n",
       "      <td>0.304235</td>\n",
       "    </tr>\n",
       "    <tr>\n",
       "      <th>581</th>\n",
       "      <td>2012-08-10</td>\n",
       "      <td>8</td>\n",
       "      <td>4</td>\n",
       "      <td>1</td>\n",
       "      <td>0.0</td>\n",
       "      <td>0</td>\n",
       "      <td>0</td>\n",
       "      <td>1</td>\n",
       "      <td>0</td>\n",
       "      <td>0.323389</td>\n",
       "    </tr>\n",
       "    <tr>\n",
       "      <th>590</th>\n",
       "      <td>2012-08-19</td>\n",
       "      <td>8</td>\n",
       "      <td>6</td>\n",
       "      <td>0</td>\n",
       "      <td>0.0</td>\n",
       "      <td>0</td>\n",
       "      <td>0</td>\n",
       "      <td>1</td>\n",
       "      <td>0</td>\n",
       "      <td>0.315444</td>\n",
       "    </tr>\n",
       "    <tr>\n",
       "      <th>597</th>\n",
       "      <td>2012-08-26</td>\n",
       "      <td>8</td>\n",
       "      <td>6</td>\n",
       "      <td>0</td>\n",
       "      <td>0.0</td>\n",
       "      <td>0</td>\n",
       "      <td>0</td>\n",
       "      <td>1</td>\n",
       "      <td>0</td>\n",
       "      <td>0.332823</td>\n",
       "    </tr>\n",
       "    <tr>\n",
       "      <th>610</th>\n",
       "      <td>2012-09-08</td>\n",
       "      <td>9</td>\n",
       "      <td>5</td>\n",
       "      <td>0</td>\n",
       "      <td>0.0</td>\n",
       "      <td>0</td>\n",
       "      <td>0</td>\n",
       "      <td>1</td>\n",
       "      <td>0</td>\n",
       "      <td>0.474521</td>\n",
       "    </tr>\n",
       "    <tr>\n",
       "      <th>634</th>\n",
       "      <td>2012-10-02</td>\n",
       "      <td>10</td>\n",
       "      <td>1</td>\n",
       "      <td>1</td>\n",
       "      <td>0.0</td>\n",
       "      <td>0</td>\n",
       "      <td>0</td>\n",
       "      <td>1</td>\n",
       "      <td>0</td>\n",
       "      <td>0.329130</td>\n",
       "    </tr>\n",
       "    <tr>\n",
       "      <th>647</th>\n",
       "      <td>2012-10-15</td>\n",
       "      <td>10</td>\n",
       "      <td>0</td>\n",
       "      <td>1</td>\n",
       "      <td>0.0</td>\n",
       "      <td>0</td>\n",
       "      <td>0</td>\n",
       "      <td>1</td>\n",
       "      <td>0</td>\n",
       "      <td>0.263438</td>\n",
       "    </tr>\n",
       "    <tr>\n",
       "      <th>651</th>\n",
       "      <td>2012-10-19</td>\n",
       "      <td>10</td>\n",
       "      <td>4</td>\n",
       "      <td>1</td>\n",
       "      <td>0.0</td>\n",
       "      <td>0</td>\n",
       "      <td>0</td>\n",
       "      <td>1</td>\n",
       "      <td>0</td>\n",
       "      <td>0.298399</td>\n",
       "    </tr>\n",
       "    <tr>\n",
       "      <th>660</th>\n",
       "      <td>2012-10-28</td>\n",
       "      <td>10</td>\n",
       "      <td>6</td>\n",
       "      <td>0</td>\n",
       "      <td>0.0</td>\n",
       "      <td>0</td>\n",
       "      <td>0</td>\n",
       "      <td>1</td>\n",
       "      <td>0</td>\n",
       "      <td>0.408036</td>\n",
       "    </tr>\n",
       "    <tr>\n",
       "      <th>668</th>\n",
       "      <td>2012-11-07</td>\n",
       "      <td>11</td>\n",
       "      <td>2</td>\n",
       "      <td>1</td>\n",
       "      <td>0.0</td>\n",
       "      <td>0</td>\n",
       "      <td>0</td>\n",
       "      <td>1</td>\n",
       "      <td>0</td>\n",
       "      <td>0.290116</td>\n",
       "    </tr>\n",
       "    <tr>\n",
       "      <th>682</th>\n",
       "      <td>2012-11-21</td>\n",
       "      <td>11</td>\n",
       "      <td>2</td>\n",
       "      <td>1</td>\n",
       "      <td>0.0</td>\n",
       "      <td>0</td>\n",
       "      <td>1</td>\n",
       "      <td>0</td>\n",
       "      <td>0</td>\n",
       "      <td>0.505929</td>\n",
       "    </tr>\n",
       "    <tr>\n",
       "      <th>711</th>\n",
       "      <td>2012-12-20</td>\n",
       "      <td>12</td>\n",
       "      <td>3</td>\n",
       "      <td>1</td>\n",
       "      <td>0.0</td>\n",
       "      <td>0</td>\n",
       "      <td>0</td>\n",
       "      <td>1</td>\n",
       "      <td>0</td>\n",
       "      <td>0.273788</td>\n",
       "    </tr>\n",
       "  </tbody>\n",
       "</table>\n",
       "</div>"
      ],
      "text/plain": [
       "            ds  month  weekday  is_weekday  is_holiday_day  clear  mist  \\\n",
       "108 2011-04-23      4        5           0             0.0      0     0   \n",
       "230 2011-08-23      8        1           1             0.0      0     1   \n",
       "375 2012-01-17      1        1           1             0.0      0     0   \n",
       "420 2012-03-02      3        4           1             0.0      0     0   \n",
       "434 2012-03-16      3        4           1             0.0      0     0   \n",
       "442 2012-03-24      3        5           0             0.0      0     0   \n",
       "488 2012-05-09      5        2           1             0.0      0     0   \n",
       "494 2012-05-15      5        1           1             0.0      0     0   \n",
       "502 2012-05-23      5        2           1             0.0      0     0   \n",
       "511 2012-06-01      6        4           1             0.0      0     0   \n",
       "544 2012-07-04      7        2           1             1.0      0     1   \n",
       "581 2012-08-10      8        4           1             0.0      0     0   \n",
       "590 2012-08-19      8        6           0             0.0      0     0   \n",
       "597 2012-08-26      8        6           0             0.0      0     0   \n",
       "610 2012-09-08      9        5           0             0.0      0     0   \n",
       "634 2012-10-02     10        1           1             0.0      0     0   \n",
       "647 2012-10-15     10        0           1             0.0      0     0   \n",
       "651 2012-10-19     10        4           1             0.0      0     0   \n",
       "660 2012-10-28     10        6           0             0.0      0     0   \n",
       "668 2012-11-07     11        2           1             0.0      0     0   \n",
       "682 2012-11-21     11        2           1             0.0      0     1   \n",
       "711 2012-12-20     12        3           1             0.0      0     0   \n",
       "\n",
       "     significant  extreme     error  \n",
       "108            1        0  0.263509  \n",
       "230            0        0  0.302900  \n",
       "375            1        0  0.274463  \n",
       "420            1        0  0.302358  \n",
       "434            1        0  0.254354  \n",
       "442            1        0  0.274069  \n",
       "488            1        0  0.319008  \n",
       "494            1        0  0.263282  \n",
       "502            1        0  0.285173  \n",
       "511            1        0  0.439190  \n",
       "544            0        0  0.304235  \n",
       "581            1        0  0.323389  \n",
       "590            1        0  0.315444  \n",
       "597            1        0  0.332823  \n",
       "610            1        0  0.474521  \n",
       "634            1        0  0.329130  \n",
       "647            1        0  0.263438  \n",
       "651            1        0  0.298399  \n",
       "660            1        0  0.408036  \n",
       "668            1        0  0.290116  \n",
       "682            0        0  0.505929  \n",
       "711            1        0  0.273788  "
      ]
     },
     "execution_count": 38,
     "metadata": {},
     "output_type": "execute_result"
    }
   ],
   "source": [
    "ErrorThreshold=0.25\n",
    "idxMaxError=[i for i in range(0,nPoints) if error[i]>=ErrorThreshold]\n",
    "calender_error=calendar_info.loc[idxMaxError]\n",
    "calender_error['error']=error[idxMaxError]\n",
    "\n",
    "calender_error"
   ]
  },
  {
   "cell_type": "markdown",
   "metadata": {},
   "source": [
    "Check the first n days with highest errors "
   ]
  },
  {
   "cell_type": "code",
   "execution_count": 39,
   "metadata": {},
   "outputs": [
    {
     "data": {
      "text/html": [
       "<div>\n",
       "<style scoped>\n",
       "    .dataframe tbody tr th:only-of-type {\n",
       "        vertical-align: middle;\n",
       "    }\n",
       "\n",
       "    .dataframe tbody tr th {\n",
       "        vertical-align: top;\n",
       "    }\n",
       "\n",
       "    .dataframe thead th {\n",
       "        text-align: right;\n",
       "    }\n",
       "</style>\n",
       "<table border=\"1\" class=\"dataframe\">\n",
       "  <thead>\n",
       "    <tr style=\"text-align: right;\">\n",
       "      <th></th>\n",
       "      <th>ds</th>\n",
       "      <th>month</th>\n",
       "      <th>weekday</th>\n",
       "      <th>is_weekday</th>\n",
       "      <th>is_holiday_day</th>\n",
       "      <th>clear</th>\n",
       "      <th>mist</th>\n",
       "      <th>significant</th>\n",
       "      <th>extreme</th>\n",
       "      <th>error</th>\n",
       "    </tr>\n",
       "  </thead>\n",
       "  <tbody>\n",
       "    <tr>\n",
       "      <th>682</th>\n",
       "      <td>2012-11-21</td>\n",
       "      <td>11</td>\n",
       "      <td>2</td>\n",
       "      <td>1</td>\n",
       "      <td>0.0</td>\n",
       "      <td>0</td>\n",
       "      <td>1</td>\n",
       "      <td>0</td>\n",
       "      <td>0</td>\n",
       "      <td>0.505929</td>\n",
       "    </tr>\n",
       "    <tr>\n",
       "      <th>610</th>\n",
       "      <td>2012-09-08</td>\n",
       "      <td>9</td>\n",
       "      <td>5</td>\n",
       "      <td>0</td>\n",
       "      <td>0.0</td>\n",
       "      <td>0</td>\n",
       "      <td>0</td>\n",
       "      <td>1</td>\n",
       "      <td>0</td>\n",
       "      <td>0.474521</td>\n",
       "    </tr>\n",
       "    <tr>\n",
       "      <th>511</th>\n",
       "      <td>2012-06-01</td>\n",
       "      <td>6</td>\n",
       "      <td>4</td>\n",
       "      <td>1</td>\n",
       "      <td>0.0</td>\n",
       "      <td>0</td>\n",
       "      <td>0</td>\n",
       "      <td>1</td>\n",
       "      <td>0</td>\n",
       "      <td>0.439190</td>\n",
       "    </tr>\n",
       "    <tr>\n",
       "      <th>660</th>\n",
       "      <td>2012-10-28</td>\n",
       "      <td>10</td>\n",
       "      <td>6</td>\n",
       "      <td>0</td>\n",
       "      <td>0.0</td>\n",
       "      <td>0</td>\n",
       "      <td>0</td>\n",
       "      <td>1</td>\n",
       "      <td>0</td>\n",
       "      <td>0.408036</td>\n",
       "    </tr>\n",
       "    <tr>\n",
       "      <th>597</th>\n",
       "      <td>2012-08-26</td>\n",
       "      <td>8</td>\n",
       "      <td>6</td>\n",
       "      <td>0</td>\n",
       "      <td>0.0</td>\n",
       "      <td>0</td>\n",
       "      <td>0</td>\n",
       "      <td>1</td>\n",
       "      <td>0</td>\n",
       "      <td>0.332823</td>\n",
       "    </tr>\n",
       "    <tr>\n",
       "      <th>634</th>\n",
       "      <td>2012-10-02</td>\n",
       "      <td>10</td>\n",
       "      <td>1</td>\n",
       "      <td>1</td>\n",
       "      <td>0.0</td>\n",
       "      <td>0</td>\n",
       "      <td>0</td>\n",
       "      <td>1</td>\n",
       "      <td>0</td>\n",
       "      <td>0.329130</td>\n",
       "    </tr>\n",
       "    <tr>\n",
       "      <th>581</th>\n",
       "      <td>2012-08-10</td>\n",
       "      <td>8</td>\n",
       "      <td>4</td>\n",
       "      <td>1</td>\n",
       "      <td>0.0</td>\n",
       "      <td>0</td>\n",
       "      <td>0</td>\n",
       "      <td>1</td>\n",
       "      <td>0</td>\n",
       "      <td>0.323389</td>\n",
       "    </tr>\n",
       "    <tr>\n",
       "      <th>488</th>\n",
       "      <td>2012-05-09</td>\n",
       "      <td>5</td>\n",
       "      <td>2</td>\n",
       "      <td>1</td>\n",
       "      <td>0.0</td>\n",
       "      <td>0</td>\n",
       "      <td>0</td>\n",
       "      <td>1</td>\n",
       "      <td>0</td>\n",
       "      <td>0.319008</td>\n",
       "    </tr>\n",
       "    <tr>\n",
       "      <th>590</th>\n",
       "      <td>2012-08-19</td>\n",
       "      <td>8</td>\n",
       "      <td>6</td>\n",
       "      <td>0</td>\n",
       "      <td>0.0</td>\n",
       "      <td>0</td>\n",
       "      <td>0</td>\n",
       "      <td>1</td>\n",
       "      <td>0</td>\n",
       "      <td>0.315444</td>\n",
       "    </tr>\n",
       "    <tr>\n",
       "      <th>544</th>\n",
       "      <td>2012-07-04</td>\n",
       "      <td>7</td>\n",
       "      <td>2</td>\n",
       "      <td>1</td>\n",
       "      <td>1.0</td>\n",
       "      <td>0</td>\n",
       "      <td>1</td>\n",
       "      <td>0</td>\n",
       "      <td>0</td>\n",
       "      <td>0.304235</td>\n",
       "    </tr>\n",
       "    <tr>\n",
       "      <th>230</th>\n",
       "      <td>2011-08-23</td>\n",
       "      <td>8</td>\n",
       "      <td>1</td>\n",
       "      <td>1</td>\n",
       "      <td>0.0</td>\n",
       "      <td>0</td>\n",
       "      <td>1</td>\n",
       "      <td>0</td>\n",
       "      <td>0</td>\n",
       "      <td>0.302900</td>\n",
       "    </tr>\n",
       "    <tr>\n",
       "      <th>420</th>\n",
       "      <td>2012-03-02</td>\n",
       "      <td>3</td>\n",
       "      <td>4</td>\n",
       "      <td>1</td>\n",
       "      <td>0.0</td>\n",
       "      <td>0</td>\n",
       "      <td>0</td>\n",
       "      <td>1</td>\n",
       "      <td>0</td>\n",
       "      <td>0.302358</td>\n",
       "    </tr>\n",
       "    <tr>\n",
       "      <th>651</th>\n",
       "      <td>2012-10-19</td>\n",
       "      <td>10</td>\n",
       "      <td>4</td>\n",
       "      <td>1</td>\n",
       "      <td>0.0</td>\n",
       "      <td>0</td>\n",
       "      <td>0</td>\n",
       "      <td>1</td>\n",
       "      <td>0</td>\n",
       "      <td>0.298399</td>\n",
       "    </tr>\n",
       "    <tr>\n",
       "      <th>668</th>\n",
       "      <td>2012-11-07</td>\n",
       "      <td>11</td>\n",
       "      <td>2</td>\n",
       "      <td>1</td>\n",
       "      <td>0.0</td>\n",
       "      <td>0</td>\n",
       "      <td>0</td>\n",
       "      <td>1</td>\n",
       "      <td>0</td>\n",
       "      <td>0.290116</td>\n",
       "    </tr>\n",
       "    <tr>\n",
       "      <th>502</th>\n",
       "      <td>2012-05-23</td>\n",
       "      <td>5</td>\n",
       "      <td>2</td>\n",
       "      <td>1</td>\n",
       "      <td>0.0</td>\n",
       "      <td>0</td>\n",
       "      <td>0</td>\n",
       "      <td>1</td>\n",
       "      <td>0</td>\n",
       "      <td>0.285173</td>\n",
       "    </tr>\n",
       "    <tr>\n",
       "      <th>375</th>\n",
       "      <td>2012-01-17</td>\n",
       "      <td>1</td>\n",
       "      <td>1</td>\n",
       "      <td>1</td>\n",
       "      <td>0.0</td>\n",
       "      <td>0</td>\n",
       "      <td>0</td>\n",
       "      <td>1</td>\n",
       "      <td>0</td>\n",
       "      <td>0.274463</td>\n",
       "    </tr>\n",
       "    <tr>\n",
       "      <th>442</th>\n",
       "      <td>2012-03-24</td>\n",
       "      <td>3</td>\n",
       "      <td>5</td>\n",
       "      <td>0</td>\n",
       "      <td>0.0</td>\n",
       "      <td>0</td>\n",
       "      <td>0</td>\n",
       "      <td>1</td>\n",
       "      <td>0</td>\n",
       "      <td>0.274069</td>\n",
       "    </tr>\n",
       "    <tr>\n",
       "      <th>711</th>\n",
       "      <td>2012-12-20</td>\n",
       "      <td>12</td>\n",
       "      <td>3</td>\n",
       "      <td>1</td>\n",
       "      <td>0.0</td>\n",
       "      <td>0</td>\n",
       "      <td>0</td>\n",
       "      <td>1</td>\n",
       "      <td>0</td>\n",
       "      <td>0.273788</td>\n",
       "    </tr>\n",
       "    <tr>\n",
       "      <th>108</th>\n",
       "      <td>2011-04-23</td>\n",
       "      <td>4</td>\n",
       "      <td>5</td>\n",
       "      <td>0</td>\n",
       "      <td>0.0</td>\n",
       "      <td>0</td>\n",
       "      <td>0</td>\n",
       "      <td>1</td>\n",
       "      <td>0</td>\n",
       "      <td>0.263509</td>\n",
       "    </tr>\n",
       "    <tr>\n",
       "      <th>647</th>\n",
       "      <td>2012-10-15</td>\n",
       "      <td>10</td>\n",
       "      <td>0</td>\n",
       "      <td>1</td>\n",
       "      <td>0.0</td>\n",
       "      <td>0</td>\n",
       "      <td>0</td>\n",
       "      <td>1</td>\n",
       "      <td>0</td>\n",
       "      <td>0.263438</td>\n",
       "    </tr>\n",
       "    <tr>\n",
       "      <th>494</th>\n",
       "      <td>2012-05-15</td>\n",
       "      <td>5</td>\n",
       "      <td>1</td>\n",
       "      <td>1</td>\n",
       "      <td>0.0</td>\n",
       "      <td>0</td>\n",
       "      <td>0</td>\n",
       "      <td>1</td>\n",
       "      <td>0</td>\n",
       "      <td>0.263282</td>\n",
       "    </tr>\n",
       "    <tr>\n",
       "      <th>434</th>\n",
       "      <td>2012-03-16</td>\n",
       "      <td>3</td>\n",
       "      <td>4</td>\n",
       "      <td>1</td>\n",
       "      <td>0.0</td>\n",
       "      <td>0</td>\n",
       "      <td>0</td>\n",
       "      <td>1</td>\n",
       "      <td>0</td>\n",
       "      <td>0.254354</td>\n",
       "    </tr>\n",
       "    <tr>\n",
       "      <th>184</th>\n",
       "      <td>2011-07-08</td>\n",
       "      <td>7</td>\n",
       "      <td>4</td>\n",
       "      <td>1</td>\n",
       "      <td>0.0</td>\n",
       "      <td>0</td>\n",
       "      <td>0</td>\n",
       "      <td>1</td>\n",
       "      <td>0</td>\n",
       "      <td>0.246255</td>\n",
       "    </tr>\n",
       "    <tr>\n",
       "      <th>608</th>\n",
       "      <td>2012-09-06</td>\n",
       "      <td>9</td>\n",
       "      <td>3</td>\n",
       "      <td>1</td>\n",
       "      <td>0.0</td>\n",
       "      <td>0</td>\n",
       "      <td>0</td>\n",
       "      <td>1</td>\n",
       "      <td>0</td>\n",
       "      <td>0.239460</td>\n",
       "    </tr>\n",
       "    <tr>\n",
       "      <th>550</th>\n",
       "      <td>2012-07-10</td>\n",
       "      <td>7</td>\n",
       "      <td>1</td>\n",
       "      <td>1</td>\n",
       "      <td>0.0</td>\n",
       "      <td>0</td>\n",
       "      <td>0</td>\n",
       "      <td>1</td>\n",
       "      <td>0</td>\n",
       "      <td>0.238229</td>\n",
       "    </tr>\n",
       "    <tr>\n",
       "      <th>418</th>\n",
       "      <td>2012-02-29</td>\n",
       "      <td>2</td>\n",
       "      <td>2</td>\n",
       "      <td>1</td>\n",
       "      <td>0.0</td>\n",
       "      <td>0</td>\n",
       "      <td>0</td>\n",
       "      <td>1</td>\n",
       "      <td>0</td>\n",
       "      <td>0.236676</td>\n",
       "    </tr>\n",
       "    <tr>\n",
       "      <th>245</th>\n",
       "      <td>2011-09-09</td>\n",
       "      <td>9</td>\n",
       "      <td>4</td>\n",
       "      <td>1</td>\n",
       "      <td>0.0</td>\n",
       "      <td>0</td>\n",
       "      <td>0</td>\n",
       "      <td>1</td>\n",
       "      <td>0</td>\n",
       "      <td>0.231297</td>\n",
       "    </tr>\n",
       "    <tr>\n",
       "      <th>119</th>\n",
       "      <td>2011-05-04</td>\n",
       "      <td>5</td>\n",
       "      <td>2</td>\n",
       "      <td>1</td>\n",
       "      <td>0.0</td>\n",
       "      <td>0</td>\n",
       "      <td>0</td>\n",
       "      <td>1</td>\n",
       "      <td>0</td>\n",
       "      <td>0.226311</td>\n",
       "    </tr>\n",
       "    <tr>\n",
       "      <th>397</th>\n",
       "      <td>2012-02-08</td>\n",
       "      <td>2</td>\n",
       "      <td>2</td>\n",
       "      <td>1</td>\n",
       "      <td>0.0</td>\n",
       "      <td>0</td>\n",
       "      <td>0</td>\n",
       "      <td>1</td>\n",
       "      <td>0</td>\n",
       "      <td>0.222696</td>\n",
       "    </tr>\n",
       "    <tr>\n",
       "      <th>493</th>\n",
       "      <td>2012-05-14</td>\n",
       "      <td>5</td>\n",
       "      <td>0</td>\n",
       "      <td>1</td>\n",
       "      <td>0.0</td>\n",
       "      <td>0</td>\n",
       "      <td>0</td>\n",
       "      <td>1</td>\n",
       "      <td>0</td>\n",
       "      <td>0.222546</td>\n",
       "    </tr>\n",
       "  </tbody>\n",
       "</table>\n",
       "</div>"
      ],
      "text/plain": [
       "            ds  month  weekday  is_weekday  is_holiday_day  clear  mist  \\\n",
       "682 2012-11-21     11        2           1             0.0      0     1   \n",
       "610 2012-09-08      9        5           0             0.0      0     0   \n",
       "511 2012-06-01      6        4           1             0.0      0     0   \n",
       "660 2012-10-28     10        6           0             0.0      0     0   \n",
       "597 2012-08-26      8        6           0             0.0      0     0   \n",
       "634 2012-10-02     10        1           1             0.0      0     0   \n",
       "581 2012-08-10      8        4           1             0.0      0     0   \n",
       "488 2012-05-09      5        2           1             0.0      0     0   \n",
       "590 2012-08-19      8        6           0             0.0      0     0   \n",
       "544 2012-07-04      7        2           1             1.0      0     1   \n",
       "230 2011-08-23      8        1           1             0.0      0     1   \n",
       "420 2012-03-02      3        4           1             0.0      0     0   \n",
       "651 2012-10-19     10        4           1             0.0      0     0   \n",
       "668 2012-11-07     11        2           1             0.0      0     0   \n",
       "502 2012-05-23      5        2           1             0.0      0     0   \n",
       "375 2012-01-17      1        1           1             0.0      0     0   \n",
       "442 2012-03-24      3        5           0             0.0      0     0   \n",
       "711 2012-12-20     12        3           1             0.0      0     0   \n",
       "108 2011-04-23      4        5           0             0.0      0     0   \n",
       "647 2012-10-15     10        0           1             0.0      0     0   \n",
       "494 2012-05-15      5        1           1             0.0      0     0   \n",
       "434 2012-03-16      3        4           1             0.0      0     0   \n",
       "184 2011-07-08      7        4           1             0.0      0     0   \n",
       "608 2012-09-06      9        3           1             0.0      0     0   \n",
       "550 2012-07-10      7        1           1             0.0      0     0   \n",
       "418 2012-02-29      2        2           1             0.0      0     0   \n",
       "245 2011-09-09      9        4           1             0.0      0     0   \n",
       "119 2011-05-04      5        2           1             0.0      0     0   \n",
       "397 2012-02-08      2        2           1             0.0      0     0   \n",
       "493 2012-05-14      5        0           1             0.0      0     0   \n",
       "\n",
       "     significant  extreme     error  \n",
       "682            0        0  0.505929  \n",
       "610            1        0  0.474521  \n",
       "511            1        0  0.439190  \n",
       "660            1        0  0.408036  \n",
       "597            1        0  0.332823  \n",
       "634            1        0  0.329130  \n",
       "581            1        0  0.323389  \n",
       "488            1        0  0.319008  \n",
       "590            1        0  0.315444  \n",
       "544            0        0  0.304235  \n",
       "230            0        0  0.302900  \n",
       "420            1        0  0.302358  \n",
       "651            1        0  0.298399  \n",
       "668            1        0  0.290116  \n",
       "502            1        0  0.285173  \n",
       "375            1        0  0.274463  \n",
       "442            1        0  0.274069  \n",
       "711            1        0  0.273788  \n",
       "108            1        0  0.263509  \n",
       "647            1        0  0.263438  \n",
       "494            1        0  0.263282  \n",
       "434            1        0  0.254354  \n",
       "184            1        0  0.246255  \n",
       "608            1        0  0.239460  \n",
       "550            1        0  0.238229  \n",
       "418            1        0  0.236676  \n",
       "245            1        0  0.231297  \n",
       "119            1        0  0.226311  \n",
       "397            1        0  0.222696  \n",
       "493            1        0  0.222546  "
      ]
     },
     "execution_count": 39,
     "metadata": {},
     "output_type": "execute_result"
    }
   ],
   "source": [
    "nDays=30\n",
    "\n",
    "decreasingOrderIdx=np.argsort(-error)\n",
    "calendar_Error_Highest=calendar_info.loc[decreasingOrderIdx[0:nDays]]\n",
    "calendar_Error_Highest['error']=error[decreasingOrderIdx[0:nDays]]\n",
    "calendar_Error_Highest"
   ]
  },
  {
   "cell_type": "markdown",
   "metadata": {},
   "source": [
    "Visualize the reconstruction error over a specific day"
   ]
  },
  {
   "cell_type": "code",
   "execution_count": 40,
   "metadata": {},
   "outputs": [
    {
     "data": {
      "text/plain": [
       "[<matplotlib.lines.Line2D at 0x7f118a4e62e8>]"
      ]
     },
     "execution_count": 40,
     "metadata": {},
     "output_type": "execute_result"
    },
    {
     "data": {
      "image/png": "[encoded data removed]",
      "text/plain": [
       "<Figure size 300x300 with 1 Axes>"
      ]
     },
     "metadata": {
      "needs_background": "light"
     },
     "output_type": "display_data"
    }
   ],
   "source": [
    "indice=322 #1185 is the changing hour day end of march\n",
    "fig = plt.figure(dpi=100,figsize=(3,3))\n",
    "#set(gca,'Color','k')\n",
    "plt.plot(x[indice,:])\n",
    "plt.plot(x_hat[indice,:])"
   ]
  },
  {
   "cell_type": "markdown",
   "metadata": {},
   "source": [
    "Visualize the reconstruction error over the days with highest error"
   ]
  },
  {
   "cell_type": "code",
   "execution_count": 41,
   "metadata": {},
   "outputs": [
    {
     "data": {
      "image/png": "[encoded data removed]",
      "text/plain": [
       "<Figure size 1000x600 with 9 Axes>"
      ]
     },
     "metadata": {
      "needs_background": "light"
     },
     "output_type": "display_data"
    }
   ],
   "source": [
    "nPlots=10#len(idxMaxError)\n",
    "nCols=5\n",
    "nRows=int(nPlots/nCols)+1\n",
    "fig = plt.figure(dpi=100,figsize=(10,2*nRows))\n",
    "for i in range(1, nPlots):\n",
    "    plt.subplot(nRows, nCols, i)\n",
    "    fig.subplots_adjust(hspace=.5)\n",
    "    indice=decreasingOrderIdx[i-1]\n",
    "    plt.plot(x[indice,:])\n",
    "    plt.plot(x_hat[indice,:])\n",
    "    plt.title( calendar_Error_Highest.ds.dt.date.iloc[i-1])"
   ]
  },
  {
   "cell_type": "markdown",
   "metadata": {},
   "source": [
    "2013-03-31 is the day with a missing hour because of changing day time and the consumption value is set to 0. It is hence normal that it is not well predicted and a good indicator that the model does not tend to overfit."
   ]
  },
  {
   "cell_type": "markdown",
   "metadata": {},
   "source": [
    "# Study of holiday predictions"
   ]
  },
  {
   "cell_type": "code",
   "execution_count": 42,
   "metadata": {},
   "outputs": [],
   "source": [
    "#preparation des features d'interet\n",
    "yHd=calendar_info['is_holiday_day'].astype(int)\n",
    "indicesHd=np.array([i for i in range(0, nPoints) if yHd[i] == 1])\n",
    "yHd_only=yHd[yHd==1]\n",
    "x_encoded_Hd=x_encoded[indicesHd,]"
   ]
  },
  {
   "cell_type": "code",
   "execution_count": 43,
   "metadata": {
    "lines_to_end_of_cell_marker": 2
   },
   "outputs": [],
   "source": [
    "results_hd=scoreKnnResults(x_encoded,yHd,type='classifier',k=5,cv=10)"
   ]
  },
  {
   "cell_type": "markdown",
   "metadata": {},
   "source": [
    "## holidays well predicted"
   ]
  },
  {
   "cell_type": "code",
   "execution_count": 44,
   "metadata": {},
   "outputs": [
    {
     "data": {
      "text/html": [
       "<div>\n",
       "<style scoped>\n",
       "    .dataframe tbody tr th:only-of-type {\n",
       "        vertical-align: middle;\n",
       "    }\n",
       "\n",
       "    .dataframe tbody tr th {\n",
       "        vertical-align: top;\n",
       "    }\n",
       "\n",
       "    .dataframe thead th {\n",
       "        text-align: right;\n",
       "    }\n",
       "</style>\n",
       "<table border=\"1\" class=\"dataframe\">\n",
       "  <thead>\n",
       "    <tr style=\"text-align: right;\">\n",
       "      <th></th>\n",
       "      <th>ds</th>\n",
       "      <th>month</th>\n",
       "      <th>weekday</th>\n",
       "      <th>is_weekday</th>\n",
       "      <th>is_holiday_day</th>\n",
       "      <th>clear</th>\n",
       "      <th>mist</th>\n",
       "      <th>significant</th>\n",
       "      <th>extreme</th>\n",
       "    </tr>\n",
       "  </thead>\n",
       "  <tbody>\n",
       "  </tbody>\n",
       "</table>\n",
       "</div>"
      ],
      "text/plain": [
       "Empty DataFrame\n",
       "Columns: [ds, month, weekday, is_weekday, is_holiday_day, clear, mist, significant, extreme]\n",
       "Index: []"
      ]
     },
     "execution_count": 44,
     "metadata": {},
     "output_type": "execute_result"
    }
   ],
   "source": [
    "results_hd_only=[results_hd['predP'][i] for i in indicesHd ]\n",
    "indices_Hd_predict=[i for i in indicesHd if  results_hd['predP'][i]>=0.5]\n",
    "indices_Hd_not_predicted=[i for i in indicesHd if  results_hd['predP'][i]<0.5]\n",
    "calendar_info.loc[indices_Hd_predict]"
   ]
  },
  {
   "cell_type": "code",
   "execution_count": 45,
   "metadata": {
    "lines_to_end_of_cell_marker": 2
   },
   "outputs": [],
   "source": [
    "yWeekday=calendar_info['is_weekday']\n",
    "results_wk=scoreKnnResults(x_encoded,yWeekday,type='classifier',k=10,cv=10)"
   ]
  },
  {
   "cell_type": "code",
   "execution_count": 46,
   "metadata": {},
   "outputs": [
    {
     "data": {
      "text/html": [
       "<div>\n",
       "<style scoped>\n",
       "    .dataframe tbody tr th:only-of-type {\n",
       "        vertical-align: middle;\n",
       "    }\n",
       "\n",
       "    .dataframe tbody tr th {\n",
       "        vertical-align: top;\n",
       "    }\n",
       "\n",
       "    .dataframe thead th {\n",
       "        text-align: right;\n",
       "    }\n",
       "</style>\n",
       "<table border=\"1\" class=\"dataframe\">\n",
       "  <thead>\n",
       "    <tr style=\"text-align: right;\">\n",
       "      <th></th>\n",
       "      <th>ds</th>\n",
       "      <th>month</th>\n",
       "      <th>weekday</th>\n",
       "      <th>is_weekday</th>\n",
       "      <th>is_holiday_day</th>\n",
       "      <th>clear</th>\n",
       "      <th>mist</th>\n",
       "      <th>significant</th>\n",
       "      <th>extreme</th>\n",
       "    </tr>\n",
       "  </thead>\n",
       "  <tbody>\n",
       "    <tr>\n",
       "      <th>16</th>\n",
       "      <td>2011-01-17</td>\n",
       "      <td>1</td>\n",
       "      <td>0</td>\n",
       "      <td>1</td>\n",
       "      <td>1.0</td>\n",
       "      <td>0</td>\n",
       "      <td>0</td>\n",
       "      <td>1</td>\n",
       "      <td>0</td>\n",
       "    </tr>\n",
       "    <tr>\n",
       "      <th>48</th>\n",
       "      <td>2011-02-21</td>\n",
       "      <td>2</td>\n",
       "      <td>0</td>\n",
       "      <td>1</td>\n",
       "      <td>1.0</td>\n",
       "      <td>0</td>\n",
       "      <td>0</td>\n",
       "      <td>1</td>\n",
       "      <td>0</td>\n",
       "    </tr>\n",
       "    <tr>\n",
       "      <th>145</th>\n",
       "      <td>2011-05-30</td>\n",
       "      <td>5</td>\n",
       "      <td>0</td>\n",
       "      <td>1</td>\n",
       "      <td>1.0</td>\n",
       "      <td>0</td>\n",
       "      <td>1</td>\n",
       "      <td>0</td>\n",
       "      <td>0</td>\n",
       "    </tr>\n",
       "    <tr>\n",
       "      <th>180</th>\n",
       "      <td>2011-07-04</td>\n",
       "      <td>7</td>\n",
       "      <td>0</td>\n",
       "      <td>1</td>\n",
       "      <td>1.0</td>\n",
       "      <td>0</td>\n",
       "      <td>1</td>\n",
       "      <td>0</td>\n",
       "      <td>0</td>\n",
       "    </tr>\n",
       "    <tr>\n",
       "      <th>241</th>\n",
       "      <td>2011-09-05</td>\n",
       "      <td>9</td>\n",
       "      <td>0</td>\n",
       "      <td>1</td>\n",
       "      <td>1.0</td>\n",
       "      <td>0</td>\n",
       "      <td>0</td>\n",
       "      <td>1</td>\n",
       "      <td>0</td>\n",
       "    </tr>\n",
       "    <tr>\n",
       "      <th>276</th>\n",
       "      <td>2011-10-10</td>\n",
       "      <td>10</td>\n",
       "      <td>0</td>\n",
       "      <td>1</td>\n",
       "      <td>1.0</td>\n",
       "      <td>0</td>\n",
       "      <td>1</td>\n",
       "      <td>0</td>\n",
       "      <td>0</td>\n",
       "    </tr>\n",
       "    <tr>\n",
       "      <th>321</th>\n",
       "      <td>2011-11-24</td>\n",
       "      <td>11</td>\n",
       "      <td>3</td>\n",
       "      <td>1</td>\n",
       "      <td>1.0</td>\n",
       "      <td>1</td>\n",
       "      <td>0</td>\n",
       "      <td>0</td>\n",
       "      <td>0</td>\n",
       "    </tr>\n",
       "    <tr>\n",
       "      <th>322</th>\n",
       "      <td>2011-11-25</td>\n",
       "      <td>11</td>\n",
       "      <td>4</td>\n",
       "      <td>1</td>\n",
       "      <td>0.0</td>\n",
       "      <td>1</td>\n",
       "      <td>0</td>\n",
       "      <td>0</td>\n",
       "      <td>0</td>\n",
       "    </tr>\n",
       "    <tr>\n",
       "      <th>350</th>\n",
       "      <td>2011-12-23</td>\n",
       "      <td>12</td>\n",
       "      <td>4</td>\n",
       "      <td>1</td>\n",
       "      <td>0.0</td>\n",
       "      <td>0</td>\n",
       "      <td>0</td>\n",
       "      <td>1</td>\n",
       "      <td>0</td>\n",
       "    </tr>\n",
       "    <tr>\n",
       "      <th>353</th>\n",
       "      <td>2011-12-26</td>\n",
       "      <td>12</td>\n",
       "      <td>0</td>\n",
       "      <td>1</td>\n",
       "      <td>1.0</td>\n",
       "      <td>1</td>\n",
       "      <td>0</td>\n",
       "      <td>0</td>\n",
       "      <td>0</td>\n",
       "    </tr>\n",
       "    <tr>\n",
       "      <th>360</th>\n",
       "      <td>2012-01-02</td>\n",
       "      <td>1</td>\n",
       "      <td>0</td>\n",
       "      <td>1</td>\n",
       "      <td>1.0</td>\n",
       "      <td>0</td>\n",
       "      <td>1</td>\n",
       "      <td>0</td>\n",
       "      <td>0</td>\n",
       "    </tr>\n",
       "    <tr>\n",
       "      <th>374</th>\n",
       "      <td>2012-01-16</td>\n",
       "      <td>1</td>\n",
       "      <td>0</td>\n",
       "      <td>1</td>\n",
       "      <td>1.0</td>\n",
       "      <td>0</td>\n",
       "      <td>0</td>\n",
       "      <td>1</td>\n",
       "      <td>0</td>\n",
       "    </tr>\n",
       "    <tr>\n",
       "      <th>409</th>\n",
       "      <td>2012-02-20</td>\n",
       "      <td>2</td>\n",
       "      <td>0</td>\n",
       "      <td>1</td>\n",
       "      <td>1.0</td>\n",
       "      <td>0</td>\n",
       "      <td>1</td>\n",
       "      <td>0</td>\n",
       "      <td>0</td>\n",
       "    </tr>\n",
       "    <tr>\n",
       "      <th>507</th>\n",
       "      <td>2012-05-28</td>\n",
       "      <td>5</td>\n",
       "      <td>0</td>\n",
       "      <td>1</td>\n",
       "      <td>1.0</td>\n",
       "      <td>0</td>\n",
       "      <td>1</td>\n",
       "      <td>0</td>\n",
       "      <td>0</td>\n",
       "    </tr>\n",
       "    <tr>\n",
       "      <th>511</th>\n",
       "      <td>2012-06-01</td>\n",
       "      <td>6</td>\n",
       "      <td>4</td>\n",
       "      <td>1</td>\n",
       "      <td>0.0</td>\n",
       "      <td>0</td>\n",
       "      <td>0</td>\n",
       "      <td>1</td>\n",
       "      <td>0</td>\n",
       "    </tr>\n",
       "    <tr>\n",
       "      <th>544</th>\n",
       "      <td>2012-07-04</td>\n",
       "      <td>7</td>\n",
       "      <td>2</td>\n",
       "      <td>1</td>\n",
       "      <td>1.0</td>\n",
       "      <td>0</td>\n",
       "      <td>1</td>\n",
       "      <td>0</td>\n",
       "      <td>0</td>\n",
       "    </tr>\n",
       "    <tr>\n",
       "      <th>605</th>\n",
       "      <td>2012-09-03</td>\n",
       "      <td>9</td>\n",
       "      <td>0</td>\n",
       "      <td>1</td>\n",
       "      <td>1.0</td>\n",
       "      <td>0</td>\n",
       "      <td>1</td>\n",
       "      <td>0</td>\n",
       "      <td>0</td>\n",
       "    </tr>\n",
       "    <tr>\n",
       "      <th>682</th>\n",
       "      <td>2012-11-21</td>\n",
       "      <td>11</td>\n",
       "      <td>2</td>\n",
       "      <td>1</td>\n",
       "      <td>0.0</td>\n",
       "      <td>0</td>\n",
       "      <td>1</td>\n",
       "      <td>0</td>\n",
       "      <td>0</td>\n",
       "    </tr>\n",
       "    <tr>\n",
       "      <th>683</th>\n",
       "      <td>2012-11-22</td>\n",
       "      <td>11</td>\n",
       "      <td>3</td>\n",
       "      <td>1</td>\n",
       "      <td>1.0</td>\n",
       "      <td>1</td>\n",
       "      <td>0</td>\n",
       "      <td>0</td>\n",
       "      <td>0</td>\n",
       "    </tr>\n",
       "    <tr>\n",
       "      <th>684</th>\n",
       "      <td>2012-11-23</td>\n",
       "      <td>11</td>\n",
       "      <td>4</td>\n",
       "      <td>1</td>\n",
       "      <td>0.0</td>\n",
       "      <td>0</td>\n",
       "      <td>1</td>\n",
       "      <td>0</td>\n",
       "      <td>0</td>\n",
       "    </tr>\n",
       "    <tr>\n",
       "      <th>715</th>\n",
       "      <td>2012-12-24</td>\n",
       "      <td>12</td>\n",
       "      <td>0</td>\n",
       "      <td>1</td>\n",
       "      <td>0.0</td>\n",
       "      <td>0</td>\n",
       "      <td>0</td>\n",
       "      <td>1</td>\n",
       "      <td>0</td>\n",
       "    </tr>\n",
       "    <tr>\n",
       "      <th>716</th>\n",
       "      <td>2012-12-25</td>\n",
       "      <td>12</td>\n",
       "      <td>1</td>\n",
       "      <td>1</td>\n",
       "      <td>1.0</td>\n",
       "      <td>0</td>\n",
       "      <td>0</td>\n",
       "      <td>1</td>\n",
       "      <td>0</td>\n",
       "    </tr>\n",
       "    <tr>\n",
       "      <th>722</th>\n",
       "      <td>2012-12-31</td>\n",
       "      <td>12</td>\n",
       "      <td>0</td>\n",
       "      <td>1</td>\n",
       "      <td>0.0</td>\n",
       "      <td>0</td>\n",
       "      <td>1</td>\n",
       "      <td>0</td>\n",
       "      <td>0</td>\n",
       "    </tr>\n",
       "  </tbody>\n",
       "</table>\n",
       "</div>"
      ],
      "text/plain": [
       "            ds  month  weekday  is_weekday  is_holiday_day  clear  mist  \\\n",
       "16  2011-01-17      1        0           1             1.0      0     0   \n",
       "48  2011-02-21      2        0           1             1.0      0     0   \n",
       "145 2011-05-30      5        0           1             1.0      0     1   \n",
       "180 2011-07-04      7        0           1             1.0      0     1   \n",
       "241 2011-09-05      9        0           1             1.0      0     0   \n",
       "276 2011-10-10     10        0           1             1.0      0     1   \n",
       "321 2011-11-24     11        3           1             1.0      1     0   \n",
       "322 2011-11-25     11        4           1             0.0      1     0   \n",
       "350 2011-12-23     12        4           1             0.0      0     0   \n",
       "353 2011-12-26     12        0           1             1.0      1     0   \n",
       "360 2012-01-02      1        0           1             1.0      0     1   \n",
       "374 2012-01-16      1        0           1             1.0      0     0   \n",
       "409 2012-02-20      2        0           1             1.0      0     1   \n",
       "507 2012-05-28      5        0           1             1.0      0     1   \n",
       "511 2012-06-01      6        4           1             0.0      0     0   \n",
       "544 2012-07-04      7        2           1             1.0      0     1   \n",
       "605 2012-09-03      9        0           1             1.0      0     1   \n",
       "682 2012-11-21     11        2           1             0.0      0     1   \n",
       "683 2012-11-22     11        3           1             1.0      1     0   \n",
       "684 2012-11-23     11        4           1             0.0      0     1   \n",
       "715 2012-12-24     12        0           1             0.0      0     0   \n",
       "716 2012-12-25     12        1           1             1.0      0     0   \n",
       "722 2012-12-31     12        0           1             0.0      0     1   \n",
       "\n",
       "     significant  extreme  \n",
       "16             1        0  \n",
       "48             1        0  \n",
       "145            0        0  \n",
       "180            0        0  \n",
       "241            1        0  \n",
       "276            0        0  \n",
       "321            0        0  \n",
       "322            0        0  \n",
       "350            1        0  \n",
       "353            0        0  \n",
       "360            0        0  \n",
       "374            1        0  \n",
       "409            0        0  \n",
       "507            0        0  \n",
       "511            1        0  \n",
       "544            0        0  \n",
       "605            0        0  \n",
       "682            0        0  \n",
       "683            0        0  \n",
       "684            0        0  \n",
       "715            1        0  \n",
       "716            1        0  \n",
       "722            0        0  "
      ]
     },
     "execution_count": 46,
     "metadata": {},
     "output_type": "execute_result"
    }
   ],
   "source": [
    "weekdays_predicted_as_weekend=[i for i in range(0,nPoints) if  results_wk['predP'][i]<=0.5 and yWeekday[i]==1]\n",
    "calendar_info.loc[weekdays_predicted_as_weekend]"
   ]
  },
  {
   "cell_type": "code",
   "execution_count": 57,
   "metadata": {},
   "outputs": [
    {
     "data": {
      "text/plain": [
       "9"
      ]
     },
     "execution_count": 57,
     "metadata": {},
     "output_type": "execute_result"
    }
   ],
   "source": [
    "len(weekdays_predicted_as_weekend)"
   ]
  },
  {
   "cell_type": "markdown",
   "metadata": {},
   "source": [
    "We find out that holidays actually look alike weekends even if they are happening during weekdays. Days with significant bad weather are predicted the same way for bike sharing."
   ]
  },
  {
   "cell_type": "markdown",
   "metadata": {},
   "source": [
    "# Holidays & nearest neighbors"
   ]
  },
  {
   "cell_type": "code",
   "execution_count": 104,
   "metadata": {},
   "outputs": [
    {
     "data": {
      "text/plain": [
       "<function matplotlib.pyplot.show(*args, **kw)>"
      ]
     },
     "execution_count": 104,
     "metadata": {},
     "output_type": "execute_result"
    },
    {
     "data": {
      "image/png": "[encoded data removed]",
      "text/plain": [
       "<Figure size 300x300 with 1 Axes>"
      ]
     },
     "metadata": {
      "needs_background": "light"
     },
     "output_type": "display_data"
    }
   ],
   "source": [
    "from sklearn.neighbors import NearestNeighbors\n",
    "neigh = NearestNeighbors(10)\n",
    "neigh.fit(x_encoded)\n",
    "\n",
    "[distance_knn,kneighbors]=neigh.kneighbors(x_encoded, 2, return_distance=True)\n",
    "nearest=distance_knn[:,1]\n",
    "fig = plt.figure(dpi=100,figsize=(3,3))\n",
    "plt.hist(nearest,bins=100)\n",
    "plt.show"
   ]
  },
  {
   "cell_type": "code",
   "execution_count": 105,
   "metadata": {},
   "outputs": [
    {
     "data": {
      "text/plain": [
       "DescribeResult(nobs=1830, minmax=(0.016541171424242395, 1.074540498547887), mean=0.16673077278509163, variance=0.012510367346743085, skewness=2.5012268081450864, kurtosis=10.545053959091563)"
      ]
     },
     "execution_count": 105,
     "metadata": {},
     "output_type": "execute_result"
    }
   ],
   "source": [
    "from scipy import stats\n",
    "\n",
    "stats.describe(nearest)"
   ]
  },
  {
   "cell_type": "code",
   "execution_count": 106,
   "metadata": {},
   "outputs": [
    {
     "data": {
      "text/plain": [
       "<function matplotlib.pyplot.show(*args, **kw)>"
      ]
     },
     "execution_count": 106,
     "metadata": {},
     "output_type": "execute_result"
    },
    {
     "data": {
      "image/png": "[encoded data removed]",
      "text/plain": [
       "<Figure size 300x300 with 1 Axes>"
      ]
     },
     "metadata": {
      "needs_background": "light"
     },
     "output_type": "display_data"
    }
   ],
   "source": [
    "fig = plt.figure(dpi=100,figsize=(3,3))\n",
    "plt.hist(nearest[indicesHd],bins=100)\n",
    "plt.show"
   ]
  },
  {
   "cell_type": "code",
   "execution_count": 107,
   "metadata": {},
   "outputs": [
    {
     "data": {
      "text/plain": [
       "DescribeResult(nobs=45, minmax=(0.07724092920572362, 0.7800549293110298), mean=0.2631268081068916, variance=0.022468491085609967, skewness=1.4799056215452613, kurtosis=2.342934273043145)"
      ]
     },
     "execution_count": 107,
     "metadata": {},
     "output_type": "execute_result"
    }
   ],
   "source": [
    "stats.describe(nearest[indicesHd])"
   ]
  },
  {
   "cell_type": "code",
   "execution_count": 108,
   "metadata": {},
   "outputs": [
    {
     "data": {
      "text/html": [
       "<div>\n",
       "<style scoped>\n",
       "    .dataframe tbody tr th:only-of-type {\n",
       "        vertical-align: middle;\n",
       "    }\n",
       "\n",
       "    .dataframe tbody tr th {\n",
       "        vertical-align: top;\n",
       "    }\n",
       "\n",
       "    .dataframe thead th {\n",
       "        text-align: right;\n",
       "    }\n",
       "</style>\n",
       "<table border=\"1\" class=\"dataframe\">\n",
       "  <thead>\n",
       "    <tr style=\"text-align: right;\">\n",
       "      <th></th>\n",
       "      <th>ds</th>\n",
       "      <th>month</th>\n",
       "      <th>weekday</th>\n",
       "      <th>is_weekday</th>\n",
       "      <th>is_holiday_day</th>\n",
       "    </tr>\n",
       "  </thead>\n",
       "  <tbody>\n",
       "    <tr>\n",
       "      <th>21</th>\n",
       "      <td>2013-01-18</td>\n",
       "      <td>1</td>\n",
       "      <td>4</td>\n",
       "      <td>1</td>\n",
       "      <td>0.0</td>\n",
       "    </tr>\n",
       "    <tr>\n",
       "      <th>361</th>\n",
       "      <td>2013-12-24</td>\n",
       "      <td>12</td>\n",
       "      <td>1</td>\n",
       "      <td>1</td>\n",
       "      <td>0.0</td>\n",
       "    </tr>\n",
       "    <tr>\n",
       "      <th>703</th>\n",
       "      <td>2014-12-01</td>\n",
       "      <td>12</td>\n",
       "      <td>0</td>\n",
       "      <td>1</td>\n",
       "      <td>0.0</td>\n",
       "    </tr>\n",
       "    <tr>\n",
       "      <th>719</th>\n",
       "      <td>2014-12-17</td>\n",
       "      <td>12</td>\n",
       "      <td>2</td>\n",
       "      <td>1</td>\n",
       "      <td>0.0</td>\n",
       "    </tr>\n",
       "    <tr>\n",
       "      <th>730</th>\n",
       "      <td>2014-12-28</td>\n",
       "      <td>12</td>\n",
       "      <td>6</td>\n",
       "      <td>0</td>\n",
       "      <td>0.0</td>\n",
       "    </tr>\n",
       "    <tr>\n",
       "      <th>1092</th>\n",
       "      <td>2015-12-25</td>\n",
       "      <td>12</td>\n",
       "      <td>4</td>\n",
       "      <td>1</td>\n",
       "      <td>1.0</td>\n",
       "    </tr>\n",
       "    <tr>\n",
       "      <th>1120</th>\n",
       "      <td>2016-01-22</td>\n",
       "      <td>1</td>\n",
       "      <td>4</td>\n",
       "      <td>1</td>\n",
       "      <td>0.0</td>\n",
       "    </tr>\n",
       "    <tr>\n",
       "      <th>1466</th>\n",
       "      <td>2017-01-02</td>\n",
       "      <td>1</td>\n",
       "      <td>0</td>\n",
       "      <td>1</td>\n",
       "      <td>0.0</td>\n",
       "    </tr>\n",
       "    <tr>\n",
       "      <th>1491</th>\n",
       "      <td>2017-01-27</td>\n",
       "      <td>1</td>\n",
       "      <td>4</td>\n",
       "      <td>1</td>\n",
       "      <td>0.0</td>\n",
       "    </tr>\n",
       "    <tr>\n",
       "      <th>1583</th>\n",
       "      <td>2017-04-29</td>\n",
       "      <td>4</td>\n",
       "      <td>5</td>\n",
       "      <td>0</td>\n",
       "      <td>0.0</td>\n",
       "    </tr>\n",
       "  </tbody>\n",
       "</table>\n",
       "</div>"
      ],
      "text/plain": [
       "             ds  month  weekday  is_weekday  is_holiday_day\n",
       "21   2013-01-18      1        4           1             0.0\n",
       "361  2013-12-24     12        1           1             0.0\n",
       "703  2014-12-01     12        0           1             0.0\n",
       "719  2014-12-17     12        2           1             0.0\n",
       "730  2014-12-28     12        6           0             0.0\n",
       "1092 2015-12-25     12        4           1             1.0\n",
       "1120 2016-01-22      1        4           1             0.0\n",
       "1466 2017-01-02      1        0           1             0.0\n",
       "1491 2017-01-27      1        4           1             0.0\n",
       "1583 2017-04-29      4        5           0             0.0"
      ]
     },
     "execution_count": 108,
     "metadata": {},
     "output_type": "execute_result"
    }
   ],
   "source": [
    "nearestThreshold=0.7\n",
    "calendar_info.loc[np.where(nearest>=nearestThreshold)]"
   ]
  },
  {
   "cell_type": "markdown",
   "metadata": {},
   "source": [
    "2013-01-18  and 2017-01-27 were big snowy events in France and first of january are alwaus atypical days. All of those events happened durng winter, when the electrical consumption is most sensitive to temperature."
   ]
  },
  {
   "cell_type": "code",
   "execution_count": 110,
   "metadata": {},
   "outputs": [
    {
     "data": {
      "text/plain": [
       "array([0.95991154, 0.80261123, 1.0745405 , 0.85577207, 0.91793625,\n",
       "       0.78005493, 0.84032683, 0.70019336, 0.84032683, 0.87500159])"
      ]
     },
     "execution_count": 110,
     "metadata": {},
     "output_type": "execute_result"
    }
   ],
   "source": [
    "indicesNear=[i for i in range(0,len(nearest)) if nearest[i]>=nearestThreshold]\n",
    "nearest[np.where(nearest>=nearestThreshold)]"
   ]
  },
  {
   "cell_type": "code",
   "execution_count": 111,
   "metadata": {},
   "outputs": [
    {
     "data": {
      "text/plain": [
       "<bound method Figure.show of <Figure size 1000x600 with 10 Axes>>"
      ]
     },
     "execution_count": 111,
     "metadata": {},
     "output_type": "execute_result"
    },
    {
     "data": {
      "image/png": "[encoded data removed]",
      "text/plain": [
       "<Figure size 1000x600 with 10 Axes>"
      ]
     },
     "metadata": {
      "needs_background": "light"
     },
     "output_type": "display_data"
    }
   ],
   "source": [
    "nPlots=len(indicesNear)#len(idxMaxError)\n",
    "nCols=5\n",
    "nRows=int(nPlots/nCols)+1\n",
    "fig = plt.figure(dpi=100,figsize=(10,2*nRows))\n",
    "for i in range(1, nPlots+1):\n",
    "    plt.subplot(nRows, nCols, i)\n",
    "    fig.subplots_adjust(hspace=.5)\n",
    "    indice=indicesNear[i-1]\n",
    "    plt.plot(x[indice,:])\n",
    "    plt.plot(x_hat[indice,:])\n",
    "    plt.title( calendar_info.ds.dt.date.iloc[indice])\n",
    "fig.show"
   ]
  },
  {
   "cell_type": "markdown",
   "metadata": {},
   "source": [
    "# Conclusions\n",
    "- 3 dimensions covers most of the information for the variety of daily load curves \n",
    "- We recovered with this simple linear model the two main features that caracterizes electrical consumption: weekday and temperature\n",
    "- Holidays are not yet well predicted and represented, although we know they are an important atypical factor.\n",
    "- We however detect that holidays all look alike weekend days\n",
    "- We discover some first interpretable events.\n",
    "- Results are quite similar than with the PCA model. They are some differences in the events first detected. The projection in the latent space is also more gaussian, which ease the interactive navigation in it, compared to the PCA projection.\n",
    "\n"
   ]
  },
  {
   "cell_type": "code",
   "execution_count": null,
   "metadata": {},
   "outputs": [],
   "source": []
  },
  {
   "cell_type": "code",
   "execution_count": null,
   "metadata": {},
   "outputs": [],
   "source": []
  }
 ],
 "metadata": {
  "jupytext": {
   "formats": "ipynb,py"
  },
  "kernelspec": {
   "display_name": "Python 3",
   "language": "python",
   "name": "python3"
  },
  "language_info": {
   "codemirror_mode": {
    "name": "ipython",
    "version": 3
   },
   "file_extension": ".py",
   "mimetype": "text/x-python",
   "name": "python",
   "nbconvert_exporter": "python",
   "pygments_lexer": "ipython3",
   "version": "3.6.6"
  }
 },
 "nbformat": 4,
 "nbformat_minor": 2
}
