{
 "cells": [
  {
   "cell_type": "markdown",
   "metadata": {},
   "source": [
    "### Library "
   ]
  },
  {
   "cell_type": "code",
   "execution_count": 1,
   "metadata": {},
   "outputs": [
    {
     "name": "stderr",
     "output_type": "stream",
     "text": [
      "Using TensorFlow backend.\n"
     ]
    }
   ],
   "source": [
    "import sys\n",
    "import os\n",
    "import datetime\n",
    "import pandas as pd\n",
    "import numpy as np\n",
    "import pickle\n",
    "from matplotlib import pyplot as plt\n",
    "import seaborn as sn\n",
    "from scipy import stats\n",
    "\n",
    "path_main_folder = '/home/restor/partage/apogee-parades/AED_autoencoder'\n",
    "\n",
    "sys.path.append(path_main_folder)\n",
    "\n",
    "from CVAE.cvae import compile_cvae, run_cvae\n",
    "from CVAE.cvae_model import CVAE_temp, CVAE\n",
    "from conso.load_shape_data import *  \n",
    "from Visualisation.buildProjector import *\n",
    "#from conso.load_shape_data import get_x_conso_autoencoder\n",
    "from conso.conso_helpers import plot_latent_space_projection, pyplot_latent_space_projection_temp, pyplot_latent_space_projection_error\n",
    "from sklearn.manifold import TSNE"
   ]
  },
  {
   "cell_type": "markdown",
   "metadata": {},
   "source": [
    "## Recette pour apprendre un bon autoencoder conditionnel\n",
    "Apres avoir augmenté le nombre de couches, inséré des sigmoids proches de l'espace latent de l'autoencoder, donner plus de poids à la loss de reconstruction (cf référence d'Antoine Rosin sur l'over pruning), et augmenter l'apprentissage, on atteint une loss de reconstruction de l'ordre de 0.4 qui donne de bons résultats et de belles projections!\n",
    "On peut augmenter l'importance de la KL loss mais le temps d'apprentissage doit être augmenté (1000 pour beta=0.01 vs 500 pour beta=0.01.\n",
    "Question: souhaite-t-on un espace très gaussien dans toutes les directions ? Ce serait intéressant si l'on souhaite générer des courbes de conso. Mais si l'on souhaite explorer l'espace latent, cela peut-être une contrainte potentiellement trop forte\n",
    "\n",
    "A vérifier mais plus on passe de conditions, plus la loss de reconstruction devrait diminuer."
   ]
  },
  {
   "cell_type": "code",
   "execution_count": 2,
   "metadata": {},
   "outputs": [],
   "source": [
    "#un code pour n'afficher que quelques resultats pendant l'entrainement de l'autoencoder\n",
    "\n",
    "nbsample=20\n",
    "from keras.callbacks import TensorBoard\n",
    "from keras.callbacks import Callback\n",
    "\n",
    "class NEpochLogger(Callback):\n",
    "    def __init__(self, display):\n",
    "        self.seen = 0\n",
    "        self.display = display\n",
    "\n",
    "    def on_epoch_end(self, epoch, logs={}):\n",
    "        self.seen += logs.get('size', 0)\n",
    "        if epoch % self.display == 0:\n",
    "            metrics_log = ''\n",
    "            for k in self.params['metrics']:\n",
    "                if k in logs:\n",
    "                    val = logs[k]\n",
    "                    if abs(val) > 1e-3:\n",
    "                        metrics_log += ' - %s: %.4f' % (k, val)\n",
    "                    else:\n",
    "                        metrics_log += ' - %s: %.4e' % (k, val)\n",
    "            print('{} Epochs ... {}'.format(epoch, metrics_log))"
   ]
  },
  {
   "cell_type": "markdown",
   "metadata": {},
   "source": [
    "### Load and shape data "
   ]
  },
  {
   "cell_type": "code",
   "execution_count": 3,
   "metadata": {},
   "outputs": [],
   "source": [
    "# Load raw data\n",
    "path_data = os.path.join(path_main_folder, 'data')\n",
    "dict_data_conso = load_data_conso(path_data)"
   ]
  },
  {
   "cell_type": "code",
   "execution_count": 4,
   "metadata": {},
   "outputs": [],
   "source": [
    "# Load Holiday day information\n",
    "holiday_days_csv = os.path.join(path_data, \"joursFeries.csv\")\n",
    "holiday_days_df = pd.read_csv(holiday_days_csv, sep=\";\")\n",
    "holiday_days_df.ds = pd.to_datetime(holiday_days_df.ds)\n",
    "holiday_days_df['is_hd'] = 1"
   ]
  },
  {
   "cell_type": "code",
   "execution_count": 5,
   "metadata": {},
   "outputs": [],
   "source": [
    "# Unifomization\n",
    "data_conso_df, dict_colnames_conso = get_uniformed_data_conso(dict_data_conso)"
   ]
  },
  {
   "cell_type": "code",
   "execution_count": 6,
   "metadata": {},
   "outputs": [],
   "source": [
    "# Change ganularity ?\n",
    "name_granu = '30m'#'1H'\n",
    "data_conso_df = change_granularity(data_conso_df, granularity=\"30min\") #1H\""
   ]
  },
  {
   "cell_type": "code",
   "execution_count": 7,
   "metadata": {},
   "outputs": [
    {
     "data": {
      "text/html": [
       "<div>\n",
       "<style scoped>\n",
       "    .dataframe tbody tr th:only-of-type {\n",
       "        vertical-align: middle;\n",
       "    }\n",
       "\n",
       "    .dataframe tbody tr th {\n",
       "        vertical-align: top;\n",
       "    }\n",
       "\n",
       "    .dataframe thead th {\n",
       "        text-align: right;\n",
       "    }\n",
       "</style>\n",
       "<table border=\"1\" class=\"dataframe\">\n",
       "  <thead>\n",
       "    <tr style=\"text-align: right;\">\n",
       "      <th></th>\n",
       "      <th>ds</th>\n",
       "      <th>conso_nat_t0</th>\n",
       "      <th>002Th+0</th>\n",
       "      <th>005Th+0</th>\n",
       "      <th>015Th+0</th>\n",
       "      <th>027Th+0</th>\n",
       "      <th>070Th+0</th>\n",
       "      <th>110Th+0</th>\n",
       "      <th>120Th+0</th>\n",
       "      <th>130Th+0</th>\n",
       "      <th>...</th>\n",
       "      <th>630Th+0</th>\n",
       "      <th>643Th+0</th>\n",
       "      <th>645Th+0</th>\n",
       "      <th>650Th+0</th>\n",
       "      <th>675Th+0</th>\n",
       "      <th>690Th+0</th>\n",
       "      <th>747Th+0</th>\n",
       "      <th>meteo_natTh+0</th>\n",
       "      <th>type_tempo</th>\n",
       "      <th>is_holiday_day</th>\n",
       "    </tr>\n",
       "  </thead>\n",
       "  <tbody>\n",
       "    <tr>\n",
       "      <th>0</th>\n",
       "      <td>2012-12-28 00:00:00</td>\n",
       "      <td>59679.0</td>\n",
       "      <td>7.7</td>\n",
       "      <td>7.90</td>\n",
       "      <td>7.2</td>\n",
       "      <td>7.10</td>\n",
       "      <td>6.40</td>\n",
       "      <td>11.30</td>\n",
       "      <td>8.70</td>\n",
       "      <td>9.10</td>\n",
       "      <td>...</td>\n",
       "      <td>10.90</td>\n",
       "      <td>13.00</td>\n",
       "      <td>11.40</td>\n",
       "      <td>11.4</td>\n",
       "      <td>13.20</td>\n",
       "      <td>14.20</td>\n",
       "      <td>15.2</td>\n",
       "      <td>8.857143</td>\n",
       "      <td>NaN</td>\n",
       "      <td>0.0</td>\n",
       "    </tr>\n",
       "    <tr>\n",
       "      <th>1</th>\n",
       "      <td>2012-12-28 00:30:00</td>\n",
       "      <td>58103.0</td>\n",
       "      <td>7.6</td>\n",
       "      <td>7.80</td>\n",
       "      <td>7.2</td>\n",
       "      <td>7.55</td>\n",
       "      <td>6.80</td>\n",
       "      <td>11.40</td>\n",
       "      <td>9.05</td>\n",
       "      <td>9.05</td>\n",
       "      <td>...</td>\n",
       "      <td>10.90</td>\n",
       "      <td>11.45</td>\n",
       "      <td>10.95</td>\n",
       "      <td>11.1</td>\n",
       "      <td>12.95</td>\n",
       "      <td>13.90</td>\n",
       "      <td>14.7</td>\n",
       "      <td>8.764286</td>\n",
       "      <td>NaN</td>\n",
       "      <td>0.0</td>\n",
       "    </tr>\n",
       "    <tr>\n",
       "      <th>2</th>\n",
       "      <td>2012-12-28 01:00:00</td>\n",
       "      <td>55354.0</td>\n",
       "      <td>7.5</td>\n",
       "      <td>7.70</td>\n",
       "      <td>7.2</td>\n",
       "      <td>8.00</td>\n",
       "      <td>7.20</td>\n",
       "      <td>11.50</td>\n",
       "      <td>9.40</td>\n",
       "      <td>9.00</td>\n",
       "      <td>...</td>\n",
       "      <td>10.90</td>\n",
       "      <td>9.90</td>\n",
       "      <td>10.50</td>\n",
       "      <td>10.8</td>\n",
       "      <td>12.70</td>\n",
       "      <td>13.60</td>\n",
       "      <td>14.2</td>\n",
       "      <td>8.671429</td>\n",
       "      <td>NaN</td>\n",
       "      <td>0.0</td>\n",
       "    </tr>\n",
       "    <tr>\n",
       "      <th>3</th>\n",
       "      <td>2012-12-28 01:30:00</td>\n",
       "      <td>55196.0</td>\n",
       "      <td>7.5</td>\n",
       "      <td>7.55</td>\n",
       "      <td>7.0</td>\n",
       "      <td>7.90</td>\n",
       "      <td>7.25</td>\n",
       "      <td>11.45</td>\n",
       "      <td>9.65</td>\n",
       "      <td>9.00</td>\n",
       "      <td>...</td>\n",
       "      <td>10.95</td>\n",
       "      <td>9.80</td>\n",
       "      <td>9.10</td>\n",
       "      <td>10.5</td>\n",
       "      <td>12.60</td>\n",
       "      <td>13.25</td>\n",
       "      <td>13.6</td>\n",
       "      <td>8.585714</td>\n",
       "      <td>NaN</td>\n",
       "      <td>0.0</td>\n",
       "    </tr>\n",
       "    <tr>\n",
       "      <th>4</th>\n",
       "      <td>2012-12-28 02:00:00</td>\n",
       "      <td>54324.0</td>\n",
       "      <td>7.5</td>\n",
       "      <td>7.40</td>\n",
       "      <td>6.8</td>\n",
       "      <td>7.80</td>\n",
       "      <td>7.30</td>\n",
       "      <td>11.40</td>\n",
       "      <td>9.90</td>\n",
       "      <td>9.00</td>\n",
       "      <td>...</td>\n",
       "      <td>11.00</td>\n",
       "      <td>9.70</td>\n",
       "      <td>7.70</td>\n",
       "      <td>10.2</td>\n",
       "      <td>12.50</td>\n",
       "      <td>12.90</td>\n",
       "      <td>13.0</td>\n",
       "      <td>8.500000</td>\n",
       "      <td>NaN</td>\n",
       "      <td>0.0</td>\n",
       "    </tr>\n",
       "  </tbody>\n",
       "</table>\n",
       "<p>5 rows × 40 columns</p>\n",
       "</div>"
      ],
      "text/plain": [
       "                   ds  conso_nat_t0  002Th+0  005Th+0  015Th+0  027Th+0  \\\n",
       "0 2012-12-28 00:00:00       59679.0      7.7     7.90      7.2     7.10   \n",
       "1 2012-12-28 00:30:00       58103.0      7.6     7.80      7.2     7.55   \n",
       "2 2012-12-28 01:00:00       55354.0      7.5     7.70      7.2     8.00   \n",
       "3 2012-12-28 01:30:00       55196.0      7.5     7.55      7.0     7.90   \n",
       "4 2012-12-28 02:00:00       54324.0      7.5     7.40      6.8     7.80   \n",
       "\n",
       "   070Th+0  110Th+0  120Th+0  130Th+0       ...        630Th+0  643Th+0  \\\n",
       "0     6.40    11.30     8.70     9.10       ...          10.90    13.00   \n",
       "1     6.80    11.40     9.05     9.05       ...          10.90    11.45   \n",
       "2     7.20    11.50     9.40     9.00       ...          10.90     9.90   \n",
       "3     7.25    11.45     9.65     9.00       ...          10.95     9.80   \n",
       "4     7.30    11.40     9.90     9.00       ...          11.00     9.70   \n",
       "\n",
       "   645Th+0  650Th+0  675Th+0  690Th+0  747Th+0  meteo_natTh+0  type_tempo  \\\n",
       "0    11.40     11.4    13.20    14.20     15.2       8.857143         NaN   \n",
       "1    10.95     11.1    12.95    13.90     14.7       8.764286         NaN   \n",
       "2    10.50     10.8    12.70    13.60     14.2       8.671429         NaN   \n",
       "3     9.10     10.5    12.60    13.25     13.6       8.585714         NaN   \n",
       "4     7.70     10.2    12.50    12.90     13.0       8.500000         NaN   \n",
       "\n",
       "   is_holiday_day  \n",
       "0             0.0  \n",
       "1             0.0  \n",
       "2             0.0  \n",
       "3             0.0  \n",
       "4             0.0  \n",
       "\n",
       "[5 rows x 40 columns]"
      ]
     },
     "execution_count": 7,
     "metadata": {},
     "output_type": "execute_result"
    }
   ],
   "source": [
    "data_conso_df.head(5)"
   ]
  },
  {
   "cell_type": "code",
   "execution_count": 8,
   "metadata": {},
   "outputs": [],
   "source": [
    "#changer la conso nat d'une moyenne a une moyenne pondérée\n",
    "stations_meteo_csv = os.path.join(path_data, \"StationsMeteoRTE.csv\")\n",
    "stations_meteo_df = pd.read_csv(stations_meteo_csv, sep=\";\")\n",
    "colsToKeepWeather=[s for s in data_conso_df.columns.get_values() if 'Th+0' in s]\n",
    "colsToKeepWeather.remove('meteo_natTh+0')\n",
    "data_conso_df['meteo_natTh+0_Old'] = data_conso_df['meteo_natTh+0'] \n",
    "data_conso_df['meteo_natTh+0'] = np.dot(data_conso_df[colsToKeepWeather],stations_meteo_df['Poids'])\n",
    "\n",
    "data_conso_df = pd.merge(data_conso_df, holiday_days_df[['ds', 'is_hd']], on='ds', how ='left')\n",
    "data_conso_df.loc[data_conso_df['is_hd'].isna(),'is_hd'] = 0"
   ]
  },
  {
   "cell_type": "code",
   "execution_count": 9,
   "metadata": {},
   "outputs": [
    {
     "data": {
      "text/html": [
       "<div>\n",
       "<style scoped>\n",
       "    .dataframe tbody tr th:only-of-type {\n",
       "        vertical-align: middle;\n",
       "    }\n",
       "\n",
       "    .dataframe tbody tr th {\n",
       "        vertical-align: top;\n",
       "    }\n",
       "\n",
       "    .dataframe thead th {\n",
       "        text-align: right;\n",
       "    }\n",
       "</style>\n",
       "<table border=\"1\" class=\"dataframe\">\n",
       "  <thead>\n",
       "    <tr style=\"text-align: right;\">\n",
       "      <th></th>\n",
       "      <th>ds</th>\n",
       "      <th>conso_nat_t0</th>\n",
       "      <th>002Th+0</th>\n",
       "      <th>005Th+0</th>\n",
       "      <th>015Th+0</th>\n",
       "      <th>027Th+0</th>\n",
       "      <th>070Th+0</th>\n",
       "      <th>110Th+0</th>\n",
       "      <th>120Th+0</th>\n",
       "      <th>130Th+0</th>\n",
       "      <th>...</th>\n",
       "      <th>645Th+0</th>\n",
       "      <th>650Th+0</th>\n",
       "      <th>675Th+0</th>\n",
       "      <th>690Th+0</th>\n",
       "      <th>747Th+0</th>\n",
       "      <th>meteo_natTh+0</th>\n",
       "      <th>type_tempo</th>\n",
       "      <th>is_holiday_day</th>\n",
       "      <th>meteo_natTh+0_Old</th>\n",
       "      <th>is_hd</th>\n",
       "    </tr>\n",
       "  </thead>\n",
       "  <tbody>\n",
       "    <tr>\n",
       "      <th>0</th>\n",
       "      <td>2012-12-28 00:00:00</td>\n",
       "      <td>59679.0</td>\n",
       "      <td>7.7</td>\n",
       "      <td>7.90</td>\n",
       "      <td>7.2</td>\n",
       "      <td>7.10</td>\n",
       "      <td>6.40</td>\n",
       "      <td>11.30</td>\n",
       "      <td>8.70</td>\n",
       "      <td>9.10</td>\n",
       "      <td>...</td>\n",
       "      <td>11.40</td>\n",
       "      <td>11.4</td>\n",
       "      <td>13.20</td>\n",
       "      <td>14.20</td>\n",
       "      <td>15.2</td>\n",
       "      <td>8.817600</td>\n",
       "      <td>NaN</td>\n",
       "      <td>0.0</td>\n",
       "      <td>8.857143</td>\n",
       "      <td>0.0</td>\n",
       "    </tr>\n",
       "    <tr>\n",
       "      <th>1</th>\n",
       "      <td>2012-12-28 00:30:00</td>\n",
       "      <td>58103.0</td>\n",
       "      <td>7.6</td>\n",
       "      <td>7.80</td>\n",
       "      <td>7.2</td>\n",
       "      <td>7.55</td>\n",
       "      <td>6.80</td>\n",
       "      <td>11.40</td>\n",
       "      <td>9.05</td>\n",
       "      <td>9.05</td>\n",
       "      <td>...</td>\n",
       "      <td>10.95</td>\n",
       "      <td>11.1</td>\n",
       "      <td>12.95</td>\n",
       "      <td>13.90</td>\n",
       "      <td>14.7</td>\n",
       "      <td>8.690875</td>\n",
       "      <td>NaN</td>\n",
       "      <td>0.0</td>\n",
       "      <td>8.764286</td>\n",
       "      <td>0.0</td>\n",
       "    </tr>\n",
       "    <tr>\n",
       "      <th>2</th>\n",
       "      <td>2012-12-28 01:00:00</td>\n",
       "      <td>55354.0</td>\n",
       "      <td>7.5</td>\n",
       "      <td>7.70</td>\n",
       "      <td>7.2</td>\n",
       "      <td>8.00</td>\n",
       "      <td>7.20</td>\n",
       "      <td>11.50</td>\n",
       "      <td>9.40</td>\n",
       "      <td>9.00</td>\n",
       "      <td>...</td>\n",
       "      <td>10.50</td>\n",
       "      <td>10.8</td>\n",
       "      <td>12.70</td>\n",
       "      <td>13.60</td>\n",
       "      <td>14.2</td>\n",
       "      <td>8.564150</td>\n",
       "      <td>NaN</td>\n",
       "      <td>0.0</td>\n",
       "      <td>8.671429</td>\n",
       "      <td>0.0</td>\n",
       "    </tr>\n",
       "    <tr>\n",
       "      <th>3</th>\n",
       "      <td>2012-12-28 01:30:00</td>\n",
       "      <td>55196.0</td>\n",
       "      <td>7.5</td>\n",
       "      <td>7.55</td>\n",
       "      <td>7.0</td>\n",
       "      <td>7.90</td>\n",
       "      <td>7.25</td>\n",
       "      <td>11.45</td>\n",
       "      <td>9.65</td>\n",
       "      <td>9.00</td>\n",
       "      <td>...</td>\n",
       "      <td>9.10</td>\n",
       "      <td>10.5</td>\n",
       "      <td>12.60</td>\n",
       "      <td>13.25</td>\n",
       "      <td>13.6</td>\n",
       "      <td>8.440525</td>\n",
       "      <td>NaN</td>\n",
       "      <td>0.0</td>\n",
       "      <td>8.585714</td>\n",
       "      <td>0.0</td>\n",
       "    </tr>\n",
       "    <tr>\n",
       "      <th>4</th>\n",
       "      <td>2012-12-28 02:00:00</td>\n",
       "      <td>54324.0</td>\n",
       "      <td>7.5</td>\n",
       "      <td>7.40</td>\n",
       "      <td>6.8</td>\n",
       "      <td>7.80</td>\n",
       "      <td>7.30</td>\n",
       "      <td>11.40</td>\n",
       "      <td>9.90</td>\n",
       "      <td>9.00</td>\n",
       "      <td>...</td>\n",
       "      <td>7.70</td>\n",
       "      <td>10.2</td>\n",
       "      <td>12.50</td>\n",
       "      <td>12.90</td>\n",
       "      <td>13.0</td>\n",
       "      <td>8.316900</td>\n",
       "      <td>NaN</td>\n",
       "      <td>0.0</td>\n",
       "      <td>8.500000</td>\n",
       "      <td>0.0</td>\n",
       "    </tr>\n",
       "  </tbody>\n",
       "</table>\n",
       "<p>5 rows × 42 columns</p>\n",
       "</div>"
      ],
      "text/plain": [
       "                   ds  conso_nat_t0  002Th+0  005Th+0  015Th+0  027Th+0  \\\n",
       "0 2012-12-28 00:00:00       59679.0      7.7     7.90      7.2     7.10   \n",
       "1 2012-12-28 00:30:00       58103.0      7.6     7.80      7.2     7.55   \n",
       "2 2012-12-28 01:00:00       55354.0      7.5     7.70      7.2     8.00   \n",
       "3 2012-12-28 01:30:00       55196.0      7.5     7.55      7.0     7.90   \n",
       "4 2012-12-28 02:00:00       54324.0      7.5     7.40      6.8     7.80   \n",
       "\n",
       "   070Th+0  110Th+0  120Th+0  130Th+0  ...    645Th+0  650Th+0  675Th+0  \\\n",
       "0     6.40    11.30     8.70     9.10  ...      11.40     11.4    13.20   \n",
       "1     6.80    11.40     9.05     9.05  ...      10.95     11.1    12.95   \n",
       "2     7.20    11.50     9.40     9.00  ...      10.50     10.8    12.70   \n",
       "3     7.25    11.45     9.65     9.00  ...       9.10     10.5    12.60   \n",
       "4     7.30    11.40     9.90     9.00  ...       7.70     10.2    12.50   \n",
       "\n",
       "   690Th+0  747Th+0  meteo_natTh+0  type_tempo  is_holiday_day  \\\n",
       "0    14.20     15.2       8.817600         NaN             0.0   \n",
       "1    13.90     14.7       8.690875         NaN             0.0   \n",
       "2    13.60     14.2       8.564150         NaN             0.0   \n",
       "3    13.25     13.6       8.440525         NaN             0.0   \n",
       "4    12.90     13.0       8.316900         NaN             0.0   \n",
       "\n",
       "   meteo_natTh+0_Old  is_hd  \n",
       "0           8.857143    0.0  \n",
       "1           8.764286    0.0  \n",
       "2           8.671429    0.0  \n",
       "3           8.585714    0.0  \n",
       "4           8.500000    0.0  \n",
       "\n",
       "[5 rows x 42 columns]"
      ]
     },
     "execution_count": 9,
     "metadata": {},
     "output_type": "execute_result"
    }
   ],
   "source": [
    "data_conso_df.head(5)"
   ]
  },
  {
   "cell_type": "code",
   "execution_count": 10,
   "metadata": {},
   "outputs": [],
   "source": [
    "# Get x_conso dataframe for autoencoder purpose\n",
    "x_conso = get_x_conso_autoencoder(data_conso_df, dict_colnames_conso)"
   ]
  },
  {
   "cell_type": "code",
   "execution_count": 11,
   "metadata": {},
   "outputs": [
    {
     "data": {
      "text/html": [
       "<div>\n",
       "<style scoped>\n",
       "    .dataframe tbody tr th:only-of-type {\n",
       "        vertical-align: middle;\n",
       "    }\n",
       "\n",
       "    .dataframe tbody tr th {\n",
       "        vertical-align: top;\n",
       "    }\n",
       "\n",
       "    .dataframe thead th {\n",
       "        text-align: right;\n",
       "    }\n",
       "</style>\n",
       "<table border=\"1\" class=\"dataframe\">\n",
       "  <thead>\n",
       "    <tr style=\"text-align: right;\">\n",
       "      <th></th>\n",
       "      <th>ds</th>\n",
       "      <th>conso_nat_t0</th>\n",
       "      <th>meteo_natTh+0</th>\n",
       "      <th>is_holiday_day</th>\n",
       "      <th>meteo_natTh+0_Old</th>\n",
       "    </tr>\n",
       "  </thead>\n",
       "  <tbody>\n",
       "    <tr>\n",
       "      <th>0</th>\n",
       "      <td>2012-12-28 00:00:00</td>\n",
       "      <td>59679.0</td>\n",
       "      <td>8.817600</td>\n",
       "      <td>0.0</td>\n",
       "      <td>8.857143</td>\n",
       "    </tr>\n",
       "    <tr>\n",
       "      <th>1</th>\n",
       "      <td>2012-12-28 00:30:00</td>\n",
       "      <td>58103.0</td>\n",
       "      <td>8.690875</td>\n",
       "      <td>0.0</td>\n",
       "      <td>8.764286</td>\n",
       "    </tr>\n",
       "    <tr>\n",
       "      <th>2</th>\n",
       "      <td>2012-12-28 01:00:00</td>\n",
       "      <td>55354.0</td>\n",
       "      <td>8.564150</td>\n",
       "      <td>0.0</td>\n",
       "      <td>8.671429</td>\n",
       "    </tr>\n",
       "    <tr>\n",
       "      <th>3</th>\n",
       "      <td>2012-12-28 01:30:00</td>\n",
       "      <td>55196.0</td>\n",
       "      <td>8.440525</td>\n",
       "      <td>0.0</td>\n",
       "      <td>8.585714</td>\n",
       "    </tr>\n",
       "    <tr>\n",
       "      <th>4</th>\n",
       "      <td>2012-12-28 02:00:00</td>\n",
       "      <td>54324.0</td>\n",
       "      <td>8.316900</td>\n",
       "      <td>0.0</td>\n",
       "      <td>8.500000</td>\n",
       "    </tr>\n",
       "  </tbody>\n",
       "</table>\n",
       "</div>"
      ],
      "text/plain": [
       "                   ds  conso_nat_t0  meteo_natTh+0  is_holiday_day  \\\n",
       "0 2012-12-28 00:00:00       59679.0       8.817600             0.0   \n",
       "1 2012-12-28 00:30:00       58103.0       8.690875             0.0   \n",
       "2 2012-12-28 01:00:00       55354.0       8.564150             0.0   \n",
       "3 2012-12-28 01:30:00       55196.0       8.440525             0.0   \n",
       "4 2012-12-28 02:00:00       54324.0       8.316900             0.0   \n",
       "\n",
       "   meteo_natTh+0_Old  \n",
       "0           8.857143  \n",
       "1           8.764286  \n",
       "2           8.671429  \n",
       "3           8.585714  \n",
       "4           8.500000  "
      ]
     },
     "execution_count": 11,
     "metadata": {},
     "output_type": "execute_result"
    }
   ],
   "source": [
    "x_conso.head(5)"
   ]
  },
  {
   "cell_type": "markdown",
   "metadata": {},
   "source": [
    "# Creer le dataset de l'autoencodeur 1 - weekday + temperature\n"
   ]
  },
  {
   "cell_type": "code",
   "execution_count": 12,
   "metadata": {},
   "outputs": [],
   "source": [
    "# Split train and test\n",
    "#date_test_start = datetime.date(2014,1,1)\n",
    "#date_test_end = datetime.date(2015,1,1)\n",
    "#dict_xconso = get_train_test_x_conso(x_conso, date_test_start, date_test_end)\n",
    "\n",
    "dict_xconso = {'train': x_conso}"
   ]
  },
  {
   "cell_type": "code",
   "execution_count": 13,
   "metadata": {},
   "outputs": [],
   "source": [
    "# Normalize x_conso\n",
    "type_scaler = 's'\n",
    "dict_xconso, _ = normalize_xconso(dict_xconso, dict_colnames_conso, type_scaler = 'standard')"
   ]
  },
  {
   "cell_type": "code",
   "execution_count": 14,
   "metadata": {},
   "outputs": [],
   "source": [
    "name_type_cond = 'm-wd-temp'\n",
    "name_train = '0' # 1: first period ; 0 all periods\n",
    "name_type_x = 'c'\n",
    "type_x = ['conso']\n",
    "type_cond = ['weekday','holidays','temperature']#normalement is ne va pas chercher quel jour de la semaine, mais si c'est un jour weekend ou semaine ['weekday', 'temperature']"
   ]
  },
  {
   "cell_type": "code",
   "execution_count": 36,
   "metadata": {},
   "outputs": [
    {
     "name": "stdout",
     "output_type": "stream",
     "text": [
      "(1830, 50)\n"
     ]
    }
   ],
   "source": [
    "dataset = get_dataset_autoencoder(dict_xconso=dict_xconso, type_x=type_x, type_cond=type_cond, slidingWindowSize=0)"
   ]
  },
  {
   "cell_type": "code",
   "execution_count": 39,
   "metadata": {},
   "outputs": [],
   "source": [
    "name_set_plot = 'train'\n",
    "version = '-v1'\n",
    "nPoints=1500"
   ]
  },
  {
   "cell_type": "code",
   "execution_count": 40,
   "metadata": {},
   "outputs": [],
   "source": [
    "calendar_info = pd.DataFrame(dataset[name_set_plot]['ds'])\n",
    "calendar_info['month'] = calendar_info.ds.dt.month\n",
    "calendar_info['weekday'] = calendar_info.ds.dt.weekday\n",
    "calendar_info['is_weekday'] = (calendar_info.weekday < 5).apply(lambda x:int(x))\n",
    "calendar_info = pd.merge(calendar_info, holiday_days_df[['ds', 'is_hd']], on='ds', how ='left')\n",
    "calendar_info.loc[calendar_info['is_hd'].isna(),'is_hd'] = 0"
   ]
  },
  {
   "cell_type": "code",
   "execution_count": 41,
   "metadata": {},
   "outputs": [],
   "source": [
    "# modify dataset to fit with new data format\n",
    "#Pass a constant vector for conditions\n",
    "nPoints=dataset['train']['x'][1].shape[0]\n",
    "cond_pre =dataset['train']['x'][1][:,:2]#[0] #dataset['train']['x'][1][:,:14] #les dimensions pour les conditions sans embeddings préalable\n",
    "#to_emb=dataset['train']['x'][1][:,1:]\n",
    "#cond_pre =dataset['train']['x'][1][:,:]\n",
    "#cond_pre=np.zeros((nPoints,1))\n",
    "to_emb=dataset['train']['x'][1][:,2:]\n",
    "x = dataset['train']['x'][0]\n",
    "\n",
    "dataset['train']['x'] = [x, cond_pre, to_emb]"
   ]
  },
  {
   "cell_type": "code",
   "execution_count": 45,
   "metadata": {},
   "outputs": [
    {
     "data": {
      "text/plain": [
       "array([[-0.56982836, -0.58872302, -0.60761768, ..., -0.5602487 ,\n",
       "        -0.58291186, -0.60116166],\n",
       "       [-0.61941147, -0.64009906, -0.66078665, ..., -0.66328407,\n",
       "        -0.6893467 , -0.70793198],\n",
       "       [-0.72651726, -0.74292569, -0.75933411, ..., -0.81206696,\n",
       "        -0.82229893, -0.84605052],\n",
       "       ...,\n",
       "       [-1.56186341, -1.58800805, -1.61415269, ..., -0.71803349,\n",
       "        -0.7029595 , -0.69711852],\n",
       "       [-0.69127754, -0.71038094, -0.72948435, ..., -0.15636735,\n",
       "        -0.17504209, -0.19124923],\n",
       "       [-0.20745637, -0.22544898, -0.24344159, ..., -0.53536023,\n",
       "        -0.54258783, -0.54258783]])"
      ]
     },
     "execution_count": 45,
     "metadata": {},
     "output_type": "execute_result"
    }
   ],
   "source": [
    "dataset['train']['x'][2]"
   ]
  },
  {
   "cell_type": "markdown",
   "metadata": {},
   "source": [
    "### Build model"
   ]
  },
  {
   "cell_type": "code",
   "execution_count": 46,
   "metadata": {
    "lines_to_next_cell": 2
   },
   "outputs": [],
   "source": [
    "#on sauvegarde le dataset\n",
    "path_out = os.path.join(path_main_folder, 'out')"
   ]
  },
  {
   "cell_type": "code",
   "execution_count": 47,
   "metadata": {},
   "outputs": [],
   "source": [
    "# Parameters\n",
    "e_dims=[48,35,24,12]#[24,12]#[48,40,30,20,14,8]\n",
    "d_dims=[48,35,24,12]#[12,24]#[48,40,30,20,14,8]\n",
    "to_emb_dim=dataset['train']['x'][2].shape[1]\n",
    "cond_pre_dim = 2#dataset['train']['x'][1].shape[1]\n",
    "input_dim = dataset['train']['x'][0].shape[1]\n",
    "z_dim= 5\n",
    "beta = 0.01 #0.1 pour une granularite 48"
   ]
  },
  {
   "cell_type": "code",
   "execution_count": 48,
   "metadata": {},
   "outputs": [],
   "source": [
    "name_model = 'cvae_conso_WeekDay_EmbTemp_Holidays-30min-journalier'.format(name_granu,name_type_x, name_type_cond)\n",
    "#name_model = 'cvae_classification'"
   ]
  },
  {
   "cell_type": "code",
   "execution_count": 49,
   "metadata": {},
   "outputs": [
    {
     "name": "stdout",
     "output_type": "stream",
     "text": [
      "2\n",
      "3\n",
      "0\n",
      "1\n",
      "complete model: \n",
      "__________________________________________________________________________________________________\n",
      "Layer (type)                    Output Shape         Param #     Connected to                     \n",
      "==================================================================================================\n",
      "to_emb (InputLayer)             (None, 48)           0                                            \n",
      "__________________________________________________________________________________________________\n",
      "cond_pre (InputLayer)           (None, 2)            0                                            \n",
      "__________________________________________________________________________________________________\n",
      "embedding (Model)               (None, 4)            428         to_emb[0][0]                     \n",
      "__________________________________________________________________________________________________\n",
      "x_true (InputLayer)             (None, 48)           0                                            \n",
      "__________________________________________________________________________________________________\n",
      "conc_cond (Concatenate)         (None, 6)            0           cond_pre[0][0]                   \n",
      "                                                                 embedding[1][0]                  \n",
      "__________________________________________________________________________________________________\n",
      "encoder (Model)                 [(None, 5), (None, 5 5649        x_true[0][0]                     \n",
      "                                                                 conc_cond[0][0]                  \n",
      "__________________________________________________________________________________________________\n",
      "sample_z (Lambda)               (None, 5)            0           encoder[1][0]                    \n",
      "                                                                 encoder[1][1]                    \n",
      "__________________________________________________________________________________________________\n",
      "decoder (Model)                 (None, 48)           12672       sample_z[0][0]                   \n",
      "                                                                 conc_cond[0][0]                  \n",
      "==================================================================================================\n",
      "Total params: 18,749\n",
      "Trainable params: 18,749\n",
      "Non-trainable params: 0\n",
      "__________________________________________________________________________________________________\n",
      "embedding: \n",
      "_________________________________________________________________\n",
      "Layer (type)                 Output Shape              Param #   \n",
      "=================================================================\n",
      "emb_input (InputLayer)       (None, 48)                0         \n",
      "_________________________________________________________________\n",
      "emb_dense_0 (Dense)          (None, 8)                 392       \n",
      "_________________________________________________________________\n",
      "emb_dense_last (Dense)       (None, 4)                 36        \n",
      "=================================================================\n",
      "Total params: 428\n",
      "Trainable params: 428\n",
      "Non-trainable params: 0\n",
      "_________________________________________________________________\n",
      "encoder: \n",
      "__________________________________________________________________________________________________\n",
      "Layer (type)                    Output Shape         Param #     Connected to                     \n",
      "==================================================================================================\n",
      "enc_x_true (InputLayer)         (None, 48)           0                                            \n",
      "__________________________________________________________________________________________________\n",
      "enc_cond (InputLayer)           (None, 6)            0                                            \n",
      "__________________________________________________________________________________________________\n",
      "enc_input (Concatenate)         (None, 54)           0           enc_x_true[0][0]                 \n",
      "                                                                 enc_cond[0][0]                   \n",
      "__________________________________________________________________________________________________\n",
      "enc_dense_0 (Dense)             (None, 48)           2640        enc_input[0][0]                  \n",
      "__________________________________________________________________________________________________\n",
      "dropout_25 (Dropout)            (None, 48)           0           enc_dense_0[0][0]                \n",
      "__________________________________________________________________________________________________\n",
      "enc_dense_1 (Dense)             (None, 35)           1715        dropout_25[0][0]                 \n",
      "__________________________________________________________________________________________________\n",
      "dropout_26 (Dropout)            (None, 35)           0           enc_dense_1[0][0]                \n",
      "__________________________________________________________________________________________________\n",
      "enc_dense_2 (Dense)             (None, 24)           864         dropout_26[0][0]                 \n",
      "__________________________________________________________________________________________________\n",
      "dropout_27 (Dropout)            (None, 24)           0           enc_dense_2[0][0]                \n",
      "__________________________________________________________________________________________________\n",
      "enc_dense_3 (Dense)             (None, 12)           300         dropout_27[0][0]                 \n",
      "__________________________________________________________________________________________________\n",
      "dropout_28 (Dropout)            (None, 12)           0           enc_dense_3[0][0]                \n",
      "__________________________________________________________________________________________________\n",
      "latent_dense_mu (Dense)         (None, 5)            65          dropout_28[0][0]                 \n",
      "__________________________________________________________________________________________________\n",
      "latent_dense_log_sigma (Dense)  (None, 5)            65          dropout_28[0][0]                 \n",
      "==================================================================================================\n",
      "Total params: 5,649\n",
      "Trainable params: 5,649\n",
      "Non-trainable params: 0\n",
      "__________________________________________________________________________________________________\n",
      "decoder: \n",
      "__________________________________________________________________________________________________\n",
      "Layer (type)                    Output Shape         Param #     Connected to                     \n",
      "==================================================================================================\n",
      "dec_z (InputLayer)              (None, 5)            0                                            \n",
      "__________________________________________________________________________________________________\n",
      "dec_cond (InputLayer)           (None, 6)            0                                            \n",
      "__________________________________________________________________________________________________\n",
      "dec_input (Concatenate)         (None, 11)           0           dec_z[0][0]                      \n",
      "                                                                 dec_cond[0][0]                   \n",
      "__________________________________________________________________________________________________\n",
      "dense_13 (Dense)                (None, 48)           576         dec_input[0][0]                  \n",
      "__________________________________________________________________________________________________\n",
      "enc_dense_resnet0 (Concatenate) (None, 59)           0           dense_13[0][0]                   \n",
      "                                                                 dec_input[0][0]                  \n",
      "__________________________________________________________________________________________________\n",
      "dropout_29 (Dropout)            (None, 59)           0           enc_dense_resnet0[0][0]          \n",
      "__________________________________________________________________________________________________\n",
      "dense_14 (Dense)                (None, 35)           2100        dropout_29[0][0]                 \n",
      "__________________________________________________________________________________________________\n",
      "enc_dense_resnet1 (Concatenate) (None, 94)           0           dense_14[0][0]                   \n",
      "                                                                 dropout_29[0][0]                 \n",
      "__________________________________________________________________________________________________\n",
      "dropout_30 (Dropout)            (None, 94)           0           enc_dense_resnet1[0][0]          \n",
      "__________________________________________________________________________________________________\n",
      "dense_15 (Dense)                (None, 24)           2280        dropout_30[0][0]                 \n",
      "__________________________________________________________________________________________________\n",
      "enc_dense_resnet2 (Concatenate) (None, 118)          0           dense_15[0][0]                   \n",
      "                                                                 dropout_30[0][0]                 \n",
      "__________________________________________________________________________________________________\n",
      "dropout_31 (Dropout)            (None, 118)          0           enc_dense_resnet2[0][0]          \n",
      "__________________________________________________________________________________________________\n",
      "dense_16 (Dense)                (None, 12)           1428        dropout_31[0][0]                 \n",
      "__________________________________________________________________________________________________\n",
      "enc_dense_resnet3 (Concatenate) (None, 130)          0           dense_16[0][0]                   \n",
      "                                                                 dropout_31[0][0]                 \n",
      "__________________________________________________________________________________________________\n",
      "dropout_32 (Dropout)            (None, 130)          0           enc_dense_resnet3[0][0]          \n",
      "__________________________________________________________________________________________________\n",
      "dec_x_hat (Dense)               (None, 48)           6288        dropout_32[0][0]                 \n",
      "==================================================================================================\n",
      "Total params: 12,672\n",
      "Trainable params: 12,672\n",
      "Non-trainable params: 0\n",
      "__________________________________________________________________________________________________\n"
     ]
    }
   ],
   "source": [
    "model = CVAE_temp(input_dim=input_dim,\n",
    "                  e_dims=e_dims, \n",
    "                  d_dims=d_dims, \n",
    "                  cond_pre_dim=cond_pre_dim,\n",
    "                  z_dim=z_dim, \n",
    "                  beta=beta,\n",
    "                  name=name_model, \n",
    "                  output=path_out,\n",
    "                 to_emb_dim=to_emb_dim,\n",
    "                 emb_dims=[8,4])"
   ]
  },
  {
   "cell_type": "markdown",
   "metadata": {},
   "source": [
    "### Trainning model "
   ]
  },
  {
   "cell_type": "code",
   "execution_count": 50,
   "metadata": {},
   "outputs": [],
   "source": [
    "from keras.callbacks import TensorBoard\n",
    "from time import time\n",
    "\n",
    "#embeddingsMetadata = {'dec_dense_0': 'metadata.tsv'}\n",
    "tensorboard = TensorBoard(log_dir=\"logs/{}\".format(name_model +str(time())),write_graph=True)#,write_images=True,embeddings_freq=10, embeddings_layer_names=['dec_dense_0'],embeddings_metadata= embeddingsMetadata)\n",
    "#os.path.join(path_out,name_model)\n",
    "\n",
    " #tensorboard = TensorBoard(log_dir=model_path,write_graph=True,write_images=True)"
   ]
  },
  {
   "cell_type": "code",
   "execution_count": 87,
   "metadata": {},
   "outputs": [
    {
     "name": "stdout",
     "output_type": "stream",
     "text": [
      "\n",
      "\n",
      "--- START TRAINING ---\n",
      "\n",
      "0 Epochs ...  - loss: 0.1141 - kl_loss: 5.9160 - recon_loss: 0.0549\n",
      "50 Epochs ...  - loss: 0.1135 - kl_loss: 5.8612 - recon_loss: 0.0549\n",
      "100 Epochs ...  - loss: 0.1123 - kl_loss: 5.8114 - recon_loss: 0.0542\n",
      "150 Epochs ...  - loss: 0.1119 - kl_loss: 5.7943 - recon_loss: 0.0540\n",
      "200 Epochs ...  - loss: 0.1117 - kl_loss: 5.6616 - recon_loss: 0.0551\n",
      "250 Epochs ...  - loss: 0.1102 - kl_loss: 5.7183 - recon_loss: 0.0530\n",
      "300 Epochs ...  - loss: 0.1106 - kl_loss: 5.7049 - recon_loss: 0.0535\n",
      "350 Epochs ...  - loss: 0.1083 - kl_loss: 5.6254 - recon_loss: 0.0521\n",
      "400 Epochs ...  - loss: 0.1079 - kl_loss: 5.5571 - recon_loss: 0.0523\n",
      "450 Epochs ...  - loss: 0.1066 - kl_loss: 5.5493 - recon_loss: 0.0511\n",
      "500 Epochs ...  - loss: 0.1053 - kl_loss: 5.5159 - recon_loss: 0.0502\n",
      "550 Epochs ...  - loss: 0.1069 - kl_loss: 5.4726 - recon_loss: 0.0522\n",
      "600 Epochs ...  - loss: 0.1056 - kl_loss: 5.4433 - recon_loss: 0.0511\n",
      "650 Epochs ...  - loss: 0.1038 - kl_loss: 5.3745 - recon_loss: 0.0501\n",
      "700 Epochs ...  - loss: 0.1044 - kl_loss: 5.3481 - recon_loss: 0.0510\n",
      "750 Epochs ...  - loss: 0.1035 - kl_loss: 5.3954 - recon_loss: 0.0496\n",
      "800 Epochs ...  - loss: 0.1036 - kl_loss: 5.4054 - recon_loss: 0.0496\n",
      "850 Epochs ...  - loss: 0.1041 - kl_loss: 5.4167 - recon_loss: 0.0499\n",
      "900 Epochs ...  - loss: 0.1047 - kl_loss: 5.3959 - recon_loss: 0.0508\n",
      "950 Epochs ...  - loss: 0.1034 - kl_loss: 5.3531 - recon_loss: 0.0499\n"
     ]
    },
    {
     "data": {
      "image/png": "[encoded data removed]",
      "text/plain": [
       "<Figure size 432x288 with 1 Axes>"
      ]
     },
     "metadata": {
      "needs_background": "light"
     },
     "output_type": "display_data"
    }
   ],
   "source": [
    "#model.main_train(dataset, training_epochs=200, batch_size=20, verbose=False,callbacks=[tensorboard])\n",
    "out_batch = NEpochLogger(display=50)\n",
    "model.main_train(dataset, training_epochs=1000, batch_size=20, verbose=False,callbacks=[tensorboard,out_batch])\n",
    "\n",
    "#visualizer = LatentSpaceVisualizer(model_folder_path=model_path, dataset_path=labellisation_data_folder + 'sequences_dataset/sequences_et_labels.npz')\n",
    " #   visualizer.visualize_embedding_after_training()"
   ]
  },
  {
   "cell_type": "code",
   "execution_count": 88,
   "metadata": {},
   "outputs": [],
   "source": [
    "with open(os.path.join(path_out,name_model,\"config.txt\"),'w') as file: \n",
    "    file.write(str(cond_pre_dim) + '\\n')\n",
    "    file.write(str(to_emb_dim) + '\\n')\n",
    "    file.write(str(e_dims) + '\\n') \n",
    "    file.write(str(d_dims) + '\\n') \n",
    "    file.write(str(z_dim) + '\\n')\n",
    "    file.write(str(beta) + '\\n')"
   ]
  },
  {
   "cell_type": "code",
   "execution_count": 89,
   "metadata": {},
   "outputs": [],
   "source": [
    "#sauvegarde du dataset associé\n",
    "name_dataset = 'dataset.pickle'\n",
    "\n",
    "with open( os.path.join(path_out,name_model, name_dataset), \"wb\" ) as file:\n",
    "    pickle.dump( dataset, file )"
   ]
  },
  {
   "cell_type": "markdown",
   "metadata": {},
   "source": [
    "## Loading model "
   ]
  },
  {
   "cell_type": "code",
   "execution_count": 90,
   "metadata": {},
   "outputs": [],
   "source": [
    "model.load_model(os.path.join(path_out, name_model, 'models'))"
   ]
  },
  {
   "cell_type": "markdown",
   "metadata": {},
   "source": [
    "### Analysis of the latent space"
   ]
  },
  {
   "cell_type": "code",
   "execution_count": 91,
   "metadata": {},
   "outputs": [],
   "source": [
    "name_set_plot = 'train'\n",
    "version = '-v1'\n",
    "nPoints=1500"
   ]
  },
  {
   "cell_type": "code",
   "execution_count": 92,
   "metadata": {},
   "outputs": [],
   "source": [
    "temp_emb = model.embedding.predict(dataset['train']['x'][2])\n",
    "cond_pre = dataset['train']['x'][1]\n",
    "cond_emb = model.embedding.predict(dataset['train']['x'][2])\n",
    "cond = np.concatenate((cond_pre, cond_emb), axis=1)\n",
    "\n",
    "#cond  = dataset['train']['x'][1]\n",
    "x_input = dataset['train']['x'][0]\n",
    "\n",
    "input_encoder = [x_input, cond]"
   ]
  },
  {
   "cell_type": "code",
   "execution_count": 93,
   "metadata": {},
   "outputs": [],
   "source": [
    "x_encoded = model.encoder.predict(input_encoder)[0]\n",
    "x_hat = model.cvae.predict(x=dataset['train']['x'])"
   ]
  },
  {
   "cell_type": "code",
   "execution_count": 94,
   "metadata": {},
   "outputs": [
    {
     "ename": "FileExistsError",
     "evalue": "[Errno 17] File exists: '/home/restor/partage/apogee-parades/AED_autoencoder/notebooks/logs/projector_Conso_WeekDay_Temp_Holidays_4couches'",
     "output_type": "error",
     "traceback": [
      "\u001b[0;31m---------------------------------------------------------------------------\u001b[0m",
      "\u001b[0;31mFileExistsError\u001b[0m                           Traceback (most recent call last)",
      "\u001b[0;32m<ipython-input-94-879e20edc33d>\u001b[0m in \u001b[0;36m<module>\u001b[0;34m\u001b[0m\n\u001b[1;32m      1\u001b[0m \u001b[0mlog_dir\u001b[0m\u001b[0;34m=\u001b[0m\u001b[0mpath_main_folder\u001b[0m\u001b[0;34m+\u001b[0m\u001b[0;34m\"/notebooks/logs/projector_Conso_WeekDay_Temp_Holidays_4couches\"\u001b[0m\u001b[0;34m\u001b[0m\u001b[0m\n\u001b[0;32m----> 2\u001b[0;31m \u001b[0mos\u001b[0m\u001b[0;34m.\u001b[0m\u001b[0mmakedirs\u001b[0m\u001b[0;34m(\u001b[0m\u001b[0mlog_dir\u001b[0m\u001b[0;34m)\u001b[0m\u001b[0;34m\u001b[0m\u001b[0m\n\u001b[0m",
      "\u001b[0;32m/usr/lib64/python3.6/os.py\u001b[0m in \u001b[0;36mmakedirs\u001b[0;34m(name, mode, exist_ok)\u001b[0m\n\u001b[1;32m    218\u001b[0m             \u001b[0;32mreturn\u001b[0m\u001b[0;34m\u001b[0m\u001b[0m\n\u001b[1;32m    219\u001b[0m     \u001b[0;32mtry\u001b[0m\u001b[0;34m:\u001b[0m\u001b[0;34m\u001b[0m\u001b[0m\n\u001b[0;32m--> 220\u001b[0;31m         \u001b[0mmkdir\u001b[0m\u001b[0;34m(\u001b[0m\u001b[0mname\u001b[0m\u001b[0;34m,\u001b[0m \u001b[0mmode\u001b[0m\u001b[0;34m)\u001b[0m\u001b[0;34m\u001b[0m\u001b[0m\n\u001b[0m\u001b[1;32m    221\u001b[0m     \u001b[0;32mexcept\u001b[0m \u001b[0mOSError\u001b[0m\u001b[0;34m:\u001b[0m\u001b[0;34m\u001b[0m\u001b[0m\n\u001b[1;32m    222\u001b[0m         \u001b[0;31m# Cannot rely on checking for EEXIST, since the operating system\u001b[0m\u001b[0;34m\u001b[0m\u001b[0;34m\u001b[0m\u001b[0m\n",
      "\u001b[0;31mFileExistsError\u001b[0m: [Errno 17] File exists: '/home/restor/partage/apogee-parades/AED_autoencoder/notebooks/logs/projector_Conso_WeekDay_Temp_Holidays_4couches'"
     ]
    }
   ],
   "source": [
    "log_dir=path_main_folder+\"/notebooks/logs/projector_Conso_WeekDay_Temp_Holidays_4couches\"\n",
    "os.makedirs(log_dir)"
   ]
  },
  {
   "cell_type": "code",
   "execution_count": 62,
   "metadata": {},
   "outputs": [
    {
     "data": {
      "text/plain": [
       "<Figure size 432x288 with 0 Axes>"
      ]
     },
     "metadata": {},
     "output_type": "display_data"
    }
   ],
   "source": [
    "import os,cv2\n",
    "images=createLoadProfileImages(x,x_hat,nPoints)"
   ]
  },
  {
   "cell_type": "code",
   "execution_count": 63,
   "metadata": {},
   "outputs": [
    {
     "data": {
      "text/plain": [
       "True"
      ]
     },
     "execution_count": 63,
     "metadata": {},
     "output_type": "execute_result"
    }
   ],
   "source": [
    "\n",
    "sprites=images_to_sprite(images)\n",
    "cv2.imwrite(os.path.join(log_dir, 'sprite_4_classes.png'), sprites)"
   ]
  },
  {
   "cell_type": "code",
   "execution_count": 95,
   "metadata": {},
   "outputs": [],
   "source": [
    "\n",
    "x_reduced=x_encoded[0:nPoints,]\n",
    "writeMetaData(log_dir,x_conso,calendar_info,nPoints)\n",
    "buildProjector(x_reduced,images,log_dir)"
   ]
  },
  {
   "cell_type": "markdown",
   "metadata": {},
   "source": [
    "## Analyse prédiction de température\n",
    "On essaie de prédire la température avec les plus proches voisins. Normalement on drevrait etre meilleur que dans l'autoencoder originel et ensuite on devrait etre moins bons une fois la tempréature prise en compte"
   ]
  },
  {
   "cell_type": "code",
   "execution_count": 96,
   "metadata": {},
   "outputs": [
    {
     "data": {
      "text/plain": [
       "<matplotlib.axes._subplots.AxesSubplot at 0x7f7513a23cf8>"
      ]
     },
     "execution_count": 96,
     "metadata": {},
     "output_type": "execute_result"
    },
    {
     "data": {
      "image/png": "[encoded data removed]",
      "text/plain": [
       "<Figure size 432x288 with 1 Axes>"
      ]
     },
     "metadata": {
      "needs_background": "light"
     },
     "output_type": "display_data"
    }
   ],
   "source": [
    "temperatureMax=[max(x_conso.loc[index*48:(index+1)*48-1,'meteo_natTh+0']) for index in range(0,nPoints)]\n",
    "import seaborn as sn\n",
    "sn.distplot(temperatureMax, kde=False, fit=stats.norm, bins=100)"
   ]
  },
  {
   "cell_type": "code",
   "execution_count": 97,
   "metadata": {},
   "outputs": [
    {
     "data": {
      "text/plain": [
       "0.489987809764653"
      ]
     },
     "execution_count": 97,
     "metadata": {},
     "output_type": "execute_result"
    }
   ],
   "source": [
    "from sklearn.neighbors import KNeighborsRegressor\n",
    "k=5\n",
    "knn = KNeighborsRegressor(n_neighbors=k)\n",
    "\n",
    "yTemp=temperatureMax\n",
    "\n",
    "knn.fit(x_reduced, yTemp)\n",
    "train_accuracy= knn.score(x_reduced, yTemp)\n",
    "train_accuracy"
   ]
  },
  {
   "cell_type": "code",
   "execution_count": 98,
   "metadata": {},
   "outputs": [
    {
     "data": {
      "text/plain": [
       "<matplotlib.axes._subplots.AxesSubplot at 0x7f7513b04b38>"
      ]
     },
     "execution_count": 98,
     "metadata": {},
     "output_type": "execute_result"
    },
    {
     "data": {
      "image/png": "[encoded data removed]",
      "text/plain": [
       "<Figure size 432x288 with 1 Axes>"
      ]
     },
     "metadata": {
      "needs_background": "light"
     },
     "output_type": "display_data"
    }
   ],
   "source": [
    "from sklearn.metrics import confusion_matrix\n",
    "y_pred = knn.predict(x_reduced)\n",
    "error=y_pred-yTemp\n",
    "sn.distplot(error, kde=False, fit=stats.norm, bins=100)\n",
    "#normalement on doit trouver 5/7 de jours de semaine (1082 sur 1500) et 2/7 de jours de weekend (428 sur 1500)  "
   ]
  },
  {
   "cell_type": "markdown",
   "metadata": {},
   "source": [
    "## classification si espace random\n"
   ]
  },
  {
   "cell_type": "code",
   "execution_count": 99,
   "metadata": {},
   "outputs": [
    {
     "data": {
      "text/plain": [
       "0.1737732724442066"
      ]
     },
     "execution_count": 99,
     "metadata": {},
     "output_type": "execute_result"
    }
   ],
   "source": [
    "x_reduced_random=np.random.rand(nPoints,1)\n",
    "knn_random = KNeighborsRegressor(n_neighbors=k)\n",
    "knn_random.fit(x_reduced_random, yTemp)\n",
    "train_accuracy_random= knn_random.score(x_reduced_random, yTemp)\n",
    "train_accuracy_random"
   ]
  },
  {
   "cell_type": "code",
   "execution_count": 100,
   "metadata": {},
   "outputs": [
    {
     "data": {
      "text/plain": [
       "<matplotlib.axes._subplots.AxesSubplot at 0x7f7513c149e8>"
      ]
     },
     "execution_count": 100,
     "metadata": {},
     "output_type": "execute_result"
    },
    {
     "data": {
      "image/png": "[encoded data removed]",
      "text/plain": [
       "<Figure size 432x288 with 1 Axes>"
      ]
     },
     "metadata": {
      "needs_background": "light"
     },
     "output_type": "display_data"
    }
   ],
   "source": [
    "from sklearn.metrics import confusion_matrix\n",
    "y_pred = knn_random.predict(x_reduced_random)\n",
    "error=y_pred-yTemp\n",
    "sn.distplot(error, kde=False, fit=stats.norm, bins=100)\n",
    "\n",
    "#normalement on doit trouver 5/7 de jours de semaine (1082 sur 1500) et 2/7 de jours de weekend (428 sur 1500)  "
   ]
  },
  {
   "cell_type": "markdown",
   "metadata": {},
   "source": [
    "## Analyse classification de catégorie holidays dans espace latent\n",
    "Normalement on ne devrait plus pouvoir classifier aussi facilement jours de weekend et de semaine dans l'espace projeter"
   ]
  },
  {
   "cell_type": "code",
   "execution_count": 135,
   "metadata": {},
   "outputs": [
    {
     "data": {
      "text/plain": [
       "0.044444444444444446"
      ]
     },
     "execution_count": 135,
     "metadata": {},
     "output_type": "execute_result"
    }
   ],
   "source": [
    "from sklearn.neighbors import KNeighborsClassifier\n",
    "k=5\n",
    "knn = KNeighborsClassifier(n_neighbors=k)\n",
    "\n",
    "yHd=calendar_info['is_hd']\n",
    "yHd=yHd[0:nPoints,]\n",
    "indicesHd=[i for i in range(0, nPoints) if yHd[i] == 1]\n",
    "yHd_only=yHd[yHd==1]\n",
    "\n",
    "x_reduced_Hd=x_reduced[indicesHd,]\n",
    "\n",
    "knn.fit(x_reduced, yHd)\n",
    "train_accuracy= knn.score(x_reduced, yHd)\n",
    "scoreHd=np.sum(np.abs((knn.predict(x_reduced_Hd))))/len(indicesHd)\n",
    "scoreHd\n",
    "#train_accuracy"
   ]
  },
  {
   "cell_type": "code",
   "execution_count": 121,
   "metadata": {},
   "outputs": [
    {
     "data": {
      "text/plain": [
       "(1500, 5)"
      ]
     },
     "execution_count": 121,
     "metadata": {},
     "output_type": "execute_result"
    }
   ],
   "source": [
    "x_reduced"
   ]
  },
  {
   "cell_type": "code",
   "execution_count": 102,
   "metadata": {},
   "outputs": [
    {
     "ename": "IndexError",
     "evalue": "only integers, slices (`:`), ellipsis (`...`), numpy.newaxis (`None`) and integer or boolean arrays are valid indices",
     "output_type": "error",
     "traceback": [
      "\u001b[0;31m---------------------------------------------------------------------------\u001b[0m",
      "\u001b[0;31mIndexError\u001b[0m                                Traceback (most recent call last)",
      "\u001b[0;32m<ipython-input-102-77d42f51d4b9>\u001b[0m in \u001b[0;36m<module>\u001b[0;34m\u001b[0m\n\u001b[1;32m      1\u001b[0m \u001b[0mprob\u001b[0m\u001b[0;34m=\u001b[0m\u001b[0mknn\u001b[0m\u001b[0;34m.\u001b[0m\u001b[0mpredict_proba\u001b[0m\u001b[0;34m(\u001b[0m\u001b[0mx_reduced\u001b[0m\u001b[0;34m)\u001b[0m\u001b[0;34m\u001b[0m\u001b[0m\n\u001b[0;32m----> 2\u001b[0;31m \u001b[0mprobScore\u001b[0m\u001b[0;34m=\u001b[0m\u001b[0;34m[\u001b[0m\u001b[0mprob\u001b[0m\u001b[0;34m[\u001b[0m\u001b[0mi\u001b[0m\u001b[0;34m]\u001b[0m\u001b[0;34m[\u001b[0m\u001b[0myHd\u001b[0m\u001b[0;34m[\u001b[0m\u001b[0mi\u001b[0m\u001b[0;34m]\u001b[0m\u001b[0;34m-\u001b[0m\u001b[0;36m1\u001b[0m\u001b[0;34m]\u001b[0m \u001b[0;32mfor\u001b[0m \u001b[0mi\u001b[0m \u001b[0;32min\u001b[0m \u001b[0mrange\u001b[0m\u001b[0;34m(\u001b[0m\u001b[0;36m0\u001b[0m\u001b[0;34m,\u001b[0m\u001b[0mnPoints\u001b[0m\u001b[0;34m)\u001b[0m \u001b[0;34m]\u001b[0m\u001b[0;34m\u001b[0m\u001b[0m\n\u001b[0m",
      "\u001b[0;32m<ipython-input-102-77d42f51d4b9>\u001b[0m in \u001b[0;36m<listcomp>\u001b[0;34m(.0)\u001b[0m\n\u001b[1;32m      1\u001b[0m \u001b[0mprob\u001b[0m\u001b[0;34m=\u001b[0m\u001b[0mknn\u001b[0m\u001b[0;34m.\u001b[0m\u001b[0mpredict_proba\u001b[0m\u001b[0;34m(\u001b[0m\u001b[0mx_reduced\u001b[0m\u001b[0;34m)\u001b[0m\u001b[0;34m\u001b[0m\u001b[0m\n\u001b[0;32m----> 2\u001b[0;31m \u001b[0mprobScore\u001b[0m\u001b[0;34m=\u001b[0m\u001b[0;34m[\u001b[0m\u001b[0mprob\u001b[0m\u001b[0;34m[\u001b[0m\u001b[0mi\u001b[0m\u001b[0;34m]\u001b[0m\u001b[0;34m[\u001b[0m\u001b[0myHd\u001b[0m\u001b[0;34m[\u001b[0m\u001b[0mi\u001b[0m\u001b[0;34m]\u001b[0m\u001b[0;34m-\u001b[0m\u001b[0;36m1\u001b[0m\u001b[0;34m]\u001b[0m \u001b[0;32mfor\u001b[0m \u001b[0mi\u001b[0m \u001b[0;32min\u001b[0m \u001b[0mrange\u001b[0m\u001b[0;34m(\u001b[0m\u001b[0;36m0\u001b[0m\u001b[0;34m,\u001b[0m\u001b[0mnPoints\u001b[0m\u001b[0;34m)\u001b[0m \u001b[0;34m]\u001b[0m\u001b[0;34m\u001b[0m\u001b[0m\n\u001b[0m",
      "\u001b[0;31mIndexError\u001b[0m: only integers, slices (`:`), ellipsis (`...`), numpy.newaxis (`None`) and integer or boolean arrays are valid indices"
     ]
    }
   ],
   "source": [
    "prob=knn.predict_proba(x_reduced)\n",
    "probScore=[prob[i][yHd[i]-1] for i in range(0,nPoints) ]"
   ]
  },
  {
   "cell_type": "code",
   "execution_count": 103,
   "metadata": {},
   "outputs": [
    {
     "data": {
      "text/plain": [
       "0.2"
      ]
     },
     "execution_count": 103,
     "metadata": {},
     "output_type": "execute_result"
    }
   ],
   "source": [
    "prob[1][1]"
   ]
  },
  {
   "cell_type": "code",
   "execution_count": 104,
   "metadata": {},
   "outputs": [
    {
     "ename": "NameError",
     "evalue": "name 'probScore' is not defined",
     "output_type": "error",
     "traceback": [
      "\u001b[0;31m---------------------------------------------------------------------------\u001b[0m",
      "\u001b[0;31mNameError\u001b[0m                                 Traceback (most recent call last)",
      "\u001b[0;32m<ipython-input-104-a91fe0477389>\u001b[0m in \u001b[0;36m<module>\u001b[0;34m\u001b[0m\n\u001b[1;32m      1\u001b[0m \u001b[0;31m#plutot sous forme d un probability score\u001b[0m\u001b[0;34m\u001b[0m\u001b[0;34m\u001b[0m\u001b[0m\n\u001b[0;32m----> 2\u001b[0;31m \u001b[0msum\u001b[0m\u001b[0;34m(\u001b[0m\u001b[0mprobScore\u001b[0m\u001b[0;34m)\u001b[0m\u001b[0;34m/\u001b[0m\u001b[0mnPoints\u001b[0m\u001b[0;34m\u001b[0m\u001b[0m\n\u001b[0m",
      "\u001b[0;31mNameError\u001b[0m: name 'probScore' is not defined"
     ]
    }
   ],
   "source": [
    "#plutot sous forme d un probability score\n",
    "sum(probScore)/nPoints"
   ]
  },
  {
   "cell_type": "code",
   "execution_count": null,
   "metadata": {},
   "outputs": [],
   "source": [
    "from sklearn.metrics import confusion_matrix\n",
    "y_pred = knn.predict(x_reduced)\n",
    "confusion_matrix(yHd,y_pred)\n",
    "\n",
    "#normalement on doit trouver 5/7 de jours de semaine (1082 sur 1500) et 2/7 de jours de weekend (428 sur 1500)  "
   ]
  },
  {
   "cell_type": "markdown",
   "metadata": {},
   "source": [
    "## classification si espace random\n"
   ]
  },
  {
   "cell_type": "code",
   "execution_count": null,
   "metadata": {},
   "outputs": [],
   "source": [
    "x_reduced_random=np.random.rand(nPoints,1)\n",
    "knn_random = KNeighborsClassifier(n_neighbors=k)\n",
    "knn_random.fit(x_reduced_random, yMonth)\n",
    "train_accuracy_random= knn_random.score(x_reduced_random, yMonth)\n",
    "train_accuracy_random"
   ]
  },
  {
   "cell_type": "code",
   "execution_count": null,
   "metadata": {},
   "outputs": [],
   "source": [
    "prob_random=knn_random.predict_proba(x_reduced_random)\n",
    "probScore_random=[prob_random[i][yMonth[i]-1] for i in range(0,nPoints) ]\n"
   ]
  },
  {
   "cell_type": "code",
   "execution_count": null,
   "metadata": {},
   "outputs": [],
   "source": [
    "#plutot sous forme d un probability score\n",
    "sum(probScore_random)/nPoints"
   ]
  },
  {
   "cell_type": "code",
   "execution_count": null,
   "metadata": {},
   "outputs": [],
   "source": [
    "from sklearn.metrics import confusion_matrix\n",
    "y_pred_random = knn_random.predict(x_reduced_random)\n",
    "confusion_matrix(yMonth,y_pred_random)\n",
    "\n",
    "#normalement on doit trouver 5/7 de jours de semaine (1082 sur 1500) et 2/7 de jours de weekend (428 sur 1500)  "
   ]
  },
  {
   "cell_type": "markdown",
   "metadata": {},
   "source": [
    "# Creer le dataset de l'autoencodeur 1 - weekday + temperature + mois\n"
   ]
  },
  {
   "cell_type": "code",
   "execution_count": null,
   "metadata": {},
   "outputs": [],
   "source": [
    "# Split train and test\n",
    "#date_test_start = datetime.date(2014,1,1)\n",
    "#date_test_end = datetime.date(2015,1,1)\n",
    "#dict_xconso = get_train_test_x_conso(x_conso, date_test_start, date_test_end)\n",
    "\n",
    "dict_xconso = {'train': x_conso}"
   ]
  },
  {
   "cell_type": "code",
   "execution_count": null,
   "metadata": {},
   "outputs": [],
   "source": [
    "# Normalize x_conso\n",
    "type_scaler = 's'\n",
    "dict_xconso, _ = normalize_xconso(dict_xconso, dict_colnames_conso, type_scaler = 'standard')"
   ]
  },
  {
   "cell_type": "code",
   "execution_count": null,
   "metadata": {},
   "outputs": [],
   "source": [
    "name_type_cond = 'm-wd-temp'\n",
    "name_train = '0' # 1: first period ; 0 all periods\n",
    "name_type_x = 'c'\n",
    "type_x = ['conso']\n",
    "type_cond = ['weekday','holidays','temperature']#normalement is ne va pas chercher quel jour de la semaine, mais si c'est un jour weekend ou semaine ['weekday', 'temperature']"
   ]
  },
  {
   "cell_type": "code",
   "execution_count": null,
   "metadata": {},
   "outputs": [],
   "source": [
    "dataset = get_dataset_autoencoder(dict_xconso=dict_xconso, type_x=type_x, type_cond=type_cond, slidingWindowSize=0)"
   ]
  },
  {
   "cell_type": "code",
   "execution_count": null,
   "metadata": {},
   "outputs": [],
   "source": [
    "dataset['train']['x'][1].shape"
   ]
  },
  {
   "cell_type": "code",
   "execution_count": null,
   "metadata": {},
   "outputs": [],
   "source": [
    "name_set_plot = 'train'\n",
    "version = '-v1'\n",
    "nPoints=1500"
   ]
  },
  {
   "cell_type": "code",
   "execution_count": null,
   "metadata": {},
   "outputs": [],
   "source": [
    "calendar_info = pd.DataFrame(dataset[name_set_plot]['ds'])\n",
    "calendar_info['month'] = calendar_info.ds.dt.month\n",
    "calendar_info['weekday'] = calendar_info.ds.dt.weekday\n",
    "calendar_info['is_weekday'] = (calendar_info.weekday < 5).apply(lambda x:int(x))\n",
    "calendar_info = pd.merge(calendar_info, holiday_days_df[['ds', 'is_hd']], on='ds', how ='left')\n",
    "calendar_info.loc[calendar_info['is_hd'].isna(),'is_hd'] = 0"
   ]
  },
  {
   "cell_type": "code",
   "execution_count": null,
   "metadata": {},
   "outputs": [],
   "source": [
    "# modify dataset to fit with new data format\n",
    "#Pass a constant vector for conditions\n",
    "nPoints=dataset['train']['x'][1].shape[0]\n",
    "cond_pre =dataset['train']['x'][1][:,:1]#[0] #dataset['train']['x'][1][:,:14] #les dimensions pour les conditions sans embeddings préalable\n",
    "#to_emb=dataset['train']['x'][1][:,1:]\n",
    "#cond_pre =dataset['train']['x'][1][:,:]\n",
    "#cond_pre=np.zeros((nPoints,1))\n",
    "to_emb=dataset['train']['x'][1][:,1:]\n",
    "x = dataset['train']['x'][0]\n",
    "\n",
    "dataset['train']['x'] = [x, cond_pre, to_emb]"
   ]
  },
  {
   "cell_type": "markdown",
   "metadata": {},
   "source": [
    "### Build model"
   ]
  },
  {
   "cell_type": "code",
   "execution_count": null,
   "metadata": {
    "lines_to_next_cell": 2
   },
   "outputs": [],
   "source": [
    "#on sauvegarde le dataset\n",
    "path_out = os.path.join(path_main_folder, 'out')"
   ]
  },
  {
   "cell_type": "code",
   "execution_count": null,
   "metadata": {},
   "outputs": [],
   "source": [
    "# Parameters\n",
    "e_dims=[48,35,24,12]#[24,12]#[48,40,30,20,14,8]\n",
    "d_dims=[48,35,24,12]#[12,24]#[48,40,30,20,14,8]\n",
    "to_emb_dim=dataset['train']['x'][2].shape[1]\n",
    "cond_pre_dim = 1#dataset['train']['x'][1].shape[1]\n",
    "input_dim = dataset['train']['x'][0].shape[1]\n",
    "z_dim= 5\n",
    "beta = 0.01 #0.1 pour une granularite 48"
   ]
  },
  {
   "cell_type": "code",
   "execution_count": null,
   "metadata": {},
   "outputs": [],
   "source": [
    "name_model = 'cvae_conso_WeekDay_EmbTemp-30min-journalier'.format(name_granu,name_type_x, name_type_cond)\n",
    "#name_model = 'cvae_classification'"
   ]
  },
  {
   "cell_type": "code",
   "execution_count": null,
   "metadata": {},
   "outputs": [],
   "source": [
    "model = CVAE_temp(input_dim=input_dim,\n",
    "                  e_dims=e_dims, \n",
    "                  d_dims=d_dims, \n",
    "                  cond_pre_dim=cond_pre_dim,\n",
    "                  z_dim=z_dim, \n",
    "                  beta=beta,\n",
    "                  name=name_model, \n",
    "                  output=path_out,\n",
    "                 to_emb_dim=to_emb_dim,\n",
    "                 emb_dims=[8,4])"
   ]
  },
  {
   "cell_type": "markdown",
   "metadata": {},
   "source": [
    "### Trainning model "
   ]
  },
  {
   "cell_type": "code",
   "execution_count": null,
   "metadata": {},
   "outputs": [],
   "source": [
    "from keras.callbacks import TensorBoard\n",
    "from time import time\n",
    "\n",
    "#embeddingsMetadata = {'dec_dense_0': 'metadata.tsv'}\n",
    "tensorboard = TensorBoard(log_dir=\"logs/{}\".format(name_model +str(time())),write_graph=True)#,write_images=True,embeddings_freq=10, embeddings_layer_names=['dec_dense_0'],embeddings_metadata= embeddingsMetadata)\n",
    "#os.path.join(path_out,name_model)\n",
    "\n",
    " #tensorboard = TensorBoard(log_dir=model_path,write_graph=True,write_images=True)"
   ]
  },
  {
   "cell_type": "code",
   "execution_count": null,
   "metadata": {},
   "outputs": [],
   "source": [
    "#model.main_train(dataset, training_epochs=200, batch_size=20, verbose=False,callbacks=[tensorboard])\n",
    "out_batch = NEpochLogger(display=50)\n",
    "model.main_train(dataset, training_epochs=1000, batch_size=20, verbose=False,callbacks=[tensorboard,out_batch])\n",
    "\n",
    "#visualizer = LatentSpaceVisualizer(model_folder_path=model_path, dataset_path=labellisation_data_folder + 'sequences_dataset/sequences_et_labels.npz')\n",
    " #   visualizer.visualize_embedding_after_training()"
   ]
  },
  {
   "cell_type": "code",
   "execution_count": null,
   "metadata": {},
   "outputs": [],
   "source": [
    "with open(os.path.join(path_out,name_model,\"config.txt\"),'w') as file: \n",
    "    file.write(str(cond_pre_dim) + '\\n')\n",
    "    file.write(str(to_emb_dim) + '\\n')\n",
    "    file.write(str(e_dims) + '\\n') \n",
    "    file.write(str(d_dims) + '\\n') \n",
    "    file.write(str(z_dim) + '\\n')\n",
    "    file.write(str(beta) + '\\n')"
   ]
  },
  {
   "cell_type": "code",
   "execution_count": null,
   "metadata": {},
   "outputs": [],
   "source": [
    "#sauvegarde du dataset associé\n",
    "name_dataset = 'dataset.pickle'\n",
    "\n",
    "with open( os.path.join(path_out,name_model, name_dataset), \"wb\" ) as file:\n",
    "    pickle.dump( dataset, file )"
   ]
  },
  {
   "cell_type": "markdown",
   "metadata": {},
   "source": [
    "## Loading model "
   ]
  },
  {
   "cell_type": "code",
   "execution_count": null,
   "metadata": {},
   "outputs": [],
   "source": [
    "model.load_model(os.path.join(path_out, name_model, 'models'))"
   ]
  },
  {
   "cell_type": "markdown",
   "metadata": {},
   "source": [
    "### Analysis of the latent space"
   ]
  },
  {
   "cell_type": "code",
   "execution_count": null,
   "metadata": {},
   "outputs": [],
   "source": [
    "name_set_plot = 'train'\n",
    "version = '-v1'\n",
    "nPoints=1500"
   ]
  },
  {
   "cell_type": "code",
   "execution_count": null,
   "metadata": {},
   "outputs": [],
   "source": [
    "temp_emb = model.embedding.predict(dataset['train']['x'][2])\n",
    "cond_pre = dataset['train']['x'][1]\n",
    "cond_emb = model.embedding.predict(dataset['train']['x'][2])\n",
    "cond = np.concatenate((cond_pre, cond_emb), axis=1)\n",
    "\n",
    "#cond  = dataset['train']['x'][1]\n",
    "x_input = dataset['train']['x'][0]\n",
    "\n",
    "input_encoder = [x_input, cond]"
   ]
  },
  {
   "cell_type": "code",
   "execution_count": null,
   "metadata": {},
   "outputs": [],
   "source": [
    "cond_emb.shape"
   ]
  },
  {
   "cell_type": "code",
   "execution_count": null,
   "metadata": {},
   "outputs": [],
   "source": [
    "x_encoded = model.encoder.predict(input_encoder)[0]\n",
    "x_hat = model.cvae.predict(x=dataset['train']['x'])"
   ]
  },
  {
   "cell_type": "code",
   "execution_count": null,
   "metadata": {},
   "outputs": [],
   "source": [
    "log_dir=path_main_folder+\"/notebooks/logs/projector_Conso_WeekDay_Temp_Month_4couches\"\n",
    "os.makedirs(log_dir)"
   ]
  },
  {
   "cell_type": "code",
   "execution_count": null,
   "metadata": {},
   "outputs": [],
   "source": [
    "import os,cv2\n",
    "images=createLoadProfileImages(x,x_hat,nPoints)"
   ]
  },
  {
   "cell_type": "code",
   "execution_count": null,
   "metadata": {},
   "outputs": [],
   "source": [
    "\n",
    "sprites=images_to_sprite(images)\n",
    "cv2.imwrite(os.path.join(log_dir, 'sprite_4_classes.png'), sprites)"
   ]
  },
  {
   "cell_type": "code",
   "execution_count": null,
   "metadata": {},
   "outputs": [],
   "source": [
    "\n",
    "x_reduced=x_encoded[0:nPoints,]\n",
    "writeMetaData(log_dir,x_conso,calendar_info,nPoints)\n",
    "buildProjector(x_reduced,images,log_dir)"
   ]
  },
  {
   "cell_type": "markdown",
   "metadata": {},
   "source": [
    "## Analyse prédiction de température\n",
    "On essaie de prédire la température avec les plus proches voisins. Normalement on drevrait etre meilleur que dans l'autoencoder originel et ensuite on devrait etre moins bons une fois la tempréature prise en compte"
   ]
  },
  {
   "cell_type": "code",
   "execution_count": null,
   "metadata": {},
   "outputs": [],
   "source": [
    "temperatureMax=[max(x_conso.loc[index*48:(index+1)*48-1,'meteo_natTh+0']) for index in range(0,nPoints)]\n",
    "import seaborn as sn\n",
    "sn.distplot(temperatureMax, kde=False, fit=stats.norm, bins=100)"
   ]
  },
  {
   "cell_type": "code",
   "execution_count": null,
   "metadata": {},
   "outputs": [],
   "source": [
    "from sklearn.neighbors import KNeighborsRegressor\n",
    "k=5\n",
    "knn = KNeighborsRegressor(n_neighbors=k)\n",
    "\n",
    "yTemp=temperatureMax\n",
    "\n",
    "knn.fit(x_reduced, yTemp)\n",
    "train_accuracy= knn.score(x_reduced, yTemp)\n",
    "train_accuracy"
   ]
  },
  {
   "cell_type": "code",
   "execution_count": null,
   "metadata": {},
   "outputs": [],
   "source": [
    "from sklearn.metrics import confusion_matrix\n",
    "y_pred = knn.predict(x_reduced)\n",
    "error=y_pred-yTemp\n",
    "sn.distplot(error, kde=False, fit=stats.norm, bins=100)\n",
    "#normalement on doit trouver 5/7 de jours de semaine (1082 sur 1500) et 2/7 de jours de weekend (428 sur 1500)  "
   ]
  },
  {
   "cell_type": "markdown",
   "metadata": {},
   "source": [
    "## classification si espace random\n"
   ]
  },
  {
   "cell_type": "code",
   "execution_count": null,
   "metadata": {},
   "outputs": [],
   "source": [
    "x_reduced_random=np.random.rand(nPoints,1)\n",
    "knn_random = KNeighborsRegressor(n_neighbors=k)\n",
    "knn_random.fit(x_reduced_random, yTemp)\n",
    "train_accuracy_random= knn_random.score(x_reduced_random, yTemp)\n",
    "train_accuracy_random"
   ]
  },
  {
   "cell_type": "code",
   "execution_count": null,
   "metadata": {},
   "outputs": [],
   "source": [
    "from sklearn.metrics import confusion_matrix\n",
    "y_pred = knn_random.predict(x_reduced_random)\n",
    "error=y_pred-yTemp\n",
    "sn.distplot(error, kde=False, fit=stats.norm, bins=100)\n",
    "\n",
    "#normalement on doit trouver 5/7 de jours de semaine (1082 sur 1500) et 2/7 de jours de weekend (428 sur 1500)  "
   ]
  },
  {
   "cell_type": "markdown",
   "metadata": {},
   "source": [
    "## Analyse classification de catégorie mois dans espace latent\n",
    "Normalement on ne devrait plus pouvoir classifier aussi facilement jours de weekend et de semaine dans l'espace projeter"
   ]
  },
  {
   "cell_type": "code",
   "execution_count": null,
   "metadata": {},
   "outputs": [],
   "source": [
    "from sklearn.neighbors import KNeighborsClassifier\n",
    "k=5\n",
    "knn = KNeighborsClassifier(n_neighbors=k)\n",
    "\n",
    "yMonth=calendar_info['month']\n",
    "yMonth=yMonth[0:nPoints,]\n",
    "\n",
    "knn.fit(x_reduced, yMonth)\n",
    "train_accuracy= knn.score(x_reduced, yMonth)\n",
    "train_accuracy"
   ]
  },
  {
   "cell_type": "code",
   "execution_count": null,
   "metadata": {},
   "outputs": [],
   "source": [
    "prob=knn.predict_proba(x_reduced)\n",
    "probScore=[prob[i][yMonth[i]-1] for i in range(0,nPoints) ]"
   ]
  },
  {
   "cell_type": "code",
   "execution_count": null,
   "metadata": {},
   "outputs": [],
   "source": [
    "#plutot sous forme d un probability score\n",
    "sum(probScore)/nPoints"
   ]
  },
  {
   "cell_type": "code",
   "execution_count": null,
   "metadata": {},
   "outputs": [],
   "source": [
    "from sklearn.metrics import confusion_matrix\n",
    "y_pred = knn.predict(x_reduced)\n",
    "confusion_matrix(yMonth,y_pred)\n",
    "\n",
    "#normalement on doit trouver 5/7 de jours de semaine (1082 sur 1500) et 2/7 de jours de weekend (428 sur 1500)  "
   ]
  },
  {
   "cell_type": "markdown",
   "metadata": {},
   "source": [
    "## classification si espace random\n"
   ]
  },
  {
   "cell_type": "code",
   "execution_count": null,
   "metadata": {},
   "outputs": [],
   "source": [
    "x_reduced_random=np.random.rand(nPoints,1)\n",
    "knn_random = KNeighborsClassifier(n_neighbors=k)\n",
    "knn_random.fit(x_reduced_random, yMonth)\n",
    "train_accuracy_random= knn_random.score(x_reduced_random, yMonth)\n",
    "train_accuracy_random"
   ]
  },
  {
   "cell_type": "code",
   "execution_count": null,
   "metadata": {},
   "outputs": [],
   "source": [
    "prob_random=knn_random.predict_proba(x_reduced_random)\n",
    "probScore_random=[prob_random[i][yMonth[i]-1] for i in range(0,nPoints) ]\n"
   ]
  },
  {
   "cell_type": "code",
   "execution_count": null,
   "metadata": {},
   "outputs": [],
   "source": [
    "#plutot sous forme d un probability score\n",
    "sum(probScore_random)/nPoints"
   ]
  },
  {
   "cell_type": "code",
   "execution_count": null,
   "metadata": {},
   "outputs": [],
   "source": [
    "from sklearn.metrics import confusion_matrix\n",
    "y_pred_random = knn_random.predict(x_reduced_random)\n",
    "confusion_matrix(yMonth,y_pred_random)\n",
    "\n",
    "#normalement on doit trouver 5/7 de jours de semaine (1082 sur 1500) et 2/7 de jours de weekend (428 sur 1500)  "
   ]
  },
  {
   "cell_type": "code",
   "execution_count": null,
   "metadata": {},
   "outputs": [],
   "source": []
  },
  {
   "cell_type": "code",
   "execution_count": null,
   "metadata": {},
   "outputs": [],
   "source": []
  }
 ],
 "metadata": {
  "encoding": "# -*- coding: utf-8 -*-",
  "jupytext_formats": "py:light",
  "kernelspec": {
   "display_name": "Python 3",
   "language": "python",
   "name": "python3"
  },
  "language_info": {
   "codemirror_mode": {
    "name": "ipython",
    "version": 3
   },
   "file_extension": ".py",
   "mimetype": "text/x-python",
   "name": "python",
   "nbconvert_exporter": "python",
   "pygments_lexer": "ipython3",
   "version": "3.6.6"
  }
 },
 "nbformat": 4,
 "nbformat_minor": 2
}
