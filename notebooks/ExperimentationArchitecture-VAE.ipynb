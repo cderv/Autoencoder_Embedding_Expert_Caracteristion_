{
 "cells": [
  {
   "cell_type": "markdown",
   "metadata": {},
   "source": [
    "# Notebook with VAE model and no conditionning"
   ]
  },
  {
   "cell_type": "markdown",
   "metadata": {},
   "source": [
    "## Loading Libraries "
   ]
  },
  {
   "cell_type": "code",
   "execution_count": 1,
   "metadata": {},
   "outputs": [],
   "source": [
    "#import external libraries\n",
    "import sys\n",
    "import os\n",
    "import datetime\n",
    "import pandas as pd\n",
    "import numpy as np\n",
    "import pickle\n",
    "from matplotlib import pyplot as plt\n",
    "import seaborn as sn\n",
    "from scipy import stats\n"
   ]
  },
  {
   "cell_type": "code",
   "execution_count": 2,
   "metadata": {},
   "outputs": [],
   "source": [
    "#paths in git\n",
    "\n",
    "#root git folder \n",
    "path_main_folder = '/home/marotant/dev/Autoencoder_Embedding_Expert_Caracteristion_'\n",
    "\n",
    "#add  to path root git folder \n",
    "sys.path.append(path_main_folder)\n",
    "#add  to path source code folder\n",
    "sys.path.append(path_main_folder+'/src')"
   ]
  },
  {
   "cell_type": "code",
   "execution_count": 3,
   "metadata": {},
   "outputs": [
    {
     "name": "stderr",
     "output_type": "stream",
     "text": [
      "Using TensorFlow backend.\n"
     ]
    }
   ],
   "source": [
    "#import class and methods from src\n",
    "from keras import backend as K\n",
    "from CVAE.callbacks import NEpochLogger,callbackWeightLoss\n",
    "#from CVAE.cvae import compile_cvae, run_cvae\n",
    "from CVAE.cvae_model import CVAE, CVAE_emb, CAE\n",
    "from conso.load_shape_data import *  \n",
    "\n",
    "import Visualisation.buildProjector\n",
    "from Visualisation.buildProjector import *\n",
    "from FeaturesScore.scoring import *\n",
    "#from conso.load_shape_data import get_x_conso_autoencoder\n",
    "from conso.conso_helpers import plot_latent_space_projection, pyplot_latent_space_projection_temp, pyplot_latent_space_projection_error\n",
    "from sklearn.manifold import TSNE"
   ]
  },
  {
   "cell_type": "code",
   "execution_count": 4,
   "metadata": {},
   "outputs": [],
   "source": [
    "#directories to store trained model and the related projector\n",
    "\n",
    "log_dir_projector=path_main_folder+\"/notebooks/logs/Expe1/VAE/projector\"\n",
    "log_dir_model=path_main_folder+\"/notebooks/logs/Expe1/VAE/model\"\n",
    "if not(os.path.isdir(log_dir_projector)):\n",
    "    os.makedirs(log_dir_projector)\n",
    "if not(os.path.isdir(log_dir_model)):\n",
    "    os.makedirs(log_dir_model)"
   ]
  },
  {
   "cell_type": "markdown",
   "metadata": {},
   "source": [
    "# Table of contents:\n",
    "- Load Data\n",
    "- Make Training Set\n",
    "- Define and Train Model\n",
    "- Build Projector\n",
    "- Compute Feature Scores in latent space\n",
    "- Study reconstruction Error\n",
    "- Study Holidays prediction\n",
    "- Detect atypical events\n",
    "- Conclusion"
   ]
  },
  {
   "cell_type": "markdown",
   "metadata": {},
   "source": [
    "# Load dataset "
   ]
  },
  {
   "cell_type": "code",
   "execution_count": 5,
   "metadata": {},
   "outputs": [],
   "source": [
    "# Load dataframe\n",
    "path_data = os.path.join(path_main_folder, 'data')\n",
    "dataset_csv = os.path.join(path_data, \"dataset.csv\")\n",
    "x_conso = pd.read_csv(dataset_csv, sep=\",\",)\n",
    "x_conso.ds = pd.to_datetime(x_conso.ds)"
   ]
  },
  {
   "cell_type": "code",
   "execution_count": 6,
   "metadata": {},
   "outputs": [],
   "source": [
    "#drop indices column\n",
    "x_conso=x_conso.drop(columns=x_conso.columns[0],axis=1)\n"
   ]
  },
  {
   "cell_type": "code",
   "execution_count": 7,
   "metadata": {},
   "outputs": [
    {
     "data": {
      "text/html": [
       "<div>\n",
       "<style scoped>\n",
       "    .dataframe tbody tr th:only-of-type {\n",
       "        vertical-align: middle;\n",
       "    }\n",
       "\n",
       "    .dataframe tbody tr th {\n",
       "        vertical-align: top;\n",
       "    }\n",
       "\n",
       "    .dataframe thead th {\n",
       "        text-align: right;\n",
       "    }\n",
       "</style>\n",
       "<table border=\"1\" class=\"dataframe\">\n",
       "  <thead>\n",
       "    <tr style=\"text-align: right;\">\n",
       "      <th></th>\n",
       "      <th>ds</th>\n",
       "      <th>consumption_France</th>\n",
       "      <th>temperature_France</th>\n",
       "      <th>is_holiday_day</th>\n",
       "    </tr>\n",
       "  </thead>\n",
       "  <tbody>\n",
       "    <tr>\n",
       "      <th>0</th>\n",
       "      <td>2012-12-28 00:00:00</td>\n",
       "      <td>59679.0</td>\n",
       "      <td>8.817600</td>\n",
       "      <td>0.0</td>\n",
       "    </tr>\n",
       "    <tr>\n",
       "      <th>1</th>\n",
       "      <td>2012-12-28 00:30:00</td>\n",
       "      <td>58103.0</td>\n",
       "      <td>8.690875</td>\n",
       "      <td>0.0</td>\n",
       "    </tr>\n",
       "    <tr>\n",
       "      <th>2</th>\n",
       "      <td>2012-12-28 01:00:00</td>\n",
       "      <td>55354.0</td>\n",
       "      <td>8.564150</td>\n",
       "      <td>0.0</td>\n",
       "    </tr>\n",
       "    <tr>\n",
       "      <th>3</th>\n",
       "      <td>2012-12-28 01:30:00</td>\n",
       "      <td>55196.0</td>\n",
       "      <td>8.440525</td>\n",
       "      <td>0.0</td>\n",
       "    </tr>\n",
       "    <tr>\n",
       "      <th>4</th>\n",
       "      <td>2012-12-28 02:00:00</td>\n",
       "      <td>54324.0</td>\n",
       "      <td>8.316900</td>\n",
       "      <td>0.0</td>\n",
       "    </tr>\n",
       "  </tbody>\n",
       "</table>\n",
       "</div>"
      ],
      "text/plain": [
       "                   ds  consumption_France  temperature_France  is_holiday_day\n",
       "0 2012-12-28 00:00:00             59679.0            8.817600             0.0\n",
       "1 2012-12-28 00:30:00             58103.0            8.690875             0.0\n",
       "2 2012-12-28 01:00:00             55354.0            8.564150             0.0\n",
       "3 2012-12-28 01:30:00             55196.0            8.440525             0.0\n",
       "4 2012-12-28 02:00:00             54324.0            8.316900             0.0"
      ]
     },
     "execution_count": 7,
     "metadata": {},
     "output_type": "execute_result"
    }
   ],
   "source": [
    "#Visualize data frame head\n",
    "x_conso.head(5)"
   ]
  },
  {
   "cell_type": "markdown",
   "metadata": {},
   "source": [
    "# Make training set of daily electrical consumption profiles and conditions \n",
    "In this experiment there is no condition to pass. This is not something we can do with a PCA anyway"
   ]
  },
  {
   "cell_type": "code",
   "execution_count": 8,
   "metadata": {},
   "outputs": [],
   "source": [
    "name_set_plot = 'train'\n",
    "version = '-v1'\n",
    "nPoints=1830"
   ]
  },
  {
   "cell_type": "code",
   "execution_count": 9,
   "metadata": {},
   "outputs": [],
   "source": [
    "dict_xconso = {'train': x_conso}"
   ]
  },
  {
   "cell_type": "code",
   "execution_count": 10,
   "metadata": {},
   "outputs": [
    {
     "name": "stdout",
     "output_type": "stream",
     "text": [
      "['consumption_France']\n"
     ]
    }
   ],
   "source": [
    "# Normalize input variables\n",
    "type_scaler = 's'\n",
    "dict_xconso, _ = normalize_xconso(dict_xconso, type_scaler = 'standard')"
   ]
  },
  {
   "cell_type": "code",
   "execution_count": 11,
   "metadata": {},
   "outputs": [
    {
     "name": "stdout",
     "output_type": "stream",
     "text": [
      "(1830, 13)\n"
     ]
    },
    {
     "name": "stderr",
     "output_type": "stream",
     "text": [
      "/home/marotant/dev/Autoencoder_Embedding_Expert_Caracteristion_/src/conso/load_shape_data.py:212: FutureWarning:\n",
      "\n",
      "Method .as_matrix will be removed in a future version. Use .values instead.\n",
      "\n",
      "/home/marotant/dev/Autoencoder_Embedding_Expert_Caracteristion_/src/conso/load_shape_data.py:215: FutureWarning:\n",
      "\n",
      "Method .as_matrix will be removed in a future version. Use .values instead.\n",
      "\n",
      "/home/marotant/dev/Autoencoder_Embedding_Expert_Caracteristion_/src/conso/load_shape_data.py:328: FutureWarning:\n",
      "\n",
      "Method .as_matrix will be removed in a future version. Use .values instead.\n",
      "\n"
     ]
    }
   ],
   "source": [
    "dataset = get_dataset_autoencoder(dict_xconso=dict_xconso)"
   ]
  },
  {
   "cell_type": "code",
   "execution_count": 12,
   "metadata": {},
   "outputs": [],
   "source": [
    "#A VAE is a CVAE with a null feature as a condition  \n",
    "\n",
    "#Pass a constant vector for conditions\n",
    "nPoints=dataset['train']['x'][1].shape[0]\n",
    "x = dataset['train']['x'][0]\n",
    "cond_pre =np.zeros((nPoints,), dtype=int)#\n",
    "\n",
    "dataset['train']['x'] = [x,cond_pre]\n",
    "dataset['train']['y1'] = dataset['train']['y'] #the CVAE model has two outputs which are identifcal to compute the two losses"
   ]
  },
  {
   "cell_type": "code",
   "execution_count": 13,
   "metadata": {},
   "outputs": [],
   "source": [
    "calendar_info = pd.DataFrame(dataset[name_set_plot]['ds'])\n",
    "calendar_info['month'] = calendar_info.ds.dt.month\n",
    "calendar_info['weekday'] = calendar_info.ds.dt.weekday\n",
    "calendar_info['is_weekday'] = (calendar_info.weekday < 5).apply(lambda x:int(x))\n",
    "calendar_info = pd.merge(calendar_info, x_conso[['ds', 'is_holiday_day']], on='ds', how ='left')\n",
    "calendar_info.loc[calendar_info['is_holiday_day'].isna(),'is_holiday_day'] = 0"
   ]
  },
  {
   "cell_type": "markdown",
   "metadata": {},
   "source": [
    "# Build and train model VAE"
   ]
  },
  {
   "cell_type": "code",
   "execution_count": 14,
   "metadata": {
    "lines_to_next_cell": 2
   },
   "outputs": [],
   "source": [
    "#on sauvegarde le dataset\n",
    "path_out = log_dir_model"
   ]
  },
  {
   "cell_type": "code",
   "execution_count": 15,
   "metadata": {},
   "outputs": [],
   "source": [
    "# Parameters for autoencoder\n",
    "e_dims=[48,35,24,12]#encoder dim\n",
    "d_dims=[48,35,24,12]#decoder dim. Dense Blocks in skip connections can make the dimensions bigger when layers are concatenated with the previous one\n",
    "to_emb_dim=[]\n",
    "cond_pre_dim = 0#dataset['train']['x'][1].shape[1]\n",
    "input_dim = dataset['train']['x'][0].shape[1]\n",
    "z_dim= 4\n",
    "lambda_val = 0.5"
   ]
  },
  {
   "cell_type": "code",
   "execution_count": 16,
   "metadata": {},
   "outputs": [],
   "source": [
    "name_model = 'vae_conso-30min-journalier-nocond'\n",
    "#name_model = 'cvae_classification'"
   ]
  },
  {
   "cell_type": "code",
   "execution_count": 17,
   "metadata": {},
   "outputs": [],
   "source": [
    "#if needs to relaod model classes after modification wothout restarting the kernel\n",
    "\n",
    "import CVAE.cvae_model\n",
    "import CVAE.callbacks\n",
    "import importlib\n",
    "importlib.reload(CVAE.cvae_model)\n",
    "importlib.reload(CVAE.callbacks)\n",
    "\n",
    "%load_ext autoreload\n",
    "%autoreload"
   ]
  },
  {
   "cell_type": "code",
   "execution_count": 18,
   "metadata": {},
   "outputs": [
    {
     "name": "stdout",
     "output_type": "stream",
     "text": [
      "WARNING:tensorflow:From /home/marotant/.local/lib/python3.6/site-packages/tensorflow/python/framework/op_def_library.py:263: colocate_with (from tensorflow.python.framework.ops) is deprecated and will be removed in a future version.\n",
      "Instructions for updating:\n",
      "Colocations handled automatically by placer.\n",
      "L1 loss\n",
      "False\n",
      "complete model: \n",
      "__________________________________________________________________________________________________\n",
      "Layer (type)                    Output Shape         Param #     Connected to                     \n",
      "==================================================================================================\n",
      "x_true (InputLayer)             (None, 48)           0                                            \n",
      "__________________________________________________________________________________________________\n",
      "cond_pre (InputLayer)           (None, 1)            0                                            \n",
      "__________________________________________________________________________________________________\n",
      "encoder (Model)                 [(None, 4), (None, 4 5454        x_true[0][0]                     \n",
      "                                                                 cond_pre[0][0]                   \n",
      "__________________________________________________________________________________________________\n",
      "sample_z (Lambda)               (None, 4)            0           encoder[1][0]                    \n",
      "                                                                 encoder[1][1]                    \n",
      "__________________________________________________________________________________________________\n",
      "decoder (Model)                 (None, 48)           11670       sample_z[0][0]                   \n",
      "                                                                 cond_pre[0][0]                   \n",
      "__________________________________________________________________________________________________\n",
      "decoder_for_kl (Model)          (None, 48)           0           decoder[1][0]                    \n",
      "==================================================================================================\n",
      "Total params: 17,124\n",
      "Trainable params: 17,124\n",
      "Non-trainable params: 0\n",
      "__________________________________________________________________________________________________\n",
      "encoder: \n",
      "__________________________________________________________________________________________________\n",
      "Layer (type)                    Output Shape         Param #     Connected to                     \n",
      "==================================================================================================\n",
      "enc_x_true (InputLayer)         (None, 48)           0                                            \n",
      "__________________________________________________________________________________________________\n",
      "enc_cond (InputLayer)           (None, 1)            0                                            \n",
      "__________________________________________________________________________________________________\n",
      "enc_input (Concatenate)         (None, 49)           0           enc_x_true[0][0]                 \n",
      "                                                                 enc_cond[0][0]                   \n",
      "__________________________________________________________________________________________________\n",
      "dense_1 (Dense)                 (None, 48)           2400        enc_input[0][0]                  \n",
      "__________________________________________________________________________________________________\n",
      "enc_dense_0 (Concatenate)       (None, 49)           0           dense_1[0][0]                    \n",
      "                                                                 enc_cond[0][0]                   \n",
      "__________________________________________________________________________________________________\n",
      "dense_2 (Dense)                 (None, 35)           1750        enc_dense_0[0][0]                \n",
      "__________________________________________________________________________________________________\n",
      "enc_dense_1 (Concatenate)       (None, 36)           0           dense_2[0][0]                    \n",
      "                                                                 enc_cond[0][0]                   \n",
      "__________________________________________________________________________________________________\n",
      "dense_3 (Dense)                 (None, 24)           888         enc_dense_1[0][0]                \n",
      "__________________________________________________________________________________________________\n",
      "enc_dense_2 (Concatenate)       (None, 25)           0           dense_3[0][0]                    \n",
      "                                                                 enc_cond[0][0]                   \n",
      "__________________________________________________________________________________________________\n",
      "enc_dense_3 (Dense)             (None, 12)           312         enc_dense_2[0][0]                \n",
      "__________________________________________________________________________________________________\n",
      "latent_dense_mu (Dense)         (None, 4)            52          enc_dense_3[0][0]                \n",
      "__________________________________________________________________________________________________\n",
      "latent_dense_log_sigma (Dense)  (None, 4)            52          enc_dense_3[0][0]                \n",
      "==================================================================================================\n",
      "Total params: 5,454\n",
      "Trainable params: 5,454\n",
      "Non-trainable params: 0\n",
      "__________________________________________________________________________________________________\n",
      "decoder: \n",
      "__________________________________________________________________________________________________\n",
      "Layer (type)                    Output Shape         Param #     Connected to                     \n",
      "==================================================================================================\n",
      "dec_z (InputLayer)              (None, 4)            0                                            \n",
      "__________________________________________________________________________________________________\n",
      "dec_cond (InputLayer)           (None, 1)            0                                            \n",
      "__________________________________________________________________________________________________\n",
      "dec_input (Concatenate)         (None, 5)            0           dec_z[0][0]                      \n",
      "                                                                 dec_cond[0][0]                   \n",
      "__________________________________________________________________________________________________\n",
      "dense_4 (Dense)                 (None, 12)           72          dec_input[0][0]                  \n",
      "__________________________________________________________________________________________________\n",
      "dec_dense_resnet3 (Concatenate) (None, 17)           0           dense_4[0][0]                    \n",
      "                                                                 dec_input[0][0]                  \n",
      "__________________________________________________________________________________________________\n",
      "dense_5 (Dense)                 (None, 24)           432         dec_dense_resnet3[0][0]          \n",
      "__________________________________________________________________________________________________\n",
      "dec_dense_resnet2 (Concatenate) (None, 41)           0           dense_5[0][0]                    \n",
      "                                                                 dec_dense_resnet3[0][0]          \n",
      "__________________________________________________________________________________________________\n",
      "dense_6 (Dense)                 (None, 35)           1470        dec_dense_resnet2[0][0]          \n",
      "__________________________________________________________________________________________________\n",
      "dec_dense_resnet1 (Concatenate) (None, 76)           0           dense_6[0][0]                    \n",
      "                                                                 dec_dense_resnet2[0][0]          \n",
      "__________________________________________________________________________________________________\n",
      "dense_7 (Dense)                 (None, 48)           3696        dec_dense_resnet1[0][0]          \n",
      "__________________________________________________________________________________________________\n",
      "dec_dense_resnet0 (Concatenate) (None, 124)          0           dense_7[0][0]                    \n",
      "                                                                 dec_dense_resnet1[0][0]          \n",
      "__________________________________________________________________________________________________\n",
      "dec_x_hat (Dense)               (None, 48)           6000        dec_dense_resnet0[0][0]          \n",
      "==================================================================================================\n",
      "Total params: 11,670\n",
      "Trainable params: 11,670\n",
      "Non-trainable params: 0\n",
      "__________________________________________________________________________________________________\n"
     ]
    }
   ],
   "source": [
    "Lambda = K.variable(lambda_val, dtype='float32')\n",
    "model = CVAE.cvae_model.CVAE(input_dim=input_dim,\n",
    "             cond_dim=1, \n",
    "             e_dims=e_dims, \n",
    "             d_dims=d_dims, \n",
    "             z_dim=z_dim, \n",
    "             beta=Lambda,\n",
    "             name=name_model, \n",
    "             output=path_out,is_L2_Loss=False)"
   ]
  },
  {
   "cell_type": "markdown",
   "metadata": {},
   "source": [
    "### Trainning model "
   ]
  },
  {
   "cell_type": "code",
   "execution_count": 19,
   "metadata": {},
   "outputs": [],
   "source": [
    "from keras.callbacks import TensorBoard\n",
    "from time import time\n",
    "\n",
    "#embeddingsMetadata = {'dec_dense_0': 'metadata.tsv'}\n",
    "tensorboard = TensorBoard(log_dir=\"logs/{}\".format(name_model +str(time())),write_graph=True)#,write_images=True,embeddings_freq=10, embeddings_layer_names=['dec_dense_0'],embeddings_metadata= embeddingsMetadata)\n"
   ]
  },
  {
   "cell_type": "code",
   "execution_count": 20,
   "metadata": {},
   "outputs": [
    {
     "name": "stdout",
     "output_type": "stream",
     "text": [
      "\n",
      "\n",
      "--- START TRAINING ---\n",
      "\n",
      "WARNING:tensorflow:From /home/marotant/.local/lib/python3.6/site-packages/tensorflow/python/ops/math_ops.py:3066: to_int32 (from tensorflow.python.ops.math_ops) is deprecated and will be removed in a future version.\n",
      "Instructions for updating:\n",
      "Use tf.cast instead.\n",
      "[2004.744  1733.3081 1282.3385 1545.5471]\n",
      "5.026084385416667\n",
      "              is_weekday   weekday     month  is_holiday_day  temperature\n",
      "score model     0.834848  0.314977  0.399715        0.061818     0.799107\n",
      "random model    0.501846  0.140570  0.077073        0.021818    -0.459257\n",
      "0 Epochs ...  - loss: 38.1676 - decoder_loss: 37.5955 - decoder_for_kl_loss: 1.1441 - val_loss: 29.0297 - val_decoder_loss: 27.2677 - val_decoder_for_kl_loss: 3.5241 val_loss 29.029694979308083 ... lambda Loss 0.5\n",
      "[1667.836   1361.1124   931.7285   117.78097]\n",
      "3.5786817968749998\n",
      "              is_weekday   weekday     month  is_holiday_day  temperature\n",
      "score model     0.966633  0.512777  0.460067        0.243636     0.893614\n",
      "random model    0.476091  0.148079  0.100480        0.025455    -0.427900\n",
      "100 Epochs ...  - loss: 5.8774 - decoder_loss: 3.3496 - decoder_for_kl_loss: 5.0556 - val_loss: 5.8694 - val_decoder_loss: 3.4849 - val_decoder_for_kl_loss: 4.7690 val_loss 5.869390240132483 ... lambda Loss 0.5\n",
      "[1622.8153  1361.7968   999.7753   125.85066]\n",
      "3.4807726510416686\n",
      "              is_weekday   weekday     month  is_holiday_day  temperature\n",
      "score model     0.964790  0.511749  0.494586        0.210909     0.892440\n",
      "random model    0.472546  0.146442  0.090084        0.043636    -0.462637\n",
      "200 Epochs ...  - loss: 5.7130 - decoder_loss: 3.1495 - decoder_for_kl_loss: 5.1270 - val_loss: 5.4747 - val_decoder_loss: 3.0163 - val_decoder_for_kl_loss: 4.9167 val_loss 5.4747160041267104 ... lambda Loss 0.5\n",
      "[1586.3252  1267.1616  1162.5969   110.32566]\n",
      "3.483356953125001\n",
      "              is_weekday   weekday     month  is_holiday_day  temperature\n",
      "score model     0.962836  0.517719  0.515244        0.214545     0.898568\n",
      "random model    0.490875  0.143226  0.086763        0.025455    -0.398551\n",
      "300 Epochs ...  - loss: 5.5583 - decoder_loss: 2.9189 - decoder_for_kl_loss: 5.2789 - val_loss: 5.3902 - val_decoder_loss: 2.9189 - val_decoder_for_kl_loss: 4.9427 val_loss 5.390224389039753 ... lambda Loss 0.5\n"
     ]
    },
    {
     "data": {
      "image/png": "[encoded data removed]",
      "text/plain": [
       "<Figure size 432x288 with 1 Axes>"
      ]
     },
     "metadata": {
      "needs_background": "light"
     },
     "output_type": "display_data"
    }
   ],
   "source": [
    "#model.main_train(dataset, training_epochs=200, batch_size=20, verbose=False,callbacks=[tensorboard])\n",
    "import warnings\n",
    "warnings.filterwarnings('ignore')\n",
    "\n",
    "lambda_decreaseRate=0.0\n",
    "lambda_min=0.01\n",
    "\n",
    "out_batch = NEpochLogger(x_train_data=dataset['train']['x'], display=100,x_conso=x_conso,calendar_info=calendar_info)\n",
    "weightLoss=callbackWeightLoss(lambda_val,lambda_decreaseRate,lambda_min)\n",
    "#model.main_train(dataset, training_epochs=1500, batch_size=40, verbose=False,callbacks=[tensorboard,out_batch])#,weightLoss])\n",
    "model.main_train(dataset, training_epochs=400, batch_size=40, verbose=0,callbacks=[tensorboard,out_batch],validation_split=0.1)\n",
    "\n",
    "#visualizer = LatentSpaceVisualizer(model_folder_path=model_path, dataset_path=labellisation_data_folder + 'sequences_dataset/sequences_et_labels.npz')\n",
    " #   visualizer.visualize_embedding_after_training()"
   ]
  },
  {
   "cell_type": "code",
   "execution_count": 21,
   "metadata": {},
   "outputs": [
    {
     "name": "stdout",
     "output_type": "stream",
     "text": [
      "\n",
      "\n",
      "--- START TRAINING ---\n",
      "\n",
      "[1578.8573  1285.549   1218.1755    71.13951]\n",
      "3.487752010416668\n",
      "              is_weekday   weekday     month  is_holiday_day  temperature\n",
      "score model     0.968031  0.520969  0.515749        0.243636     0.898495\n",
      "random model    0.482676  0.152335  0.085258        0.018182    -0.455484\n",
      "0 Epochs ...  - loss: 5.5030 - decoder_loss: 2.8298 - decoder_for_kl_loss: 5.3464 - val_loss: 5.2258 - val_decoder_loss: 2.6573 - val_decoder_for_kl_loss: 5.1370 val_loss 5.225761637661626 ... lambda Loss 0.5\n",
      "[1599.5939  1298.5732  1193.8486    58.18407]\n",
      "3.496236776041668\n",
      "              is_weekday   weekday     month  is_holiday_day  temperature\n",
      "score model     0.962198  0.520876  0.528954        0.240000     0.898461\n",
      "random model    0.470436  0.141591  0.075355        0.050909    -0.446829\n",
      "100 Epochs ...  - loss: 5.2305 - decoder_loss: 2.7359 - decoder_for_kl_loss: 5.5142 - val_loss: 5.5078 - val_decoder_loss: 3.0976 - val_decoder_for_kl_loss: 5.3275 val_loss 5.50777132784734 ... lambda Loss 0.4523959755897522\n",
      "[1571.149   1293.1626  1268.1617    51.39926]\n",
      "3.5087651145833334\n",
      "              is_weekday   weekday     month  is_holiday_day  temperature\n",
      "score model     0.964705  0.513907  0.541917        0.276364     0.891354\n",
      "random model    0.448651  0.132224  0.075337        0.058182    -0.438278\n",
      "200 Epochs ...  - loss: 4.8768 - decoder_loss: 2.5184 - decoder_for_kl_loss: 5.7616 - val_loss: 4.8354 - val_decoder_loss: 2.5180 - val_decoder_for_kl_loss: 5.6614 val_loss 4.835355274012832 ... lambda Loss 0.4093242883682251\n",
      "[1576.6302  1321.2802  1273.47      36.42312]\n",
      "3.603836026041665\n",
      "              is_weekday   weekday     month  is_holiday_day  temperature\n",
      "score model     0.963536  0.510751  0.544811        0.250909     0.891110\n",
      "random model    0.465251  0.144192  0.080876        0.043636    -0.398198\n",
      "300 Epochs ...  - loss: 4.5965 - decoder_loss: 2.3826 - decoder_for_kl_loss: 5.9777 - val_loss: 4.5928 - val_decoder_loss: 2.4158 - val_decoder_for_kl_loss: 5.8782 val_loss 4.592757407433348 ... lambda Loss 0.3703534007072449\n",
      "[1614.6337   1363.2286   1273.6194     34.425217]\n",
      "3.481522307291666\n",
      "              is_weekday   weekday     month  is_holiday_day  temperature\n",
      "score model     0.964693  0.519308  0.547511        0.276364     0.892732\n",
      "random model    0.485638  0.161712  0.081300        0.036364    -0.400422\n",
      "400 Epochs ...  - loss: 4.3696 - decoder_loss: 2.2937 - decoder_for_kl_loss: 6.1948 - val_loss: 4.4241 - val_decoder_loss: 2.3984 - val_decoder_for_kl_loss: 6.0453 val_loss 4.424131455968638 ... lambda Loss 0.3350928723812103\n",
      "[1603.9534   1384.0167   1267.3755     30.184383]\n",
      "3.4942392552083357\n",
      "              is_weekday   weekday     month  is_holiday_day  temperature\n",
      "score model     0.960177  0.522107  0.547108        0.240000     0.897221\n",
      "random model    0.496383  0.136180  0.085365        0.072727    -0.415713\n",
      "500 Epochs ...  - loss: 4.1346 - decoder_loss: 2.1789 - decoder_for_kl_loss: 6.4505 - val_loss: 4.1817 - val_decoder_loss: 2.3302 - val_decoder_for_kl_loss: 6.1066 val_loss 4.181672249986826 ... lambda Loss 0.3031894266605377\n",
      "[1608.346   1365.1229  1332.3702    34.86804]\n",
      "3.4768514766995597\n",
      "              is_weekday   weekday     month  is_holiday_day  temperature\n",
      "score model     0.962740  0.515979  0.558988        0.294545     0.893786\n",
      "random model    0.487572  0.142108  0.081914        0.050909    -0.458600\n",
      "600 Epochs ...  - loss: 3.9108 - decoder_loss: 2.0733 - decoder_for_kl_loss: 6.6984 - val_loss: 4.0390 - val_decoder_loss: 2.2346 - val_decoder_for_kl_loss: 6.5774 val_loss 4.038950039389355 ... lambda Loss 0.2743234634399414\n",
      "[1607.6482   1425.9294   1369.6342     56.264767]\n",
      "3.468769307291667\n",
      "              is_weekday   weekday     month  is_holiday_day  temperature\n",
      "score model     0.962223  0.526914  0.556057        0.276364     0.896264\n",
      "random model    0.494049  0.133332  0.083651        0.047273    -0.444750\n",
      "700 Epochs ...  - loss: 3.7195 - decoder_loss: 2.0061 - decoder_for_kl_loss: 6.9033 - val_loss: 3.7704 - val_decoder_loss: 2.1263 - val_decoder_for_kl_loss: 6.6238 val_loss 3.770419423046008 ... lambda Loss 0.2482057511806488\n",
      "[1584.9067   1398.1913   1347.0895     31.578081]\n",
      "3.5008490468749978\n",
      "              is_weekday   weekday     month  is_holiday_day  temperature\n",
      "score model     0.961448  0.522032  0.548536        0.269091     0.888761\n",
      "random model    0.479667  0.124038  0.076145        0.043636    -0.422952\n",
      "800 Epochs ...  - loss: 3.5025 - decoder_loss: 1.9028 - decoder_for_kl_loss: 7.1232 - val_loss: 3.7183 - val_decoder_loss: 2.1934 - val_decoder_for_kl_loss: 6.7900 val_loss 3.718279749969316 ... lambda Loss 0.22457462549209595\n",
      "[1603.7965   1382.3262   1385.3783     31.209726]\n",
      "3.564520052083334\n",
      "              is_weekday   weekday     month  is_holiday_day  temperature\n",
      "score model     0.962760  0.527432  0.552433        0.290909     0.884977\n",
      "random model    0.501294  0.128445  0.092280        0.036364    -0.425954\n",
      "900 Epochs ...  - loss: 3.3275 - decoder_loss: 1.8126 - decoder_for_kl_loss: 7.4553 - val_loss: 3.5366 - val_decoder_loss: 2.1184 - val_decoder_for_kl_loss: 6.9795 val_loss 3.5365982654967594 ... lambda Loss 0.20319333672523499\n",
      "[1631.0044  1387.9747  1437.7509    58.43184]\n",
      "3.683613817708335\n",
      "              is_weekday   weekday     month  is_holiday_day  temperature\n",
      "score model     0.959590  0.519203  0.564486        0.272727     0.889484\n",
      "random model    0.482178  0.161686  0.070492        0.025455    -0.435475\n",
      "1000 Epochs ...  - loss: 3.1834 - decoder_loss: 1.7816 - decoder_for_kl_loss: 7.6247 - val_loss: 3.3961 - val_decoder_loss: 2.0459 - val_decoder_for_kl_loss: 7.3445 val_loss 3.396117364122568 ... lambda Loss 0.18384771049022675\n",
      "[1606.8402  1406.1372  1388.3273    15.64253]\n",
      "3.609261109374998\n",
      "              is_weekday   weekday     month  is_holiday_day  temperature\n",
      "score model     0.958797  0.519133  0.558049        0.283636     0.887153\n",
      "random model    0.490110  0.141004  0.076596        0.029091    -0.443787\n",
      "1100 Epochs ...  - loss: 2.9990 - decoder_loss: 1.6852 - decoder_for_kl_loss: 7.8980 - val_loss: 3.1502 - val_decoder_loss: 1.8697 - val_decoder_for_kl_loss: 7.6985 val_loss 3.1502473706104714 ... lambda Loss 0.16634398698806763\n",
      "[1611.91     1371.4019   1361.2898     25.945913]\n",
      "3.545067666666667\n",
      "              is_weekday   weekday     month  is_holiday_day  temperature\n",
      "score model     0.959976  0.518762  0.559671        0.276364     0.889840\n",
      "random model    0.475138  0.138772  0.083150        0.025455    -0.394856\n",
      "1200 Epochs ...  - loss: 2.8373 - decoder_loss: 1.6074 - decoder_for_kl_loss: 8.1720 - val_loss: 2.9956 - val_decoder_loss: 1.8139 - val_decoder_for_kl_loss: 7.8514 val_loss 2.9956005492497013 ... lambda Loss 0.15050673484802246\n",
      "[1601.789    1420.5267   1400.9318     24.461712]\n",
      "3.607588656249997\n",
      "              is_weekday   weekday     month  is_holiday_day  temperature\n",
      "score model     0.961455  0.520892  0.560191        0.269091     0.886863\n",
      "random model    0.505648  0.135565  0.085604        0.010909    -0.390672\n",
      "1300 Epochs ...  - loss: 2.7032 - decoder_loss: 1.5528 - decoder_for_kl_loss: 8.4472 - val_loss: 2.9560 - val_decoder_loss: 1.8471 - val_decoder_for_kl_loss: 8.1434 val_loss 2.9560253190212564 ... lambda Loss 0.13617733120918274\n",
      "[1632.682    1358.1816   1388.3616     31.668308]\n",
      "3.441254583333333\n",
      "              is_weekday   weekday     month  is_holiday_day  temperature\n",
      "score model     0.959323  0.523640  0.567169        0.265455     0.891915\n",
      "random model    0.477156  0.138908  0.079908        0.036364    -0.463159\n",
      "1400 Epochs ...  - loss: 2.5774 - decoder_loss: 1.5262 - decoder_for_kl_loss: 8.5311 - val_loss: 2.8962 - val_decoder_loss: 1.8883 - val_decoder_for_kl_loss: 8.1801 val_loss 2.8961637632442954 ... lambda Loss 0.12321212142705917\n",
      "[1628.9961   1366.8992   1375.9684     13.295698]\n",
      "3.5337826562500005\n",
      "              is_weekday   weekday     month  is_holiday_day  temperature\n",
      "score model     0.960695  0.521424  0.568291        0.258182     0.891470\n",
      "random model    0.505439  0.139977  0.075793        0.029091    -0.414915\n",
      "1500 Epochs ...  - loss: 2.4544 - decoder_loss: 1.4651 - decoder_for_kl_loss: 8.8738 - val_loss: 2.7678 - val_decoder_loss: 1.8188 - val_decoder_for_kl_loss: 8.5122 val_loss 2.7677568868209756 ... lambda Loss 0.11148135364055634\n",
      "[1636.3263   1331.9152   1384.9003     20.021564]\n",
      "3.538512520833331\n",
      "              is_weekday   weekday     month  is_holiday_day  temperature\n",
      "score model     0.961992  0.531337  0.570645        0.250909     0.891339\n",
      "random model    0.516558  0.145513  0.083501        0.018182    -0.395243\n",
      "1600 Epochs ...  - loss: 2.3702 - decoder_loss: 1.4532 - decoder_for_kl_loss: 9.0914 - val_loss: 2.6176 - val_decoder_loss: 1.7449 - val_decoder_for_kl_loss: 8.6517 val_loss 2.617602320968128 ... lambda Loss 0.10086746513843536\n",
      "[1634.37     1392.7914   1395.4172     20.703482]\n",
      "3.4725049114583344\n",
      "              is_weekday   weekday     month  is_holiday_day  temperature\n",
      "score model     0.961297  0.525331  0.571019        0.258182     0.892368\n",
      "random model    0.463916  0.137023  0.076022        0.040000    -0.428721\n",
      "1700 Epochs ...  - loss: 2.2262 - decoder_loss: 1.3795 - decoder_for_kl_loss: 9.2770 - val_loss: 2.5889 - val_decoder_loss: 1.7694 - val_decoder_for_kl_loss: 8.9801 val_loss 2.588926700946412 ... lambda Loss 0.09126410633325577\n",
      "[1640.7649   1387.3408   1370.1858     20.252098]\n",
      "3.5460504010416667\n",
      "              is_weekday   weekday     month  is_holiday_day  temperature\n",
      "score model     0.960601  0.518812  0.580505        0.258182     0.888647\n",
      "random model    0.485888  0.143193  0.087996        0.018182    -0.424581\n",
      "1800 Epochs ...  - loss: 2.1984 - decoder_loss: 1.4203 - decoder_for_kl_loss: 9.4225 - val_loss: 2.5436 - val_decoder_loss: 1.7896 - val_decoder_for_kl_loss: 9.1315 val_loss 2.543631943197198 ... lambda Loss 0.08257501572370529\n",
      "[1642.673    1391.4098   1423.9441     63.935173]\n",
      "3.539494156249999\n",
      "              is_weekday   weekday     month  is_holiday_day  temperature\n",
      "score model     0.962027  0.519296  0.575054        0.250909     0.897260\n",
      "random model    0.484818  0.153702  0.069988        0.043636    -0.411443\n",
      "1900 Epochs ...  - loss: 2.0543 - decoder_loss: 1.3245 - decoder_for_kl_loss: 9.7683 - val_loss: 2.4132 - val_decoder_loss: 1.7027 - val_decoder_for_kl_loss: 9.5094 val_loss 2.413205740881748 ... lambda Loss 0.07471320033073425\n"
     ]
    },
    {
     "data": {
      "image/png": "[encoded data removed]",
      "text/plain": [
       "<Figure size 432x288 with 1 Axes>"
      ]
     },
     "metadata": {
      "needs_background": "light"
     },
     "output_type": "display_data"
    }
   ],
   "source": [
    "lambda_decreaseRate=0.001\n",
    "weightLoss=callbackWeightLoss(lambda_val,lambda_decreaseRate,lambda_min)\n",
    "#model.main_train(dataset, training_epochs=1500, batch_size=40, verbose=False,callbacks=[tensorboard,out_batch])#,weightLoss])\n",
    "model.main_train(dataset, training_epochs=2000, batch_size=40, verbose=0,callbacks=[tensorboard,out_batch,weightLoss],validation_split=0.1)\n",
    "\n",
    "#visualizer = LatentSpaceVisualizer(model_folder_path=model_path, dataset_path=labellisation_data_folder + 'sequences_dataset/sequences_et_labels.npz')\n",
    " #   visualizer.visualize_embedding_after_training()"
   ]
  },
  {
   "cell_type": "markdown",
   "metadata": {},
   "source": [
    "DimsImportance=[1394.4407  1343.6127    44.23878 1616.7899 ] Only 3 dimensions are significant here (each term is the sum of absolute values in each direction for the all the datapoints.\n",
    "There is no significant overfitting when comparing training error to validation error. This will be confimed later on specific examples."
   ]
  },
  {
   "cell_type": "code",
   "execution_count": 22,
   "metadata": {},
   "outputs": [],
   "source": [
    "with open(os.path.join(path_out,name_model,\"config.txt\"),'w') as file: \n",
    "    file.write(str(cond_pre_dim) + '\\n')\n",
    "    #file.write(str(emb_dims) + '\\n')\n",
    "    file.write(str(e_dims) + '\\n') \n",
    "    file.write(str(d_dims) + '\\n') \n",
    "    file.write(str(z_dim) + '\\n')\n",
    "    file.write(str(Lambda) + '\\n')"
   ]
  },
  {
   "cell_type": "code",
   "execution_count": 23,
   "metadata": {},
   "outputs": [],
   "source": [
    "#sauvegarde du dataset associé\n",
    "name_dataset = 'dataset.pickle'\n",
    "\n",
    "with open( os.path.join(path_out,name_model, name_dataset), \"wb\" ) as file:\n",
    "    pickle.dump( dataset, file )"
   ]
  },
  {
   "cell_type": "markdown",
   "metadata": {},
   "source": [
    "## Loading model "
   ]
  },
  {
   "cell_type": "code",
   "execution_count": 24,
   "metadata": {},
   "outputs": [],
   "source": [
    "model.load_model(os.path.join(path_out, name_model, 'models'))"
   ]
  },
  {
   "cell_type": "code",
   "execution_count": 25,
   "metadata": {},
   "outputs": [],
   "source": [
    "\n",
    "\n",
    "#cond  = dataset['train']['x'][1]\n",
    "x_input = dataset['train']['x'][0]\n",
    "\n",
    "input_encoder = [x_input, cond_pre]"
   ]
  },
  {
   "cell_type": "code",
   "execution_count": 26,
   "metadata": {},
   "outputs": [],
   "source": [
    "x_encoded = model.encoder.predict(input_encoder)[0]\n",
    "x_hat = model.cvae.predict(x=dataset['train']['x'])[0]"
   ]
  },
  {
   "cell_type": "markdown",
   "metadata": {},
   "source": [
    "# Analysis of the latent space with the construction of a tensorboard projector"
   ]
  },
  {
   "cell_type": "code",
   "execution_count": 27,
   "metadata": {},
   "outputs": [
    {
     "data": {
      "text/plain": [
       "<Figure size 432x288 with 0 Axes>"
      ]
     },
     "metadata": {},
     "output_type": "display_data"
    }
   ],
   "source": [
    "\n",
    "nPoints=1500 #if you want to visualize images of consumption profiles and its recontruction in tensorboard, there is a maximum size that can be handle for a sprite image. 1830 is  \n",
    "import os,cv2\n",
    "x_encoded_reduced=x_encoded[0:nPoints,]\n",
    "images=createLoadProfileImages(x,x_hat,nPoints)"
   ]
  },
  {
   "cell_type": "code",
   "execution_count": 28,
   "metadata": {},
   "outputs": [
    {
     "data": {
      "text/plain": [
       "True"
      ]
     },
     "execution_count": 28,
     "metadata": {},
     "output_type": "execute_result"
    }
   ],
   "source": [
    "\n",
    "sprites=images_to_sprite(images)\n",
    "cv2.imwrite(os.path.join(log_dir_projector, 'sprite_4_classes.png'), sprites)"
   ]
  },
  {
   "cell_type": "code",
   "execution_count": 29,
   "metadata": {},
   "outputs": [],
   "source": [
    "\n",
    "writeMetaData(log_dir_projector,x_conso,calendar_info,nPoints,has_Odd=False)\n",
    "buildProjector(x_encoded_reduced,images=images, log_dir=log_dir_projector)"
   ]
  },
  {
   "cell_type": "code",
   "execution_count": 30,
   "metadata": {},
   "outputs": [
    {
     "data": {
      "text/plain": [
       "'/home/marotant/dev/Autoencoder_Embedding_Expert_Caracteristion_/notebooks/logs/Expe1/VAE/projector'"
      ]
     },
     "execution_count": 30,
     "metadata": {},
     "output_type": "execute_result"
    }
   ],
   "source": [
    "log_dir_projector"
   ]
  },
  {
   "cell_type": "markdown",
   "metadata": {},
   "source": [
    "# Predict Features in latent space"
   ]
  },
  {
   "cell_type": "code",
   "execution_count": 31,
   "metadata": {},
   "outputs": [
    {
     "name": "stdout",
     "output_type": "stream",
     "text": [
      "3.522679458333332\n",
      "              is_weekday   weekday     month  is_holiday_day  temperature\n",
      "score model     0.961283  0.531881  0.572808        0.261818     0.895572\n",
      "random model    0.503484  0.133262  0.095610        0.036364    -0.428532\n"
     ]
    }
   ],
   "source": [
    "df_noCond_VAE=predictFeaturesInLatentSPace(x_conso,calendar_info,x_encoded)"
   ]
  },
  {
   "cell_type": "markdown",
   "metadata": {},
   "source": [
    "# reconstruction error analysis"
   ]
  },
  {
   "cell_type": "code",
   "execution_count": 32,
   "metadata": {},
   "outputs": [],
   "source": [
    "error=np.sum(np.abs((x - x_hat)),axis=1)/48"
   ]
  },
  {
   "cell_type": "code",
   "execution_count": 33,
   "metadata": {},
   "outputs": [
    {
     "data": {
      "text/plain": [
       "<matplotlib.axes._subplots.AxesSubplot at 0x7f92a0ea7550>"
      ]
     },
     "execution_count": 33,
     "metadata": {},
     "output_type": "execute_result"
    },
    {
     "data": {
      "image/png": "[encoded data removed]",
      "text/plain": [
       "<Figure size 432x288 with 1 Axes>"
      ]
     },
     "metadata": {
      "needs_background": "light"
     },
     "output_type": "display_data"
    }
   ],
   "source": [
    "#make a histogram over residuals\n",
    "import seaborn as sn\n",
    "sn.distplot(error, kde=False, fit=stats.norm, bins=100)"
   ]
  },
  {
   "cell_type": "markdown",
   "metadata": {},
   "source": [
    "Check the day with errors above a threshold"
   ]
  },
  {
   "cell_type": "code",
   "execution_count": 34,
   "metadata": {},
   "outputs": [
    {
     "data": {
      "text/html": [
       "<div>\n",
       "<style scoped>\n",
       "    .dataframe tbody tr th:only-of-type {\n",
       "        vertical-align: middle;\n",
       "    }\n",
       "\n",
       "    .dataframe tbody tr th {\n",
       "        vertical-align: top;\n",
       "    }\n",
       "\n",
       "    .dataframe thead th {\n",
       "        text-align: right;\n",
       "    }\n",
       "</style>\n",
       "<table border=\"1\" class=\"dataframe\">\n",
       "  <thead>\n",
       "    <tr style=\"text-align: right;\">\n",
       "      <th></th>\n",
       "      <th>ds</th>\n",
       "      <th>month</th>\n",
       "      <th>weekday</th>\n",
       "      <th>is_weekday</th>\n",
       "      <th>is_holiday_day</th>\n",
       "      <th>error</th>\n",
       "    </tr>\n",
       "  </thead>\n",
       "  <tbody>\n",
       "    <tr>\n",
       "      <th>59</th>\n",
       "      <td>2013-02-25</td>\n",
       "      <td>2</td>\n",
       "      <td>0</td>\n",
       "      <td>1</td>\n",
       "      <td>0.0</td>\n",
       "      <td>0.087267</td>\n",
       "    </tr>\n",
       "    <tr>\n",
       "      <th>63</th>\n",
       "      <td>2013-03-01</td>\n",
       "      <td>3</td>\n",
       "      <td>4</td>\n",
       "      <td>1</td>\n",
       "      <td>0.0</td>\n",
       "      <td>0.087605</td>\n",
       "    </tr>\n",
       "    <tr>\n",
       "      <th>93</th>\n",
       "      <td>2013-03-31</td>\n",
       "      <td>3</td>\n",
       "      <td>6</td>\n",
       "      <td>0</td>\n",
       "      <td>0.0</td>\n",
       "      <td>0.096398</td>\n",
       "    </tr>\n",
       "    <tr>\n",
       "      <th>97</th>\n",
       "      <td>2013-04-04</td>\n",
       "      <td>4</td>\n",
       "      <td>3</td>\n",
       "      <td>1</td>\n",
       "      <td>0.0</td>\n",
       "      <td>0.083932</td>\n",
       "    </tr>\n",
       "    <tr>\n",
       "      <th>99</th>\n",
       "      <td>2013-04-06</td>\n",
       "      <td>4</td>\n",
       "      <td>5</td>\n",
       "      <td>0</td>\n",
       "      <td>0.0</td>\n",
       "      <td>0.084946</td>\n",
       "    </tr>\n",
       "    <tr>\n",
       "      <th>726</th>\n",
       "      <td>2014-12-24</td>\n",
       "      <td>12</td>\n",
       "      <td>2</td>\n",
       "      <td>1</td>\n",
       "      <td>0.0</td>\n",
       "      <td>0.114954</td>\n",
       "    </tr>\n",
       "    <tr>\n",
       "      <th>1147</th>\n",
       "      <td>2016-02-18</td>\n",
       "      <td>2</td>\n",
       "      <td>3</td>\n",
       "      <td>1</td>\n",
       "      <td>0.0</td>\n",
       "      <td>0.083242</td>\n",
       "    </tr>\n",
       "  </tbody>\n",
       "</table>\n",
       "</div>"
      ],
      "text/plain": [
       "             ds  month  weekday  is_weekday  is_holiday_day     error\n",
       "59   2013-02-25      2        0           1             0.0  0.087267\n",
       "63   2013-03-01      3        4           1             0.0  0.087605\n",
       "93   2013-03-31      3        6           0             0.0  0.096398\n",
       "97   2013-04-04      4        3           1             0.0  0.083932\n",
       "99   2013-04-06      4        5           0             0.0  0.084946\n",
       "726  2014-12-24     12        2           1             0.0  0.114954\n",
       "1147 2016-02-18      2        3           1             0.0  0.083242"
      ]
     },
     "execution_count": 34,
     "metadata": {},
     "output_type": "execute_result"
    }
   ],
   "source": [
    "ErrorThreshold=0.08\n",
    "idxMaxError=[i for i in range(0,nPoints) if error[i]>=ErrorThreshold]\n",
    "calender_error=calendar_info.loc[idxMaxError]\n",
    "calender_error['error']=error[idxMaxError]\n",
    "\n",
    "calender_error"
   ]
  },
  {
   "cell_type": "markdown",
   "metadata": {},
   "source": [
    "Check the first n days with highest errors "
   ]
  },
  {
   "cell_type": "code",
   "execution_count": 35,
   "metadata": {},
   "outputs": [
    {
     "data": {
      "text/html": [
       "<div>\n",
       "<style scoped>\n",
       "    .dataframe tbody tr th:only-of-type {\n",
       "        vertical-align: middle;\n",
       "    }\n",
       "\n",
       "    .dataframe tbody tr th {\n",
       "        vertical-align: top;\n",
       "    }\n",
       "\n",
       "    .dataframe thead th {\n",
       "        text-align: right;\n",
       "    }\n",
       "</style>\n",
       "<table border=\"1\" class=\"dataframe\">\n",
       "  <thead>\n",
       "    <tr style=\"text-align: right;\">\n",
       "      <th></th>\n",
       "      <th>ds</th>\n",
       "      <th>month</th>\n",
       "      <th>weekday</th>\n",
       "      <th>is_weekday</th>\n",
       "      <th>is_holiday_day</th>\n",
       "      <th>error</th>\n",
       "    </tr>\n",
       "  </thead>\n",
       "  <tbody>\n",
       "    <tr>\n",
       "      <th>1769</th>\n",
       "      <td>2017-11-01</td>\n",
       "      <td>11</td>\n",
       "      <td>2</td>\n",
       "      <td>1</td>\n",
       "      <td>1.0</td>\n",
       "      <td>0.152591</td>\n",
       "    </tr>\n",
       "    <tr>\n",
       "      <th>1808</th>\n",
       "      <td>2017-12-10</td>\n",
       "      <td>12</td>\n",
       "      <td>6</td>\n",
       "      <td>0</td>\n",
       "      <td>0.0</td>\n",
       "      <td>0.124185</td>\n",
       "    </tr>\n",
       "    <tr>\n",
       "      <th>1828</th>\n",
       "      <td>2017-12-30</td>\n",
       "      <td>12</td>\n",
       "      <td>5</td>\n",
       "      <td>0</td>\n",
       "      <td>0.0</td>\n",
       "      <td>0.119046</td>\n",
       "    </tr>\n",
       "    <tr>\n",
       "      <th>1827</th>\n",
       "      <td>2017-12-29</td>\n",
       "      <td>12</td>\n",
       "      <td>4</td>\n",
       "      <td>1</td>\n",
       "      <td>0.0</td>\n",
       "      <td>0.117483</td>\n",
       "    </tr>\n",
       "    <tr>\n",
       "      <th>726</th>\n",
       "      <td>2014-12-24</td>\n",
       "      <td>12</td>\n",
       "      <td>2</td>\n",
       "      <td>1</td>\n",
       "      <td>0.0</td>\n",
       "      <td>0.114954</td>\n",
       "    </tr>\n",
       "    <tr>\n",
       "      <th>1790</th>\n",
       "      <td>2017-11-22</td>\n",
       "      <td>11</td>\n",
       "      <td>2</td>\n",
       "      <td>1</td>\n",
       "      <td>0.0</td>\n",
       "      <td>0.102197</td>\n",
       "    </tr>\n",
       "    <tr>\n",
       "      <th>93</th>\n",
       "      <td>2013-03-31</td>\n",
       "      <td>3</td>\n",
       "      <td>6</td>\n",
       "      <td>0</td>\n",
       "      <td>0.0</td>\n",
       "      <td>0.096398</td>\n",
       "    </tr>\n",
       "    <tr>\n",
       "      <th>1772</th>\n",
       "      <td>2017-11-04</td>\n",
       "      <td>11</td>\n",
       "      <td>5</td>\n",
       "      <td>0</td>\n",
       "      <td>0.0</td>\n",
       "      <td>0.089465</td>\n",
       "    </tr>\n",
       "    <tr>\n",
       "      <th>1822</th>\n",
       "      <td>2017-12-24</td>\n",
       "      <td>12</td>\n",
       "      <td>6</td>\n",
       "      <td>0</td>\n",
       "      <td>0.0</td>\n",
       "      <td>0.088787</td>\n",
       "    </tr>\n",
       "    <tr>\n",
       "      <th>63</th>\n",
       "      <td>2013-03-01</td>\n",
       "      <td>3</td>\n",
       "      <td>4</td>\n",
       "      <td>1</td>\n",
       "      <td>0.0</td>\n",
       "      <td>0.087605</td>\n",
       "    </tr>\n",
       "    <tr>\n",
       "      <th>1823</th>\n",
       "      <td>2017-12-25</td>\n",
       "      <td>12</td>\n",
       "      <td>0</td>\n",
       "      <td>1</td>\n",
       "      <td>1.0</td>\n",
       "      <td>0.087538</td>\n",
       "    </tr>\n",
       "    <tr>\n",
       "      <th>59</th>\n",
       "      <td>2013-02-25</td>\n",
       "      <td>2</td>\n",
       "      <td>0</td>\n",
       "      <td>1</td>\n",
       "      <td>0.0</td>\n",
       "      <td>0.087267</td>\n",
       "    </tr>\n",
       "    <tr>\n",
       "      <th>99</th>\n",
       "      <td>2013-04-06</td>\n",
       "      <td>4</td>\n",
       "      <td>5</td>\n",
       "      <td>0</td>\n",
       "      <td>0.0</td>\n",
       "      <td>0.084946</td>\n",
       "    </tr>\n",
       "    <tr>\n",
       "      <th>97</th>\n",
       "      <td>2013-04-04</td>\n",
       "      <td>4</td>\n",
       "      <td>3</td>\n",
       "      <td>1</td>\n",
       "      <td>0.0</td>\n",
       "      <td>0.083932</td>\n",
       "    </tr>\n",
       "    <tr>\n",
       "      <th>1147</th>\n",
       "      <td>2016-02-18</td>\n",
       "      <td>2</td>\n",
       "      <td>3</td>\n",
       "      <td>1</td>\n",
       "      <td>0.0</td>\n",
       "      <td>0.083242</td>\n",
       "    </tr>\n",
       "    <tr>\n",
       "      <th>1829</th>\n",
       "      <td>2017-12-31</td>\n",
       "      <td>12</td>\n",
       "      <td>6</td>\n",
       "      <td>0</td>\n",
       "      <td>0.0</td>\n",
       "      <td>0.079114</td>\n",
       "    </tr>\n",
       "    <tr>\n",
       "      <th>1457</th>\n",
       "      <td>2016-12-24</td>\n",
       "      <td>12</td>\n",
       "      <td>5</td>\n",
       "      <td>0</td>\n",
       "      <td>0.0</td>\n",
       "      <td>0.078831</td>\n",
       "    </tr>\n",
       "    <tr>\n",
       "      <th>1794</th>\n",
       "      <td>2017-11-26</td>\n",
       "      <td>11</td>\n",
       "      <td>6</td>\n",
       "      <td>0</td>\n",
       "      <td>0.0</td>\n",
       "      <td>0.078226</td>\n",
       "    </tr>\n",
       "    <tr>\n",
       "      <th>368</th>\n",
       "      <td>2013-12-31</td>\n",
       "      <td>12</td>\n",
       "      <td>1</td>\n",
       "      <td>1</td>\n",
       "      <td>0.0</td>\n",
       "      <td>0.078220</td>\n",
       "    </tr>\n",
       "    <tr>\n",
       "      <th>411</th>\n",
       "      <td>2014-02-12</td>\n",
       "      <td>2</td>\n",
       "      <td>2</td>\n",
       "      <td>1</td>\n",
       "      <td>0.0</td>\n",
       "      <td>0.076505</td>\n",
       "    </tr>\n",
       "    <tr>\n",
       "      <th>1766</th>\n",
       "      <td>2017-10-29</td>\n",
       "      <td>10</td>\n",
       "      <td>6</td>\n",
       "      <td>0</td>\n",
       "      <td>0.0</td>\n",
       "      <td>0.075750</td>\n",
       "    </tr>\n",
       "    <tr>\n",
       "      <th>346</th>\n",
       "      <td>2013-12-09</td>\n",
       "      <td>12</td>\n",
       "      <td>0</td>\n",
       "      <td>1</td>\n",
       "      <td>0.0</td>\n",
       "      <td>0.074162</td>\n",
       "    </tr>\n",
       "    <tr>\n",
       "      <th>1442</th>\n",
       "      <td>2016-12-09</td>\n",
       "      <td>12</td>\n",
       "      <td>4</td>\n",
       "      <td>1</td>\n",
       "      <td>0.0</td>\n",
       "      <td>0.073791</td>\n",
       "    </tr>\n",
       "    <tr>\n",
       "      <th>1782</th>\n",
       "      <td>2017-11-14</td>\n",
       "      <td>11</td>\n",
       "      <td>1</td>\n",
       "      <td>1</td>\n",
       "      <td>0.0</td>\n",
       "      <td>0.072705</td>\n",
       "    </tr>\n",
       "    <tr>\n",
       "      <th>1141</th>\n",
       "      <td>2016-02-12</td>\n",
       "      <td>2</td>\n",
       "      <td>4</td>\n",
       "      <td>1</td>\n",
       "      <td>0.0</td>\n",
       "      <td>0.071845</td>\n",
       "    </tr>\n",
       "    <tr>\n",
       "      <th>1078</th>\n",
       "      <td>2015-12-11</td>\n",
       "      <td>12</td>\n",
       "      <td>4</td>\n",
       "      <td>1</td>\n",
       "      <td>0.0</td>\n",
       "      <td>0.071261</td>\n",
       "    </tr>\n",
       "    <tr>\n",
       "      <th>7</th>\n",
       "      <td>2013-01-04</td>\n",
       "      <td>1</td>\n",
       "      <td>4</td>\n",
       "      <td>1</td>\n",
       "      <td>0.0</td>\n",
       "      <td>0.070699</td>\n",
       "    </tr>\n",
       "    <tr>\n",
       "      <th>449</th>\n",
       "      <td>2014-03-22</td>\n",
       "      <td>3</td>\n",
       "      <td>5</td>\n",
       "      <td>0</td>\n",
       "      <td>0.0</td>\n",
       "      <td>0.070367</td>\n",
       "    </tr>\n",
       "    <tr>\n",
       "      <th>790</th>\n",
       "      <td>2015-02-26</td>\n",
       "      <td>2</td>\n",
       "      <td>3</td>\n",
       "      <td>1</td>\n",
       "      <td>0.0</td>\n",
       "      <td>0.070027</td>\n",
       "    </tr>\n",
       "    <tr>\n",
       "      <th>1225</th>\n",
       "      <td>2016-05-06</td>\n",
       "      <td>5</td>\n",
       "      <td>4</td>\n",
       "      <td>1</td>\n",
       "      <td>0.0</td>\n",
       "      <td>0.069650</td>\n",
       "    </tr>\n",
       "  </tbody>\n",
       "</table>\n",
       "</div>"
      ],
      "text/plain": [
       "             ds  month  weekday  is_weekday  is_holiday_day     error\n",
       "1769 2017-11-01     11        2           1             1.0  0.152591\n",
       "1808 2017-12-10     12        6           0             0.0  0.124185\n",
       "1828 2017-12-30     12        5           0             0.0  0.119046\n",
       "1827 2017-12-29     12        4           1             0.0  0.117483\n",
       "726  2014-12-24     12        2           1             0.0  0.114954\n",
       "1790 2017-11-22     11        2           1             0.0  0.102197\n",
       "93   2013-03-31      3        6           0             0.0  0.096398\n",
       "1772 2017-11-04     11        5           0             0.0  0.089465\n",
       "1822 2017-12-24     12        6           0             0.0  0.088787\n",
       "63   2013-03-01      3        4           1             0.0  0.087605\n",
       "1823 2017-12-25     12        0           1             1.0  0.087538\n",
       "59   2013-02-25      2        0           1             0.0  0.087267\n",
       "99   2013-04-06      4        5           0             0.0  0.084946\n",
       "97   2013-04-04      4        3           1             0.0  0.083932\n",
       "1147 2016-02-18      2        3           1             0.0  0.083242\n",
       "1829 2017-12-31     12        6           0             0.0  0.079114\n",
       "1457 2016-12-24     12        5           0             0.0  0.078831\n",
       "1794 2017-11-26     11        6           0             0.0  0.078226\n",
       "368  2013-12-31     12        1           1             0.0  0.078220\n",
       "411  2014-02-12      2        2           1             0.0  0.076505\n",
       "1766 2017-10-29     10        6           0             0.0  0.075750\n",
       "346  2013-12-09     12        0           1             0.0  0.074162\n",
       "1442 2016-12-09     12        4           1             0.0  0.073791\n",
       "1782 2017-11-14     11        1           1             0.0  0.072705\n",
       "1141 2016-02-12      2        4           1             0.0  0.071845\n",
       "1078 2015-12-11     12        4           1             0.0  0.071261\n",
       "7    2013-01-04      1        4           1             0.0  0.070699\n",
       "449  2014-03-22      3        5           0             0.0  0.070367\n",
       "790  2015-02-26      2        3           1             0.0  0.070027\n",
       "1225 2016-05-06      5        4           1             0.0  0.069650"
      ]
     },
     "execution_count": 35,
     "metadata": {},
     "output_type": "execute_result"
    }
   ],
   "source": [
    "nDays=30\n",
    "\n",
    "decreasingOrderIdx=np.argsort(-error)\n",
    "calendar_Error_Highest=calendar_info.loc[decreasingOrderIdx[0:nDays]]\n",
    "calendar_Error_Highest['error']=error[decreasingOrderIdx[0:nDays]]\n",
    "calendar_Error_Highest"
   ]
  },
  {
   "cell_type": "markdown",
   "metadata": {},
   "source": [
    "Visualize the reconstruction error over a specific day"
   ]
  },
  {
   "cell_type": "code",
   "execution_count": 36,
   "metadata": {},
   "outputs": [
    {
     "data": {
      "text/plain": [
       "[<matplotlib.lines.Line2D at 0x7f92a05cb080>]"
      ]
     },
     "execution_count": 36,
     "metadata": {},
     "output_type": "execute_result"
    },
    {
     "data": {
      "image/png": "[encoded data removed]",
      "text/plain": [
       "<Figure size 300x300 with 1 Axes>"
      ]
     },
     "metadata": {
      "needs_background": "light"
     },
     "output_type": "display_data"
    }
   ],
   "source": [
    "indice=1185 #1185 is the changing hour day end of march\n",
    "fig = plt.figure(dpi=100,figsize=(3,3))\n",
    "#set(gca,'Color','k')\n",
    "plt.plot(x[indice,:])\n",
    "plt.plot(x_hat[indice,:])"
   ]
  },
  {
   "cell_type": "markdown",
   "metadata": {},
   "source": [
    "Visualize the reconstruction error over the days with highest error"
   ]
  },
  {
   "cell_type": "code",
   "execution_count": 37,
   "metadata": {},
   "outputs": [
    {
     "data": {
      "image/png": "[encoded data removed]",
      "text/plain": [
       "<Figure size 1000x1000 with 9 Axes>"
      ]
     },
     "metadata": {
      "needs_background": "light"
     },
     "output_type": "display_data"
    }
   ],
   "source": [
    "nPlots=10#len(idxMaxError)\n",
    "nCols=5\n",
    "nRows=int(nPlots/nCols)+1\n",
    "fig = plt.figure(dpi=100,figsize=(10,10))\n",
    "for i in range(1, nPlots):\n",
    "    plt.subplot(nRows, nCols, i)\n",
    "    fig.subplots_adjust(hspace=.5)\n",
    "    indice=decreasingOrderIdx[i-1]\n",
    "    plt.plot(x[indice,:])\n",
    "    plt.plot(x_hat[indice,:])\n",
    "    plt.title( calendar_Error_Highest.ds.dt.date.iloc[i-1])"
   ]
  },
  {
   "cell_type": "markdown",
   "metadata": {},
   "source": [
    "2013-03-31 is the day with a missing hour because of changing day time and the consumption value is set to 0. It is hence normal that it is not well predicted and a good indicator that the model does not tend to overfit."
   ]
  },
  {
   "cell_type": "markdown",
   "metadata": {},
   "source": [
    "# Study of holiday predictions"
   ]
  },
  {
   "cell_type": "code",
   "execution_count": 38,
   "metadata": {},
   "outputs": [],
   "source": [
    "#preparation des features d'interet\n",
    "yHd=calendar_info['is_holiday_day'].astype(int)\n",
    "indicesHd=np.array([i for i in range(0, nPoints) if yHd[i] == 1])\n",
    "yHd_only=yHd[yHd==1]\n",
    "x_encoded_Hd=x_encoded[indicesHd,]"
   ]
  },
  {
   "cell_type": "code",
   "execution_count": 39,
   "metadata": {},
   "outputs": [],
   "source": [
    "results_hd=scoreKnnResults(x_encoded,yHd,type='classifier',k=5,cv=10)\n",
    "\n"
   ]
  },
  {
   "cell_type": "markdown",
   "metadata": {},
   "source": [
    "## holidays well predicted"
   ]
  },
  {
   "cell_type": "code",
   "execution_count": 40,
   "metadata": {},
   "outputs": [
    {
     "data": {
      "text/html": [
       "<div>\n",
       "<style scoped>\n",
       "    .dataframe tbody tr th:only-of-type {\n",
       "        vertical-align: middle;\n",
       "    }\n",
       "\n",
       "    .dataframe tbody tr th {\n",
       "        vertical-align: top;\n",
       "    }\n",
       "\n",
       "    .dataframe thead th {\n",
       "        text-align: right;\n",
       "    }\n",
       "</style>\n",
       "<table border=\"1\" class=\"dataframe\">\n",
       "  <thead>\n",
       "    <tr style=\"text-align: right;\">\n",
       "      <th></th>\n",
       "      <th>ds</th>\n",
       "      <th>month</th>\n",
       "      <th>weekday</th>\n",
       "      <th>is_weekday</th>\n",
       "      <th>is_holiday_day</th>\n",
       "    </tr>\n",
       "  </thead>\n",
       "  <tbody>\n",
       "    <tr>\n",
       "      <th>4</th>\n",
       "      <td>2013-01-01</td>\n",
       "      <td>1</td>\n",
       "      <td>1</td>\n",
       "      <td>1</td>\n",
       "      <td>1.0</td>\n",
       "    </tr>\n",
       "    <tr>\n",
       "      <th>131</th>\n",
       "      <td>2013-05-08</td>\n",
       "      <td>5</td>\n",
       "      <td>2</td>\n",
       "      <td>1</td>\n",
       "      <td>1.0</td>\n",
       "    </tr>\n",
       "    <tr>\n",
       "      <th>369</th>\n",
       "      <td>2014-01-01</td>\n",
       "      <td>1</td>\n",
       "      <td>2</td>\n",
       "      <td>1</td>\n",
       "      <td>1.0</td>\n",
       "    </tr>\n",
       "    <tr>\n",
       "      <th>479</th>\n",
       "      <td>2014-04-21</td>\n",
       "      <td>4</td>\n",
       "      <td>0</td>\n",
       "      <td>1</td>\n",
       "      <td>1.0</td>\n",
       "    </tr>\n",
       "    <tr>\n",
       "      <th>528</th>\n",
       "      <td>2014-06-09</td>\n",
       "      <td>6</td>\n",
       "      <td>0</td>\n",
       "      <td>1</td>\n",
       "      <td>1.0</td>\n",
       "    </tr>\n",
       "    <tr>\n",
       "      <th>854</th>\n",
       "      <td>2015-05-01</td>\n",
       "      <td>5</td>\n",
       "      <td>4</td>\n",
       "      <td>1</td>\n",
       "      <td>1.0</td>\n",
       "    </tr>\n",
       "    <tr>\n",
       "      <th>1092</th>\n",
       "      <td>2015-12-25</td>\n",
       "      <td>12</td>\n",
       "      <td>4</td>\n",
       "      <td>1</td>\n",
       "      <td>1.0</td>\n",
       "    </tr>\n",
       "    <tr>\n",
       "      <th>1235</th>\n",
       "      <td>2016-05-16</td>\n",
       "      <td>5</td>\n",
       "      <td>0</td>\n",
       "      <td>1</td>\n",
       "      <td>1.0</td>\n",
       "    </tr>\n",
       "    <tr>\n",
       "      <th>1326</th>\n",
       "      <td>2016-08-15</td>\n",
       "      <td>8</td>\n",
       "      <td>0</td>\n",
       "      <td>1</td>\n",
       "      <td>1.0</td>\n",
       "    </tr>\n",
       "  </tbody>\n",
       "</table>\n",
       "</div>"
      ],
      "text/plain": [
       "             ds  month  weekday  is_weekday  is_holiday_day\n",
       "4    2013-01-01      1        1           1             1.0\n",
       "131  2013-05-08      5        2           1             1.0\n",
       "369  2014-01-01      1        2           1             1.0\n",
       "479  2014-04-21      4        0           1             1.0\n",
       "528  2014-06-09      6        0           1             1.0\n",
       "854  2015-05-01      5        4           1             1.0\n",
       "1092 2015-12-25     12        4           1             1.0\n",
       "1235 2016-05-16      5        0           1             1.0\n",
       "1326 2016-08-15      8        0           1             1.0"
      ]
     },
     "execution_count": 40,
     "metadata": {},
     "output_type": "execute_result"
    }
   ],
   "source": [
    "results_hd_only=[results_hd['predP'][i] for i in indicesHd ]\n",
    "indices_Hd_predict=[i for i in indicesHd if  results_hd['predP'][i]>=0.5]\n",
    "indices_Hd_not_predicted=[i for i in indicesHd if  results_hd['predP'][i]<0.5]\n",
    "calendar_info.loc[indices_Hd_predict]"
   ]
  },
  {
   "cell_type": "code",
   "execution_count": 41,
   "metadata": {},
   "outputs": [],
   "source": [
    "yWeekday=calendar_info['is_weekday']\n",
    "results_wk=scoreKnnResults(x_encoded,yWeekday,type='classifier',k=10,cv=10)\n",
    "\n"
   ]
  },
  {
   "cell_type": "code",
   "execution_count": 42,
   "metadata": {},
   "outputs": [
    {
     "data": {
      "text/html": [
       "<div>\n",
       "<style scoped>\n",
       "    .dataframe tbody tr th:only-of-type {\n",
       "        vertical-align: middle;\n",
       "    }\n",
       "\n",
       "    .dataframe tbody tr th {\n",
       "        vertical-align: top;\n",
       "    }\n",
       "\n",
       "    .dataframe thead th {\n",
       "        text-align: right;\n",
       "    }\n",
       "</style>\n",
       "<table border=\"1\" class=\"dataframe\">\n",
       "  <thead>\n",
       "    <tr style=\"text-align: right;\">\n",
       "      <th></th>\n",
       "      <th>ds</th>\n",
       "      <th>month</th>\n",
       "      <th>weekday</th>\n",
       "      <th>is_weekday</th>\n",
       "      <th>is_holiday_day</th>\n",
       "    </tr>\n",
       "  </thead>\n",
       "  <tbody>\n",
       "    <tr>\n",
       "      <th>3</th>\n",
       "      <td>2012-12-31</td>\n",
       "      <td>12</td>\n",
       "      <td>0</td>\n",
       "      <td>1</td>\n",
       "      <td>0.0</td>\n",
       "    </tr>\n",
       "    <tr>\n",
       "      <th>4</th>\n",
       "      <td>2013-01-01</td>\n",
       "      <td>1</td>\n",
       "      <td>1</td>\n",
       "      <td>1</td>\n",
       "      <td>1.0</td>\n",
       "    </tr>\n",
       "    <tr>\n",
       "      <th>94</th>\n",
       "      <td>2013-04-01</td>\n",
       "      <td>4</td>\n",
       "      <td>0</td>\n",
       "      <td>1</td>\n",
       "      <td>1.0</td>\n",
       "    </tr>\n",
       "    <tr>\n",
       "      <th>124</th>\n",
       "      <td>2013-05-01</td>\n",
       "      <td>5</td>\n",
       "      <td>2</td>\n",
       "      <td>1</td>\n",
       "      <td>1.0</td>\n",
       "    </tr>\n",
       "    <tr>\n",
       "      <th>131</th>\n",
       "      <td>2013-05-08</td>\n",
       "      <td>5</td>\n",
       "      <td>2</td>\n",
       "      <td>1</td>\n",
       "      <td>1.0</td>\n",
       "    </tr>\n",
       "    <tr>\n",
       "      <th>132</th>\n",
       "      <td>2013-05-09</td>\n",
       "      <td>5</td>\n",
       "      <td>3</td>\n",
       "      <td>1</td>\n",
       "      <td>1.0</td>\n",
       "    </tr>\n",
       "    <tr>\n",
       "      <th>143</th>\n",
       "      <td>2013-05-20</td>\n",
       "      <td>5</td>\n",
       "      <td>0</td>\n",
       "      <td>1</td>\n",
       "      <td>1.0</td>\n",
       "    </tr>\n",
       "    <tr>\n",
       "      <th>230</th>\n",
       "      <td>2013-08-15</td>\n",
       "      <td>8</td>\n",
       "      <td>3</td>\n",
       "      <td>1</td>\n",
       "      <td>1.0</td>\n",
       "    </tr>\n",
       "    <tr>\n",
       "      <th>308</th>\n",
       "      <td>2013-11-01</td>\n",
       "      <td>11</td>\n",
       "      <td>4</td>\n",
       "      <td>1</td>\n",
       "      <td>1.0</td>\n",
       "    </tr>\n",
       "    <tr>\n",
       "      <th>318</th>\n",
       "      <td>2013-11-11</td>\n",
       "      <td>11</td>\n",
       "      <td>0</td>\n",
       "      <td>1</td>\n",
       "      <td>1.0</td>\n",
       "    </tr>\n",
       "    <tr>\n",
       "      <th>362</th>\n",
       "      <td>2013-12-25</td>\n",
       "      <td>12</td>\n",
       "      <td>2</td>\n",
       "      <td>1</td>\n",
       "      <td>1.0</td>\n",
       "    </tr>\n",
       "    <tr>\n",
       "      <th>364</th>\n",
       "      <td>2013-12-27</td>\n",
       "      <td>12</td>\n",
       "      <td>4</td>\n",
       "      <td>1</td>\n",
       "      <td>0.0</td>\n",
       "    </tr>\n",
       "    <tr>\n",
       "      <th>368</th>\n",
       "      <td>2013-12-31</td>\n",
       "      <td>12</td>\n",
       "      <td>1</td>\n",
       "      <td>1</td>\n",
       "      <td>0.0</td>\n",
       "    </tr>\n",
       "    <tr>\n",
       "      <th>369</th>\n",
       "      <td>2014-01-01</td>\n",
       "      <td>1</td>\n",
       "      <td>2</td>\n",
       "      <td>1</td>\n",
       "      <td>1.0</td>\n",
       "    </tr>\n",
       "    <tr>\n",
       "      <th>479</th>\n",
       "      <td>2014-04-21</td>\n",
       "      <td>4</td>\n",
       "      <td>0</td>\n",
       "      <td>1</td>\n",
       "      <td>1.0</td>\n",
       "    </tr>\n",
       "    <tr>\n",
       "      <th>489</th>\n",
       "      <td>2014-05-01</td>\n",
       "      <td>5</td>\n",
       "      <td>3</td>\n",
       "      <td>1</td>\n",
       "      <td>1.0</td>\n",
       "    </tr>\n",
       "    <tr>\n",
       "      <th>496</th>\n",
       "      <td>2014-05-08</td>\n",
       "      <td>5</td>\n",
       "      <td>3</td>\n",
       "      <td>1</td>\n",
       "      <td>1.0</td>\n",
       "    </tr>\n",
       "    <tr>\n",
       "      <th>517</th>\n",
       "      <td>2014-05-29</td>\n",
       "      <td>5</td>\n",
       "      <td>3</td>\n",
       "      <td>1</td>\n",
       "      <td>1.0</td>\n",
       "    </tr>\n",
       "    <tr>\n",
       "      <th>563</th>\n",
       "      <td>2014-07-14</td>\n",
       "      <td>7</td>\n",
       "      <td>0</td>\n",
       "      <td>1</td>\n",
       "      <td>1.0</td>\n",
       "    </tr>\n",
       "    <tr>\n",
       "      <th>595</th>\n",
       "      <td>2014-08-15</td>\n",
       "      <td>8</td>\n",
       "      <td>4</td>\n",
       "      <td>1</td>\n",
       "      <td>1.0</td>\n",
       "    </tr>\n",
       "    <tr>\n",
       "      <th>683</th>\n",
       "      <td>2014-11-11</td>\n",
       "      <td>11</td>\n",
       "      <td>1</td>\n",
       "      <td>1</td>\n",
       "      <td>1.0</td>\n",
       "    </tr>\n",
       "    <tr>\n",
       "      <th>727</th>\n",
       "      <td>2014-12-25</td>\n",
       "      <td>12</td>\n",
       "      <td>3</td>\n",
       "      <td>1</td>\n",
       "      <td>1.0</td>\n",
       "    </tr>\n",
       "    <tr>\n",
       "      <th>731</th>\n",
       "      <td>2014-12-29</td>\n",
       "      <td>12</td>\n",
       "      <td>0</td>\n",
       "      <td>1</td>\n",
       "      <td>0.0</td>\n",
       "    </tr>\n",
       "    <tr>\n",
       "      <th>732</th>\n",
       "      <td>2014-12-30</td>\n",
       "      <td>12</td>\n",
       "      <td>1</td>\n",
       "      <td>1</td>\n",
       "      <td>0.0</td>\n",
       "    </tr>\n",
       "    <tr>\n",
       "      <th>733</th>\n",
       "      <td>2014-12-31</td>\n",
       "      <td>12</td>\n",
       "      <td>2</td>\n",
       "      <td>1</td>\n",
       "      <td>0.0</td>\n",
       "    </tr>\n",
       "    <tr>\n",
       "      <th>734</th>\n",
       "      <td>2015-01-01</td>\n",
       "      <td>1</td>\n",
       "      <td>3</td>\n",
       "      <td>1</td>\n",
       "      <td>1.0</td>\n",
       "    </tr>\n",
       "    <tr>\n",
       "      <th>735</th>\n",
       "      <td>2015-01-02</td>\n",
       "      <td>1</td>\n",
       "      <td>4</td>\n",
       "      <td>1</td>\n",
       "      <td>0.0</td>\n",
       "    </tr>\n",
       "    <tr>\n",
       "      <th>829</th>\n",
       "      <td>2015-04-06</td>\n",
       "      <td>4</td>\n",
       "      <td>0</td>\n",
       "      <td>1</td>\n",
       "      <td>1.0</td>\n",
       "    </tr>\n",
       "    <tr>\n",
       "      <th>854</th>\n",
       "      <td>2015-05-01</td>\n",
       "      <td>5</td>\n",
       "      <td>4</td>\n",
       "      <td>1</td>\n",
       "      <td>1.0</td>\n",
       "    </tr>\n",
       "    <tr>\n",
       "      <th>861</th>\n",
       "      <td>2015-05-08</td>\n",
       "      <td>5</td>\n",
       "      <td>4</td>\n",
       "      <td>1</td>\n",
       "      <td>1.0</td>\n",
       "    </tr>\n",
       "    <tr>\n",
       "      <th>867</th>\n",
       "      <td>2015-05-14</td>\n",
       "      <td>5</td>\n",
       "      <td>3</td>\n",
       "      <td>1</td>\n",
       "      <td>1.0</td>\n",
       "    </tr>\n",
       "    <tr>\n",
       "      <th>878</th>\n",
       "      <td>2015-05-25</td>\n",
       "      <td>5</td>\n",
       "      <td>0</td>\n",
       "      <td>1</td>\n",
       "      <td>1.0</td>\n",
       "    </tr>\n",
       "    <tr>\n",
       "      <th>928</th>\n",
       "      <td>2015-07-14</td>\n",
       "      <td>7</td>\n",
       "      <td>1</td>\n",
       "      <td>1</td>\n",
       "      <td>1.0</td>\n",
       "    </tr>\n",
       "    <tr>\n",
       "      <th>1048</th>\n",
       "      <td>2015-11-11</td>\n",
       "      <td>11</td>\n",
       "      <td>2</td>\n",
       "      <td>1</td>\n",
       "      <td>1.0</td>\n",
       "    </tr>\n",
       "    <tr>\n",
       "      <th>1091</th>\n",
       "      <td>2015-12-24</td>\n",
       "      <td>12</td>\n",
       "      <td>3</td>\n",
       "      <td>1</td>\n",
       "      <td>0.0</td>\n",
       "    </tr>\n",
       "    <tr>\n",
       "      <th>1092</th>\n",
       "      <td>2015-12-25</td>\n",
       "      <td>12</td>\n",
       "      <td>4</td>\n",
       "      <td>1</td>\n",
       "      <td>1.0</td>\n",
       "    </tr>\n",
       "    <tr>\n",
       "      <th>1096</th>\n",
       "      <td>2015-12-29</td>\n",
       "      <td>12</td>\n",
       "      <td>1</td>\n",
       "      <td>1</td>\n",
       "      <td>0.0</td>\n",
       "    </tr>\n",
       "    <tr>\n",
       "      <th>1098</th>\n",
       "      <td>2015-12-31</td>\n",
       "      <td>12</td>\n",
       "      <td>3</td>\n",
       "      <td>1</td>\n",
       "      <td>0.0</td>\n",
       "    </tr>\n",
       "    <tr>\n",
       "      <th>1099</th>\n",
       "      <td>2016-01-01</td>\n",
       "      <td>1</td>\n",
       "      <td>4</td>\n",
       "      <td>1</td>\n",
       "      <td>1.0</td>\n",
       "    </tr>\n",
       "    <tr>\n",
       "      <th>1186</th>\n",
       "      <td>2016-03-28</td>\n",
       "      <td>3</td>\n",
       "      <td>0</td>\n",
       "      <td>1</td>\n",
       "      <td>1.0</td>\n",
       "    </tr>\n",
       "    <tr>\n",
       "      <th>1224</th>\n",
       "      <td>2016-05-05</td>\n",
       "      <td>5</td>\n",
       "      <td>3</td>\n",
       "      <td>1</td>\n",
       "      <td>1.0</td>\n",
       "    </tr>\n",
       "    <tr>\n",
       "      <th>1235</th>\n",
       "      <td>2016-05-16</td>\n",
       "      <td>5</td>\n",
       "      <td>0</td>\n",
       "      <td>1</td>\n",
       "      <td>1.0</td>\n",
       "    </tr>\n",
       "    <tr>\n",
       "      <th>1294</th>\n",
       "      <td>2016-07-14</td>\n",
       "      <td>7</td>\n",
       "      <td>3</td>\n",
       "      <td>1</td>\n",
       "      <td>1.0</td>\n",
       "    </tr>\n",
       "    <tr>\n",
       "      <th>1326</th>\n",
       "      <td>2016-08-15</td>\n",
       "      <td>8</td>\n",
       "      <td>0</td>\n",
       "      <td>1</td>\n",
       "      <td>1.0</td>\n",
       "    </tr>\n",
       "    <tr>\n",
       "      <th>1404</th>\n",
       "      <td>2016-11-01</td>\n",
       "      <td>11</td>\n",
       "      <td>1</td>\n",
       "      <td>1</td>\n",
       "      <td>1.0</td>\n",
       "    </tr>\n",
       "    <tr>\n",
       "      <th>1414</th>\n",
       "      <td>2016-11-11</td>\n",
       "      <td>11</td>\n",
       "      <td>4</td>\n",
       "      <td>1</td>\n",
       "      <td>1.0</td>\n",
       "    </tr>\n",
       "    <tr>\n",
       "      <th>1461</th>\n",
       "      <td>2016-12-28</td>\n",
       "      <td>12</td>\n",
       "      <td>2</td>\n",
       "      <td>1</td>\n",
       "      <td>0.0</td>\n",
       "    </tr>\n",
       "    <tr>\n",
       "      <th>1463</th>\n",
       "      <td>2016-12-30</td>\n",
       "      <td>12</td>\n",
       "      <td>4</td>\n",
       "      <td>1</td>\n",
       "      <td>0.0</td>\n",
       "    </tr>\n",
       "    <tr>\n",
       "      <th>1571</th>\n",
       "      <td>2017-04-17</td>\n",
       "      <td>4</td>\n",
       "      <td>0</td>\n",
       "      <td>1</td>\n",
       "      <td>1.0</td>\n",
       "    </tr>\n",
       "    <tr>\n",
       "      <th>1585</th>\n",
       "      <td>2017-05-01</td>\n",
       "      <td>5</td>\n",
       "      <td>0</td>\n",
       "      <td>1</td>\n",
       "      <td>1.0</td>\n",
       "    </tr>\n",
       "    <tr>\n",
       "      <th>1592</th>\n",
       "      <td>2017-05-08</td>\n",
       "      <td>5</td>\n",
       "      <td>0</td>\n",
       "      <td>1</td>\n",
       "      <td>1.0</td>\n",
       "    </tr>\n",
       "    <tr>\n",
       "      <th>1609</th>\n",
       "      <td>2017-05-25</td>\n",
       "      <td>5</td>\n",
       "      <td>3</td>\n",
       "      <td>1</td>\n",
       "      <td>1.0</td>\n",
       "    </tr>\n",
       "    <tr>\n",
       "      <th>1620</th>\n",
       "      <td>2017-06-05</td>\n",
       "      <td>6</td>\n",
       "      <td>0</td>\n",
       "      <td>1</td>\n",
       "      <td>1.0</td>\n",
       "    </tr>\n",
       "    <tr>\n",
       "      <th>1659</th>\n",
       "      <td>2017-07-14</td>\n",
       "      <td>7</td>\n",
       "      <td>4</td>\n",
       "      <td>1</td>\n",
       "      <td>1.0</td>\n",
       "    </tr>\n",
       "    <tr>\n",
       "      <th>1691</th>\n",
       "      <td>2017-08-15</td>\n",
       "      <td>8</td>\n",
       "      <td>1</td>\n",
       "      <td>1</td>\n",
       "      <td>1.0</td>\n",
       "    </tr>\n",
       "    <tr>\n",
       "      <th>1769</th>\n",
       "      <td>2017-11-01</td>\n",
       "      <td>11</td>\n",
       "      <td>2</td>\n",
       "      <td>1</td>\n",
       "      <td>1.0</td>\n",
       "    </tr>\n",
       "    <tr>\n",
       "      <th>1823</th>\n",
       "      <td>2017-12-25</td>\n",
       "      <td>12</td>\n",
       "      <td>0</td>\n",
       "      <td>1</td>\n",
       "      <td>1.0</td>\n",
       "    </tr>\n",
       "  </tbody>\n",
       "</table>\n",
       "</div>"
      ],
      "text/plain": [
       "             ds  month  weekday  is_weekday  is_holiday_day\n",
       "3    2012-12-31     12        0           1             0.0\n",
       "4    2013-01-01      1        1           1             1.0\n",
       "94   2013-04-01      4        0           1             1.0\n",
       "124  2013-05-01      5        2           1             1.0\n",
       "131  2013-05-08      5        2           1             1.0\n",
       "132  2013-05-09      5        3           1             1.0\n",
       "143  2013-05-20      5        0           1             1.0\n",
       "230  2013-08-15      8        3           1             1.0\n",
       "308  2013-11-01     11        4           1             1.0\n",
       "318  2013-11-11     11        0           1             1.0\n",
       "362  2013-12-25     12        2           1             1.0\n",
       "364  2013-12-27     12        4           1             0.0\n",
       "368  2013-12-31     12        1           1             0.0\n",
       "369  2014-01-01      1        2           1             1.0\n",
       "479  2014-04-21      4        0           1             1.0\n",
       "489  2014-05-01      5        3           1             1.0\n",
       "496  2014-05-08      5        3           1             1.0\n",
       "517  2014-05-29      5        3           1             1.0\n",
       "563  2014-07-14      7        0           1             1.0\n",
       "595  2014-08-15      8        4           1             1.0\n",
       "683  2014-11-11     11        1           1             1.0\n",
       "727  2014-12-25     12        3           1             1.0\n",
       "731  2014-12-29     12        0           1             0.0\n",
       "732  2014-12-30     12        1           1             0.0\n",
       "733  2014-12-31     12        2           1             0.0\n",
       "734  2015-01-01      1        3           1             1.0\n",
       "735  2015-01-02      1        4           1             0.0\n",
       "829  2015-04-06      4        0           1             1.0\n",
       "854  2015-05-01      5        4           1             1.0\n",
       "861  2015-05-08      5        4           1             1.0\n",
       "867  2015-05-14      5        3           1             1.0\n",
       "878  2015-05-25      5        0           1             1.0\n",
       "928  2015-07-14      7        1           1             1.0\n",
       "1048 2015-11-11     11        2           1             1.0\n",
       "1091 2015-12-24     12        3           1             0.0\n",
       "1092 2015-12-25     12        4           1             1.0\n",
       "1096 2015-12-29     12        1           1             0.0\n",
       "1098 2015-12-31     12        3           1             0.0\n",
       "1099 2016-01-01      1        4           1             1.0\n",
       "1186 2016-03-28      3        0           1             1.0\n",
       "1224 2016-05-05      5        3           1             1.0\n",
       "1235 2016-05-16      5        0           1             1.0\n",
       "1294 2016-07-14      7        3           1             1.0\n",
       "1326 2016-08-15      8        0           1             1.0\n",
       "1404 2016-11-01     11        1           1             1.0\n",
       "1414 2016-11-11     11        4           1             1.0\n",
       "1461 2016-12-28     12        2           1             0.0\n",
       "1463 2016-12-30     12        4           1             0.0\n",
       "1571 2017-04-17      4        0           1             1.0\n",
       "1585 2017-05-01      5        0           1             1.0\n",
       "1592 2017-05-08      5        0           1             1.0\n",
       "1609 2017-05-25      5        3           1             1.0\n",
       "1620 2017-06-05      6        0           1             1.0\n",
       "1659 2017-07-14      7        4           1             1.0\n",
       "1691 2017-08-15      8        1           1             1.0\n",
       "1769 2017-11-01     11        2           1             1.0\n",
       "1823 2017-12-25     12        0           1             1.0"
      ]
     },
     "execution_count": 42,
     "metadata": {},
     "output_type": "execute_result"
    }
   ],
   "source": [
    "weekdays_predicted_as_weekend=[i for i in range(0,1830) if  results_wk['predP'][i]<=0.5 and yWeekday[i]==1]\n",
    "calendar_info.loc[weekdays_predicted_as_weekend]"
   ]
  },
  {
   "cell_type": "code",
   "execution_count": 43,
   "metadata": {},
   "outputs": [
    {
     "data": {
      "text/plain": [
       "57"
      ]
     },
     "execution_count": 43,
     "metadata": {},
     "output_type": "execute_result"
    }
   ],
   "source": [
    "len(weekdays_predicted_as_weekend)"
   ]
  },
  {
   "cell_type": "markdown",
   "metadata": {},
   "source": [
    "We find out that holidays actually look alike weekends even if they are happening during weekdays"
   ]
  },
  {
   "cell_type": "markdown",
   "metadata": {},
   "source": [
    "# Holidays & nearest neighbors"
   ]
  },
  {
   "cell_type": "code",
   "execution_count": 51,
   "metadata": {},
   "outputs": [
    {
     "data": {
      "text/plain": [
       "<function matplotlib.pyplot.show(*args, **kw)>"
      ]
     },
     "execution_count": 51,
     "metadata": {},
     "output_type": "execute_result"
    },
    {
     "data": {
      "image/png": "[encoded data removed]",
      "text/plain": [
       "<Figure size 300x300 with 1 Axes>"
      ]
     },
     "metadata": {
      "needs_background": "light"
     },
     "output_type": "display_data"
    }
   ],
   "source": [
    "from sklearn.neighbors import NearestNeighbors\n",
    "neigh = NearestNeighbors(10)\n",
    "neigh.fit(x_encoded)\n",
    "\n",
    "[distance_knn,kneighbors]=neigh.kneighbors(x_encoded, 2, return_distance=True)\n",
    "nearest=distance_knn[:,1]\n",
    "fig = plt.figure(dpi=100,figsize=(3,3))\n",
    "plt.hist(nearest,bins=100)\n",
    "plt.show"
   ]
  },
  {
   "cell_type": "code",
   "execution_count": 52,
   "metadata": {},
   "outputs": [
    {
     "data": {
      "text/plain": [
       "DescribeResult(nobs=1830, minmax=(0.016541171424242395, 1.074540498547887), mean=0.16673077278509163, variance=0.012510367346743085, skewness=2.5012268081450864, kurtosis=10.545053959091563)"
      ]
     },
     "execution_count": 52,
     "metadata": {},
     "output_type": "execute_result"
    }
   ],
   "source": [
    "from scipy import stats\n",
    "\n",
    "stats.describe(nearest)"
   ]
  },
  {
   "cell_type": "code",
   "execution_count": 53,
   "metadata": {},
   "outputs": [
    {
     "data": {
      "text/plain": [
       "<function matplotlib.pyplot.show(*args, **kw)>"
      ]
     },
     "execution_count": 53,
     "metadata": {},
     "output_type": "execute_result"
    },
    {
     "data": {
      "image/png": "[encoded data removed]",
      "text/plain": [
       "<Figure size 300x300 with 1 Axes>"
      ]
     },
     "metadata": {
      "needs_background": "light"
     },
     "output_type": "display_data"
    }
   ],
   "source": [
    "fig = plt.figure(dpi=100,figsize=(3,3))\n",
    "plt.hist(nearest[indicesHd],bins=100)\n",
    "plt.show"
   ]
  },
  {
   "cell_type": "code",
   "execution_count": 54,
   "metadata": {},
   "outputs": [
    {
     "data": {
      "text/plain": [
       "DescribeResult(nobs=45, minmax=(0.07724092920572362, 0.7800549293110298), mean=0.2631268081068916, variance=0.022468491085609967, skewness=1.4799056215452613, kurtosis=2.342934273043145)"
      ]
     },
     "execution_count": 54,
     "metadata": {},
     "output_type": "execute_result"
    }
   ],
   "source": [
    "stats.describe(nearest[indicesHd])"
   ]
  },
  {
   "cell_type": "code",
   "execution_count": 57,
   "metadata": {},
   "outputs": [
    {
     "data": {
      "text/html": [
       "<div>\n",
       "<style scoped>\n",
       "    .dataframe tbody tr th:only-of-type {\n",
       "        vertical-align: middle;\n",
       "    }\n",
       "\n",
       "    .dataframe tbody tr th {\n",
       "        vertical-align: top;\n",
       "    }\n",
       "\n",
       "    .dataframe thead th {\n",
       "        text-align: right;\n",
       "    }\n",
       "</style>\n",
       "<table border=\"1\" class=\"dataframe\">\n",
       "  <thead>\n",
       "    <tr style=\"text-align: right;\">\n",
       "      <th></th>\n",
       "      <th>ds</th>\n",
       "      <th>month</th>\n",
       "      <th>weekday</th>\n",
       "      <th>is_weekday</th>\n",
       "      <th>is_holiday_day</th>\n",
       "    </tr>\n",
       "  </thead>\n",
       "  <tbody>\n",
       "    <tr>\n",
       "      <th>21</th>\n",
       "      <td>2013-01-18</td>\n",
       "      <td>1</td>\n",
       "      <td>4</td>\n",
       "      <td>1</td>\n",
       "      <td>0.0</td>\n",
       "    </tr>\n",
       "    <tr>\n",
       "      <th>361</th>\n",
       "      <td>2013-12-24</td>\n",
       "      <td>12</td>\n",
       "      <td>1</td>\n",
       "      <td>1</td>\n",
       "      <td>0.0</td>\n",
       "    </tr>\n",
       "    <tr>\n",
       "      <th>703</th>\n",
       "      <td>2014-12-01</td>\n",
       "      <td>12</td>\n",
       "      <td>0</td>\n",
       "      <td>1</td>\n",
       "      <td>0.0</td>\n",
       "    </tr>\n",
       "    <tr>\n",
       "      <th>719</th>\n",
       "      <td>2014-12-17</td>\n",
       "      <td>12</td>\n",
       "      <td>2</td>\n",
       "      <td>1</td>\n",
       "      <td>0.0</td>\n",
       "    </tr>\n",
       "    <tr>\n",
       "      <th>730</th>\n",
       "      <td>2014-12-28</td>\n",
       "      <td>12</td>\n",
       "      <td>6</td>\n",
       "      <td>0</td>\n",
       "      <td>0.0</td>\n",
       "    </tr>\n",
       "    <tr>\n",
       "      <th>1092</th>\n",
       "      <td>2015-12-25</td>\n",
       "      <td>12</td>\n",
       "      <td>4</td>\n",
       "      <td>1</td>\n",
       "      <td>1.0</td>\n",
       "    </tr>\n",
       "    <tr>\n",
       "      <th>1120</th>\n",
       "      <td>2016-01-22</td>\n",
       "      <td>1</td>\n",
       "      <td>4</td>\n",
       "      <td>1</td>\n",
       "      <td>0.0</td>\n",
       "    </tr>\n",
       "    <tr>\n",
       "      <th>1466</th>\n",
       "      <td>2017-01-02</td>\n",
       "      <td>1</td>\n",
       "      <td>0</td>\n",
       "      <td>1</td>\n",
       "      <td>0.0</td>\n",
       "    </tr>\n",
       "    <tr>\n",
       "      <th>1491</th>\n",
       "      <td>2017-01-27</td>\n",
       "      <td>1</td>\n",
       "      <td>4</td>\n",
       "      <td>1</td>\n",
       "      <td>0.0</td>\n",
       "    </tr>\n",
       "    <tr>\n",
       "      <th>1583</th>\n",
       "      <td>2017-04-29</td>\n",
       "      <td>4</td>\n",
       "      <td>5</td>\n",
       "      <td>0</td>\n",
       "      <td>0.0</td>\n",
       "    </tr>\n",
       "  </tbody>\n",
       "</table>\n",
       "</div>"
      ],
      "text/plain": [
       "             ds  month  weekday  is_weekday  is_holiday_day\n",
       "21   2013-01-18      1        4           1             0.0\n",
       "361  2013-12-24     12        1           1             0.0\n",
       "703  2014-12-01     12        0           1             0.0\n",
       "719  2014-12-17     12        2           1             0.0\n",
       "730  2014-12-28     12        6           0             0.0\n",
       "1092 2015-12-25     12        4           1             1.0\n",
       "1120 2016-01-22      1        4           1             0.0\n",
       "1466 2017-01-02      1        0           1             0.0\n",
       "1491 2017-01-27      1        4           1             0.0\n",
       "1583 2017-04-29      4        5           0             0.0"
      ]
     },
     "execution_count": 57,
     "metadata": {},
     "output_type": "execute_result"
    }
   ],
   "source": [
    "calendar_info.loc[np.where(nearest>=0.7)]"
   ]
  },
  {
   "cell_type": "markdown",
   "metadata": {},
   "source": [
    "2013-01-18 and 2017-01-21 were big snowy events in France and first of january are alwaus atypical days. 2014-03-28 is a day time changing hour day with a bad data for the additional fictitious hour. All of those events happened durng winter, when the electrical consumption is most sensitive to temperature."
   ]
  },
  {
   "cell_type": "code",
   "execution_count": 58,
   "metadata": {},
   "outputs": [
    {
     "data": {
      "text/plain": [
       "array([1.0745405])"
      ]
     },
     "execution_count": 58,
     "metadata": {},
     "output_type": "execute_result"
    }
   ],
   "source": [
    "indicesNear=[i for i in range(0,len(nearest)) if nearest[i]>=0.7]\n",
    "nearest[np.where(nearest>=1)]"
   ]
  },
  {
   "cell_type": "code",
   "execution_count": 59,
   "metadata": {},
   "outputs": [
    {
     "data": {
      "text/plain": [
       "<bound method Figure.show of <Figure size 1000x1000 with 10 Axes>>"
      ]
     },
     "execution_count": 59,
     "metadata": {},
     "output_type": "execute_result"
    },
    {
     "data": {
      "image/png": "[encoded data removed]",
      "text/plain": [
       "<Figure size 1000x1000 with 10 Axes>"
      ]
     },
     "metadata": {
      "needs_background": "light"
     },
     "output_type": "display_data"
    }
   ],
   "source": [
    "nPlots=len(indicesNear)#len(idxMaxError)\n",
    "nCols=5\n",
    "nRows=int(nPlots/nCols)+1\n",
    "fig = plt.figure(dpi=100,figsize=(10,10))\n",
    "for i in range(1, nPlots+1):\n",
    "    plt.subplot(nRows, nCols, i)\n",
    "    fig.subplots_adjust(hspace=.5)\n",
    "    indice=indicesNear[i-1]\n",
    "    plt.plot(x[indice,:])\n",
    "    plt.plot(x_hat[indice,:])\n",
    "    plt.title( calendar_info.ds.dt.date.iloc[indice])\n",
    "fig.show"
   ]
  },
  {
   "cell_type": "markdown",
   "metadata": {},
   "source": [
    "# Conclusions\n",
    "- 3 dimensions covers most of the information for the variety of daily load curves \n",
    "- We recovered with this simple linear model the two main features that caracterizes electrical consumption: weekday and temperature\n",
    "- Holidays are not yet well predicted and represented, although we know they are an important atypical factor.\n",
    "- We however detect that holidays all look alike weekend days\n",
    "- We discover some first interpretable events.\n",
    "- Results are quite similar than with the PCA model. They are some differences in the events first detected. The projection in the latent space is also more gaussian, which ease the interactive navigation in it, compared to the PCA projection.\n",
    "\n"
   ]
  },
  {
   "cell_type": "code",
   "execution_count": null,
   "metadata": {},
   "outputs": [],
   "source": []
  },
  {
   "cell_type": "code",
   "execution_count": null,
   "metadata": {},
   "outputs": [],
   "source": []
  }
 ],
 "metadata": {
  "encoding": "# -*- coding: utf-8 -*-",
  "jupytext_formats": "py:light",
  "kernelspec": {
   "display_name": "Python 3",
   "language": "python",
   "name": "python3"
  },
  "language_info": {
   "codemirror_mode": {
    "name": "ipython",
    "version": 3
   },
   "file_extension": ".py",
   "mimetype": "text/x-python",
   "name": "python",
   "nbconvert_exporter": "python",
   "pygments_lexer": "ipython3",
   "version": "3.6.6"
  }
 },
 "nbformat": 4,
 "nbformat_minor": 2
}
