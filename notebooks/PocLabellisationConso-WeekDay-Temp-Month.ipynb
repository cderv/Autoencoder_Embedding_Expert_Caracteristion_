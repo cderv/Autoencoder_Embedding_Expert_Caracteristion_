{
 "cells": [
  {
   "cell_type": "markdown",
   "metadata": {},
   "source": [
    "### Library "
   ]
  },
  {
   "cell_type": "code",
   "execution_count": 41,
   "metadata": {},
   "outputs": [],
   "source": [
    "import sys\n",
    "import os\n",
    "import datetime\n",
    "import pandas as pd\n",
    "import numpy as np\n",
    "import pickle\n",
    "from matplotlib import pyplot as plt\n",
    "import seaborn as sn\n",
    "from scipy import stats\n",
    "\n",
    "path_main_folder = '/home/restor/partage/apogee-parades/AED_autoencoder'\n",
    "\n",
    "sys.path.append(path_main_folder)\n",
    "\n",
    "from CVAE.cvae import compile_cvae, run_cvae\n",
    "from CVAE.cvae_model import CVAE_temp, CVAE\n",
    "from conso.load_shape_data import *  \n",
    "from Visualisation.buildProjector import *\n",
    "#from conso.load_shape_data import get_x_conso_autoencoder\n",
    "from conso.conso_helpers import plot_latent_space_projection, pyplot_latent_space_projection_temp, pyplot_latent_space_projection_error\n",
    "from sklearn.manifold import TSNE"
   ]
  },
  {
   "cell_type": "markdown",
   "metadata": {},
   "source": [
    "## Recette pour apprendre un bon autoencoder conditionnel\n",
    "Apres avoir augmenté le nombre de couches, inséré des sigmoids proches de l'espace latent de l'autoencoder, donner plus de poids à la loss de reconstruction (cf référence d'Antoine Rosin sur l'over pruning), et augmenter l'apprentissage, on atteint une loss de reconstruction de l'ordre de 0.4 qui donne de bons résultats et de belles projections!\n",
    "On peut augmenter l'importance de la KL loss mais le temps d'apprentissage doit être augmenté (1000 pour beta=0.01 vs 500 pour beta=0.01.\n",
    "Question: souhaite-t-on un espace très gaussien dans toutes les directions ? Ce serait intéressant si l'on souhaite générer des courbes de conso. Mais si l'on souhaite explorer l'espace latent, cela peut-être une contrainte potentiellement trop forte\n",
    "\n",
    "A vérifier mais plus on passe de conditions, plus la loss de reconstruction devrait diminuer."
   ]
  },
  {
   "cell_type": "code",
   "execution_count": 42,
   "metadata": {},
   "outputs": [],
   "source": [
    "#un code pour n'afficher que quelques resultats pendant l'entrainement de l'autoencoder\n",
    "\n",
    "nbsample=20\n",
    "from keras.callbacks import TensorBoard\n",
    "from keras.callbacks import Callback\n",
    "\n",
    "class NEpochLogger(Callback):\n",
    "    def __init__(self, display):\n",
    "        self.seen = 0\n",
    "        self.display = display\n",
    "\n",
    "    def on_epoch_end(self, epoch, logs={}):\n",
    "        self.seen += logs.get('size', 0)\n",
    "        if epoch % self.display == 0:\n",
    "            metrics_log = ''\n",
    "            for k in self.params['metrics']:\n",
    "                if k in logs:\n",
    "                    val = logs[k]\n",
    "                    if abs(val) > 1e-3:\n",
    "                        metrics_log += ' - %s: %.4f' % (k, val)\n",
    "                    else:\n",
    "                        metrics_log += ' - %s: %.4e' % (k, val)\n",
    "            print('{} Epochs ... {}'.format(epoch, metrics_log))"
   ]
  },
  {
   "cell_type": "markdown",
   "metadata": {},
   "source": [
    "### Load and shape data "
   ]
  },
  {
   "cell_type": "code",
   "execution_count": 43,
   "metadata": {},
   "outputs": [],
   "source": [
    "# Load raw data\n",
    "path_data = os.path.join(path_main_folder, 'data')\n",
    "dict_data_conso = load_data_conso(path_data)"
   ]
  },
  {
   "cell_type": "code",
   "execution_count": 44,
   "metadata": {},
   "outputs": [],
   "source": [
    "# Load Holiday day information\n",
    "holiday_days_csv = os.path.join(path_data, \"joursFeries.csv\")\n",
    "holiday_days_df = pd.read_csv(holiday_days_csv, sep=\";\")\n",
    "holiday_days_df.ds = pd.to_datetime(holiday_days_df.ds)\n",
    "holiday_days_df['is_hd'] = 1"
   ]
  },
  {
   "cell_type": "code",
   "execution_count": 45,
   "metadata": {},
   "outputs": [],
   "source": [
    "# Unifomization\n",
    "data_conso_df, dict_colnames_conso = get_uniformed_data_conso(dict_data_conso)"
   ]
  },
  {
   "cell_type": "code",
   "execution_count": 46,
   "metadata": {},
   "outputs": [],
   "source": [
    "# Change ganularity ?\n",
    "name_granu = '30m'#'1H'\n",
    "data_conso_df = change_granularity(data_conso_df, granularity=\"30min\") #1H\""
   ]
  },
  {
   "cell_type": "code",
   "execution_count": 47,
   "metadata": {},
   "outputs": [
    {
     "data": {
      "text/html": [
       "<div>\n",
       "<style scoped>\n",
       "    .dataframe tbody tr th:only-of-type {\n",
       "        vertical-align: middle;\n",
       "    }\n",
       "\n",
       "    .dataframe tbody tr th {\n",
       "        vertical-align: top;\n",
       "    }\n",
       "\n",
       "    .dataframe thead th {\n",
       "        text-align: right;\n",
       "    }\n",
       "</style>\n",
       "<table border=\"1\" class=\"dataframe\">\n",
       "  <thead>\n",
       "    <tr style=\"text-align: right;\">\n",
       "      <th></th>\n",
       "      <th>ds</th>\n",
       "      <th>conso_nat_t0</th>\n",
       "      <th>002Th+0</th>\n",
       "      <th>005Th+0</th>\n",
       "      <th>015Th+0</th>\n",
       "      <th>027Th+0</th>\n",
       "      <th>070Th+0</th>\n",
       "      <th>110Th+0</th>\n",
       "      <th>120Th+0</th>\n",
       "      <th>130Th+0</th>\n",
       "      <th>...</th>\n",
       "      <th>630Th+0</th>\n",
       "      <th>643Th+0</th>\n",
       "      <th>645Th+0</th>\n",
       "      <th>650Th+0</th>\n",
       "      <th>675Th+0</th>\n",
       "      <th>690Th+0</th>\n",
       "      <th>747Th+0</th>\n",
       "      <th>meteo_natTh+0</th>\n",
       "      <th>type_tempo</th>\n",
       "      <th>is_holiday_day</th>\n",
       "    </tr>\n",
       "  </thead>\n",
       "  <tbody>\n",
       "    <tr>\n",
       "      <th>0</th>\n",
       "      <td>2012-12-28 00:00:00</td>\n",
       "      <td>59679.0</td>\n",
       "      <td>7.7</td>\n",
       "      <td>7.90</td>\n",
       "      <td>7.2</td>\n",
       "      <td>7.10</td>\n",
       "      <td>6.40</td>\n",
       "      <td>11.30</td>\n",
       "      <td>8.70</td>\n",
       "      <td>9.10</td>\n",
       "      <td>...</td>\n",
       "      <td>10.90</td>\n",
       "      <td>13.00</td>\n",
       "      <td>11.40</td>\n",
       "      <td>11.4</td>\n",
       "      <td>13.20</td>\n",
       "      <td>14.20</td>\n",
       "      <td>15.2</td>\n",
       "      <td>8.857143</td>\n",
       "      <td>NaN</td>\n",
       "      <td>0.0</td>\n",
       "    </tr>\n",
       "    <tr>\n",
       "      <th>1</th>\n",
       "      <td>2012-12-28 00:30:00</td>\n",
       "      <td>58103.0</td>\n",
       "      <td>7.6</td>\n",
       "      <td>7.80</td>\n",
       "      <td>7.2</td>\n",
       "      <td>7.55</td>\n",
       "      <td>6.80</td>\n",
       "      <td>11.40</td>\n",
       "      <td>9.05</td>\n",
       "      <td>9.05</td>\n",
       "      <td>...</td>\n",
       "      <td>10.90</td>\n",
       "      <td>11.45</td>\n",
       "      <td>10.95</td>\n",
       "      <td>11.1</td>\n",
       "      <td>12.95</td>\n",
       "      <td>13.90</td>\n",
       "      <td>14.7</td>\n",
       "      <td>8.764286</td>\n",
       "      <td>NaN</td>\n",
       "      <td>0.0</td>\n",
       "    </tr>\n",
       "    <tr>\n",
       "      <th>2</th>\n",
       "      <td>2012-12-28 01:00:00</td>\n",
       "      <td>55354.0</td>\n",
       "      <td>7.5</td>\n",
       "      <td>7.70</td>\n",
       "      <td>7.2</td>\n",
       "      <td>8.00</td>\n",
       "      <td>7.20</td>\n",
       "      <td>11.50</td>\n",
       "      <td>9.40</td>\n",
       "      <td>9.00</td>\n",
       "      <td>...</td>\n",
       "      <td>10.90</td>\n",
       "      <td>9.90</td>\n",
       "      <td>10.50</td>\n",
       "      <td>10.8</td>\n",
       "      <td>12.70</td>\n",
       "      <td>13.60</td>\n",
       "      <td>14.2</td>\n",
       "      <td>8.671429</td>\n",
       "      <td>NaN</td>\n",
       "      <td>0.0</td>\n",
       "    </tr>\n",
       "    <tr>\n",
       "      <th>3</th>\n",
       "      <td>2012-12-28 01:30:00</td>\n",
       "      <td>55196.0</td>\n",
       "      <td>7.5</td>\n",
       "      <td>7.55</td>\n",
       "      <td>7.0</td>\n",
       "      <td>7.90</td>\n",
       "      <td>7.25</td>\n",
       "      <td>11.45</td>\n",
       "      <td>9.65</td>\n",
       "      <td>9.00</td>\n",
       "      <td>...</td>\n",
       "      <td>10.95</td>\n",
       "      <td>9.80</td>\n",
       "      <td>9.10</td>\n",
       "      <td>10.5</td>\n",
       "      <td>12.60</td>\n",
       "      <td>13.25</td>\n",
       "      <td>13.6</td>\n",
       "      <td>8.585714</td>\n",
       "      <td>NaN</td>\n",
       "      <td>0.0</td>\n",
       "    </tr>\n",
       "    <tr>\n",
       "      <th>4</th>\n",
       "      <td>2012-12-28 02:00:00</td>\n",
       "      <td>54324.0</td>\n",
       "      <td>7.5</td>\n",
       "      <td>7.40</td>\n",
       "      <td>6.8</td>\n",
       "      <td>7.80</td>\n",
       "      <td>7.30</td>\n",
       "      <td>11.40</td>\n",
       "      <td>9.90</td>\n",
       "      <td>9.00</td>\n",
       "      <td>...</td>\n",
       "      <td>11.00</td>\n",
       "      <td>9.70</td>\n",
       "      <td>7.70</td>\n",
       "      <td>10.2</td>\n",
       "      <td>12.50</td>\n",
       "      <td>12.90</td>\n",
       "      <td>13.0</td>\n",
       "      <td>8.500000</td>\n",
       "      <td>NaN</td>\n",
       "      <td>0.0</td>\n",
       "    </tr>\n",
       "  </tbody>\n",
       "</table>\n",
       "<p>5 rows × 40 columns</p>\n",
       "</div>"
      ],
      "text/plain": [
       "                   ds  conso_nat_t0  002Th+0  005Th+0  015Th+0  027Th+0  \\\n",
       "0 2012-12-28 00:00:00       59679.0      7.7     7.90      7.2     7.10   \n",
       "1 2012-12-28 00:30:00       58103.0      7.6     7.80      7.2     7.55   \n",
       "2 2012-12-28 01:00:00       55354.0      7.5     7.70      7.2     8.00   \n",
       "3 2012-12-28 01:30:00       55196.0      7.5     7.55      7.0     7.90   \n",
       "4 2012-12-28 02:00:00       54324.0      7.5     7.40      6.8     7.80   \n",
       "\n",
       "   070Th+0  110Th+0  120Th+0  130Th+0       ...        630Th+0  643Th+0  \\\n",
       "0     6.40    11.30     8.70     9.10       ...          10.90    13.00   \n",
       "1     6.80    11.40     9.05     9.05       ...          10.90    11.45   \n",
       "2     7.20    11.50     9.40     9.00       ...          10.90     9.90   \n",
       "3     7.25    11.45     9.65     9.00       ...          10.95     9.80   \n",
       "4     7.30    11.40     9.90     9.00       ...          11.00     9.70   \n",
       "\n",
       "   645Th+0  650Th+0  675Th+0  690Th+0  747Th+0  meteo_natTh+0  type_tempo  \\\n",
       "0    11.40     11.4    13.20    14.20     15.2       8.857143         NaN   \n",
       "1    10.95     11.1    12.95    13.90     14.7       8.764286         NaN   \n",
       "2    10.50     10.8    12.70    13.60     14.2       8.671429         NaN   \n",
       "3     9.10     10.5    12.60    13.25     13.6       8.585714         NaN   \n",
       "4     7.70     10.2    12.50    12.90     13.0       8.500000         NaN   \n",
       "\n",
       "   is_holiday_day  \n",
       "0             0.0  \n",
       "1             0.0  \n",
       "2             0.0  \n",
       "3             0.0  \n",
       "4             0.0  \n",
       "\n",
       "[5 rows x 40 columns]"
      ]
     },
     "execution_count": 47,
     "metadata": {},
     "output_type": "execute_result"
    }
   ],
   "source": [
    "data_conso_df.head(5)"
   ]
  },
  {
   "cell_type": "code",
   "execution_count": 48,
   "metadata": {},
   "outputs": [],
   "source": [
    "#changer la conso nat d'une moyenne a une moyenne pondérée\n",
    "stations_meteo_csv = os.path.join(path_data, \"StationsMeteoRTE.csv\")\n",
    "stations_meteo_df = pd.read_csv(stations_meteo_csv, sep=\";\")\n",
    "colsToKeepWeather=[s for s in data_conso_df.columns.get_values() if 'Th+0' in s]\n",
    "colsToKeepWeather.remove('meteo_natTh+0')\n",
    "data_conso_df['meteo_natTh+0_Old'] = data_conso_df['meteo_natTh+0'] \n",
    "data_conso_df['meteo_natTh+0'] = np.dot(data_conso_df[colsToKeepWeather],stations_meteo_df['Poids'])"
   ]
  },
  {
   "cell_type": "code",
   "execution_count": 49,
   "metadata": {},
   "outputs": [],
   "source": [
    "# Get x_conso dataframe for autoencoder purpose\n",
    "x_conso = get_x_conso_autoencoder(data_conso_df, dict_colnames_conso)"
   ]
  },
  {
   "cell_type": "code",
   "execution_count": 50,
   "metadata": {},
   "outputs": [
    {
     "data": {
      "text/html": [
       "<div>\n",
       "<style scoped>\n",
       "    .dataframe tbody tr th:only-of-type {\n",
       "        vertical-align: middle;\n",
       "    }\n",
       "\n",
       "    .dataframe tbody tr th {\n",
       "        vertical-align: top;\n",
       "    }\n",
       "\n",
       "    .dataframe thead th {\n",
       "        text-align: right;\n",
       "    }\n",
       "</style>\n",
       "<table border=\"1\" class=\"dataframe\">\n",
       "  <thead>\n",
       "    <tr style=\"text-align: right;\">\n",
       "      <th></th>\n",
       "      <th>ds</th>\n",
       "      <th>conso_nat_t0</th>\n",
       "      <th>meteo_natTh+0</th>\n",
       "      <th>meteo_natTh+0_Old</th>\n",
       "    </tr>\n",
       "  </thead>\n",
       "  <tbody>\n",
       "    <tr>\n",
       "      <th>0</th>\n",
       "      <td>2012-12-28 00:00:00</td>\n",
       "      <td>59679.0</td>\n",
       "      <td>8.817600</td>\n",
       "      <td>8.857143</td>\n",
       "    </tr>\n",
       "    <tr>\n",
       "      <th>1</th>\n",
       "      <td>2012-12-28 00:30:00</td>\n",
       "      <td>58103.0</td>\n",
       "      <td>8.690875</td>\n",
       "      <td>8.764286</td>\n",
       "    </tr>\n",
       "    <tr>\n",
       "      <th>2</th>\n",
       "      <td>2012-12-28 01:00:00</td>\n",
       "      <td>55354.0</td>\n",
       "      <td>8.564150</td>\n",
       "      <td>8.671429</td>\n",
       "    </tr>\n",
       "    <tr>\n",
       "      <th>3</th>\n",
       "      <td>2012-12-28 01:30:00</td>\n",
       "      <td>55196.0</td>\n",
       "      <td>8.440525</td>\n",
       "      <td>8.585714</td>\n",
       "    </tr>\n",
       "    <tr>\n",
       "      <th>4</th>\n",
       "      <td>2012-12-28 02:00:00</td>\n",
       "      <td>54324.0</td>\n",
       "      <td>8.316900</td>\n",
       "      <td>8.500000</td>\n",
       "    </tr>\n",
       "  </tbody>\n",
       "</table>\n",
       "</div>"
      ],
      "text/plain": [
       "                   ds  conso_nat_t0  meteo_natTh+0  meteo_natTh+0_Old\n",
       "0 2012-12-28 00:00:00       59679.0       8.817600           8.857143\n",
       "1 2012-12-28 00:30:00       58103.0       8.690875           8.764286\n",
       "2 2012-12-28 01:00:00       55354.0       8.564150           8.671429\n",
       "3 2012-12-28 01:30:00       55196.0       8.440525           8.585714\n",
       "4 2012-12-28 02:00:00       54324.0       8.316900           8.500000"
      ]
     },
     "execution_count": 50,
     "metadata": {},
     "output_type": "execute_result"
    }
   ],
   "source": [
    "x_conso.head(5)"
   ]
  },
  {
   "cell_type": "markdown",
   "metadata": {},
   "source": [
    "# Creer le dataset de l'autoencodeur 1 - weekday + temperature\n"
   ]
  },
  {
   "cell_type": "code",
   "execution_count": 51,
   "metadata": {},
   "outputs": [],
   "source": [
    "# Split train and test\n",
    "#date_test_start = datetime.date(2014,1,1)\n",
    "#date_test_end = datetime.date(2015,1,1)\n",
    "#dict_xconso = get_train_test_x_conso(x_conso, date_test_start, date_test_end)\n",
    "\n",
    "dict_xconso = {'train': x_conso}"
   ]
  },
  {
   "cell_type": "code",
   "execution_count": 52,
   "metadata": {},
   "outputs": [],
   "source": [
    "# Normalize x_conso\n",
    "type_scaler = 's'\n",
    "dict_xconso, _ = normalize_xconso(dict_xconso, dict_colnames_conso, type_scaler = 'standard')"
   ]
  },
  {
   "cell_type": "code",
   "execution_count": 53,
   "metadata": {},
   "outputs": [],
   "source": [
    "name_type_cond = 'm-wd-temp'\n",
    "name_train = '0' # 1: first period ; 0 all periods\n",
    "name_type_x = 'c'\n",
    "type_x = ['conso']\n",
    "type_cond = ['weekday','temperature']#normalement is ne va pas chercher quel jour de la semaine, mais si c'est un jour weekend ou semaine ['weekday', 'temperature']"
   ]
  },
  {
   "cell_type": "code",
   "execution_count": 54,
   "metadata": {},
   "outputs": [
    {
     "name": "stderr",
     "output_type": "stream",
     "text": [
      "/home/restor/partage/apogee-parades/AED_autoencoder/conso/load_shape_data.py:387: FutureWarning:\n",
      "\n",
      "Method .as_matrix will be removed in a future version. Use .values instead.\n",
      "\n",
      "/home/restor/partage/apogee-parades/AED_autoencoder/conso/load_shape_data.py:390: FutureWarning:\n",
      "\n",
      "Method .as_matrix will be removed in a future version. Use .values instead.\n",
      "\n",
      "/home/restor/partage/apogee-parades/AED_autoencoder/conso/load_shape_data.py:482: FutureWarning:\n",
      "\n",
      "Method .as_matrix will be removed in a future version. Use .values instead.\n",
      "\n",
      "/home/restor/partage/apogee-parades/AED_autoencoder/conso/load_shape_data.py:488: FutureWarning:\n",
      "\n",
      "Method .as_matrix will be removed in a future version. Use .values instead.\n",
      "\n"
     ]
    }
   ],
   "source": [
    "dataset = get_dataset_autoencoder(dict_xconso=dict_xconso, type_x=type_x, type_cond=type_cond, slidingWindowSize=0)"
   ]
  },
  {
   "cell_type": "code",
   "execution_count": 55,
   "metadata": {},
   "outputs": [],
   "source": [
    "name_set_plot = 'train'\n",
    "version = '-v1'\n",
    "nPoints=1500"
   ]
  },
  {
   "cell_type": "code",
   "execution_count": 56,
   "metadata": {},
   "outputs": [],
   "source": [
    "calendar_info = pd.DataFrame(dataset[name_set_plot]['ds'])\n",
    "calendar_info['month'] = calendar_info.ds.dt.month\n",
    "calendar_info['weekday'] = calendar_info.ds.dt.weekday\n",
    "calendar_info['is_weekday'] = (calendar_info.weekday < 5).apply(lambda x:int(x))\n",
    "calendar_info = pd.merge(calendar_info, holiday_days_df[['ds', 'is_hd']], on='ds', how ='left')\n",
    "calendar_info.loc[calendar_info['is_hd'].isna(),'is_hd'] = 0"
   ]
  },
  {
   "cell_type": "code",
   "execution_count": 57,
   "metadata": {},
   "outputs": [],
   "source": [
    "# modify dataset to fit with new data format\n",
    "#Pass a constant vector for conditions\n",
    "nPoints=dataset['train']['x'][1].shape[0]\n",
    "cond_pre =dataset['train']['x'][1][:,:1]#[0] #dataset['train']['x'][1][:,:14] #les dimensions pour les conditions sans embeddings préalable\n",
    "#to_emb=dataset['train']['x'][1][:,1:]\n",
    "#cond_pre =dataset['train']['x'][1][:,:]\n",
    "#cond_pre=np.zeros((nPoints,1))\n",
    "to_emb=dataset['train']['x'][1][:,1:]\n",
    "x = dataset['train']['x'][0]\n",
    "\n",
    "dataset['train']['x'] = [x, cond_pre, to_emb]"
   ]
  },
  {
   "cell_type": "markdown",
   "metadata": {},
   "source": [
    "### Build model"
   ]
  },
  {
   "cell_type": "code",
   "execution_count": 58,
   "metadata": {
    "lines_to_next_cell": 2
   },
   "outputs": [],
   "source": [
    "#on sauvegarde le dataset\n",
    "path_out = os.path.join(path_main_folder, 'out')"
   ]
  },
  {
   "cell_type": "code",
   "execution_count": 59,
   "metadata": {},
   "outputs": [],
   "source": [
    "# Parameters\n",
    "e_dims=[48,35,24,12]#[24,12]#[48,40,30,20,14,8]\n",
    "d_dims=[48,35,24,12]#[12,24]#[48,40,30,20,14,8]\n",
    "to_emb_dim=dataset['train']['x'][2].shape[1]\n",
    "cond_pre_dim = 1#dataset['train']['x'][1].shape[1]\n",
    "input_dim = dataset['train']['x'][0].shape[1]\n",
    "z_dim= 5\n",
    "beta = 0.01 #0.1 pour une granularite 48"
   ]
  },
  {
   "cell_type": "code",
   "execution_count": 60,
   "metadata": {},
   "outputs": [],
   "source": [
    "name_model = 'cvae_conso_WeekDay_EmbTemp-30min-journalier'.format(name_granu,name_type_x, name_type_cond)\n",
    "#name_model = 'cvae_classification'"
   ]
  },
  {
   "cell_type": "code",
   "execution_count": 61,
   "metadata": {},
   "outputs": [
    {
     "name": "stdout",
     "output_type": "stream",
     "text": [
      "2\n",
      "3\n",
      "0\n",
      "1\n",
      "complete model: \n",
      "__________________________________________________________________________________________________\n",
      "Layer (type)                    Output Shape         Param #     Connected to                     \n",
      "==================================================================================================\n",
      "to_emb (InputLayer)             (None, 48)           0                                            \n",
      "__________________________________________________________________________________________________\n",
      "cond_pre (InputLayer)           (None, 1)            0                                            \n",
      "__________________________________________________________________________________________________\n",
      "embedding (Model)               (None, 4)            428         to_emb[0][0]                     \n",
      "__________________________________________________________________________________________________\n",
      "x_true (InputLayer)             (None, 48)           0                                            \n",
      "__________________________________________________________________________________________________\n",
      "conc_cond (Concatenate)         (None, 5)            0           cond_pre[0][0]                   \n",
      "                                                                 embedding[1][0]                  \n",
      "__________________________________________________________________________________________________\n",
      "encoder (Model)                 [(None, 5), (None, 5 5601        x_true[0][0]                     \n",
      "                                                                 conc_cond[0][0]                  \n",
      "__________________________________________________________________________________________________\n",
      "sample_z (Lambda)               (None, 5)            0           encoder[1][0]                    \n",
      "                                                                 encoder[1][1]                    \n",
      "__________________________________________________________________________________________________\n",
      "decoder (Model)                 (None, 48)           12505       sample_z[0][0]                   \n",
      "                                                                 conc_cond[0][0]                  \n",
      "==================================================================================================\n",
      "Total params: 18,534\n",
      "Trainable params: 18,534\n",
      "Non-trainable params: 0\n",
      "__________________________________________________________________________________________________\n",
      "embedding: \n",
      "_________________________________________________________________\n",
      "Layer (type)                 Output Shape              Param #   \n",
      "=================================================================\n",
      "emb_input (InputLayer)       (None, 48)                0         \n",
      "_________________________________________________________________\n",
      "emb_dense_0 (Dense)          (None, 8)                 392       \n",
      "_________________________________________________________________\n",
      "emb_dense_last (Dense)       (None, 4)                 36        \n",
      "=================================================================\n",
      "Total params: 428\n",
      "Trainable params: 428\n",
      "Non-trainable params: 0\n",
      "_________________________________________________________________\n",
      "encoder: \n",
      "__________________________________________________________________________________________________\n",
      "Layer (type)                    Output Shape         Param #     Connected to                     \n",
      "==================================================================================================\n",
      "enc_x_true (InputLayer)         (None, 48)           0                                            \n",
      "__________________________________________________________________________________________________\n",
      "enc_cond (InputLayer)           (None, 5)            0                                            \n",
      "__________________________________________________________________________________________________\n",
      "enc_input (Concatenate)         (None, 53)           0           enc_x_true[0][0]                 \n",
      "                                                                 enc_cond[0][0]                   \n",
      "__________________________________________________________________________________________________\n",
      "enc_dense_0 (Dense)             (None, 48)           2592        enc_input[0][0]                  \n",
      "__________________________________________________________________________________________________\n",
      "dropout_17 (Dropout)            (None, 48)           0           enc_dense_0[0][0]                \n",
      "__________________________________________________________________________________________________\n",
      "enc_dense_1 (Dense)             (None, 35)           1715        dropout_17[0][0]                 \n",
      "__________________________________________________________________________________________________\n",
      "dropout_18 (Dropout)            (None, 35)           0           enc_dense_1[0][0]                \n",
      "__________________________________________________________________________________________________\n",
      "enc_dense_2 (Dense)             (None, 24)           864         dropout_18[0][0]                 \n",
      "__________________________________________________________________________________________________\n",
      "dropout_19 (Dropout)            (None, 24)           0           enc_dense_2[0][0]                \n",
      "__________________________________________________________________________________________________\n",
      "enc_dense_3 (Dense)             (None, 12)           300         dropout_19[0][0]                 \n",
      "__________________________________________________________________________________________________\n",
      "dropout_20 (Dropout)            (None, 12)           0           enc_dense_3[0][0]                \n",
      "__________________________________________________________________________________________________\n",
      "latent_dense_mu (Dense)         (None, 5)            65          dropout_20[0][0]                 \n",
      "__________________________________________________________________________________________________\n",
      "latent_dense_log_sigma (Dense)  (None, 5)            65          dropout_20[0][0]                 \n",
      "==================================================================================================\n",
      "Total params: 5,601\n",
      "Trainable params: 5,601\n",
      "Non-trainable params: 0\n",
      "__________________________________________________________________________________________________\n",
      "decoder: \n",
      "__________________________________________________________________________________________________\n",
      "Layer (type)                    Output Shape         Param #     Connected to                     \n",
      "==================================================================================================\n",
      "dec_z (InputLayer)              (None, 5)            0                                            \n",
      "__________________________________________________________________________________________________\n",
      "dec_cond (InputLayer)           (None, 5)            0                                            \n",
      "__________________________________________________________________________________________________\n",
      "dec_input (Concatenate)         (None, 10)           0           dec_z[0][0]                      \n",
      "                                                                 dec_cond[0][0]                   \n",
      "__________________________________________________________________________________________________\n",
      "dense_9 (Dense)                 (None, 48)           528         dec_input[0][0]                  \n",
      "__________________________________________________________________________________________________\n",
      "enc_dense_resnet0 (Concatenate) (None, 58)           0           dense_9[0][0]                    \n",
      "                                                                 dec_input[0][0]                  \n",
      "__________________________________________________________________________________________________\n",
      "dropout_21 (Dropout)            (None, 58)           0           enc_dense_resnet0[0][0]          \n",
      "__________________________________________________________________________________________________\n",
      "dense_10 (Dense)                (None, 35)           2065        dropout_21[0][0]                 \n",
      "__________________________________________________________________________________________________\n",
      "enc_dense_resnet1 (Concatenate) (None, 93)           0           dense_10[0][0]                   \n",
      "                                                                 dropout_21[0][0]                 \n",
      "__________________________________________________________________________________________________\n",
      "dropout_22 (Dropout)            (None, 93)           0           enc_dense_resnet1[0][0]          \n",
      "__________________________________________________________________________________________________\n",
      "dense_11 (Dense)                (None, 24)           2256        dropout_22[0][0]                 \n",
      "__________________________________________________________________________________________________\n",
      "enc_dense_resnet2 (Concatenate) (None, 117)          0           dense_11[0][0]                   \n",
      "                                                                 dropout_22[0][0]                 \n",
      "__________________________________________________________________________________________________\n",
      "dropout_23 (Dropout)            (None, 117)          0           enc_dense_resnet2[0][0]          \n",
      "__________________________________________________________________________________________________\n",
      "dense_12 (Dense)                (None, 12)           1416        dropout_23[0][0]                 \n",
      "__________________________________________________________________________________________________\n",
      "enc_dense_resnet3 (Concatenate) (None, 129)          0           dense_12[0][0]                   \n",
      "                                                                 dropout_23[0][0]                 \n",
      "__________________________________________________________________________________________________\n",
      "dropout_24 (Dropout)            (None, 129)          0           enc_dense_resnet3[0][0]          \n",
      "__________________________________________________________________________________________________\n",
      "dec_x_hat (Dense)               (None, 48)           6240        dropout_24[0][0]                 \n",
      "==================================================================================================\n",
      "Total params: 12,505\n",
      "Trainable params: 12,505\n",
      "Non-trainable params: 0\n",
      "__________________________________________________________________________________________________\n"
     ]
    }
   ],
   "source": [
    "model = CVAE_temp(input_dim=input_dim,\n",
    "                  e_dims=e_dims, \n",
    "                  d_dims=d_dims, \n",
    "                  cond_pre_dim=cond_pre_dim,\n",
    "                  z_dim=z_dim, \n",
    "                  beta=beta,\n",
    "                  name=name_model, \n",
    "                  output=path_out,\n",
    "                 to_emb_dim=to_emb_dim,\n",
    "                 emb_dims=[8,4])"
   ]
  },
  {
   "cell_type": "markdown",
   "metadata": {},
   "source": [
    "### Trainning model "
   ]
  },
  {
   "cell_type": "code",
   "execution_count": 62,
   "metadata": {},
   "outputs": [],
   "source": [
    "from keras.callbacks import TensorBoard\n",
    "from time import time\n",
    "\n",
    "#embeddingsMetadata = {'dec_dense_0': 'metadata.tsv'}\n",
    "tensorboard = TensorBoard(log_dir=\"logs/{}\".format(name_model +str(time())),write_graph=True)#,write_images=True,embeddings_freq=10, embeddings_layer_names=['dec_dense_0'],embeddings_metadata= embeddingsMetadata)\n",
    "#os.path.join(path_out,name_model)\n",
    "\n",
    " #tensorboard = TensorBoard(log_dir=model_path,write_graph=True,write_images=True)"
   ]
  },
  {
   "cell_type": "code",
   "execution_count": 63,
   "metadata": {},
   "outputs": [
    {
     "name": "stdout",
     "output_type": "stream",
     "text": [
      "\n",
      "\n",
      "--- START TRAINING ---\n",
      "\n",
      "0 Epochs ...  - loss: 9.7411 - kl_loss: 11.6524 - recon_loss: 9.6246\n",
      "50 Epochs ...  - loss: 0.3006 - kl_loss: 9.9474 - recon_loss: 0.2011\n",
      "100 Epochs ...  - loss: 0.2261 - kl_loss: 8.3959 - recon_loss: 0.1421\n",
      "150 Epochs ...  - loss: 0.1920 - kl_loss: 7.4175 - recon_loss: 0.1178\n",
      "200 Epochs ...  - loss: 0.1712 - kl_loss: 6.9416 - recon_loss: 0.1018\n",
      "250 Epochs ...  - loss: 0.1535 - kl_loss: 6.6625 - recon_loss: 0.0869\n",
      "300 Epochs ...  - loss: 0.1457 - kl_loss: 6.5170 - recon_loss: 0.0806\n",
      "350 Epochs ...  - loss: 0.1398 - kl_loss: 6.4475 - recon_loss: 0.0753\n",
      "400 Epochs ...  - loss: 0.1359 - kl_loss: 6.3836 - recon_loss: 0.0721\n",
      "450 Epochs ...  - loss: 0.1326 - kl_loss: 6.2936 - recon_loss: 0.0696\n",
      "500 Epochs ...  - loss: 0.1298 - kl_loss: 6.2330 - recon_loss: 0.0675\n",
      "550 Epochs ...  - loss: 0.1265 - kl_loss: 6.1799 - recon_loss: 0.0647\n",
      "600 Epochs ...  - loss: 0.1240 - kl_loss: 6.1161 - recon_loss: 0.0629\n",
      "650 Epochs ...  - loss: 0.1226 - kl_loss: 6.0942 - recon_loss: 0.0616\n",
      "700 Epochs ...  - loss: 0.1213 - kl_loss: 6.0238 - recon_loss: 0.0611\n",
      "750 Epochs ...  - loss: 0.1187 - kl_loss: 6.0518 - recon_loss: 0.0582\n",
      "800 Epochs ...  - loss: 0.1184 - kl_loss: 5.9810 - recon_loss: 0.0586\n",
      "850 Epochs ...  - loss: 0.1172 - kl_loss: 5.9138 - recon_loss: 0.0580\n",
      "900 Epochs ...  - loss: 0.1158 - kl_loss: 5.9245 - recon_loss: 0.0566\n",
      "950 Epochs ...  - loss: 0.1153 - kl_loss: 5.9529 - recon_loss: 0.0558\n"
     ]
    },
    {
     "data": {
      "image/png": "[encoded data removed]",
      "text/plain": [
       "<Figure size 432x288 with 1 Axes>"
      ]
     },
     "metadata": {
      "needs_background": "light"
     },
     "output_type": "display_data"
    }
   ],
   "source": [
    "#model.main_train(dataset, training_epochs=200, batch_size=20, verbose=False,callbacks=[tensorboard])\n",
    "out_batch = NEpochLogger(display=50)\n",
    "model.main_train(dataset, training_epochs=1000, batch_size=20, verbose=False,callbacks=[tensorboard,out_batch])\n",
    "\n",
    "#visualizer = LatentSpaceVisualizer(model_folder_path=model_path, dataset_path=labellisation_data_folder + 'sequences_dataset/sequences_et_labels.npz')\n",
    " #   visualizer.visualize_embedding_after_training()"
   ]
  },
  {
   "cell_type": "code",
   "execution_count": 65,
   "metadata": {},
   "outputs": [],
   "source": [
    "with open(os.path.join(path_out,name_model,\"config.txt\"),'w') as file: \n",
    "    file.write(str(cond_pre_dim) + '\\n')\n",
    "    file.write(str(to_emb_dim) + '\\n')\n",
    "    file.write(str(e_dims) + '\\n') \n",
    "    file.write(str(d_dims) + '\\n') \n",
    "    file.write(str(z_dim) + '\\n')\n",
    "    file.write(str(beta) + '\\n')"
   ]
  },
  {
   "cell_type": "code",
   "execution_count": 66,
   "metadata": {},
   "outputs": [],
   "source": [
    "#sauvegarde du dataset associé\n",
    "name_dataset = 'dataset.pickle'\n",
    "\n",
    "with open( os.path.join(path_out,name_model, name_dataset), \"wb\" ) as file:\n",
    "    pickle.dump( dataset, file )"
   ]
  },
  {
   "cell_type": "markdown",
   "metadata": {},
   "source": [
    "## Loading model "
   ]
  },
  {
   "cell_type": "code",
   "execution_count": 67,
   "metadata": {},
   "outputs": [],
   "source": [
    "model.load_model(os.path.join(path_out, name_model, 'models'))"
   ]
  },
  {
   "cell_type": "markdown",
   "metadata": {},
   "source": [
    "### Analysis of the latent space"
   ]
  },
  {
   "cell_type": "code",
   "execution_count": 68,
   "metadata": {},
   "outputs": [],
   "source": [
    "name_set_plot = 'train'\n",
    "version = '-v1'\n",
    "nPoints=1500"
   ]
  },
  {
   "cell_type": "code",
   "execution_count": 69,
   "metadata": {},
   "outputs": [],
   "source": [
    "temp_emb = model.embedding.predict(dataset['train']['x'][2])\n",
    "cond_pre = dataset['train']['x'][1]\n",
    "cond_emb = model.embedding.predict(dataset['train']['x'][2])\n",
    "cond = np.concatenate((cond_pre, cond_emb), axis=1)\n",
    "\n",
    "#cond  = dataset['train']['x'][1]\n",
    "x_input = dataset['train']['x'][0]\n",
    "\n",
    "input_encoder = [x_input, cond]"
   ]
  },
  {
   "cell_type": "code",
   "execution_count": 70,
   "metadata": {},
   "outputs": [
    {
     "data": {
      "text/plain": [
       "(1830, 4)"
      ]
     },
     "execution_count": 70,
     "metadata": {},
     "output_type": "execute_result"
    }
   ],
   "source": [
    "cond_emb.shape"
   ]
  },
  {
   "cell_type": "code",
   "execution_count": 71,
   "metadata": {},
   "outputs": [],
   "source": [
    "x_encoded = model.encoder.predict(input_encoder)[0]\n",
    "x_hat = model.cvae.predict(x=dataset['train']['x'])"
   ]
  },
  {
   "cell_type": "code",
   "execution_count": 74,
   "metadata": {},
   "outputs": [
    {
     "ename": "FileExistsError",
     "evalue": "[Errno 17] File exists: '/home/restor/partage/apogee-parades/AED_autoencoder/notebooks/logs/projector_Conso_WeekDay_Temp_4couches'",
     "output_type": "error",
     "traceback": [
      "\u001b[0;31m---------------------------------------------------------------------------\u001b[0m",
      "\u001b[0;31mFileExistsError\u001b[0m                           Traceback (most recent call last)",
      "\u001b[0;32m<ipython-input-74-a13ea83179fc>\u001b[0m in \u001b[0;36m<module>\u001b[0;34m\u001b[0m\n\u001b[1;32m      1\u001b[0m \u001b[0mlog_dir\u001b[0m\u001b[0;34m=\u001b[0m\u001b[0mpath_main_folder\u001b[0m\u001b[0;34m+\u001b[0m\u001b[0;34m\"/notebooks/logs/projector_Conso_WeekDay_Temp_4couches\"\u001b[0m\u001b[0;34m\u001b[0m\u001b[0m\n\u001b[0;32m----> 2\u001b[0;31m \u001b[0mos\u001b[0m\u001b[0;34m.\u001b[0m\u001b[0mmakedirs\u001b[0m\u001b[0;34m(\u001b[0m\u001b[0mlog_dir\u001b[0m\u001b[0;34m)\u001b[0m\u001b[0;34m\u001b[0m\u001b[0m\n\u001b[0m",
      "\u001b[0;32m/usr/lib64/python3.6/os.py\u001b[0m in \u001b[0;36mmakedirs\u001b[0;34m(name, mode, exist_ok)\u001b[0m\n\u001b[1;32m    218\u001b[0m             \u001b[0;32mreturn\u001b[0m\u001b[0;34m\u001b[0m\u001b[0m\n\u001b[1;32m    219\u001b[0m     \u001b[0;32mtry\u001b[0m\u001b[0;34m:\u001b[0m\u001b[0;34m\u001b[0m\u001b[0m\n\u001b[0;32m--> 220\u001b[0;31m         \u001b[0mmkdir\u001b[0m\u001b[0;34m(\u001b[0m\u001b[0mname\u001b[0m\u001b[0;34m,\u001b[0m \u001b[0mmode\u001b[0m\u001b[0;34m)\u001b[0m\u001b[0;34m\u001b[0m\u001b[0m\n\u001b[0m\u001b[1;32m    221\u001b[0m     \u001b[0;32mexcept\u001b[0m \u001b[0mOSError\u001b[0m\u001b[0;34m:\u001b[0m\u001b[0;34m\u001b[0m\u001b[0m\n\u001b[1;32m    222\u001b[0m         \u001b[0;31m# Cannot rely on checking for EEXIST, since the operating system\u001b[0m\u001b[0;34m\u001b[0m\u001b[0;34m\u001b[0m\u001b[0m\n",
      "\u001b[0;31mFileExistsError\u001b[0m: [Errno 17] File exists: '/home/restor/partage/apogee-parades/AED_autoencoder/notebooks/logs/projector_Conso_WeekDay_Temp_4couches'"
     ]
    }
   ],
   "source": [
    "log_dir=path_main_folder+\"/notebooks/logs/projector_Conso_WeekDay_Temp_4couches\"\n",
    "os.makedirs(log_dir)"
   ]
  },
  {
   "cell_type": "code",
   "execution_count": 73,
   "metadata": {},
   "outputs": [
    {
     "data": {
      "text/plain": [
       "<Figure size 432x288 with 0 Axes>"
      ]
     },
     "metadata": {},
     "output_type": "display_data"
    }
   ],
   "source": [
    "import os,cv2\n",
    "images=createLoadProfileImages(x,x_hat,nPoints)"
   ]
  },
  {
   "cell_type": "code",
   "execution_count": 75,
   "metadata": {},
   "outputs": [
    {
     "data": {
      "text/plain": [
       "True"
      ]
     },
     "execution_count": 75,
     "metadata": {},
     "output_type": "execute_result"
    }
   ],
   "source": [
    "\n",
    "sprites=images_to_sprite(images)\n",
    "cv2.imwrite(os.path.join(log_dir, 'sprite_4_classes.png'), sprites)"
   ]
  },
  {
   "cell_type": "code",
   "execution_count": 76,
   "metadata": {},
   "outputs": [],
   "source": [
    "\n",
    "x_reduced=x_encoded[0:nPoints,]\n",
    "writeMetaData(log_dir,x_conso,calendar_info,nPoints)\n",
    "buildProjector(x_reduced,images,log_dir)"
   ]
  },
  {
   "cell_type": "markdown",
   "metadata": {},
   "source": [
    "## Analyse prédiction de température\n",
    "On essaie de prédire la température avec les plus proches voisins. Normalement on drevrait etre meilleur que dans l'autoencoder originel et ensuite on devrait etre moins bons une fois la tempréature prise en compte"
   ]
  },
  {
   "cell_type": "code",
   "execution_count": 77,
   "metadata": {},
   "outputs": [
    {
     "data": {
      "text/plain": [
       "<matplotlib.axes._subplots.AxesSubplot at 0x7fd4ad876d30>"
      ]
     },
     "execution_count": 77,
     "metadata": {},
     "output_type": "execute_result"
    },
    {
     "data": {
      "image/png": "[encoded data removed]",
      "text/plain": [
       "<Figure size 432x288 with 1 Axes>"
      ]
     },
     "metadata": {
      "needs_background": "light"
     },
     "output_type": "display_data"
    }
   ],
   "source": [
    "temperatureMax=[max(x_conso.loc[index*48:(index+1)*48-1,'meteo_natTh+0']) for index in range(0,nPoints)]\n",
    "import seaborn as sn\n",
    "sn.distplot(temperatureMax, kde=False, fit=stats.norm, bins=100)"
   ]
  },
  {
   "cell_type": "code",
   "execution_count": 78,
   "metadata": {},
   "outputs": [
    {
     "data": {
      "text/plain": [
       "0.35923996469813435"
      ]
     },
     "execution_count": 78,
     "metadata": {},
     "output_type": "execute_result"
    }
   ],
   "source": [
    "from sklearn.neighbors import KNeighborsRegressor\n",
    "k=5\n",
    "knn = KNeighborsRegressor(n_neighbors=k)\n",
    "\n",
    "yTemp=temperatureMax\n",
    "\n",
    "knn.fit(x_reduced, yTemp)\n",
    "train_accuracy= knn.score(x_reduced, yTemp)\n",
    "train_accuracy"
   ]
  },
  {
   "cell_type": "code",
   "execution_count": 79,
   "metadata": {},
   "outputs": [
    {
     "data": {
      "text/plain": [
       "<matplotlib.axes._subplots.AxesSubplot at 0x7fd4b6aaee10>"
      ]
     },
     "execution_count": 79,
     "metadata": {},
     "output_type": "execute_result"
    },
    {
     "data": {
      "image/png": "[encoded data removed]",
      "text/plain": [
       "<Figure size 432x288 with 1 Axes>"
      ]
     },
     "metadata": {
      "needs_background": "light"
     },
     "output_type": "display_data"
    }
   ],
   "source": [
    "from sklearn.metrics import confusion_matrix\n",
    "y_pred = knn.predict(x_reduced)\n",
    "error=y_pred-yTemp\n",
    "sn.distplot(error, kde=False, fit=stats.norm, bins=100)\n",
    "#normalement on doit trouver 5/7 de jours de semaine (1082 sur 1500) et 2/7 de jours de weekend (428 sur 1500)  "
   ]
  },
  {
   "cell_type": "markdown",
   "metadata": {},
   "source": [
    "## classification si espace random\n"
   ]
  },
  {
   "cell_type": "code",
   "execution_count": 80,
   "metadata": {},
   "outputs": [
    {
     "data": {
      "text/plain": [
       "0.2028804312965874"
      ]
     },
     "execution_count": 80,
     "metadata": {},
     "output_type": "execute_result"
    }
   ],
   "source": [
    "x_reduced_random=np.random.rand(nPoints,1)\n",
    "knn_random = KNeighborsRegressor(n_neighbors=k)\n",
    "knn_random.fit(x_reduced_random, yTemp)\n",
    "train_accuracy_random= knn_random.score(x_reduced_random, yTemp)\n",
    "train_accuracy_random"
   ]
  },
  {
   "cell_type": "code",
   "execution_count": 81,
   "metadata": {},
   "outputs": [
    {
     "data": {
      "text/plain": [
       "<matplotlib.axes._subplots.AxesSubplot at 0x7fd4addd4a90>"
      ]
     },
     "execution_count": 81,
     "metadata": {},
     "output_type": "execute_result"
    },
    {
     "data": {
      "image/png": "[encoded data removed]",
      "text/plain": [
       "<Figure size 432x288 with 1 Axes>"
      ]
     },
     "metadata": {
      "needs_background": "light"
     },
     "output_type": "display_data"
    }
   ],
   "source": [
    "from sklearn.metrics import confusion_matrix\n",
    "y_pred = knn_random.predict(x_reduced_random)\n",
    "error=y_pred-yTemp\n",
    "sn.distplot(error, kde=False, fit=stats.norm, bins=100)\n",
    "\n",
    "#normalement on doit trouver 5/7 de jours de semaine (1082 sur 1500) et 2/7 de jours de weekend (428 sur 1500)  "
   ]
  },
  {
   "cell_type": "markdown",
   "metadata": {},
   "source": [
    "## Analyse classification de catégorie mois dans espace latent\n",
    "Normalement on ne devrait plus pouvoir classifier aussi facilement jours de weekend et de semaine dans l'espace projeter"
   ]
  },
  {
   "cell_type": "code",
   "execution_count": 84,
   "metadata": {},
   "outputs": [
    {
     "data": {
      "text/plain": [
       "0.47733333333333333"
      ]
     },
     "execution_count": 84,
     "metadata": {},
     "output_type": "execute_result"
    }
   ],
   "source": [
    "from sklearn.neighbors import KNeighborsClassifier\n",
    "k=5\n",
    "knn = KNeighborsClassifier(n_neighbors=k)\n",
    "\n",
    "yMonth=calendar_info['month']\n",
    "yMonth=yMonth[0:nPoints,]\n",
    "\n",
    "knn.fit(x_reduced, yMonth)\n",
    "train_accuracy= knn.score(x_reduced, yMonth)\n",
    "train_accuracy"
   ]
  },
  {
   "cell_type": "code",
   "execution_count": 87,
   "metadata": {},
   "outputs": [],
   "source": [
    "prob=knn.predict_proba(x_reduced)\n",
    "probScore=[prob[i][yMonth[i]-1] for i in range(0,nPoints) ]"
   ]
  },
  {
   "cell_type": "code",
   "execution_count": 88,
   "metadata": {},
   "outputs": [
    {
     "data": {
      "text/plain": [
       "0.3693333333333297"
      ]
     },
     "execution_count": 88,
     "metadata": {},
     "output_type": "execute_result"
    }
   ],
   "source": [
    "#plutot sous forme d un probability score\n",
    "sum(probScore)/nPoints"
   ]
  },
  {
   "cell_type": "code",
   "execution_count": 90,
   "metadata": {},
   "outputs": [
    {
     "data": {
      "text/plain": [
       "array([[98,  6, 10,  3,  2,  5,  8,  2, 10,  6,  1,  4],\n",
       "       [16, 65, 10,  2,  1,  1, 11,  4,  5,  1,  0,  1],\n",
       "       [20, 26, 52,  4,  4,  0,  4,  1,  7,  4,  0,  2],\n",
       "       [19,  6,  9, 41,  9,  6,  5,  6,  4,  3,  5,  7],\n",
       "       [12,  3,  1, 12, 54, 12,  6,  7,  8,  2,  5,  2],\n",
       "       [11,  2,  1,  6,  9, 79,  1,  2,  5,  1,  0,  3],\n",
       "       [17, 10,  5,  4,  9, 10, 56,  6,  4,  0,  3,  0],\n",
       "       [ 6,  4,  3,  5,  9,  2,  5, 77,  6,  0,  3,  4],\n",
       "       [23,  5,  3,  2,  5, 10,  1,  0, 64,  3,  4,  0],\n",
       "       [ 9, 10,  7,  0,  9,  5,  9, 10, 14, 43,  4,  4],\n",
       "       [16,  3,  5,  4, 12, 10,  4,  5,  5, 11, 39,  6],\n",
       "       [14,  4,  6, 12,  9,  9,  3,  8,  2,  5,  8, 48]])"
      ]
     },
     "execution_count": 90,
     "metadata": {},
     "output_type": "execute_result"
    }
   ],
   "source": [
    "from sklearn.metrics import confusion_matrix\n",
    "y_pred = knn.predict(x_reduced)\n",
    "confusion_matrix(yMonth,y_pred)\n",
    "\n",
    "#normalement on doit trouver 5/7 de jours de semaine (1082 sur 1500) et 2/7 de jours de weekend (428 sur 1500)  "
   ]
  },
  {
   "cell_type": "markdown",
   "metadata": {},
   "source": [
    "## classification si espace random\n"
   ]
  },
  {
   "cell_type": "code",
   "execution_count": 91,
   "metadata": {},
   "outputs": [
    {
     "data": {
      "text/plain": [
       "0.3413333333333333"
      ]
     },
     "execution_count": 91,
     "metadata": {},
     "output_type": "execute_result"
    }
   ],
   "source": [
    "x_reduced_random=np.random.rand(nPoints,1)\n",
    "knn_random = KNeighborsClassifier(n_neighbors=k)\n",
    "knn_random.fit(x_reduced_random, yMonth)\n",
    "train_accuracy_random= knn_random.score(x_reduced_random, yMonth)\n",
    "train_accuracy_random"
   ]
  },
  {
   "cell_type": "code",
   "execution_count": 93,
   "metadata": {},
   "outputs": [],
   "source": [
    "prob_random=knn_random.predict_proba(x_reduced_random)\n",
    "probScore_random=[prob_random[i][yMonth[i]-1] for i in range(0,nPoints) ]\n"
   ]
  },
  {
   "cell_type": "code",
   "execution_count": 94,
   "metadata": {},
   "outputs": [
    {
     "data": {
      "text/plain": [
       "0.26359999999999384"
      ]
     },
     "execution_count": 94,
     "metadata": {},
     "output_type": "execute_result"
    }
   ],
   "source": [
    "#plutot sous forme d un probability score\n",
    "sum(probScore_random)/nPoints"
   ]
  },
  {
   "cell_type": "code",
   "execution_count": 95,
   "metadata": {},
   "outputs": [
    {
     "data": {
      "text/plain": [
       "array([[108,   3,   2,   7,   6,   6,   3,   1,   3,   5,   5,   6],\n",
       "       [ 26,  58,   3,   4,   2,   1,   6,   3,   7,   3,   2,   2],\n",
       "       [ 31,  18,  46,   3,   2,   2,   2,   4,   3,   5,   4,   4],\n",
       "       [ 26,  14,  10,  42,   4,   4,   6,   4,   1,   2,   2,   5],\n",
       "       [ 28,  17,  12,   7,  37,   3,   5,   4,   2,   4,   1,   4],\n",
       "       [ 29,  12,   8,   7,   6,  32,   8,   2,   4,   4,   4,   4],\n",
       "       [ 24,  17,  13,  10,   3,   3,  41,   1,   3,   0,   3,   6],\n",
       "       [ 32,  17,  15,   7,   8,   4,   4,  26,   6,   1,   2,   2],\n",
       "       [ 26,  11,  14,   5,  12,   4,   9,   6,  25,   3,   1,   4],\n",
       "       [ 21,  18,  12,   7,   3,   7,  10,   3,   2,  29,   5,   7],\n",
       "       [ 19,  21,  15,  11,   8,   2,   3,   4,   1,   5,  24,   7],\n",
       "       [ 29,  13,   8,   9,   4,   5,   3,   3,   4,   4,   2,  44]])"
      ]
     },
     "execution_count": 95,
     "metadata": {},
     "output_type": "execute_result"
    }
   ],
   "source": [
    "from sklearn.metrics import confusion_matrix\n",
    "y_pred_random = knn_random.predict(x_reduced_random)\n",
    "confusion_matrix(yMonth,y_pred_random)\n",
    "\n",
    "#normalement on doit trouver 5/7 de jours de semaine (1082 sur 1500) et 2/7 de jours de weekend (428 sur 1500)  "
   ]
  },
  {
   "cell_type": "markdown",
   "metadata": {},
   "source": [
    "# Creer le dataset de l'autoencodeur 1 - weekday + temperature + mois\n"
   ]
  },
  {
   "cell_type": "code",
   "execution_count": 96,
   "metadata": {},
   "outputs": [],
   "source": [
    "# Split train and test\n",
    "#date_test_start = datetime.date(2014,1,1)\n",
    "#date_test_end = datetime.date(2015,1,1)\n",
    "#dict_xconso = get_train_test_x_conso(x_conso, date_test_start, date_test_end)\n",
    "\n",
    "dict_xconso = {'train': x_conso}"
   ]
  },
  {
   "cell_type": "code",
   "execution_count": 97,
   "metadata": {},
   "outputs": [],
   "source": [
    "# Normalize x_conso\n",
    "type_scaler = 's'\n",
    "dict_xconso, _ = normalize_xconso(dict_xconso, dict_colnames_conso, type_scaler = 'standard')"
   ]
  },
  {
   "cell_type": "code",
   "execution_count": 98,
   "metadata": {},
   "outputs": [],
   "source": [
    "name_type_cond = 'm-wd-temp'\n",
    "name_train = '0' # 1: first period ; 0 all periods\n",
    "name_type_x = 'c'\n",
    "type_x = ['conso']\n",
    "type_cond = ['weekday','temperature','month']#normalement is ne va pas chercher quel jour de la semaine, mais si c'est un jour weekend ou semaine ['weekday', 'temperature']"
   ]
  },
  {
   "cell_type": "code",
   "execution_count": 99,
   "metadata": {},
   "outputs": [
    {
     "name": "stderr",
     "output_type": "stream",
     "text": [
      "/home/restor/partage/apogee-parades/AED_autoencoder/conso/load_shape_data.py:387: FutureWarning:\n",
      "\n",
      "Method .as_matrix will be removed in a future version. Use .values instead.\n",
      "\n",
      "/home/restor/partage/apogee-parades/AED_autoencoder/conso/load_shape_data.py:390: FutureWarning:\n",
      "\n",
      "Method .as_matrix will be removed in a future version. Use .values instead.\n",
      "\n",
      "/home/restor/partage/apogee-parades/AED_autoencoder/conso/load_shape_data.py:482: FutureWarning:\n",
      "\n",
      "Method .as_matrix will be removed in a future version. Use .values instead.\n",
      "\n",
      "/home/restor/partage/apogee-parades/AED_autoencoder/conso/load_shape_data.py:488: FutureWarning:\n",
      "\n",
      "Method .as_matrix will be removed in a future version. Use .values instead.\n",
      "\n"
     ]
    }
   ],
   "source": [
    "dataset = get_dataset_autoencoder(dict_xconso=dict_xconso, type_x=type_x, type_cond=type_cond, slidingWindowSize=0)"
   ]
  },
  {
   "cell_type": "code",
   "execution_count": 100,
   "metadata": {},
   "outputs": [],
   "source": [
    "name_set_plot = 'train'\n",
    "version = '-v1'\n",
    "nPoints=1500"
   ]
  },
  {
   "cell_type": "code",
   "execution_count": 101,
   "metadata": {},
   "outputs": [],
   "source": [
    "calendar_info = pd.DataFrame(dataset[name_set_plot]['ds'])\n",
    "calendar_info['month'] = calendar_info.ds.dt.month\n",
    "calendar_info['weekday'] = calendar_info.ds.dt.weekday\n",
    "calendar_info['is_weekday'] = (calendar_info.weekday < 5).apply(lambda x:int(x))\n",
    "calendar_info = pd.merge(calendar_info, holiday_days_df[['ds', 'is_hd']], on='ds', how ='left')\n",
    "calendar_info.loc[calendar_info['is_hd'].isna(),'is_hd'] = 0"
   ]
  },
  {
   "cell_type": "code",
   "execution_count": 102,
   "metadata": {},
   "outputs": [],
   "source": [
    "# modify dataset to fit with new data format\n",
    "#Pass a constant vector for conditions\n",
    "nPoints=dataset['train']['x'][1].shape[0]\n",
    "cond_pre =dataset['train']['x'][1][:,:1]#[0] #dataset['train']['x'][1][:,:14] #les dimensions pour les conditions sans embeddings préalable\n",
    "#to_emb=dataset['train']['x'][1][:,1:]\n",
    "#cond_pre =dataset['train']['x'][1][:,:]\n",
    "#cond_pre=np.zeros((nPoints,1))\n",
    "to_emb=dataset['train']['x'][1][:,1:]\n",
    "x = dataset['train']['x'][0]\n",
    "\n",
    "dataset['train']['x'] = [x, cond_pre, to_emb]"
   ]
  },
  {
   "cell_type": "markdown",
   "metadata": {},
   "source": [
    "### Build model"
   ]
  },
  {
   "cell_type": "code",
   "execution_count": 103,
   "metadata": {
    "lines_to_next_cell": 2
   },
   "outputs": [],
   "source": [
    "#on sauvegarde le dataset\n",
    "path_out = os.path.join(path_main_folder, 'out')"
   ]
  },
  {
   "cell_type": "code",
   "execution_count": 104,
   "metadata": {},
   "outputs": [],
   "source": [
    "# Parameters\n",
    "e_dims=[48,35,24,12]#[24,12]#[48,40,30,20,14,8]\n",
    "d_dims=[48,35,24,12]#[12,24]#[48,40,30,20,14,8]\n",
    "to_emb_dim=dataset['train']['x'][2].shape[1]\n",
    "cond_pre_dim = 1#dataset['train']['x'][1].shape[1]\n",
    "input_dim = dataset['train']['x'][0].shape[1]\n",
    "z_dim= 5\n",
    "beta = 0.01 #0.1 pour une granularite 48"
   ]
  },
  {
   "cell_type": "code",
   "execution_count": 105,
   "metadata": {},
   "outputs": [],
   "source": [
    "name_model = 'cvae_conso_WeekDay_EmbTemp-30min-journalier'.format(name_granu,name_type_x, name_type_cond)\n",
    "#name_model = 'cvae_classification'"
   ]
  },
  {
   "cell_type": "code",
   "execution_count": 106,
   "metadata": {},
   "outputs": [
    {
     "name": "stdout",
     "output_type": "stream",
     "text": [
      "2\n",
      "3\n",
      "0\n",
      "1\n",
      "complete model: \n",
      "__________________________________________________________________________________________________\n",
      "Layer (type)                    Output Shape         Param #     Connected to                     \n",
      "==================================================================================================\n",
      "to_emb (InputLayer)             (None, 60)           0                                            \n",
      "__________________________________________________________________________________________________\n",
      "cond_pre (InputLayer)           (None, 1)            0                                            \n",
      "__________________________________________________________________________________________________\n",
      "embedding (Model)               (None, 4)            524         to_emb[0][0]                     \n",
      "__________________________________________________________________________________________________\n",
      "x_true (InputLayer)             (None, 48)           0                                            \n",
      "__________________________________________________________________________________________________\n",
      "conc_cond (Concatenate)         (None, 5)            0           cond_pre[0][0]                   \n",
      "                                                                 embedding[1][0]                  \n",
      "__________________________________________________________________________________________________\n",
      "encoder (Model)                 [(None, 5), (None, 5 5601        x_true[0][0]                     \n",
      "                                                                 conc_cond[0][0]                  \n",
      "__________________________________________________________________________________________________\n",
      "sample_z (Lambda)               (None, 5)            0           encoder[1][0]                    \n",
      "                                                                 encoder[1][1]                    \n",
      "__________________________________________________________________________________________________\n",
      "decoder (Model)                 (None, 48)           12505       sample_z[0][0]                   \n",
      "                                                                 conc_cond[0][0]                  \n",
      "==================================================================================================\n",
      "Total params: 18,630\n",
      "Trainable params: 18,630\n",
      "Non-trainable params: 0\n",
      "__________________________________________________________________________________________________\n",
      "embedding: \n",
      "_________________________________________________________________\n",
      "Layer (type)                 Output Shape              Param #   \n",
      "=================================================================\n",
      "emb_input (InputLayer)       (None, 60)                0         \n",
      "_________________________________________________________________\n",
      "emb_dense_0 (Dense)          (None, 8)                 488       \n",
      "_________________________________________________________________\n",
      "emb_dense_last (Dense)       (None, 4)                 36        \n",
      "=================================================================\n",
      "Total params: 524\n",
      "Trainable params: 524\n",
      "Non-trainable params: 0\n",
      "_________________________________________________________________\n",
      "encoder: \n",
      "__________________________________________________________________________________________________\n",
      "Layer (type)                    Output Shape         Param #     Connected to                     \n",
      "==================================================================================================\n",
      "enc_x_true (InputLayer)         (None, 48)           0                                            \n",
      "__________________________________________________________________________________________________\n",
      "enc_cond (InputLayer)           (None, 5)            0                                            \n",
      "__________________________________________________________________________________________________\n",
      "enc_input (Concatenate)         (None, 53)           0           enc_x_true[0][0]                 \n",
      "                                                                 enc_cond[0][0]                   \n",
      "__________________________________________________________________________________________________\n",
      "enc_dense_0 (Dense)             (None, 48)           2592        enc_input[0][0]                  \n",
      "__________________________________________________________________________________________________\n",
      "dropout_25 (Dropout)            (None, 48)           0           enc_dense_0[0][0]                \n",
      "__________________________________________________________________________________________________\n",
      "enc_dense_1 (Dense)             (None, 35)           1715        dropout_25[0][0]                 \n",
      "__________________________________________________________________________________________________\n",
      "dropout_26 (Dropout)            (None, 35)           0           enc_dense_1[0][0]                \n",
      "__________________________________________________________________________________________________\n",
      "enc_dense_2 (Dense)             (None, 24)           864         dropout_26[0][0]                 \n",
      "__________________________________________________________________________________________________\n",
      "dropout_27 (Dropout)            (None, 24)           0           enc_dense_2[0][0]                \n",
      "__________________________________________________________________________________________________\n",
      "enc_dense_3 (Dense)             (None, 12)           300         dropout_27[0][0]                 \n",
      "__________________________________________________________________________________________________\n",
      "dropout_28 (Dropout)            (None, 12)           0           enc_dense_3[0][0]                \n",
      "__________________________________________________________________________________________________\n",
      "latent_dense_mu (Dense)         (None, 5)            65          dropout_28[0][0]                 \n",
      "__________________________________________________________________________________________________\n",
      "latent_dense_log_sigma (Dense)  (None, 5)            65          dropout_28[0][0]                 \n",
      "==================================================================================================\n",
      "Total params: 5,601\n",
      "Trainable params: 5,601\n",
      "Non-trainable params: 0\n",
      "__________________________________________________________________________________________________\n",
      "decoder: \n",
      "__________________________________________________________________________________________________\n",
      "Layer (type)                    Output Shape         Param #     Connected to                     \n",
      "==================================================================================================\n",
      "dec_z (InputLayer)              (None, 5)            0                                            \n",
      "__________________________________________________________________________________________________\n",
      "dec_cond (InputLayer)           (None, 5)            0                                            \n",
      "__________________________________________________________________________________________________\n",
      "dec_input (Concatenate)         (None, 10)           0           dec_z[0][0]                      \n",
      "                                                                 dec_cond[0][0]                   \n",
      "__________________________________________________________________________________________________\n",
      "dense_13 (Dense)                (None, 48)           528         dec_input[0][0]                  \n",
      "__________________________________________________________________________________________________\n",
      "enc_dense_resnet0 (Concatenate) (None, 58)           0           dense_13[0][0]                   \n",
      "                                                                 dec_input[0][0]                  \n",
      "__________________________________________________________________________________________________\n",
      "dropout_29 (Dropout)            (None, 58)           0           enc_dense_resnet0[0][0]          \n",
      "__________________________________________________________________________________________________\n",
      "dense_14 (Dense)                (None, 35)           2065        dropout_29[0][0]                 \n",
      "__________________________________________________________________________________________________\n",
      "enc_dense_resnet1 (Concatenate) (None, 93)           0           dense_14[0][0]                   \n",
      "                                                                 dropout_29[0][0]                 \n",
      "__________________________________________________________________________________________________\n",
      "dropout_30 (Dropout)            (None, 93)           0           enc_dense_resnet1[0][0]          \n",
      "__________________________________________________________________________________________________\n",
      "dense_15 (Dense)                (None, 24)           2256        dropout_30[0][0]                 \n",
      "__________________________________________________________________________________________________\n",
      "enc_dense_resnet2 (Concatenate) (None, 117)          0           dense_15[0][0]                   \n",
      "                                                                 dropout_30[0][0]                 \n",
      "__________________________________________________________________________________________________\n",
      "dropout_31 (Dropout)            (None, 117)          0           enc_dense_resnet2[0][0]          \n",
      "__________________________________________________________________________________________________\n",
      "dense_16 (Dense)                (None, 12)           1416        dropout_31[0][0]                 \n",
      "__________________________________________________________________________________________________\n",
      "enc_dense_resnet3 (Concatenate) (None, 129)          0           dense_16[0][0]                   \n",
      "                                                                 dropout_31[0][0]                 \n",
      "__________________________________________________________________________________________________\n",
      "dropout_32 (Dropout)            (None, 129)          0           enc_dense_resnet3[0][0]          \n",
      "__________________________________________________________________________________________________\n",
      "dec_x_hat (Dense)               (None, 48)           6240        dropout_32[0][0]                 \n",
      "==================================================================================================\n",
      "Total params: 12,505\n",
      "Trainable params: 12,505\n",
      "Non-trainable params: 0\n",
      "__________________________________________________________________________________________________\n"
     ]
    }
   ],
   "source": [
    "model = CVAE_temp(input_dim=input_dim,\n",
    "                  e_dims=e_dims, \n",
    "                  d_dims=d_dims, \n",
    "                  cond_pre_dim=cond_pre_dim,\n",
    "                  z_dim=z_dim, \n",
    "                  beta=beta,\n",
    "                  name=name_model, \n",
    "                  output=path_out,\n",
    "                 to_emb_dim=to_emb_dim,\n",
    "                 emb_dims=[8,4])"
   ]
  },
  {
   "cell_type": "markdown",
   "metadata": {},
   "source": [
    "### Trainning model "
   ]
  },
  {
   "cell_type": "code",
   "execution_count": 107,
   "metadata": {},
   "outputs": [],
   "source": [
    "from keras.callbacks import TensorBoard\n",
    "from time import time\n",
    "\n",
    "#embeddingsMetadata = {'dec_dense_0': 'metadata.tsv'}\n",
    "tensorboard = TensorBoard(log_dir=\"logs/{}\".format(name_model +str(time())),write_graph=True)#,write_images=True,embeddings_freq=10, embeddings_layer_names=['dec_dense_0'],embeddings_metadata= embeddingsMetadata)\n",
    "#os.path.join(path_out,name_model)\n",
    "\n",
    " #tensorboard = TensorBoard(log_dir=model_path,write_graph=True,write_images=True)"
   ]
  },
  {
   "cell_type": "code",
   "execution_count": 108,
   "metadata": {},
   "outputs": [
    {
     "name": "stdout",
     "output_type": "stream",
     "text": [
      "\n",
      "\n",
      "--- START TRAINING ---\n",
      "\n",
      "0 Epochs ...  - loss: 9.3697 - kl_loss: 9.0511 - recon_loss: 9.2792\n",
      "50 Epochs ...  - loss: 0.3349 - kl_loss: 12.9934 - recon_loss: 0.2050\n",
      "100 Epochs ...  - loss: 0.2251 - kl_loss: 9.4294 - recon_loss: 0.1308\n",
      "150 Epochs ...  - loss: 0.1846 - kl_loss: 8.0935 - recon_loss: 0.1036\n",
      "200 Epochs ...  - loss: 0.1537 - kl_loss: 7.1621 - recon_loss: 0.0821\n",
      "250 Epochs ...  - loss: 0.1433 - kl_loss: 6.8004 - recon_loss: 0.0753\n",
      "300 Epochs ...  - loss: 0.1347 - kl_loss: 6.4861 - recon_loss: 0.0698\n",
      "350 Epochs ...  - loss: 0.1285 - kl_loss: 6.2199 - recon_loss: 0.0663\n",
      "400 Epochs ...  - loss: 0.1235 - kl_loss: 6.2423 - recon_loss: 0.0611\n",
      "450 Epochs ...  - loss: 0.1193 - kl_loss: 6.0495 - recon_loss: 0.0588\n",
      "500 Epochs ...  - loss: 0.1180 - kl_loss: 5.9755 - recon_loss: 0.0582\n",
      "550 Epochs ...  - loss: 0.1156 - kl_loss: 5.9152 - recon_loss: 0.0565\n",
      "600 Epochs ...  - loss: 0.1156 - kl_loss: 5.9052 - recon_loss: 0.0565\n",
      "650 Epochs ...  - loss: 0.1115 - kl_loss: 5.7811 - recon_loss: 0.0537\n",
      "700 Epochs ...  - loss: 0.1109 - kl_loss: 5.7385 - recon_loss: 0.0535\n",
      "750 Epochs ...  - loss: 0.1107 - kl_loss: 5.7699 - recon_loss: 0.0530\n",
      "800 Epochs ...  - loss: 0.1103 - kl_loss: 5.7206 - recon_loss: 0.0531\n",
      "850 Epochs ...  - loss: 0.1081 - kl_loss: 5.6626 - recon_loss: 0.0514\n",
      "900 Epochs ...  - loss: 0.1074 - kl_loss: 5.6532 - recon_loss: 0.0509\n",
      "950 Epochs ...  - loss: 0.1081 - kl_loss: 5.6606 - recon_loss: 0.0515\n"
     ]
    },
    {
     "data": {
      "image/png": "[encoded data removed]",
      "text/plain": [
       "<Figure size 432x288 with 1 Axes>"
      ]
     },
     "metadata": {
      "needs_background": "light"
     },
     "output_type": "display_data"
    }
   ],
   "source": [
    "#model.main_train(dataset, training_epochs=200, batch_size=20, verbose=False,callbacks=[tensorboard])\n",
    "out_batch = NEpochLogger(display=50)\n",
    "model.main_train(dataset, training_epochs=1000, batch_size=20, verbose=False,callbacks=[tensorboard,out_batch])\n",
    "\n",
    "#visualizer = LatentSpaceVisualizer(model_folder_path=model_path, dataset_path=labellisation_data_folder + 'sequences_dataset/sequences_et_labels.npz')\n",
    " #   visualizer.visualize_embedding_after_training()"
   ]
  },
  {
   "cell_type": "code",
   "execution_count": 109,
   "metadata": {},
   "outputs": [],
   "source": [
    "with open(os.path.join(path_out,name_model,\"config.txt\"),'w') as file: \n",
    "    file.write(str(cond_pre_dim) + '\\n')\n",
    "    file.write(str(to_emb_dim) + '\\n')\n",
    "    file.write(str(e_dims) + '\\n') \n",
    "    file.write(str(d_dims) + '\\n') \n",
    "    file.write(str(z_dim) + '\\n')\n",
    "    file.write(str(beta) + '\\n')"
   ]
  },
  {
   "cell_type": "code",
   "execution_count": 110,
   "metadata": {},
   "outputs": [],
   "source": [
    "#sauvegarde du dataset associé\n",
    "name_dataset = 'dataset.pickle'\n",
    "\n",
    "with open( os.path.join(path_out,name_model, name_dataset), \"wb\" ) as file:\n",
    "    pickle.dump( dataset, file )"
   ]
  },
  {
   "cell_type": "markdown",
   "metadata": {},
   "source": [
    "## Loading model "
   ]
  },
  {
   "cell_type": "code",
   "execution_count": 111,
   "metadata": {},
   "outputs": [],
   "source": [
    "model.load_model(os.path.join(path_out, name_model, 'models'))"
   ]
  },
  {
   "cell_type": "markdown",
   "metadata": {},
   "source": [
    "### Analysis of the latent space"
   ]
  },
  {
   "cell_type": "code",
   "execution_count": 112,
   "metadata": {},
   "outputs": [],
   "source": [
    "name_set_plot = 'train'\n",
    "version = '-v1'\n",
    "nPoints=1500"
   ]
  },
  {
   "cell_type": "code",
   "execution_count": 113,
   "metadata": {},
   "outputs": [],
   "source": [
    "temp_emb = model.embedding.predict(dataset['train']['x'][2])\n",
    "cond_pre = dataset['train']['x'][1]\n",
    "cond_emb = model.embedding.predict(dataset['train']['x'][2])\n",
    "cond = np.concatenate((cond_pre, cond_emb), axis=1)\n",
    "\n",
    "#cond  = dataset['train']['x'][1]\n",
    "x_input = dataset['train']['x'][0]\n",
    "\n",
    "input_encoder = [x_input, cond]"
   ]
  },
  {
   "cell_type": "code",
   "execution_count": 114,
   "metadata": {},
   "outputs": [
    {
     "data": {
      "text/plain": [
       "(1830, 4)"
      ]
     },
     "execution_count": 114,
     "metadata": {},
     "output_type": "execute_result"
    }
   ],
   "source": [
    "cond_emb.shape"
   ]
  },
  {
   "cell_type": "code",
   "execution_count": 115,
   "metadata": {},
   "outputs": [],
   "source": [
    "x_encoded = model.encoder.predict(input_encoder)[0]\n",
    "x_hat = model.cvae.predict(x=dataset['train']['x'])"
   ]
  },
  {
   "cell_type": "code",
   "execution_count": 116,
   "metadata": {},
   "outputs": [],
   "source": [
    "log_dir=path_main_folder+\"/notebooks/logs/projector_Conso_WeekDay_Temp_Month_4couches\"\n",
    "os.makedirs(log_dir)"
   ]
  },
  {
   "cell_type": "code",
   "execution_count": 117,
   "metadata": {},
   "outputs": [
    {
     "data": {
      "text/plain": [
       "<Figure size 432x288 with 0 Axes>"
      ]
     },
     "metadata": {},
     "output_type": "display_data"
    }
   ],
   "source": [
    "import os,cv2\n",
    "images=createLoadProfileImages(x,x_hat,nPoints)"
   ]
  },
  {
   "cell_type": "code",
   "execution_count": 118,
   "metadata": {},
   "outputs": [
    {
     "data": {
      "text/plain": [
       "True"
      ]
     },
     "execution_count": 118,
     "metadata": {},
     "output_type": "execute_result"
    }
   ],
   "source": [
    "\n",
    "sprites=images_to_sprite(images)\n",
    "cv2.imwrite(os.path.join(log_dir, 'sprite_4_classes.png'), sprites)"
   ]
  },
  {
   "cell_type": "code",
   "execution_count": 119,
   "metadata": {},
   "outputs": [],
   "source": [
    "\n",
    "x_reduced=x_encoded[0:nPoints,]\n",
    "writeMetaData(log_dir,x_conso,calendar_info,nPoints)\n",
    "buildProjector(x_reduced,images,log_dir)"
   ]
  },
  {
   "cell_type": "markdown",
   "metadata": {},
   "source": [
    "## Analyse prédiction de température\n",
    "On essaie de prédire la température avec les plus proches voisins. Normalement on drevrait etre meilleur que dans l'autoencoder originel et ensuite on devrait etre moins bons une fois la tempréature prise en compte"
   ]
  },
  {
   "cell_type": "code",
   "execution_count": 120,
   "metadata": {},
   "outputs": [
    {
     "data": {
      "text/plain": [
       "<matplotlib.axes._subplots.AxesSubplot at 0x7fd4b613be10>"
      ]
     },
     "execution_count": 120,
     "metadata": {},
     "output_type": "execute_result"
    },
    {
     "data": {
      "image/png": "[encoded data removed]",
      "text/plain": [
       "<Figure size 432x288 with 1 Axes>"
      ]
     },
     "metadata": {
      "needs_background": "light"
     },
     "output_type": "display_data"
    }
   ],
   "source": [
    "temperatureMax=[max(x_conso.loc[index*48:(index+1)*48-1,'meteo_natTh+0']) for index in range(0,nPoints)]\n",
    "import seaborn as sn\n",
    "sn.distplot(temperatureMax, kde=False, fit=stats.norm, bins=100)"
   ]
  },
  {
   "cell_type": "code",
   "execution_count": 121,
   "metadata": {},
   "outputs": [
    {
     "data": {
      "text/plain": [
       "0.4450669914692317"
      ]
     },
     "execution_count": 121,
     "metadata": {},
     "output_type": "execute_result"
    }
   ],
   "source": [
    "from sklearn.neighbors import KNeighborsRegressor\n",
    "k=5\n",
    "knn = KNeighborsRegressor(n_neighbors=k)\n",
    "\n",
    "yTemp=temperatureMax\n",
    "\n",
    "knn.fit(x_reduced, yTemp)\n",
    "train_accuracy= knn.score(x_reduced, yTemp)\n",
    "train_accuracy"
   ]
  },
  {
   "cell_type": "code",
   "execution_count": 122,
   "metadata": {},
   "outputs": [
    {
     "data": {
      "text/plain": [
       "<matplotlib.axes._subplots.AxesSubplot at 0x7fd4b6990240>"
      ]
     },
     "execution_count": 122,
     "metadata": {},
     "output_type": "execute_result"
    },
    {
     "data": {
      "image/png": "[encoded data removed]",
      "text/plain": [
       "<Figure size 432x288 with 1 Axes>"
      ]
     },
     "metadata": {
      "needs_background": "light"
     },
     "output_type": "display_data"
    }
   ],
   "source": [
    "from sklearn.metrics import confusion_matrix\n",
    "y_pred = knn.predict(x_reduced)\n",
    "error=y_pred-yTemp\n",
    "sn.distplot(error, kde=False, fit=stats.norm, bins=100)\n",
    "#normalement on doit trouver 5/7 de jours de semaine (1082 sur 1500) et 2/7 de jours de weekend (428 sur 1500)  "
   ]
  },
  {
   "cell_type": "markdown",
   "metadata": {},
   "source": [
    "## classification si espace random\n"
   ]
  },
  {
   "cell_type": "code",
   "execution_count": 123,
   "metadata": {},
   "outputs": [
    {
     "data": {
      "text/plain": [
       "0.19029450916631097"
      ]
     },
     "execution_count": 123,
     "metadata": {},
     "output_type": "execute_result"
    }
   ],
   "source": [
    "x_reduced_random=np.random.rand(nPoints,1)\n",
    "knn_random = KNeighborsRegressor(n_neighbors=k)\n",
    "knn_random.fit(x_reduced_random, yTemp)\n",
    "train_accuracy_random= knn_random.score(x_reduced_random, yTemp)\n",
    "train_accuracy_random"
   ]
  },
  {
   "cell_type": "code",
   "execution_count": 124,
   "metadata": {},
   "outputs": [
    {
     "data": {
      "text/plain": [
       "<matplotlib.axes._subplots.AxesSubplot at 0x7fd4b6857518>"
      ]
     },
     "execution_count": 124,
     "metadata": {},
     "output_type": "execute_result"
    },
    {
     "data": {
      "image/png": "[encoded data removed]",
      "text/plain": [
       "<Figure size 432x288 with 1 Axes>"
      ]
     },
     "metadata": {
      "needs_background": "light"
     },
     "output_type": "display_data"
    }
   ],
   "source": [
    "from sklearn.metrics import confusion_matrix\n",
    "y_pred = knn_random.predict(x_reduced_random)\n",
    "error=y_pred-yTemp\n",
    "sn.distplot(error, kde=False, fit=stats.norm, bins=100)\n",
    "\n",
    "#normalement on doit trouver 5/7 de jours de semaine (1082 sur 1500) et 2/7 de jours de weekend (428 sur 1500)  "
   ]
  },
  {
   "cell_type": "markdown",
   "metadata": {},
   "source": [
    "## Analyse classification de catégorie mois dans espace latent\n",
    "Normalement on ne devrait plus pouvoir classifier aussi facilement jours de weekend et de semaine dans l'espace projeter"
   ]
  },
  {
   "cell_type": "code",
   "execution_count": 125,
   "metadata": {},
   "outputs": [
    {
     "data": {
      "text/plain": [
       "0.43333333333333335"
      ]
     },
     "execution_count": 125,
     "metadata": {},
     "output_type": "execute_result"
    }
   ],
   "source": [
    "from sklearn.neighbors import KNeighborsClassifier\n",
    "k=5\n",
    "knn = KNeighborsClassifier(n_neighbors=k)\n",
    "\n",
    "yMonth=calendar_info['month']\n",
    "yMonth=yMonth[0:nPoints,]\n",
    "\n",
    "knn.fit(x_reduced, yMonth)\n",
    "train_accuracy= knn.score(x_reduced, yMonth)\n",
    "train_accuracy"
   ]
  },
  {
   "cell_type": "code",
   "execution_count": 126,
   "metadata": {},
   "outputs": [],
   "source": [
    "prob=knn.predict_proba(x_reduced)\n",
    "probScore=[prob[i][yMonth[i]-1] for i in range(0,nPoints) ]"
   ]
  },
  {
   "cell_type": "code",
   "execution_count": 127,
   "metadata": {},
   "outputs": [
    {
     "data": {
      "text/plain": [
       "0.3275999999999943"
      ]
     },
     "execution_count": 127,
     "metadata": {},
     "output_type": "execute_result"
    }
   ],
   "source": [
    "#plutot sous forme d un probability score\n",
    "sum(probScore)/nPoints"
   ]
  },
  {
   "cell_type": "code",
   "execution_count": 128,
   "metadata": {},
   "outputs": [
    {
     "data": {
      "text/plain": [
       "array([[117,   7,   4,   5,   2,   3,   1,   6,   2,   2,   4,   2],\n",
       "       [ 21,  57,   4,   6,   5,   3,   4,   3,   3,   3,   2,   6],\n",
       "       [ 24,  10,  52,   3,   4,   8,   4,   6,   2,   7,   2,   2],\n",
       "       [ 16,   8,  10,  58,   2,   5,   5,   2,   0,   6,   4,   4],\n",
       "       [ 15,   8,  11,   9,  39,   6,   4,   8,  10,   4,   3,   7],\n",
       "       [  8,  10,   6,   5,   7,  64,   7,   4,   5,   0,   1,   3],\n",
       "       [  9,  13,   6,  11,   7,  16,  40,   7,  10,   0,   3,   2],\n",
       "       [  7,   1,  12,  10,   8,   6,   7,  62,   6,   2,   1,   2],\n",
       "       [ 11,  13,   4,   6,   7,  11,   7,   5,  51,   2,   2,   1],\n",
       "       [ 15,  14,  14,   8,   7,   8,   4,   6,   5,  35,   4,   4],\n",
       "       [ 19,  10,   7,   7,   3,  13,   5,   8,   4,   2,  33,   9],\n",
       "       [ 28,  14,   9,   5,   9,   1,   6,   2,   6,   2,   4,  42]])"
      ]
     },
     "execution_count": 128,
     "metadata": {},
     "output_type": "execute_result"
    }
   ],
   "source": [
    "from sklearn.metrics import confusion_matrix\n",
    "y_pred = knn.predict(x_reduced)\n",
    "confusion_matrix(yMonth,y_pred)\n",
    "\n",
    "#normalement on doit trouver 5/7 de jours de semaine (1082 sur 1500) et 2/7 de jours de weekend (428 sur 1500)  "
   ]
  },
  {
   "cell_type": "markdown",
   "metadata": {},
   "source": [
    "## classification si espace random\n"
   ]
  },
  {
   "cell_type": "code",
   "execution_count": 129,
   "metadata": {},
   "outputs": [
    {
     "data": {
      "text/plain": [
       "0.328"
      ]
     },
     "execution_count": 129,
     "metadata": {},
     "output_type": "execute_result"
    }
   ],
   "source": [
    "x_reduced_random=np.random.rand(nPoints,1)\n",
    "knn_random = KNeighborsClassifier(n_neighbors=k)\n",
    "knn_random.fit(x_reduced_random, yMonth)\n",
    "train_accuracy_random= knn_random.score(x_reduced_random, yMonth)\n",
    "train_accuracy_random"
   ]
  },
  {
   "cell_type": "code",
   "execution_count": 130,
   "metadata": {},
   "outputs": [],
   "source": [
    "prob_random=knn_random.predict_proba(x_reduced_random)\n",
    "probScore_random=[prob_random[i][yMonth[i]-1] for i in range(0,nPoints) ]\n"
   ]
  },
  {
   "cell_type": "code",
   "execution_count": 131,
   "metadata": {},
   "outputs": [
    {
     "data": {
      "text/plain": [
       "0.26373333333332727"
      ]
     },
     "execution_count": 131,
     "metadata": {},
     "output_type": "execute_result"
    }
   ],
   "source": [
    "#plutot sous forme d un probability score\n",
    "sum(probScore_random)/nPoints"
   ]
  },
  {
   "cell_type": "code",
   "execution_count": 132,
   "metadata": {},
   "outputs": [
    {
     "data": {
      "text/plain": [
       "array([[99,  5,  7, 10,  8,  1,  6,  6,  3,  5,  3,  2],\n",
       "       [23, 51,  4,  6,  6,  2,  3,  8,  4,  1,  7,  2],\n",
       "       [33, 11, 45,  4,  4,  5,  5,  2,  1,  6,  4,  4],\n",
       "       [22, 14, 11, 46,  4,  4,  1,  4,  2,  5,  3,  4],\n",
       "       [26, 18, 12, 11, 35,  0,  6,  1,  6,  4,  3,  2],\n",
       "       [26, 15, 12,  5, 10, 28,  2,  9,  1,  6,  3,  3],\n",
       "       [27, 18,  8,  9,  5,  6, 37,  5,  4,  3,  1,  1],\n",
       "       [24, 15, 12,  9,  2,  5,  6, 42,  1,  3,  2,  3],\n",
       "       [27, 12, 14, 14,  2,  6,  8,  5, 22,  6,  1,  3],\n",
       "       [22, 16, 14, 12,  4,  4,  5,  4,  5, 32,  0,  6],\n",
       "       [32, 14, 12,  9,  4,  6,  4,  3,  3,  6, 24,  3],\n",
       "       [27, 17, 10,  7,  8,  2,  8,  7,  3,  5,  3, 31]])"
      ]
     },
     "execution_count": 132,
     "metadata": {},
     "output_type": "execute_result"
    }
   ],
   "source": [
    "from sklearn.metrics import confusion_matrix\n",
    "y_pred_random = knn_random.predict(x_reduced_random)\n",
    "confusion_matrix(yMonth,y_pred_random)\n",
    "\n",
    "#normalement on doit trouver 5/7 de jours de semaine (1082 sur 1500) et 2/7 de jours de weekend (428 sur 1500)  "
   ]
  },
  {
   "cell_type": "code",
   "execution_count": null,
   "metadata": {},
   "outputs": [],
   "source": []
  },
  {
   "cell_type": "code",
   "execution_count": null,
   "metadata": {},
   "outputs": [],
   "source": []
  }
 ],
 "metadata": {
  "encoding": "# -*- coding: utf-8 -*-",
  "jupytext_formats": "py:light",
  "kernelspec": {
   "display_name": "Python 3",
   "language": "python",
   "name": "python3"
  },
  "language_info": {
   "codemirror_mode": {
    "name": "ipython",
    "version": 3
   },
   "file_extension": ".py",
   "mimetype": "text/x-python",
   "name": "python",
   "nbconvert_exporter": "python",
   "pygments_lexer": "ipython3",
   "version": "3.6.6"
  }
 },
 "nbformat": 4,
 "nbformat_minor": 2
}
