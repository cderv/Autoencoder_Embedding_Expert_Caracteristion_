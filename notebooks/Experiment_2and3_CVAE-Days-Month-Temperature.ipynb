{
 "cells": [
  {
   "cell_type": "markdown",
   "metadata": {},
   "source": [
    "# Notebook with CVAE model and conditionning over day of the week, month and temperature"
   ]
  },
  {
   "cell_type": "markdown",
   "metadata": {},
   "source": [
    "## Loading Libraries "
   ]
  },
  {
   "cell_type": "code",
   "execution_count": null,
   "metadata": {
    "lines_to_next_cell": 2
   },
   "outputs": [],
   "source": [
    "#import external libraries\n",
    "import sys\n",
    "import os\n",
    "import datetime\n",
    "import pandas as pd\n",
    "import numpy as np\n",
    "import pickle\n",
    "from matplotlib import pyplot as plt\n",
    "import seaborn as sn\n",
    "from scipy import stats\n",
    "import cv2 #from open-cv, to convert array to images"
   ]
  },
  {
   "cell_type": "code",
   "execution_count": null,
   "metadata": {},
   "outputs": [],
   "source": [
    "#paths in git\n",
    "\n",
    "#root git folder \n",
    "#path_main_folder = '/home/marotant/dev/Autoencoder_Embedding_Expert_Caracteristion_'\n",
    "path_main_folder = '/home/jovyan'#specify the root folder of the git repo\n",
    "\n",
    "#add  to path root git folder \n",
    "sys.path.append(path_main_folder)\n",
    "#add  to path source code folder\n",
    "sys.path.append(path_main_folder+'/src')"
   ]
  },
  {
   "cell_type": "code",
   "execution_count": null,
   "metadata": {},
   "outputs": [],
   "source": [
    "#import class and methods from src\n",
    "from keras import backend as K\n",
    "from CVAE.callbacks import NEpochLogger,callbackWeightLoss\n",
    "#from CVAE.cvae import compile_cvae, run_cvae\n",
    "from CVAE.cvae_model import CVAE, CVAE_emb, CAE\n",
    "from conso.load_shape_data import *  \n",
    "\n",
    "import Visualisation.buildProjector\n",
    "from Visualisation.buildProjector import *\n",
    "from FeaturesScore.scoring import *\n",
    "#from conso.load_shape_data import get_x_conso_autoencoder\n",
    "from conso.conso_helpers import plot_latent_space_projection, pyplot_latent_space_projection_temp, pyplot_latent_space_projection_error\n",
    "from sklearn.manifold import TSNE"
   ]
  },
  {
   "cell_type": "code",
   "execution_count": 4,
   "metadata": {},
   "outputs": [],
   "source": [
    "#directories to store trained model and the related projector\n",
    "\n",
    "log_dir_projector=path_main_folder+\"/notebooks/logs/Expe3/CVAE_W_M_T/projector\"\n",
    "log_dir_model=path_main_folder+\"/notebooks/logs/Expe3/CVAE_W_M_T//model\"\n",
    "if not(os.path.isdir(log_dir_projector)):\n",
    "    os.makedirs(log_dir_projector)\n",
    "if not(os.path.isdir(log_dir_model)):\n",
    "    os.makedirs(log_dir_model)"
   ]
  },
  {
   "cell_type": "markdown",
   "metadata": {},
   "source": [
    "# Table of contents:\n",
    "- Load Data\n",
    "- Make Training Set\n",
    "- Define and Train Model\n",
    "- Build Projector\n",
    "- Compute Feature Scores in latent space\n",
    "- Study reconstruction Error\n",
    "- Study Holidays prediction\n",
    "- Detect atypical events\n",
    "- Conclusion"
   ]
  },
  {
   "cell_type": "markdown",
   "metadata": {},
   "source": [
    "# Load dataset "
   ]
  },
  {
   "cell_type": "code",
   "execution_count": 5,
   "metadata": {},
   "outputs": [],
   "source": [
    "# Load dataframe\n",
    "path_data = os.path.join(path_main_folder, 'data')\n",
    "dataset_csv = os.path.join(path_data, \"dataset.csv\")\n",
    "x_conso = pd.read_csv(dataset_csv, sep=\",\",)\n",
    "x_conso.ds = pd.to_datetime(x_conso.ds)"
   ]
  },
  {
   "cell_type": "code",
   "execution_count": 6,
   "metadata": {
    "lines_to_next_cell": 2
   },
   "outputs": [],
   "source": [
    "#drop indices column\n",
    "x_conso=x_conso.drop(columns=x_conso.columns[0],axis=1)"
   ]
  },
  {
   "cell_type": "code",
   "execution_count": 7,
   "metadata": {},
   "outputs": [
    {
     "data": {
      "text/html": [
       "<div>\n",
       "<style scoped>\n",
       "    .dataframe tbody tr th:only-of-type {\n",
       "        vertical-align: middle;\n",
       "    }\n",
       "\n",
       "    .dataframe tbody tr th {\n",
       "        vertical-align: top;\n",
       "    }\n",
       "\n",
       "    .dataframe thead th {\n",
       "        text-align: right;\n",
       "    }\n",
       "</style>\n",
       "<table border=\"1\" class=\"dataframe\">\n",
       "  <thead>\n",
       "    <tr style=\"text-align: right;\">\n",
       "      <th></th>\n",
       "      <th>ds</th>\n",
       "      <th>consumption_France</th>\n",
       "      <th>temperature_France</th>\n",
       "      <th>is_holiday_day</th>\n",
       "    </tr>\n",
       "  </thead>\n",
       "  <tbody>\n",
       "    <tr>\n",
       "      <th>0</th>\n",
       "      <td>2012-12-28 00:00:00</td>\n",
       "      <td>59679.0</td>\n",
       "      <td>8.817600</td>\n",
       "      <td>0.0</td>\n",
       "    </tr>\n",
       "    <tr>\n",
       "      <th>1</th>\n",
       "      <td>2012-12-28 00:30:00</td>\n",
       "      <td>58103.0</td>\n",
       "      <td>8.690875</td>\n",
       "      <td>0.0</td>\n",
       "    </tr>\n",
       "    <tr>\n",
       "      <th>2</th>\n",
       "      <td>2012-12-28 01:00:00</td>\n",
       "      <td>55354.0</td>\n",
       "      <td>8.564150</td>\n",
       "      <td>0.0</td>\n",
       "    </tr>\n",
       "    <tr>\n",
       "      <th>3</th>\n",
       "      <td>2012-12-28 01:30:00</td>\n",
       "      <td>55196.0</td>\n",
       "      <td>8.440525</td>\n",
       "      <td>0.0</td>\n",
       "    </tr>\n",
       "    <tr>\n",
       "      <th>4</th>\n",
       "      <td>2012-12-28 02:00:00</td>\n",
       "      <td>54324.0</td>\n",
       "      <td>8.316900</td>\n",
       "      <td>0.0</td>\n",
       "    </tr>\n",
       "  </tbody>\n",
       "</table>\n",
       "</div>"
      ],
      "text/plain": [
       "                   ds  consumption_France  temperature_France  is_holiday_day\n",
       "0 2012-12-28 00:00:00             59679.0            8.817600             0.0\n",
       "1 2012-12-28 00:30:00             58103.0            8.690875             0.0\n",
       "2 2012-12-28 01:00:00             55354.0            8.564150             0.0\n",
       "3 2012-12-28 01:30:00             55196.0            8.440525             0.0\n",
       "4 2012-12-28 02:00:00             54324.0            8.316900             0.0"
      ]
     },
     "execution_count": 7,
     "metadata": {},
     "output_type": "execute_result"
    }
   ],
   "source": [
    "#Visualize data frame head\n",
    "x_conso.head(5)"
   ]
  },
  {
   "cell_type": "markdown",
   "metadata": {},
   "source": [
    "# Make training set of daily electrical consumption profiles and conditions \n",
    "In this experiment, we use some conditions from expert knowledge we previosuly recovered (temperature, month, days of the week) to learn a new residual latent space.  "
   ]
  },
  {
   "cell_type": "code",
   "execution_count": 8,
   "metadata": {},
   "outputs": [],
   "source": [
    "name_set_plot = 'train'\n",
    "version = '-v1'\n",
    "nPoints=1830"
   ]
  },
  {
   "cell_type": "code",
   "execution_count": 9,
   "metadata": {},
   "outputs": [],
   "source": [
    "dict_xconso = {'train': x_conso}"
   ]
  },
  {
   "cell_type": "code",
   "execution_count": 10,
   "metadata": {},
   "outputs": [
    {
     "name": "stdout",
     "output_type": "stream",
     "text": [
      "['consumption_France']\n"
     ]
    }
   ],
   "source": [
    "# Normalize input variables\n",
    "type_scaler = 's'\n",
    "dict_xconso, _ = normalize_xconso(dict_xconso, type_scaler = 'standard')"
   ]
  },
  {
   "cell_type": "markdown",
   "metadata": {},
   "source": [
    "Give the features on which to condition"
   ]
  },
  {
   "cell_type": "code",
   "execution_count": 11,
   "metadata": {},
   "outputs": [
    {
     "name": "stderr",
     "output_type": "stream",
     "text": [
      "/home/marotant/dev/Autoencoder_Embedding_Expert_Caracteristion_/src/conso/load_shape_data.py:212: FutureWarning:\n",
      "\n",
      "Method .as_matrix will be removed in a future version. Use .values instead.\n",
      "\n",
      "/home/marotant/dev/Autoencoder_Embedding_Expert_Caracteristion_/src/conso/load_shape_data.py:215: FutureWarning:\n",
      "\n",
      "Method .as_matrix will be removed in a future version. Use .values instead.\n",
      "\n"
     ]
    },
    {
     "name": "stdout",
     "output_type": "stream",
     "text": [
      "(1830, 67)\n"
     ]
    },
    {
     "name": "stderr",
     "output_type": "stream",
     "text": [
      "/home/marotant/dev/Autoencoder_Embedding_Expert_Caracteristion_/src/conso/load_shape_data.py:322: FutureWarning:\n",
      "\n",
      "Method .as_matrix will be removed in a future version. Use .values instead.\n",
      "\n",
      "/home/marotant/dev/Autoencoder_Embedding_Expert_Caracteristion_/src/conso/load_shape_data.py:328: FutureWarning:\n",
      "\n",
      "Method .as_matrix will be removed in a future version. Use .values instead.\n",
      "\n"
     ]
    }
   ],
   "source": [
    "type_x = ['conso']\n",
    "type_cond = ['day','month','temperature']\n",
    "dataset = get_dataset_autoencoder(dict_xconso=dict_xconso, type_x=type_x, type_cond=type_cond)"
   ]
  },
  {
   "cell_type": "code",
   "execution_count": 12,
   "metadata": {},
   "outputs": [],
   "source": [
    "\n",
    "nPoints=dataset['train']['x'][1].shape[0]\n",
    "\n",
    "#get conditions in array\n",
    "days_emb =dataset['train']['x'][1][:,0:7]\n",
    "month_emb =dataset['train']['x'][1][:,7:19]\n",
    "temp_emb=dataset['train']['x'][1][:,19:]\n",
    "to_emb=dataset['train']['x'][1]\n",
    "\n",
    "x = dataset['train']['x'][0]\n",
    "\n",
    "dataset['train']['x'] = [x,days_emb,month_emb,temp_emb]"
   ]
  },
  {
   "cell_type": "code",
   "execution_count": 13,
   "metadata": {},
   "outputs": [
    {
     "data": {
      "text/plain": [
       "(1830, 48)"
      ]
     },
     "execution_count": 13,
     "metadata": {},
     "output_type": "execute_result"
    }
   ],
   "source": [
    "np.shape(temp_emb)"
   ]
  },
  {
   "cell_type": "code",
   "execution_count": 14,
   "metadata": {},
   "outputs": [],
   "source": [
    "calendar_info = pd.DataFrame(dataset[name_set_plot]['ds'])\n",
    "calendar_info['month'] = calendar_info.ds.dt.month\n",
    "calendar_info['weekday'] = calendar_info.ds.dt.weekday\n",
    "calendar_info['is_weekday'] = (calendar_info.weekday < 5).apply(lambda x:int(x))\n",
    "calendar_info = pd.merge(calendar_info, x_conso[['ds', 'is_holiday_day']], on='ds', how ='left')\n",
    "calendar_info.loc[calendar_info['is_holiday_day'].isna(),'is_holiday_day'] = 0"
   ]
  },
  {
   "cell_type": "markdown",
   "metadata": {},
   "source": [
    "# Build and train model CVAE"
   ]
  },
  {
   "cell_type": "code",
   "execution_count": 15,
   "metadata": {
    "lines_to_next_cell": 2
   },
   "outputs": [],
   "source": [
    "#on sauvegarde le dataset\n",
    "path_out = log_dir_model"
   ]
  },
  {
   "cell_type": "code",
   "execution_count": 16,
   "metadata": {},
   "outputs": [],
   "source": [
    "# Parameters for autoencoder\n",
    "e_dims=[48,35,24,12]#encoder dim\n",
    "d_dims=[48,35,24,12]#decoder dim. Dense Blocks in skip connections can make the dimensions bigger when layers are concatenated with the previous one\n",
    "to_emb_dim=[7,12,48] #input dimensions for conditions\n",
    "cond_pre_dim = 0\n",
    "input_dim = dataset['train']['x'][0].shape[1]\n",
    "z_dim= 4\n",
    "lambda_val = 0.4 #hyper-parameter which value was selected after cross-validation"
   ]
  },
  {
   "cell_type": "code",
   "execution_count": 17,
   "metadata": {},
   "outputs": [],
   "source": [
    "name_model = 'cvae_conso-W_M_T_30min-journalier'\n",
    "#name_model = 'cvae_classification'"
   ]
  },
  {
   "cell_type": "code",
   "execution_count": 18,
   "metadata": {},
   "outputs": [],
   "source": [
    "#if needs to relaod model classes after modification wothout restarting the kernel\n",
    "\n",
    "import CVAE.cvae_model\n",
    "import CVAE.callbacks\n",
    "import importlib\n",
    "importlib.reload(CVAE.cvae_model)\n",
    "importlib.reload(CVAE.callbacks)\n",
    "\n",
    "%load_ext autoreload\n",
    "%autoreload"
   ]
  },
  {
   "cell_type": "code",
   "execution_count": 19,
   "metadata": {},
   "outputs": [
    {
     "name": "stdout",
     "output_type": "stream",
     "text": [
      "WARNING:tensorflow:From /home/marotant/.local/lib/python3.6/site-packages/tensorflow/python/framework/op_def_library.py:263: colocate_with (from tensorflow.python.framework.ops) is deprecated and will be removed in a future version.\n",
      "Instructions for updating:\n",
      "Colocations handled automatically by placer.\n",
      "5\n",
      "L1 loss\n",
      "False\n",
      "complete model: \n",
      "__________________________________________________________________________________________________\n",
      "Layer (type)                    Output Shape         Param #     Connected to                     \n",
      "==================================================================================================\n",
      "emb_input_0 (InputLayer)        (None, 7)            0                                            \n",
      "__________________________________________________________________________________________________\n",
      "emb_input_1 (InputLayer)        (None, 12)           0                                            \n",
      "__________________________________________________________________________________________________\n",
      "emb_input_2 (InputLayer)        (None, 48)           0                                            \n",
      "__________________________________________________________________________________________________\n",
      "x_true (InputLayer)             (None, 48)           0                                            \n",
      "__________________________________________________________________________________________________\n",
      "embedding_enc (Model)           (None, 5)            962         emb_input_0[0][0]                \n",
      "                                                                 emb_input_1[0][0]                \n",
      "                                                                 emb_input_2[0][0]                \n",
      "__________________________________________________________________________________________________\n",
      "encoder (Model)                 [(None, 4), (None, 4 5930        x_true[0][0]                     \n",
      "                                                                 embedding_enc[2][0]              \n",
      "__________________________________________________________________________________________________\n",
      "sample_z (Lambda)               (None, 4)            0           encoder[1][0]                    \n",
      "                                                                 encoder[1][1]                    \n",
      "__________________________________________________________________________________________________\n",
      "decoder (Model)                 (None, 48)           12338       sample_z[0][0]                   \n",
      "                                                                 embedding_enc[2][0]              \n",
      "__________________________________________________________________________________________________\n",
      "decoder_for_kl (Model)          (None, 48)           0           decoder[1][0]                    \n",
      "==================================================================================================\n",
      "Total params: 19,230\n",
      "Trainable params: 19,190\n",
      "Non-trainable params: 40\n",
      "__________________________________________________________________________________________________\n",
      "embedding_enc: \n",
      "__________________________________________________________________________________________________\n",
      "Layer (type)                    Output Shape         Param #     Connected to                     \n",
      "==================================================================================================\n",
      "emb_input_0 (InputLayer)        (None, 7)            0                                            \n",
      "__________________________________________________________________________________________________\n",
      "emb_input_1 (InputLayer)        (None, 12)           0                                            \n",
      "__________________________________________________________________________________________________\n",
      "emb_input_2 (InputLayer)        (None, 48)           0                                            \n",
      "__________________________________________________________________________________________________\n",
      "emb_dense_0_0 (Dense)           (None, 5)            40          emb_input_0[0][0]                \n",
      "__________________________________________________________________________________________________\n",
      "emb_dense_1_0 (Dense)           (None, 6)            78          emb_input_1[0][0]                \n",
      "__________________________________________________________________________________________________\n",
      "emb_dense_2_0 (Dense)           (None, 12)           588         emb_input_2[0][0]                \n",
      "__________________________________________________________________________________________________\n",
      "emb_dense_0_1 (Dense)           (None, 3)            18          emb_dense_0_0[0][0]              \n",
      "__________________________________________________________________________________________________\n",
      "emb_dense_1_1 (Dense)           (None, 3)            21          emb_dense_1_0[0][0]              \n",
      "__________________________________________________________________________________________________\n",
      "emb_dense_2_1 (Dense)           (None, 4)            52          emb_dense_2_0[0][0]              \n",
      "__________________________________________________________________________________________________\n",
      "batch_normalization_1 (BatchNor (None, 3)            12          emb_dense_0_1[0][0]              \n",
      "__________________________________________________________________________________________________\n",
      "batch_normalization_2 (BatchNor (None, 3)            12          emb_dense_1_1[0][0]              \n",
      "__________________________________________________________________________________________________\n",
      "batch_normalization_3 (BatchNor (None, 4)            16          emb_dense_2_1[0][0]              \n",
      "__________________________________________________________________________________________________\n",
      "activation_1 (Activation)       (None, 3)            0           batch_normalization_1[0][0]      \n",
      "__________________________________________________________________________________________________\n",
      "activation_2 (Activation)       (None, 3)            0           batch_normalization_2[0][0]      \n",
      "__________________________________________________________________________________________________\n",
      "activation_3 (Activation)       (None, 4)            0           batch_normalization_3[0][0]      \n",
      "__________________________________________________________________________________________________\n",
      "emb_concat (Concatenate)        (None, 10)           0           activation_1[0][0]               \n",
      "                                                                 activation_2[0][0]               \n",
      "                                                                 activation_3[0][0]               \n",
      "__________________________________________________________________________________________________\n",
      "emb_dense_last_reduction_0 (Den (None, 5)            55          emb_concat[0][0]                 \n",
      "__________________________________________________________________________________________________\n",
      "batch_normalization_4 (BatchNor (None, 5)            20          emb_dense_last_reduction_0[0][0] \n",
      "__________________________________________________________________________________________________\n",
      "activation_4 (Activation)       (None, 5)            0           batch_normalization_4[0][0]      \n",
      "__________________________________________________________________________________________________\n",
      "emb_dense_last_reduction_1 (Den (None, 5)            30          activation_4[0][0]               \n",
      "__________________________________________________________________________________________________\n",
      "batch_normalization_5 (BatchNor (None, 5)            20          emb_dense_last_reduction_1[0][0] \n",
      "__________________________________________________________________________________________________\n",
      "activation_5 (Activation)       (None, 5)            0           batch_normalization_5[0][0]      \n",
      "==================================================================================================\n",
      "Total params: 962\n",
      "Trainable params: 922\n",
      "Non-trainable params: 40\n",
      "__________________________________________________________________________________________________\n",
      "encoder: \n",
      "__________________________________________________________________________________________________\n",
      "Layer (type)                    Output Shape         Param #     Connected to                     \n",
      "==================================================================================================\n",
      "enc_x_true (InputLayer)         (None, 48)           0                                            \n",
      "__________________________________________________________________________________________________\n",
      "enc_cond (InputLayer)           (None, 5)            0                                            \n",
      "__________________________________________________________________________________________________\n",
      "enc_input (Concatenate)         (None, 53)           0           enc_x_true[0][0]                 \n",
      "                                                                 enc_cond[0][0]                   \n",
      "__________________________________________________________________________________________________\n",
      "dense_1 (Dense)                 (None, 48)           2592        enc_input[0][0]                  \n",
      "__________________________________________________________________________________________________\n",
      "enc_dense_0 (Concatenate)       (None, 53)           0           dense_1[0][0]                    \n",
      "                                                                 enc_cond[0][0]                   \n",
      "__________________________________________________________________________________________________\n",
      "dense_2 (Dense)                 (None, 35)           1890        enc_dense_0[0][0]                \n",
      "__________________________________________________________________________________________________\n",
      "enc_dense_1 (Concatenate)       (None, 40)           0           dense_2[0][0]                    \n",
      "                                                                 enc_cond[0][0]                   \n",
      "__________________________________________________________________________________________________\n",
      "dense_3 (Dense)                 (None, 24)           984         enc_dense_1[0][0]                \n",
      "__________________________________________________________________________________________________\n",
      "enc_dense_2 (Concatenate)       (None, 29)           0           dense_3[0][0]                    \n",
      "                                                                 enc_cond[0][0]                   \n",
      "__________________________________________________________________________________________________\n",
      "enc_dense_3 (Dense)             (None, 12)           360         enc_dense_2[0][0]                \n",
      "__________________________________________________________________________________________________\n",
      "latent_dense_mu (Dense)         (None, 4)            52          enc_dense_3[0][0]                \n",
      "__________________________________________________________________________________________________\n",
      "latent_dense_log_sigma (Dense)  (None, 4)            52          enc_dense_3[0][0]                \n",
      "==================================================================================================\n",
      "Total params: 5,930\n",
      "Trainable params: 5,930\n",
      "Non-trainable params: 0\n",
      "__________________________________________________________________________________________________\n",
      "decoder: \n",
      "__________________________________________________________________________________________________\n",
      "Layer (type)                    Output Shape         Param #     Connected to                     \n",
      "==================================================================================================\n",
      "dec_z (InputLayer)              (None, 4)            0                                            \n",
      "__________________________________________________________________________________________________\n",
      "dec_cond (InputLayer)           (None, 5)            0                                            \n",
      "__________________________________________________________________________________________________\n",
      "dec_input (Concatenate)         (None, 9)            0           dec_z[0][0]                      \n",
      "                                                                 dec_cond[0][0]                   \n",
      "__________________________________________________________________________________________________\n",
      "dense_4 (Dense)                 (None, 12)           120         dec_input[0][0]                  \n",
      "__________________________________________________________________________________________________\n",
      "dec_dense_resnet3 (Concatenate) (None, 21)           0           dense_4[0][0]                    \n",
      "                                                                 dec_input[0][0]                  \n",
      "__________________________________________________________________________________________________\n",
      "dense_5 (Dense)                 (None, 24)           528         dec_dense_resnet3[0][0]          \n",
      "__________________________________________________________________________________________________\n",
      "dec_dense_resnet2 (Concatenate) (None, 45)           0           dense_5[0][0]                    \n",
      "                                                                 dec_dense_resnet3[0][0]          \n",
      "__________________________________________________________________________________________________\n",
      "dense_6 (Dense)                 (None, 35)           1610        dec_dense_resnet2[0][0]          \n",
      "__________________________________________________________________________________________________\n",
      "dec_dense_resnet1 (Concatenate) (None, 80)           0           dense_6[0][0]                    \n",
      "                                                                 dec_dense_resnet2[0][0]          \n",
      "__________________________________________________________________________________________________\n",
      "dense_7 (Dense)                 (None, 48)           3888        dec_dense_resnet1[0][0]          \n",
      "__________________________________________________________________________________________________\n",
      "dec_dense_resnet0 (Concatenate) (None, 128)          0           dense_7[0][0]                    \n",
      "                                                                 dec_dense_resnet1[0][0]          \n",
      "__________________________________________________________________________________________________\n",
      "dec_x_hat (Dense)               (None, 48)           6192        dec_dense_resnet0[0][0]          \n",
      "==================================================================================================\n",
      "Total params: 12,338\n",
      "Trainable params: 12,338\n",
      "Non-trainable params: 0\n",
      "__________________________________________________________________________________________________\n"
     ]
    }
   ],
   "source": [
    "Lambda = K.variable(lambda_val, dtype='float32')\n",
    "model = CVAE.cvae_model.CVAE_emb(input_dim=input_dim,\n",
    "                  e_dims=e_dims, \n",
    "                  d_dims=d_dims, \n",
    "                  cond_pre_dim=cond_pre_dim,\n",
    "                  z_dim=z_dim, \n",
    "                  beta=Lambda,\n",
    "                  name=name_model, \n",
    "                  output=path_out,\n",
    "                 to_emb_dim=to_emb_dim,\n",
    "                 emb_dims=[[5,3],[6,3],[12,4]], emb_to_z_dim=[5,5],is_L2_Loss=False,has_BN=2)#these dimensions define the dimension layer of the conitional network"
   ]
  },
  {
   "cell_type": "markdown",
   "metadata": {},
   "source": [
    "### Trainning model "
   ]
  },
  {
   "cell_type": "code",
   "execution_count": 20,
   "metadata": {},
   "outputs": [],
   "source": [
    "from keras.callbacks import TensorBoard\n",
    "from time import time\n",
    "\n",
    "#embeddingsMetadata = {'dec_dense_0': 'metadata.tsv'}\n",
    "tensorboard = TensorBoard(log_dir=\"logs/{}\".format(name_model +str(time())),write_graph=True)#,write_images=True,embeddings_freq=10, embeddings_layer_names=['dec_dense_0'],embeddings_metadata= embeddingsMetadata)\n"
   ]
  },
  {
   "cell_type": "markdown",
   "metadata": {},
   "source": [
    "We start a pre-training phase with a constant and high lambda to properly learn the conditional embedding"
   ]
  },
  {
   "cell_type": "code",
   "execution_count": 21,
   "metadata": {},
   "outputs": [
    {
     "name": "stdout",
     "output_type": "stream",
     "text": [
      "\n",
      "\n",
      "--- START TRAINING ---\n",
      "\n",
      "WARNING:tensorflow:From /home/marotant/.local/lib/python3.6/site-packages/tensorflow/python/ops/math_ops.py:3066: to_int32 (from tensorflow.python.ops.math_ops) is deprecated and will be removed in a future version.\n",
      "Instructions for updating:\n",
      "Use tf.cast instead.\n",
      "emb_input_0\n",
      "emb_input_1\n",
      "emb_input_2\n",
      "[1475.1929 3649.875  1722.8761 1582.1064]\n",
      "4.33440847916667\n",
      "              is_weekday   weekday     month  is_holiday_day  temperature\n",
      "score model     0.847976  0.347736  0.540758        0.123636     0.851284\n",
      "random model    0.487818  0.165654  0.080890        0.025455    -0.431882\n",
      "0 Epochs ...  - loss: 27.4357 - decoder_loss: 25.9452 - decoder_for_kl_loss: 3.7262 - val_loss: 13.8838 - val_decoder_loss: 11.5968 - val_decoder_for_kl_loss: 5.7173 val_loss 13.883778483489824 ... lambda Loss 0.4000000059604645\n",
      "emb_input_0\n",
      "emb_input_1\n",
      "emb_input_2\n",
      "[1212.3762   1354.6976     86.733315   82.895134]\n",
      "9.004563140625002\n",
      "              is_weekday   weekday     month  is_holiday_day  temperature\n",
      "score model     0.955310  0.454144  0.228153        0.229091     0.389828\n",
      "random model    0.489197  0.141415  0.093394        0.014545    -0.444259\n",
      "100 Epochs ...  - loss: 4.3149 - decoder_loss: 2.7597 - decoder_for_kl_loss: 3.8881 - val_loss: 3.9931 - val_decoder_loss: 2.5968 - val_decoder_for_kl_loss: 3.4908 val_loss 3.9931012137991484 ... lambda Loss 0.4000000059604645\n",
      "emb_input_0\n",
      "emb_input_1\n",
      "emb_input_2\n",
      "[1162.9116   1259.3286     33.44057    45.459023]\n",
      "11.364030088541668\n",
      "              is_weekday   weekday     month  is_holiday_day  temperature\n",
      "score model     0.847713  0.407696  0.142828        0.610909    -0.085415\n",
      "random model    0.512326  0.148158  0.073713        0.018182    -0.409037\n",
      "200 Epochs ...  - loss: 3.9473 - decoder_loss: 2.5209 - decoder_for_kl_loss: 3.5662 - val_loss: 3.5927 - val_decoder_loss: 2.3088 - val_decoder_for_kl_loss: 3.2097 val_loss 3.5926507157706173 ... lambda Loss 0.4000000059604645\n",
      "emb_input_0\n",
      "emb_input_1\n",
      "emb_input_2\n",
      "[1004.39404 1183.7139    26.4715    41.58678]\n",
      "11.911043692708333\n",
      "              is_weekday   weekday     month  is_holiday_day  temperature\n",
      "score model     0.656890  0.257988  0.140888        0.825455    -0.175654\n",
      "random model    0.485234  0.150329  0.090482        0.025455    -0.456806\n",
      "300 Epochs ...  - loss: 3.7103 - decoder_loss: 2.4547 - decoder_for_kl_loss: 3.1391 - val_loss: 3.3053 - val_decoder_loss: 2.2320 - val_decoder_for_kl_loss: 2.6835 val_loss 3.305336272130247 ... lambda Loss 0.4000000059604645\n",
      "emb_input_0\n",
      "emb_input_1\n",
      "emb_input_2\n",
      "[ 978.5652   1203.4257     28.185709   31.602104]\n",
      "11.652140729166664\n",
      "              is_weekday   weekday     month  is_holiday_day  temperature\n",
      "score model     0.657727  0.237645  0.144382        0.807273    -0.120557\n",
      "random model    0.486477  0.133905  0.099681        0.025455    -0.409202\n",
      "400 Epochs ...  - loss: 3.5708 - decoder_loss: 2.3746 - decoder_for_kl_loss: 2.9906 - val_loss: 3.1785 - val_decoder_loss: 2.1190 - val_decoder_for_kl_loss: 2.6487 val_loss 3.1784576796443083 ... lambda Loss 0.4000000059604645\n",
      "emb_input_0\n",
      "emb_input_1\n",
      "emb_input_2\n",
      "[ 815.16974  1220.239      15.876763   31.674868]\n",
      "11.150461744791667\n",
      "              is_weekday   weekday     month  is_holiday_day  temperature\n",
      "score model     0.650166  0.221870  0.168170        0.796364     0.054864\n",
      "random model    0.492330  0.138806  0.075832        0.007273    -0.463435\n",
      "500 Epochs ...  - loss: 3.3846 - decoder_loss: 2.2461 - decoder_for_kl_loss: 2.8461 - val_loss: 3.0422 - val_decoder_loss: 2.0397 - val_decoder_for_kl_loss: 2.5061 val_loss 3.042189387024426 ... lambda Loss 0.4000000059604645\n",
      "emb_input_0\n",
      "emb_input_1\n",
      "emb_input_2\n",
      "[ 867.78613  1133.1937     24.57156    17.984518]\n",
      "11.722766020833333\n",
      "              is_weekday   weekday     month  is_holiday_day  temperature\n",
      "score model     0.604578  0.197756  0.150126        0.774545    -0.082705\n",
      "random model    0.479880  0.145819  0.085987        0.021818    -0.467663\n",
      "600 Epochs ...  - loss: 3.2313 - decoder_loss: 2.1169 - decoder_for_kl_loss: 2.7861 - val_loss: 3.0894 - val_decoder_loss: 2.1520 - val_decoder_for_kl_loss: 2.3434 val_loss 3.0894194821842382 ... lambda Loss 0.4000000059604645\n",
      "emb_input_0\n",
      "emb_input_1\n",
      "emb_input_2\n",
      "[ 672.11206  1129.679      10.394646   21.471178]\n",
      "12.284695921875002\n",
      "              is_weekday   weekday     month  is_holiday_day  temperature\n",
      "score model     0.601571  0.190153  0.149675        0.778182    -0.167668\n",
      "random model    0.473541  0.144858  0.090195        0.047273    -0.390741\n",
      "700 Epochs ...  - loss: 3.2168 - decoder_loss: 2.1622 - decoder_for_kl_loss: 2.6364 - val_loss: 2.9491 - val_decoder_loss: 2.0459 - val_decoder_for_kl_loss: 2.2580 val_loss 2.949087221114362 ... lambda Loss 0.4000000059604645\n",
      "emb_input_0\n",
      "emb_input_1\n",
      "emb_input_2\n",
      "[ 739.1107   1187.8923     28.366703   15.303318]\n",
      "11.941476156249998\n",
      "              is_weekday   weekday     month  is_holiday_day  temperature\n",
      "score model     0.584754  0.192254  0.159943        0.792727    -0.081662\n",
      "random model    0.492408  0.136186  0.091802        0.054545    -0.407027\n",
      "800 Epochs ...  - loss: 3.1430 - decoder_loss: 2.0662 - decoder_for_kl_loss: 2.6921 - val_loss: 2.9618 - val_decoder_loss: 2.0148 - val_decoder_for_kl_loss: 2.3674 val_loss 2.9618075271773208 ... lambda Loss 0.4000000059604645\n",
      "emb_input_0\n",
      "emb_input_1\n",
      "emb_input_2\n",
      "[ 723.0524   1162.5126     17.320412   20.441717]\n",
      "11.420686083333331\n",
      "              is_weekday   weekday     month  is_holiday_day  temperature\n",
      "score model     0.607096  0.195637  0.162116        0.810909     0.016594\n",
      "random model    0.487036  0.143698  0.063393        0.014545    -0.430281\n",
      "900 Epochs ...  - loss: 3.0372 - decoder_loss: 1.9920 - decoder_for_kl_loss: 2.6131 - val_loss: 2.9372 - val_decoder_loss: 2.0136 - val_decoder_for_kl_loss: 2.3090 val_loss 2.9371673005526184 ... lambda Loss 0.4000000059604645\n",
      "emb_input_0\n",
      "emb_input_1\n",
      "emb_input_2\n",
      "[ 727.0219   1134.9989     22.176954   14.625429]\n",
      "11.2298245625\n",
      "              is_weekday   weekday     month  is_holiday_day  temperature\n",
      "score model     0.614266  0.200647  0.167032        0.785455     0.033001\n",
      "random model    0.470412  0.140381  0.072482        0.029091    -0.454547\n",
      "1000 Epochs ...  - loss: 3.0755 - decoder_loss: 2.0071 - decoder_for_kl_loss: 2.6712 - val_loss: 2.9829 - val_decoder_loss: 2.0380 - val_decoder_for_kl_loss: 2.3622 val_loss 2.9829342951540085 ... lambda Loss 0.4000000059604645\n",
      "emb_input_0\n",
      "emb_input_1\n",
      "emb_input_2\n",
      "[ 693.1012  1209.2269    44.43332   22.0393 ]\n",
      "10.91887734375\n",
      "              is_weekday   weekday     month  is_holiday_day  temperature\n",
      "score model     0.573229  0.178338  0.148925        0.807273     0.053118\n",
      "random model    0.447187  0.144315  0.073307        0.029091    -0.441174\n",
      "1100 Epochs ...  - loss: 2.9882 - decoder_loss: 1.9326 - decoder_for_kl_loss: 2.6391 - val_loss: 2.9703 - val_decoder_loss: 2.0208 - val_decoder_for_kl_loss: 2.3737 val_loss 2.970261089137343 ... lambda Loss 0.4000000059604645\n",
      "emb_input_0\n",
      "emb_input_1\n",
      "emb_input_2\n",
      "[ 676.9991   1232.0642      9.060238   16.418861]\n",
      "10.458353093749999\n",
      "              is_weekday   weekday     month  is_holiday_day  temperature\n",
      "score model     0.590077  0.196550  0.181889        0.789091     0.148115\n",
      "random model    0.491112  0.160568  0.086354        0.043636    -0.416561\n",
      "1200 Epochs ...  - loss: 3.0064 - decoder_loss: 1.9454 - decoder_for_kl_loss: 2.6527 - val_loss: 2.9926 - val_decoder_loss: 2.0351 - val_decoder_for_kl_loss: 2.3937 val_loss 2.992607187052242 ... lambda Loss 0.4000000059604645\n",
      "emb_input_0\n",
      "emb_input_1\n",
      "emb_input_2\n",
      "[ 625.2534   1143.6227      8.042288   13.175216]\n",
      "11.019692604166668\n",
      "              is_weekday   weekday     month  is_holiday_day  temperature\n",
      "score model      0.58165  0.162175  0.154239        0.781818     0.023499\n",
      "random model     0.50411  0.159052  0.074370        0.054545    -0.401777\n",
      "1300 Epochs ...  - loss: 3.0215 - decoder_loss: 1.9912 - decoder_for_kl_loss: 2.5756 - val_loss: 2.8617 - val_decoder_loss: 1.9498 - val_decoder_for_kl_loss: 2.2799 val_loss 2.8617197385902613 ... lambda Loss 0.4000000059604645\n",
      "emb_input_0\n",
      "emb_input_1\n",
      "emb_input_2\n",
      "[ 624.37683  1318.0399     17.689259   13.936989]\n",
      "10.230647203125002\n",
      "              is_weekday   weekday     month  is_holiday_day  temperature\n",
      "score model     0.591116  0.196870  0.175184        0.818182     0.171654\n",
      "random model    0.462114  0.131158  0.084033        0.050909    -0.471270\n",
      "1400 Epochs ...  - loss: 2.9169 - decoder_loss: 1.8853 - decoder_for_kl_loss: 2.5789 - val_loss: 2.9520 - val_decoder_loss: 2.0153 - val_decoder_for_kl_loss: 2.3418 val_loss 2.9519648030807413 ... lambda Loss 0.4000000059604645\n"
     ]
    },
    {
     "data": {
      "image/png": "[encoded data removed]",
      "text/plain": [
       "<Figure size 432x288 with 1 Axes>"
      ]
     },
     "metadata": {
      "needs_background": "light"
     },
     "output_type": "display_data"
    }
   ],
   "source": [
    "import warnings\n",
    "warnings.filterwarnings('ignore')\n",
    "\n",
    "lambda_decreaseRate=0.0\n",
    "lambda_min=0.01 #p\n",
    "\n",
    "#Turn it to True to train the model. Otherwise you can directly load on already trained model below\n",
    "runTraining=False\n",
    "runBatchCallback=True #In this callback we compute feature scores which is a bit long\n",
    "\n",
    "if runTraining:#Training a neural network requires some computing power and the CPUs in MyBinder environment can be a bit slow. If you don't use callbacks it can be faster also \n",
    "    \n",
    "    if runBatchCallback:\n",
    "        out_batch = NEpochLogger(x_train_data=dataset['train']['x'], display=100,x_conso=x_conso,calendar_info=calendar_info)\n",
    "        model.main_train(dataset, training_epochs=1500, batch_size=32, verbose=0,callbacks=[tensorboard,out_batch],validation_split=0.1)\n",
    "    else:\n",
    "        #use verbose=1 to see logs of training at every epoch\n",
    "        model.main_train(dataset, training_epochs=1500, batch_size=32, verbose=0,callbacks=[tensorboard],validation_split=0.1)\n"
   ]
  },
  {
   "cell_type": "markdown",
   "metadata": {},
   "source": [
    "We now continue with a learning phase for better reconstruction and refine the similarities between instances. It can be seen as a diffusion phase. We smoothly decese the lambda after each epoch."
   ]
  },
  {
   "cell_type": "code",
   "execution_count": 22,
   "metadata": {},
   "outputs": [
    {
     "name": "stdout",
     "output_type": "stream",
     "text": [
      "\n",
      "\n",
      "--- START TRAINING ---\n",
      "\n",
      "emb_input_0\n",
      "emb_input_1\n",
      "emb_input_2\n",
      "[ 600.0577   1153.4888     13.503026   22.041283]\n",
      "10.529311708333331\n",
      "              is_weekday   weekday     month  is_holiday_day  temperature\n",
      "score model     0.617256  0.190134  0.157817        0.770909     0.118032\n",
      "random model    0.484567  0.160258  0.094730        0.018182    -0.418034\n",
      "0 Epochs ...  - loss: 2.9228 - decoder_loss: 1.9082 - decoder_for_kl_loss: 2.5363 - val_loss: 2.9787 - val_decoder_loss: 2.0684 - val_decoder_for_kl_loss: 2.2759 val_loss 2.9787429225900786 ... lambda Loss 0.4000000059604645\n",
      "emb_input_0\n",
      "emb_input_1\n",
      "emb_input_2\n",
      "[ 642.6066   1272.4303     20.489347   16.626772]\n",
      "10.480601484375002\n",
      "              is_weekday   weekday     month  is_holiday_day  temperature\n",
      "score model     0.563449  0.190120  0.182838        0.810909     0.185167\n",
      "random model    0.515808  0.154696  0.089071        0.032727    -0.435427\n",
      "100 Epochs ...  - loss: 2.7782 - decoder_loss: 1.8072 - decoder_for_kl_loss: 2.6829 - val_loss: 2.8731 - val_decoder_loss: 1.9724 - val_decoder_for_kl_loss: 2.4887 val_loss 2.8731119098559104 ... lambda Loss 0.3619168996810913\n",
      "emb_input_0\n",
      "emb_input_1\n",
      "emb_input_2\n",
      "[ 700.25085  1185.9949     17.254757   14.928439]\n",
      "10.518273708333332\n",
      "              is_weekday   weekday     month  is_holiday_day  temperature\n",
      "score model     0.590069  0.185411  0.155197        0.800000     0.119825\n",
      "random model    0.489581  0.127750  0.089753        0.021818    -0.432585\n",
      "200 Epochs ...  - loss: 2.6854 - decoder_loss: 1.7761 - decoder_for_kl_loss: 2.7767 - val_loss: 2.7416 - val_decoder_loss: 1.9212 - val_decoder_for_kl_loss: 2.5052 val_loss 2.7415565532413337 ... lambda Loss 0.32745951414108276\n",
      "emb_input_0\n",
      "emb_input_1\n",
      "emb_input_2\n",
      "[ 690.96497  1271.9525     19.973808   18.434391]\n",
      "11.538296333333335\n",
      "              is_weekday   weekday     month  is_holiday_day  temperature\n",
      "score model     0.610406  0.200959  0.128413        0.785455    -0.011548\n",
      "random model    0.487119  0.156910  0.089090        0.025455    -0.427263\n",
      "300 Epochs ...  - loss: 2.6655 - decoder_loss: 1.8013 - decoder_for_kl_loss: 2.9171 - val_loss: 2.6301 - val_decoder_loss: 1.8442 - val_decoder_for_kl_loss: 2.6525 val_loss 2.630088886928037 ... lambda Loss 0.29628267884254456\n",
      "emb_input_0\n",
      "emb_input_1\n",
      "emb_input_2\n",
      "[ 787.4327   1256.0981     20.863314   20.13635 ]\n",
      "11.390813348958332\n",
      "              is_weekday   weekday     month  is_holiday_day  temperature\n",
      "score model     0.620375  0.196809  0.143692        0.792727     0.017654\n",
      "random model    0.470518  0.135032  0.084245        0.040000    -0.444579\n",
      "400 Epochs ...  - loss: 2.5101 - decoder_loss: 1.7068 - decoder_for_kl_loss: 2.9967 - val_loss: 2.7051 - val_decoder_loss: 1.9679 - val_decoder_for_kl_loss: 2.7503 val_loss 2.705147592096381 ... lambda Loss 0.26807427406311035\n",
      "emb_input_0\n",
      "emb_input_1\n",
      "emb_input_2\n",
      "[ 924.8656   1287.4595      7.073524   21.905798]\n",
      "10.966299765625\n",
      "              is_weekday   weekday     month  is_holiday_day  temperature\n",
      "score model     0.591616  0.212184  0.162503        0.785455     0.055861\n",
      "random model    0.478017  0.132850  0.079226        0.025455    -0.413857\n",
      "500 Epochs ...  - loss: 2.4355 - decoder_loss: 1.6573 - decoder_for_kl_loss: 3.2085 - val_loss: 2.5267 - val_decoder_loss: 1.7957 - val_decoder_for_kl_loss: 3.0138 val_loss 2.5266774026422554 ... lambda Loss 0.2425515204668045\n",
      "emb_input_0\n",
      "emb_input_1\n",
      "emb_input_2\n",
      "[ 925.32526  1287.0933     20.7172     54.782192]\n",
      "10.859531817708334\n",
      "              is_weekday   weekday     month  is_holiday_day  temperature\n",
      "score model     0.555894  0.172841  0.149516        0.810909     0.061103\n",
      "random model    0.495521  0.141050  0.107041        0.018182    -0.409348\n",
      "600 Epochs ...  - loss: 2.3583 - decoder_loss: 1.6167 - decoder_for_kl_loss: 3.3795 - val_loss: 2.4487 - val_decoder_loss: 1.7754 - val_decoder_for_kl_loss: 3.0683 val_loss 2.4487243649738084 ... lambda Loss 0.21945874392986298\n",
      "emb_input_0\n",
      "emb_input_1\n",
      "emb_input_2\n",
      "[ 926.1137   1296.707      18.08189    13.565768]\n",
      "11.835841661458334\n",
      "              is_weekday   weekday     month  is_holiday_day  temperature\n",
      "score model     0.574454  0.172829  0.131508        0.781818    -0.120418\n",
      "random model    0.493312  0.125066  0.082510        0.032727    -0.439501\n",
      "700 Epochs ...  - loss: 2.1991 - decoder_loss: 1.5194 - decoder_for_kl_loss: 3.4233 - val_loss: 2.3870 - val_decoder_loss: 1.7714 - val_decoder_for_kl_loss: 3.1003 val_loss 2.3870218516698953 ... lambda Loss 0.1985645890235901\n",
      "emb_input_0\n",
      "emb_input_1\n",
      "emb_input_2\n",
      "[1051.0493   1300.9392     17.227478   24.212616]\n",
      "11.194015541666666\n",
      "              is_weekday   weekday     month  is_holiday_day  temperature\n",
      "score model     0.579381  0.191460  0.158991        0.803636    -0.007093\n",
      "random model    0.471930  0.162374  0.091091        0.029091    -0.387477\n",
      "800 Epochs ...  - loss: 2.1880 - decoder_loss: 1.5260 - decoder_for_kl_loss: 3.6848 - val_loss: 2.2812 - val_decoder_loss: 1.6833 - val_decoder_for_kl_loss: 3.3277 val_loss 2.281202449173224 ... lambda Loss 0.17965970933437347\n",
      "emb_input_0\n",
      "emb_input_1\n",
      "emb_input_2\n",
      "[1045.7057   1318.3735     19.313532   47.004227]\n",
      "12.128322151041669\n",
      "              is_weekday   weekday     month  is_holiday_day  temperature\n",
      "score model     0.600732  0.193548  0.131626        0.774545    -0.107424\n",
      "random model    0.479622  0.146992  0.071057        0.036364    -0.419927\n",
      "900 Epochs ...  - loss: 2.0894 - decoder_loss: 1.4559 - decoder_for_kl_loss: 3.8971 - val_loss: 2.2761 - val_decoder_loss: 1.6847 - val_decoder_for_kl_loss: 3.6385 val_loss 2.2761251431345286 ... lambda Loss 0.1625545471906662\n",
      "emb_input_0\n",
      "emb_input_1\n",
      "emb_input_2\n",
      "[1186.2065  1318.5109    48.9781    14.65586]\n",
      "12.005427515624998\n",
      "              is_weekday   weekday     month  is_holiday_day  temperature\n",
      "score model     0.623034  0.201216  0.124834        0.778182    -0.188686\n",
      "random model    0.497238  0.153019  0.081360        0.021818    -0.432046\n",
      "1000 Epochs ...  - loss: 2.0252 - decoder_loss: 1.4144 - decoder_for_kl_loss: 4.1529 - val_loss: 2.2075 - val_decoder_loss: 1.6339 - val_decoder_for_kl_loss: 3.9000 val_loss 2.207483122257587 ... lambda Loss 0.14707809686660767\n",
      "emb_input_0\n",
      "emb_input_1\n",
      "emb_input_2\n",
      "[1166.3499   1278.7205     11.570778  111.666374]\n",
      "11.880474557291667\n",
      "              is_weekday   weekday     month  is_holiday_day  temperature\n",
      "score model     0.565607  0.203719  0.130624        0.789091    -0.136468\n",
      "random model    0.481931  0.147236  0.113144        0.014545    -0.436447\n",
      "1100 Epochs ...  - loss: 1.9558 - decoder_loss: 1.3972 - decoder_for_kl_loss: 4.1972 - val_loss: 2.1335 - val_decoder_loss: 1.6087 - val_decoder_for_kl_loss: 3.9439 val_loss 2.1334923746807326 ... lambda Loss 0.13307516276836395\n",
      "emb_input_0\n",
      "emb_input_1\n",
      "emb_input_2\n",
      "[1144.3368   1391.408      20.139977   20.94582 ]\n",
      "11.410217458333328\n",
      "              is_weekday   weekday     month  is_holiday_day  temperature\n",
      "score model     0.655218  0.197891  0.123984        0.774545    -0.080277\n",
      "random model    0.495787  0.166051  0.079175        0.032727    -0.408075\n",
      "1200 Epochs ...  - loss: 1.8852 - decoder_loss: 1.3419 - decoder_for_kl_loss: 4.5120 - val_loss: 2.0586 - val_decoder_loss: 1.5562 - val_decoder_for_kl_loss: 4.1729 val_loss 2.058611583188583 ... lambda Loss 0.12040537595748901\n",
      "emb_input_0\n",
      "emb_input_1\n",
      "emb_input_2\n",
      "[1168.9773   1328.6447     17.48528    28.395044]\n",
      "11.391836270833334\n",
      "              is_weekday   weekday     month  is_holiday_day  temperature\n",
      "score model     0.550357  0.187267  0.132756        0.807273    -0.059966\n",
      "random model    0.474626  0.131829  0.092371        0.010909    -0.447142\n",
      "1300 Epochs ...  - loss: 1.8178 - decoder_loss: 1.3153 - decoder_for_kl_loss: 4.6133 - val_loss: 2.0100 - val_decoder_loss: 1.5434 - val_decoder_for_kl_loss: 4.2828 val_loss 2.0099761707535206 ... lambda Loss 0.10894181579351425\n",
      "emb_input_0\n",
      "emb_input_1\n",
      "emb_input_2\n",
      "[1176.4531   1369.5239     22.94346    27.397783]\n",
      "11.488006473958333\n",
      "              is_weekday   weekday     month  is_holiday_day  temperature\n",
      "score model     0.552193  0.173336  0.150391        0.763636    -0.040443\n",
      "random model    0.489030  0.141574  0.083614        0.032727    -0.473378\n",
      "1400 Epochs ...  - loss: 1.6844 - decoder_loss: 1.2221 - decoder_for_kl_loss: 4.6903 - val_loss: 2.0161 - val_decoder_loss: 1.5772 - val_decoder_for_kl_loss: 4.4524 val_loss 2.0160762651370523 ... lambda Loss 0.09856972098350525\n",
      "emb_input_0\n",
      "emb_input_1\n",
      "emb_input_2\n",
      "[1165.9606   1347.7815     21.045984   16.837137]\n",
      "11.904553744791667\n",
      "              is_weekday   weekday     month  is_holiday_day  temperature\n",
      "score model     0.651601  0.215087  0.126298        0.770909    -0.158891\n",
      "random model    0.457810  0.144770  0.067490        0.025455    -0.419180\n",
      "1500 Epochs ...  - loss: 1.6871 - decoder_loss: 1.2388 - decoder_for_kl_loss: 5.0269 - val_loss: 1.9520 - val_decoder_loss: 1.5365 - val_decoder_for_kl_loss: 4.6585 val_loss 1.9519546748510475 ... lambda Loss 0.08918511122465134\n",
      "emb_input_0\n",
      "emb_input_1\n",
      "emb_input_2\n",
      "[1129.6792   1383.4342     42.163334   27.837212]\n",
      "11.530550083333333\n",
      "              is_weekday   weekday     month  is_holiday_day  temperature\n",
      "score model     0.589921  0.183133  0.143076        0.767273    -0.032609\n",
      "random model    0.492520  0.139428  0.100015        0.025455    -0.397792\n",
      "1600 Epochs ...  - loss: 1.6117 - decoder_loss: 1.1960 - decoder_for_kl_loss: 5.1514 - val_loss: 1.9296 - val_decoder_loss: 1.5303 - val_decoder_for_kl_loss: 4.9487 val_loss 1.9296301622859766 ... lambda Loss 0.08069399744272232\n",
      "emb_input_0\n",
      "emb_input_1\n",
      "emb_input_2\n",
      "[1222.4263   1369.5443     62.59391    15.375914]\n",
      "11.07401255989583\n",
      "              is_weekday   weekday     month  is_holiday_day  temperature\n",
      "score model     0.595499  0.208351  0.144727        0.774545    -0.005227\n",
      "random model    0.479230  0.131526  0.080431        0.040000    -0.406172\n",
      "1700 Epochs ...  - loss: 1.5531 - decoder_loss: 1.1679 - decoder_for_kl_loss: 5.2762 - val_loss: 1.9664 - val_decoder_loss: 1.6013 - val_decoder_for_kl_loss: 5.0013 val_loss 1.9664140451149863 ... lambda Loss 0.07301128655672073\n",
      "emb_input_0\n",
      "emb_input_1\n",
      "emb_input_2\n",
      "[1165.671    1369.0555     54.03059    14.443929]\n",
      "11.209586854166666\n",
      "              is_weekday   weekday     month  is_holiday_day  temperature\n",
      "score model     0.579866  0.203265  0.146932        0.770909    -0.048953\n",
      "random model    0.492811  0.117943  0.075732        0.025455    -0.455964\n",
      "1800 Epochs ...  - loss: 1.5235 - decoder_loss: 1.1626 - decoder_for_kl_loss: 5.4641 - val_loss: 1.7739 - val_decoder_loss: 1.4251 - val_decoder_for_kl_loss: 5.2796 val_loss 1.7738631800875637 ... lambda Loss 0.06606000661849976\n",
      "emb_input_0\n",
      "emb_input_1\n",
      "emb_input_2\n",
      "[1187.2532   1457.0193     50.412426   61.976818]\n",
      "10.705615734375002\n",
      "              is_weekday   weekday     month  is_holiday_day  temperature\n",
      "score model     0.576672  0.204054  0.181540        0.756364     0.116476\n",
      "random model    0.498905  0.141010  0.086823        0.025455    -0.433509\n",
      "1900 Epochs ...  - loss: 1.4777 - decoder_loss: 1.1431 - decoder_for_kl_loss: 5.5968 - val_loss: 1.8278 - val_decoder_loss: 1.5016 - val_decoder_for_kl_loss: 5.4576 val_loss 1.827839765392366 ... lambda Loss 0.05977057293057442\n"
     ]
    },
    {
     "data": {
      "image/png": "[encoded data removed]",
      "text/plain": [
       "<Figure size 432x288 with 1 Axes>"
      ]
     },
     "metadata": {
      "needs_background": "light"
     },
     "output_type": "display_data"
    }
   ],
   "source": [
    "lambda_decreaseRate=0.001 #parameter by default\n",
    "\n",
    "if runTraining:\n",
    "    weightLoss=callbackWeightLoss(lambda_val,lambda_decreaseRate,lambda_min)\n",
    "    if runBatchCallback:\n",
    "        model.main_train(dataset, training_epochs=2000, batch_size=32, verbose=0,callbacks=[tensorboard,out_batch,weightLoss],validation_split=0.1)\n",
    "    else:\n",
    "        model.main_train(dataset, training_epochs=2000, batch_size=32, verbose=0,callbacks=[tensorboard,weightLoss],validation_split=0.1)\n"
   ]
  },
  {
   "cell_type": "markdown",
   "metadata": {},
   "source": [
    "DimsImportance=[1264   1181     11   38] Only 2 dimensions are significant here (each term is the sum of absolute values in each direction for the all the datapoints.\n",
    "There is no significant overfitting when comparing training error to validation error. This will be confimed later on specific examples."
   ]
  },
  {
   "cell_type": "code",
   "execution_count": 23,
   "metadata": {},
   "outputs": [],
   "source": [
    "if runTraining:\n",
    "    with open(os.path.join(log_dir_model,name_model,\"config.txt\"),'w') as file: \n",
    "        file.write(str(cond_pre_dim) + '\\n')\n",
    "        #file.write(str(emb_dims) + '\\n')\n",
    "        file.write(str(e_dims) + '\\n') \n",
    "        file.write(str(d_dims) + '\\n') \n",
    "        file.write(str(z_dim) + '\\n')\n",
    "        file.write(str(Lambda) + '\\n')"
   ]
  },
  {
   "cell_type": "code",
   "execution_count": 24,
   "metadata": {},
   "outputs": [],
   "source": [
    "#sauvegarde du dataset associé\n",
    "if runTraining:\n",
    "    name_dataset = 'dataset.pickle'\n",
    "\n",
    "    with open( os.path.join(log_dir_model,name_model, name_dataset), \"wb\" ) as file:\n",
    "        pickle.dump( dataset, file )"
   ]
  },
  {
   "cell_type": "markdown",
   "metadata": {},
   "source": [
    "## Loading model "
   ]
  },
  {
   "cell_type": "code",
   "execution_count": 55,
   "metadata": {},
   "outputs": [],
   "source": [
    "model.load_model(os.path.join(path_out, name_model, 'models'))"
   ]
  },
  {
   "cell_type": "code",
   "execution_count": 56,
   "metadata": {},
   "outputs": [],
   "source": [
    "emb_inputs=[days_emb,month_emb,temp_emb]\n",
    "emb_ouputs = model.embedding_enc.predict(emb_inputs)\n",
    "\n",
    "#cond_pre=day_emb\n",
    "#cond = np.concatenate((cond_pre, emb_ouputs), axis=1)\n",
    "cond  = emb_ouputs\n",
    "x_input = dataset['train']['x'][0]\n",
    "\n",
    "input_encoder = [x_input,cond]"
   ]
  },
  {
   "cell_type": "code",
   "execution_count": 57,
   "metadata": {},
   "outputs": [],
   "source": [
    "x_encoded = model.encoder.predict(input_encoder)[0]\n",
    "x_hat = model.cvae.predict(x=dataset['train']['x'])[0]"
   ]
  },
  {
   "cell_type": "markdown",
   "metadata": {},
   "source": [
    "# Analysis of the latent space with the construction of a tensorboard projector"
   ]
  },
  {
   "cell_type": "code",
   "execution_count": 58,
   "metadata": {},
   "outputs": [],
   "source": [
    "includeConsumptionProfileImages=True #can take a bit longer to create and load in tensorboard projector, but it looks better in the projector\n",
    "if includeConsumptionProfileImages:\n",
    "    nPoints=1500 #if you want to visualize images of consumption profiles and its recontruction in tensorboard, there is a maximum size that can be handle for a sprite image. 1830 is  \n",
    "    x_encoded_reduced=x_encoded[0:nPoints,]\n",
    "    images=createLoadProfileImages(x,x_hat,nPoints)\n",
    "else:\n",
    "    nPoints=1830"
   ]
  },
  {
   "cell_type": "code",
   "execution_count": 59,
   "metadata": {},
   "outputs": [],
   "source": [
    "if includeConsumptionProfileImages:\n",
    "    sprites=images_to_sprite(images)\n",
    "    cv2.imwrite(os.path.join(log_dir_projector, 'sprite_4_classes.png'), sprites)"
   ]
  },
  {
   "cell_type": "code",
   "execution_count": 60,
   "metadata": {},
   "outputs": [],
   "source": [
    "\n",
    "writeMetaData(log_dir_projector,x_conso,calendar_info,nPoints,has_Odd=False)\n",
    "if includeConsumptionProfileImages:\n",
    "    buildProjector(x_encoded_reduced,images=images, log_dir=log_dir_projector)\n",
    "else:\n",
    "    buildProjector(x_encoded,images=None, log_dir=log_dir_projector)"
   ]
  },
  {
   "cell_type": "code",
   "execution_count": 61,
   "metadata": {},
   "outputs": [
    {
     "data": {
      "text/plain": [
       "'/home/marotant/dev/Autoencoder_Embedding_Expert_Caracteristion_/notebooks/logs/Expe3/CVAE_W_M_T/projector'"
      ]
     },
     "execution_count": 61,
     "metadata": {},
     "output_type": "execute_result"
    }
   ],
   "source": [
    "log_dir_projector"
   ]
  },
  {
   "cell_type": "markdown",
   "metadata": {},
   "source": [
    "It is possible to explore the resulting latent projection with tensorboard. You should easily visualize holidays and similar non-working days: like the Christmas Week or days happening before or after holidays"
   ]
  },
  {
   "cell_type": "markdown",
   "metadata": {},
   "source": [
    "# Predict Features in latent space"
   ]
  },
  {
   "cell_type": "code",
   "execution_count": 62,
   "metadata": {},
   "outputs": [
    {
     "name": "stdout",
     "output_type": "stream",
     "text": [
      "12.219337010416663\n",
      "              is_weekday   weekday     month  is_holiday_day  temperature\n",
      "score model     0.590781  0.189577  0.143480        0.745455    -0.200984\n",
      "random model    0.495069  0.142156  0.090278        0.021818    -0.387472\n"
     ]
    }
   ],
   "source": [
    "df_noCond_VAE=predictFeaturesInLatentSPace(x_conso,calendar_info,x_encoded)"
   ]
  },
  {
   "cell_type": "markdown",
   "metadata": {},
   "source": [
    "We can notice that for the conditions passed (W-M-T), their recovery score in the residual latent space is closed to random. On the other hand, the recovery score of holidays is now high. So the residual latent space is now much more dependant over this feature: holidays are now well-represented in this representation.  "
   ]
  },
  {
   "cell_type": "markdown",
   "metadata": {},
   "source": [
    "# reconstruction error analysis"
   ]
  },
  {
   "cell_type": "code",
   "execution_count": 63,
   "metadata": {},
   "outputs": [],
   "source": [
    "error=np.sum(np.abs((x - x_hat)),axis=1)/48"
   ]
  },
  {
   "cell_type": "code",
   "execution_count": 64,
   "metadata": {},
   "outputs": [
    {
     "data": {
      "text/plain": [
       "<matplotlib.axes._subplots.AxesSubplot at 0x7f4b284d4358>"
      ]
     },
     "execution_count": 64,
     "metadata": {},
     "output_type": "execute_result"
    },
    {
     "data": {
      "image/png": "[encoded data removed]",
      "text/plain": [
       "<Figure size 432x288 with 1 Axes>"
      ]
     },
     "metadata": {
      "needs_background": "light"
     },
     "output_type": "display_data"
    }
   ],
   "source": [
    "#make a histogram over residuals\n",
    "import seaborn as sn\n",
    "sn.distplot(error, kde=False, fit=stats.norm, bins=100)"
   ]
  },
  {
   "cell_type": "markdown",
   "metadata": {},
   "source": [
    "Check the day with errors above a threshold"
   ]
  },
  {
   "cell_type": "code",
   "execution_count": 65,
   "metadata": {},
   "outputs": [
    {
     "data": {
      "text/html": [
       "<div>\n",
       "<style scoped>\n",
       "    .dataframe tbody tr th:only-of-type {\n",
       "        vertical-align: middle;\n",
       "    }\n",
       "\n",
       "    .dataframe tbody tr th {\n",
       "        vertical-align: top;\n",
       "    }\n",
       "\n",
       "    .dataframe thead th {\n",
       "        text-align: right;\n",
       "    }\n",
       "</style>\n",
       "<table border=\"1\" class=\"dataframe\">\n",
       "  <thead>\n",
       "    <tr style=\"text-align: right;\">\n",
       "      <th></th>\n",
       "      <th>ds</th>\n",
       "      <th>month</th>\n",
       "      <th>weekday</th>\n",
       "      <th>is_weekday</th>\n",
       "      <th>is_holiday_day</th>\n",
       "      <th>error</th>\n",
       "    </tr>\n",
       "  </thead>\n",
       "  <tbody>\n",
       "    <tr>\n",
       "      <th>93</th>\n",
       "      <td>2013-03-31</td>\n",
       "      <td>3</td>\n",
       "      <td>6</td>\n",
       "      <td>0</td>\n",
       "      <td>0.0</td>\n",
       "      <td>0.108351</td>\n",
       "    </tr>\n",
       "    <tr>\n",
       "      <th>821</th>\n",
       "      <td>2015-03-29</td>\n",
       "      <td>3</td>\n",
       "      <td>6</td>\n",
       "      <td>0</td>\n",
       "      <td>0.0</td>\n",
       "      <td>0.081908</td>\n",
       "    </tr>\n",
       "    <tr>\n",
       "      <th>1465</th>\n",
       "      <td>2017-01-01</td>\n",
       "      <td>1</td>\n",
       "      <td>6</td>\n",
       "      <td>0</td>\n",
       "      <td>1.0</td>\n",
       "      <td>0.093504</td>\n",
       "    </tr>\n",
       "    <tr>\n",
       "      <th>1466</th>\n",
       "      <td>2017-01-02</td>\n",
       "      <td>1</td>\n",
       "      <td>0</td>\n",
       "      <td>1</td>\n",
       "      <td>0.0</td>\n",
       "      <td>0.121618</td>\n",
       "    </tr>\n",
       "    <tr>\n",
       "      <th>1822</th>\n",
       "      <td>2017-12-24</td>\n",
       "      <td>12</td>\n",
       "      <td>6</td>\n",
       "      <td>0</td>\n",
       "      <td>0.0</td>\n",
       "      <td>0.101188</td>\n",
       "    </tr>\n",
       "    <tr>\n",
       "      <th>1825</th>\n",
       "      <td>2017-12-27</td>\n",
       "      <td>12</td>\n",
       "      <td>2</td>\n",
       "      <td>1</td>\n",
       "      <td>0.0</td>\n",
       "      <td>0.135853</td>\n",
       "    </tr>\n",
       "    <tr>\n",
       "      <th>1827</th>\n",
       "      <td>2017-12-29</td>\n",
       "      <td>12</td>\n",
       "      <td>4</td>\n",
       "      <td>1</td>\n",
       "      <td>0.0</td>\n",
       "      <td>0.117076</td>\n",
       "    </tr>\n",
       "  </tbody>\n",
       "</table>\n",
       "</div>"
      ],
      "text/plain": [
       "             ds  month  weekday  is_weekday  is_holiday_day     error\n",
       "93   2013-03-31      3        6           0             0.0  0.108351\n",
       "821  2015-03-29      3        6           0             0.0  0.081908\n",
       "1465 2017-01-01      1        6           0             1.0  0.093504\n",
       "1466 2017-01-02      1        0           1             0.0  0.121618\n",
       "1822 2017-12-24     12        6           0             0.0  0.101188\n",
       "1825 2017-12-27     12        2           1             0.0  0.135853\n",
       "1827 2017-12-29     12        4           1             0.0  0.117076"
      ]
     },
     "execution_count": 65,
     "metadata": {},
     "output_type": "execute_result"
    }
   ],
   "source": [
    "ErrorThreshold=0.08\n",
    "idxMaxError=[i for i in range(0,nPoints) if error[i]>=ErrorThreshold]\n",
    "calender_error=calendar_info.loc[idxMaxError]\n",
    "calender_error['error']=error[idxMaxError]\n",
    "\n",
    "calender_error"
   ]
  },
  {
   "cell_type": "markdown",
   "metadata": {},
   "source": [
    "Check the first n days with highest errors "
   ]
  },
  {
   "cell_type": "code",
   "execution_count": 66,
   "metadata": {},
   "outputs": [
    {
     "data": {
      "text/html": [
       "<div>\n",
       "<style scoped>\n",
       "    .dataframe tbody tr th:only-of-type {\n",
       "        vertical-align: middle;\n",
       "    }\n",
       "\n",
       "    .dataframe tbody tr th {\n",
       "        vertical-align: top;\n",
       "    }\n",
       "\n",
       "    .dataframe thead th {\n",
       "        text-align: right;\n",
       "    }\n",
       "</style>\n",
       "<table border=\"1\" class=\"dataframe\">\n",
       "  <thead>\n",
       "    <tr style=\"text-align: right;\">\n",
       "      <th></th>\n",
       "      <th>ds</th>\n",
       "      <th>month</th>\n",
       "      <th>weekday</th>\n",
       "      <th>is_weekday</th>\n",
       "      <th>is_holiday_day</th>\n",
       "      <th>error</th>\n",
       "    </tr>\n",
       "  </thead>\n",
       "  <tbody>\n",
       "    <tr>\n",
       "      <th>1825</th>\n",
       "      <td>2017-12-27</td>\n",
       "      <td>12</td>\n",
       "      <td>2</td>\n",
       "      <td>1</td>\n",
       "      <td>0.0</td>\n",
       "      <td>0.135853</td>\n",
       "    </tr>\n",
       "    <tr>\n",
       "      <th>1466</th>\n",
       "      <td>2017-01-02</td>\n",
       "      <td>1</td>\n",
       "      <td>0</td>\n",
       "      <td>1</td>\n",
       "      <td>0.0</td>\n",
       "      <td>0.121618</td>\n",
       "    </tr>\n",
       "    <tr>\n",
       "      <th>1827</th>\n",
       "      <td>2017-12-29</td>\n",
       "      <td>12</td>\n",
       "      <td>4</td>\n",
       "      <td>1</td>\n",
       "      <td>0.0</td>\n",
       "      <td>0.117076</td>\n",
       "    </tr>\n",
       "    <tr>\n",
       "      <th>93</th>\n",
       "      <td>2013-03-31</td>\n",
       "      <td>3</td>\n",
       "      <td>6</td>\n",
       "      <td>0</td>\n",
       "      <td>0.0</td>\n",
       "      <td>0.108351</td>\n",
       "    </tr>\n",
       "    <tr>\n",
       "      <th>1822</th>\n",
       "      <td>2017-12-24</td>\n",
       "      <td>12</td>\n",
       "      <td>6</td>\n",
       "      <td>0</td>\n",
       "      <td>0.0</td>\n",
       "      <td>0.101188</td>\n",
       "    </tr>\n",
       "    <tr>\n",
       "      <th>1465</th>\n",
       "      <td>2017-01-01</td>\n",
       "      <td>1</td>\n",
       "      <td>6</td>\n",
       "      <td>0</td>\n",
       "      <td>1.0</td>\n",
       "      <td>0.093504</td>\n",
       "    </tr>\n",
       "    <tr>\n",
       "      <th>821</th>\n",
       "      <td>2015-03-29</td>\n",
       "      <td>3</td>\n",
       "      <td>6</td>\n",
       "      <td>0</td>\n",
       "      <td>0.0</td>\n",
       "      <td>0.081908</td>\n",
       "    </tr>\n",
       "    <tr>\n",
       "      <th>1457</th>\n",
       "      <td>2016-12-24</td>\n",
       "      <td>12</td>\n",
       "      <td>5</td>\n",
       "      <td>0</td>\n",
       "      <td>0.0</td>\n",
       "      <td>0.079627</td>\n",
       "    </tr>\n",
       "    <tr>\n",
       "      <th>734</th>\n",
       "      <td>2015-01-01</td>\n",
       "      <td>1</td>\n",
       "      <td>3</td>\n",
       "      <td>1</td>\n",
       "      <td>1.0</td>\n",
       "      <td>0.079110</td>\n",
       "    </tr>\n",
       "    <tr>\n",
       "      <th>1464</th>\n",
       "      <td>2016-12-31</td>\n",
       "      <td>12</td>\n",
       "      <td>5</td>\n",
       "      <td>0</td>\n",
       "      <td>0.0</td>\n",
       "      <td>0.072281</td>\n",
       "    </tr>\n",
       "    <tr>\n",
       "      <th>1829</th>\n",
       "      <td>2017-12-31</td>\n",
       "      <td>12</td>\n",
       "      <td>6</td>\n",
       "      <td>0</td>\n",
       "      <td>0.0</td>\n",
       "      <td>0.071322</td>\n",
       "    </tr>\n",
       "    <tr>\n",
       "      <th>1808</th>\n",
       "      <td>2017-12-10</td>\n",
       "      <td>12</td>\n",
       "      <td>6</td>\n",
       "      <td>0</td>\n",
       "      <td>0.0</td>\n",
       "      <td>0.068991</td>\n",
       "    </tr>\n",
       "    <tr>\n",
       "      <th>1160</th>\n",
       "      <td>2016-03-02</td>\n",
       "      <td>3</td>\n",
       "      <td>2</td>\n",
       "      <td>1</td>\n",
       "      <td>0.0</td>\n",
       "      <td>0.068410</td>\n",
       "    </tr>\n",
       "    <tr>\n",
       "      <th>21</th>\n",
       "      <td>2013-01-18</td>\n",
       "      <td>1</td>\n",
       "      <td>4</td>\n",
       "      <td>1</td>\n",
       "      <td>0.0</td>\n",
       "      <td>0.068321</td>\n",
       "    </tr>\n",
       "    <tr>\n",
       "      <th>1823</th>\n",
       "      <td>2017-12-25</td>\n",
       "      <td>12</td>\n",
       "      <td>0</td>\n",
       "      <td>1</td>\n",
       "      <td>1.0</td>\n",
       "      <td>0.068247</td>\n",
       "    </tr>\n",
       "    <tr>\n",
       "      <th>5</th>\n",
       "      <td>2013-01-02</td>\n",
       "      <td>1</td>\n",
       "      <td>2</td>\n",
       "      <td>1</td>\n",
       "      <td>0.0</td>\n",
       "      <td>0.068176</td>\n",
       "    </tr>\n",
       "    <tr>\n",
       "      <th>728</th>\n",
       "      <td>2014-12-26</td>\n",
       "      <td>12</td>\n",
       "      <td>4</td>\n",
       "      <td>1</td>\n",
       "      <td>0.0</td>\n",
       "      <td>0.063198</td>\n",
       "    </tr>\n",
       "    <tr>\n",
       "      <th>1809</th>\n",
       "      <td>2017-12-11</td>\n",
       "      <td>12</td>\n",
       "      <td>0</td>\n",
       "      <td>1</td>\n",
       "      <td>0.0</td>\n",
       "      <td>0.061858</td>\n",
       "    </tr>\n",
       "    <tr>\n",
       "      <th>1454</th>\n",
       "      <td>2016-12-21</td>\n",
       "      <td>12</td>\n",
       "      <td>2</td>\n",
       "      <td>1</td>\n",
       "      <td>0.0</td>\n",
       "      <td>0.061615</td>\n",
       "    </tr>\n",
       "    <tr>\n",
       "      <th>97</th>\n",
       "      <td>2013-04-04</td>\n",
       "      <td>4</td>\n",
       "      <td>3</td>\n",
       "      <td>1</td>\n",
       "      <td>0.0</td>\n",
       "      <td>0.060830</td>\n",
       "    </tr>\n",
       "    <tr>\n",
       "      <th>6</th>\n",
       "      <td>2013-01-03</td>\n",
       "      <td>1</td>\n",
       "      <td>3</td>\n",
       "      <td>1</td>\n",
       "      <td>0.0</td>\n",
       "      <td>0.060258</td>\n",
       "    </tr>\n",
       "    <tr>\n",
       "      <th>55</th>\n",
       "      <td>2013-02-21</td>\n",
       "      <td>2</td>\n",
       "      <td>3</td>\n",
       "      <td>1</td>\n",
       "      <td>0.0</td>\n",
       "      <td>0.059150</td>\n",
       "    </tr>\n",
       "    <tr>\n",
       "      <th>1185</th>\n",
       "      <td>2016-03-27</td>\n",
       "      <td>3</td>\n",
       "      <td>6</td>\n",
       "      <td>0</td>\n",
       "      <td>0.0</td>\n",
       "      <td>0.058471</td>\n",
       "    </tr>\n",
       "    <tr>\n",
       "      <th>1452</th>\n",
       "      <td>2016-12-19</td>\n",
       "      <td>12</td>\n",
       "      <td>0</td>\n",
       "      <td>1</td>\n",
       "      <td>0.0</td>\n",
       "      <td>0.056365</td>\n",
       "    </tr>\n",
       "    <tr>\n",
       "      <th>1402</th>\n",
       "      <td>2016-10-30</td>\n",
       "      <td>10</td>\n",
       "      <td>6</td>\n",
       "      <td>0</td>\n",
       "      <td>0.0</td>\n",
       "      <td>0.055978</td>\n",
       "    </tr>\n",
       "    <tr>\n",
       "      <th>1549</th>\n",
       "      <td>2017-03-26</td>\n",
       "      <td>3</td>\n",
       "      <td>6</td>\n",
       "      <td>0</td>\n",
       "      <td>0.0</td>\n",
       "      <td>0.055879</td>\n",
       "    </tr>\n",
       "    <tr>\n",
       "      <th>123</th>\n",
       "      <td>2013-04-30</td>\n",
       "      <td>4</td>\n",
       "      <td>1</td>\n",
       "      <td>1</td>\n",
       "      <td>0.0</td>\n",
       "      <td>0.054741</td>\n",
       "    </tr>\n",
       "    <tr>\n",
       "      <th>96</th>\n",
       "      <td>2013-04-03</td>\n",
       "      <td>4</td>\n",
       "      <td>2</td>\n",
       "      <td>1</td>\n",
       "      <td>0.0</td>\n",
       "      <td>0.054575</td>\n",
       "    </tr>\n",
       "    <tr>\n",
       "      <th>427</th>\n",
       "      <td>2014-02-28</td>\n",
       "      <td>2</td>\n",
       "      <td>4</td>\n",
       "      <td>1</td>\n",
       "      <td>0.0</td>\n",
       "      <td>0.054203</td>\n",
       "    </tr>\n",
       "    <tr>\n",
       "      <th>1770</th>\n",
       "      <td>2017-11-02</td>\n",
       "      <td>11</td>\n",
       "      <td>3</td>\n",
       "      <td>1</td>\n",
       "      <td>0.0</td>\n",
       "      <td>0.053654</td>\n",
       "    </tr>\n",
       "  </tbody>\n",
       "</table>\n",
       "</div>"
      ],
      "text/plain": [
       "             ds  month  weekday  is_weekday  is_holiday_day     error\n",
       "1825 2017-12-27     12        2           1             0.0  0.135853\n",
       "1466 2017-01-02      1        0           1             0.0  0.121618\n",
       "1827 2017-12-29     12        4           1             0.0  0.117076\n",
       "93   2013-03-31      3        6           0             0.0  0.108351\n",
       "1822 2017-12-24     12        6           0             0.0  0.101188\n",
       "1465 2017-01-01      1        6           0             1.0  0.093504\n",
       "821  2015-03-29      3        6           0             0.0  0.081908\n",
       "1457 2016-12-24     12        5           0             0.0  0.079627\n",
       "734  2015-01-01      1        3           1             1.0  0.079110\n",
       "1464 2016-12-31     12        5           0             0.0  0.072281\n",
       "1829 2017-12-31     12        6           0             0.0  0.071322\n",
       "1808 2017-12-10     12        6           0             0.0  0.068991\n",
       "1160 2016-03-02      3        2           1             0.0  0.068410\n",
       "21   2013-01-18      1        4           1             0.0  0.068321\n",
       "1823 2017-12-25     12        0           1             1.0  0.068247\n",
       "5    2013-01-02      1        2           1             0.0  0.068176\n",
       "728  2014-12-26     12        4           1             0.0  0.063198\n",
       "1809 2017-12-11     12        0           1             0.0  0.061858\n",
       "1454 2016-12-21     12        2           1             0.0  0.061615\n",
       "97   2013-04-04      4        3           1             0.0  0.060830\n",
       "6    2013-01-03      1        3           1             0.0  0.060258\n",
       "55   2013-02-21      2        3           1             0.0  0.059150\n",
       "1185 2016-03-27      3        6           0             0.0  0.058471\n",
       "1452 2016-12-19     12        0           1             0.0  0.056365\n",
       "1402 2016-10-30     10        6           0             0.0  0.055978\n",
       "1549 2017-03-26      3        6           0             0.0  0.055879\n",
       "123  2013-04-30      4        1           1             0.0  0.054741\n",
       "96   2013-04-03      4        2           1             0.0  0.054575\n",
       "427  2014-02-28      2        4           1             0.0  0.054203\n",
       "1770 2017-11-02     11        3           1             0.0  0.053654"
      ]
     },
     "execution_count": 66,
     "metadata": {},
     "output_type": "execute_result"
    }
   ],
   "source": [
    "nDays=30\n",
    "\n",
    "decreasingOrderIdx=np.argsort(-error)\n",
    "calendar_Error_Highest=calendar_info.loc[decreasingOrderIdx[0:nDays]]\n",
    "calendar_Error_Highest['error']=error[decreasingOrderIdx[0:nDays]]\n",
    "calendar_Error_Highest"
   ]
  },
  {
   "cell_type": "markdown",
   "metadata": {},
   "source": [
    "Visualize the reconstruction error over a specific day"
   ]
  },
  {
   "cell_type": "code",
   "execution_count": 67,
   "metadata": {},
   "outputs": [
    {
     "data": {
      "text/plain": [
       "[<matplotlib.lines.Line2D at 0x7f4b4c759e10>]"
      ]
     },
     "execution_count": 67,
     "metadata": {},
     "output_type": "execute_result"
    },
    {
     "data": {
      "image/png": "[encoded data removed]",
      "text/plain": [
       "<Figure size 300x300 with 1 Axes>"
      ]
     },
     "metadata": {
      "needs_background": "light"
     },
     "output_type": "display_data"
    }
   ],
   "source": [
    "indice=1185 #1185 is the changing hour day end of march\n",
    "fig = plt.figure(dpi=100,figsize=(3,3))\n",
    "#set(gca,'Color','k')\n",
    "plt.plot(x[indice,:])\n",
    "plt.plot(x_hat[indice,:])"
   ]
  },
  {
   "cell_type": "markdown",
   "metadata": {},
   "source": [
    "Visualize the reconstruction error over the days with highest error"
   ]
  },
  {
   "cell_type": "code",
   "execution_count": 68,
   "metadata": {},
   "outputs": [
    {
     "data": {
      "image/png": "[encoded data removed]",
      "text/plain": [
       "<Figure size 1000x600 with 9 Axes>"
      ]
     },
     "metadata": {
      "needs_background": "light"
     },
     "output_type": "display_data"
    }
   ],
   "source": [
    "nPlots=10#len(idxMaxError)\n",
    "nCols=5\n",
    "nRows=int(nPlots/nCols)+1\n",
    "fig = plt.figure(dpi=100,figsize=(10,nRows*2))\n",
    "for i in range(1, nPlots):\n",
    "    plt.subplot(nRows, nCols, i)\n",
    "    fig.subplots_adjust(hspace=.5)\n",
    "    indice=decreasingOrderIdx[i-1]\n",
    "    plt.plot(x[indice,:])\n",
    "    plt.plot(x_hat[indice,:])\n",
    "    plt.title( calendar_Error_Highest.ds.dt.date.iloc[i-1])"
   ]
  },
  {
   "cell_type": "markdown",
   "metadata": {},
   "source": [
    "2013-03-31 is the day with a missing hour because of changing day time and the consumption value is set to 0. It is hence normal that it is not well predicted and a good indicator that the model does not tend to overfit."
   ]
  },
  {
   "cell_type": "markdown",
   "metadata": {},
   "source": [
    "# Study of holiday predictions"
   ]
  },
  {
   "cell_type": "code",
   "execution_count": 69,
   "metadata": {},
   "outputs": [],
   "source": [
    "#preparation des features d'interet\n",
    "yHd=calendar_info['is_holiday_day'].astype(int)\n",
    "indicesHd=np.array([i for i in range(0, nPoints) if yHd[i] == 1])\n",
    "yHd_only=yHd[yHd==1]\n",
    "x_encoded_Hd=x_encoded[indicesHd,]"
   ]
  },
  {
   "cell_type": "code",
   "execution_count": 70,
   "metadata": {
    "lines_to_end_of_cell_marker": 2
   },
   "outputs": [],
   "source": [
    "results_hd=scoreKnnResults(x_encoded,yHd,type='classifier',k=5,cv=10)"
   ]
  },
  {
   "cell_type": "markdown",
   "metadata": {},
   "source": [
    "## holidays well predicted and not"
   ]
  },
  {
   "cell_type": "code",
   "execution_count": 71,
   "metadata": {},
   "outputs": [
    {
     "data": {
      "text/html": [
       "<div>\n",
       "<style scoped>\n",
       "    .dataframe tbody tr th:only-of-type {\n",
       "        vertical-align: middle;\n",
       "    }\n",
       "\n",
       "    .dataframe tbody tr th {\n",
       "        vertical-align: top;\n",
       "    }\n",
       "\n",
       "    .dataframe thead th {\n",
       "        text-align: right;\n",
       "    }\n",
       "</style>\n",
       "<table border=\"1\" class=\"dataframe\">\n",
       "  <thead>\n",
       "    <tr style=\"text-align: right;\">\n",
       "      <th></th>\n",
       "      <th>ds</th>\n",
       "      <th>month</th>\n",
       "      <th>weekday</th>\n",
       "      <th>is_weekday</th>\n",
       "      <th>is_holiday_day</th>\n",
       "    </tr>\n",
       "  </thead>\n",
       "  <tbody>\n",
       "    <tr>\n",
       "      <th>4</th>\n",
       "      <td>2013-01-01</td>\n",
       "      <td>1</td>\n",
       "      <td>1</td>\n",
       "      <td>1</td>\n",
       "      <td>1.0</td>\n",
       "    </tr>\n",
       "    <tr>\n",
       "      <th>124</th>\n",
       "      <td>2013-05-01</td>\n",
       "      <td>5</td>\n",
       "      <td>2</td>\n",
       "      <td>1</td>\n",
       "      <td>1.0</td>\n",
       "    </tr>\n",
       "    <tr>\n",
       "      <th>131</th>\n",
       "      <td>2013-05-08</td>\n",
       "      <td>5</td>\n",
       "      <td>2</td>\n",
       "      <td>1</td>\n",
       "      <td>1.0</td>\n",
       "    </tr>\n",
       "    <tr>\n",
       "      <th>132</th>\n",
       "      <td>2013-05-09</td>\n",
       "      <td>5</td>\n",
       "      <td>3</td>\n",
       "      <td>1</td>\n",
       "      <td>1.0</td>\n",
       "    </tr>\n",
       "    <tr>\n",
       "      <th>143</th>\n",
       "      <td>2013-05-20</td>\n",
       "      <td>5</td>\n",
       "      <td>0</td>\n",
       "      <td>1</td>\n",
       "      <td>1.0</td>\n",
       "    </tr>\n",
       "    <tr>\n",
       "      <th>230</th>\n",
       "      <td>2013-08-15</td>\n",
       "      <td>8</td>\n",
       "      <td>3</td>\n",
       "      <td>1</td>\n",
       "      <td>1.0</td>\n",
       "    </tr>\n",
       "    <tr>\n",
       "      <th>318</th>\n",
       "      <td>2013-11-11</td>\n",
       "      <td>11</td>\n",
       "      <td>0</td>\n",
       "      <td>1</td>\n",
       "      <td>1.0</td>\n",
       "    </tr>\n",
       "    <tr>\n",
       "      <th>362</th>\n",
       "      <td>2013-12-25</td>\n",
       "      <td>12</td>\n",
       "      <td>2</td>\n",
       "      <td>1</td>\n",
       "      <td>1.0</td>\n",
       "    </tr>\n",
       "    <tr>\n",
       "      <th>369</th>\n",
       "      <td>2014-01-01</td>\n",
       "      <td>1</td>\n",
       "      <td>2</td>\n",
       "      <td>1</td>\n",
       "      <td>1.0</td>\n",
       "    </tr>\n",
       "    <tr>\n",
       "      <th>479</th>\n",
       "      <td>2014-04-21</td>\n",
       "      <td>4</td>\n",
       "      <td>0</td>\n",
       "      <td>1</td>\n",
       "      <td>1.0</td>\n",
       "    </tr>\n",
       "    <tr>\n",
       "      <th>489</th>\n",
       "      <td>2014-05-01</td>\n",
       "      <td>5</td>\n",
       "      <td>3</td>\n",
       "      <td>1</td>\n",
       "      <td>1.0</td>\n",
       "    </tr>\n",
       "    <tr>\n",
       "      <th>517</th>\n",
       "      <td>2014-05-29</td>\n",
       "      <td>5</td>\n",
       "      <td>3</td>\n",
       "      <td>1</td>\n",
       "      <td>1.0</td>\n",
       "    </tr>\n",
       "    <tr>\n",
       "      <th>528</th>\n",
       "      <td>2014-06-09</td>\n",
       "      <td>6</td>\n",
       "      <td>0</td>\n",
       "      <td>1</td>\n",
       "      <td>1.0</td>\n",
       "    </tr>\n",
       "    <tr>\n",
       "      <th>563</th>\n",
       "      <td>2014-07-14</td>\n",
       "      <td>7</td>\n",
       "      <td>0</td>\n",
       "      <td>1</td>\n",
       "      <td>1.0</td>\n",
       "    </tr>\n",
       "    <tr>\n",
       "      <th>595</th>\n",
       "      <td>2014-08-15</td>\n",
       "      <td>8</td>\n",
       "      <td>4</td>\n",
       "      <td>1</td>\n",
       "      <td>1.0</td>\n",
       "    </tr>\n",
       "    <tr>\n",
       "      <th>683</th>\n",
       "      <td>2014-11-11</td>\n",
       "      <td>11</td>\n",
       "      <td>1</td>\n",
       "      <td>1</td>\n",
       "      <td>1.0</td>\n",
       "    </tr>\n",
       "    <tr>\n",
       "      <th>727</th>\n",
       "      <td>2014-12-25</td>\n",
       "      <td>12</td>\n",
       "      <td>3</td>\n",
       "      <td>1</td>\n",
       "      <td>1.0</td>\n",
       "    </tr>\n",
       "    <tr>\n",
       "      <th>734</th>\n",
       "      <td>2015-01-01</td>\n",
       "      <td>1</td>\n",
       "      <td>3</td>\n",
       "      <td>1</td>\n",
       "      <td>1.0</td>\n",
       "    </tr>\n",
       "    <tr>\n",
       "      <th>829</th>\n",
       "      <td>2015-04-06</td>\n",
       "      <td>4</td>\n",
       "      <td>0</td>\n",
       "      <td>1</td>\n",
       "      <td>1.0</td>\n",
       "    </tr>\n",
       "    <tr>\n",
       "      <th>854</th>\n",
       "      <td>2015-05-01</td>\n",
       "      <td>5</td>\n",
       "      <td>4</td>\n",
       "      <td>1</td>\n",
       "      <td>1.0</td>\n",
       "    </tr>\n",
       "    <tr>\n",
       "      <th>867</th>\n",
       "      <td>2015-05-14</td>\n",
       "      <td>5</td>\n",
       "      <td>3</td>\n",
       "      <td>1</td>\n",
       "      <td>1.0</td>\n",
       "    </tr>\n",
       "    <tr>\n",
       "      <th>878</th>\n",
       "      <td>2015-05-25</td>\n",
       "      <td>5</td>\n",
       "      <td>0</td>\n",
       "      <td>1</td>\n",
       "      <td>1.0</td>\n",
       "    </tr>\n",
       "    <tr>\n",
       "      <th>928</th>\n",
       "      <td>2015-07-14</td>\n",
       "      <td>7</td>\n",
       "      <td>1</td>\n",
       "      <td>1</td>\n",
       "      <td>1.0</td>\n",
       "    </tr>\n",
       "    <tr>\n",
       "      <th>960</th>\n",
       "      <td>2015-08-15</td>\n",
       "      <td>8</td>\n",
       "      <td>5</td>\n",
       "      <td>0</td>\n",
       "      <td>1.0</td>\n",
       "    </tr>\n",
       "    <tr>\n",
       "      <th>1048</th>\n",
       "      <td>2015-11-11</td>\n",
       "      <td>11</td>\n",
       "      <td>2</td>\n",
       "      <td>1</td>\n",
       "      <td>1.0</td>\n",
       "    </tr>\n",
       "    <tr>\n",
       "      <th>1092</th>\n",
       "      <td>2015-12-25</td>\n",
       "      <td>12</td>\n",
       "      <td>4</td>\n",
       "      <td>1</td>\n",
       "      <td>1.0</td>\n",
       "    </tr>\n",
       "    <tr>\n",
       "      <th>1099</th>\n",
       "      <td>2016-01-01</td>\n",
       "      <td>1</td>\n",
       "      <td>4</td>\n",
       "      <td>1</td>\n",
       "      <td>1.0</td>\n",
       "    </tr>\n",
       "    <tr>\n",
       "      <th>1186</th>\n",
       "      <td>2016-03-28</td>\n",
       "      <td>3</td>\n",
       "      <td>0</td>\n",
       "      <td>1</td>\n",
       "      <td>1.0</td>\n",
       "    </tr>\n",
       "    <tr>\n",
       "      <th>1224</th>\n",
       "      <td>2016-05-05</td>\n",
       "      <td>5</td>\n",
       "      <td>3</td>\n",
       "      <td>1</td>\n",
       "      <td>1.0</td>\n",
       "    </tr>\n",
       "    <tr>\n",
       "      <th>1235</th>\n",
       "      <td>2016-05-16</td>\n",
       "      <td>5</td>\n",
       "      <td>0</td>\n",
       "      <td>1</td>\n",
       "      <td>1.0</td>\n",
       "    </tr>\n",
       "    <tr>\n",
       "      <th>1294</th>\n",
       "      <td>2016-07-14</td>\n",
       "      <td>7</td>\n",
       "      <td>3</td>\n",
       "      <td>1</td>\n",
       "      <td>1.0</td>\n",
       "    </tr>\n",
       "    <tr>\n",
       "      <th>1326</th>\n",
       "      <td>2016-08-15</td>\n",
       "      <td>8</td>\n",
       "      <td>0</td>\n",
       "      <td>1</td>\n",
       "      <td>1.0</td>\n",
       "    </tr>\n",
       "    <tr>\n",
       "      <th>1404</th>\n",
       "      <td>2016-11-01</td>\n",
       "      <td>11</td>\n",
       "      <td>1</td>\n",
       "      <td>1</td>\n",
       "      <td>1.0</td>\n",
       "    </tr>\n",
       "    <tr>\n",
       "      <th>1414</th>\n",
       "      <td>2016-11-11</td>\n",
       "      <td>11</td>\n",
       "      <td>4</td>\n",
       "      <td>1</td>\n",
       "      <td>1.0</td>\n",
       "    </tr>\n",
       "    <tr>\n",
       "      <th>1571</th>\n",
       "      <td>2017-04-17</td>\n",
       "      <td>4</td>\n",
       "      <td>0</td>\n",
       "      <td>1</td>\n",
       "      <td>1.0</td>\n",
       "    </tr>\n",
       "    <tr>\n",
       "      <th>1585</th>\n",
       "      <td>2017-05-01</td>\n",
       "      <td>5</td>\n",
       "      <td>0</td>\n",
       "      <td>1</td>\n",
       "      <td>1.0</td>\n",
       "    </tr>\n",
       "    <tr>\n",
       "      <th>1592</th>\n",
       "      <td>2017-05-08</td>\n",
       "      <td>5</td>\n",
       "      <td>0</td>\n",
       "      <td>1</td>\n",
       "      <td>1.0</td>\n",
       "    </tr>\n",
       "    <tr>\n",
       "      <th>1609</th>\n",
       "      <td>2017-05-25</td>\n",
       "      <td>5</td>\n",
       "      <td>3</td>\n",
       "      <td>1</td>\n",
       "      <td>1.0</td>\n",
       "    </tr>\n",
       "    <tr>\n",
       "      <th>1620</th>\n",
       "      <td>2017-06-05</td>\n",
       "      <td>6</td>\n",
       "      <td>0</td>\n",
       "      <td>1</td>\n",
       "      <td>1.0</td>\n",
       "    </tr>\n",
       "    <tr>\n",
       "      <th>1659</th>\n",
       "      <td>2017-07-14</td>\n",
       "      <td>7</td>\n",
       "      <td>4</td>\n",
       "      <td>1</td>\n",
       "      <td>1.0</td>\n",
       "    </tr>\n",
       "    <tr>\n",
       "      <th>1691</th>\n",
       "      <td>2017-08-15</td>\n",
       "      <td>8</td>\n",
       "      <td>1</td>\n",
       "      <td>1</td>\n",
       "      <td>1.0</td>\n",
       "    </tr>\n",
       "    <tr>\n",
       "      <th>1769</th>\n",
       "      <td>2017-11-01</td>\n",
       "      <td>11</td>\n",
       "      <td>2</td>\n",
       "      <td>1</td>\n",
       "      <td>1.0</td>\n",
       "    </tr>\n",
       "    <tr>\n",
       "      <th>1823</th>\n",
       "      <td>2017-12-25</td>\n",
       "      <td>12</td>\n",
       "      <td>0</td>\n",
       "      <td>1</td>\n",
       "      <td>1.0</td>\n",
       "    </tr>\n",
       "  </tbody>\n",
       "</table>\n",
       "</div>"
      ],
      "text/plain": [
       "             ds  month  weekday  is_weekday  is_holiday_day\n",
       "4    2013-01-01      1        1           1             1.0\n",
       "124  2013-05-01      5        2           1             1.0\n",
       "131  2013-05-08      5        2           1             1.0\n",
       "132  2013-05-09      5        3           1             1.0\n",
       "143  2013-05-20      5        0           1             1.0\n",
       "230  2013-08-15      8        3           1             1.0\n",
       "318  2013-11-11     11        0           1             1.0\n",
       "362  2013-12-25     12        2           1             1.0\n",
       "369  2014-01-01      1        2           1             1.0\n",
       "479  2014-04-21      4        0           1             1.0\n",
       "489  2014-05-01      5        3           1             1.0\n",
       "517  2014-05-29      5        3           1             1.0\n",
       "528  2014-06-09      6        0           1             1.0\n",
       "563  2014-07-14      7        0           1             1.0\n",
       "595  2014-08-15      8        4           1             1.0\n",
       "683  2014-11-11     11        1           1             1.0\n",
       "727  2014-12-25     12        3           1             1.0\n",
       "734  2015-01-01      1        3           1             1.0\n",
       "829  2015-04-06      4        0           1             1.0\n",
       "854  2015-05-01      5        4           1             1.0\n",
       "867  2015-05-14      5        3           1             1.0\n",
       "878  2015-05-25      5        0           1             1.0\n",
       "928  2015-07-14      7        1           1             1.0\n",
       "960  2015-08-15      8        5           0             1.0\n",
       "1048 2015-11-11     11        2           1             1.0\n",
       "1092 2015-12-25     12        4           1             1.0\n",
       "1099 2016-01-01      1        4           1             1.0\n",
       "1186 2016-03-28      3        0           1             1.0\n",
       "1224 2016-05-05      5        3           1             1.0\n",
       "1235 2016-05-16      5        0           1             1.0\n",
       "1294 2016-07-14      7        3           1             1.0\n",
       "1326 2016-08-15      8        0           1             1.0\n",
       "1404 2016-11-01     11        1           1             1.0\n",
       "1414 2016-11-11     11        4           1             1.0\n",
       "1571 2017-04-17      4        0           1             1.0\n",
       "1585 2017-05-01      5        0           1             1.0\n",
       "1592 2017-05-08      5        0           1             1.0\n",
       "1609 2017-05-25      5        3           1             1.0\n",
       "1620 2017-06-05      6        0           1             1.0\n",
       "1659 2017-07-14      7        4           1             1.0\n",
       "1691 2017-08-15      8        1           1             1.0\n",
       "1769 2017-11-01     11        2           1             1.0\n",
       "1823 2017-12-25     12        0           1             1.0"
      ]
     },
     "execution_count": 71,
     "metadata": {},
     "output_type": "execute_result"
    }
   ],
   "source": [
    "results_hd_only=[results_hd['predP'][i] for i in indicesHd ]\n",
    "indices_Hd_predict=[i for i in indicesHd if  results_hd['predP'][i]>=0.5]\n",
    "indices_Hd_not_predicted=[i for i in indicesHd if  results_hd['predP'][i]<0.5]\n",
    "calendar_info.loc[indices_Hd_predict]"
   ]
  },
  {
   "cell_type": "code",
   "execution_count": 72,
   "metadata": {
    "lines_to_next_cell": 2
   },
   "outputs": [
    {
     "data": {
      "text/plain": [
       "43"
      ]
     },
     "execution_count": 72,
     "metadata": {},
     "output_type": "execute_result"
    }
   ],
   "source": [
    "len(indices_Hd_predict)"
   ]
  },
  {
   "cell_type": "code",
   "execution_count": 73,
   "metadata": {},
   "outputs": [
    {
     "data": {
      "text/html": [
       "<div>\n",
       "<style scoped>\n",
       "    .dataframe tbody tr th:only-of-type {\n",
       "        vertical-align: middle;\n",
       "    }\n",
       "\n",
       "    .dataframe tbody tr th {\n",
       "        vertical-align: top;\n",
       "    }\n",
       "\n",
       "    .dataframe thead th {\n",
       "        text-align: right;\n",
       "    }\n",
       "</style>\n",
       "<table border=\"1\" class=\"dataframe\">\n",
       "  <thead>\n",
       "    <tr style=\"text-align: right;\">\n",
       "      <th></th>\n",
       "      <th>ds</th>\n",
       "      <th>month</th>\n",
       "      <th>weekday</th>\n",
       "      <th>is_weekday</th>\n",
       "      <th>is_holiday_day</th>\n",
       "    </tr>\n",
       "  </thead>\n",
       "  <tbody>\n",
       "    <tr>\n",
       "      <th>94</th>\n",
       "      <td>2013-04-01</td>\n",
       "      <td>4</td>\n",
       "      <td>0</td>\n",
       "      <td>1</td>\n",
       "      <td>1.0</td>\n",
       "    </tr>\n",
       "    <tr>\n",
       "      <th>198</th>\n",
       "      <td>2013-07-14</td>\n",
       "      <td>7</td>\n",
       "      <td>6</td>\n",
       "      <td>0</td>\n",
       "      <td>1.0</td>\n",
       "    </tr>\n",
       "    <tr>\n",
       "      <th>308</th>\n",
       "      <td>2013-11-01</td>\n",
       "      <td>11</td>\n",
       "      <td>4</td>\n",
       "      <td>1</td>\n",
       "      <td>1.0</td>\n",
       "    </tr>\n",
       "    <tr>\n",
       "      <th>496</th>\n",
       "      <td>2014-05-08</td>\n",
       "      <td>5</td>\n",
       "      <td>3</td>\n",
       "      <td>1</td>\n",
       "      <td>1.0</td>\n",
       "    </tr>\n",
       "    <tr>\n",
       "      <th>673</th>\n",
       "      <td>2014-11-01</td>\n",
       "      <td>11</td>\n",
       "      <td>5</td>\n",
       "      <td>0</td>\n",
       "      <td>1.0</td>\n",
       "    </tr>\n",
       "    <tr>\n",
       "      <th>861</th>\n",
       "      <td>2015-05-08</td>\n",
       "      <td>5</td>\n",
       "      <td>4</td>\n",
       "      <td>1</td>\n",
       "      <td>1.0</td>\n",
       "    </tr>\n",
       "    <tr>\n",
       "      <th>1038</th>\n",
       "      <td>2015-11-01</td>\n",
       "      <td>11</td>\n",
       "      <td>6</td>\n",
       "      <td>0</td>\n",
       "      <td>1.0</td>\n",
       "    </tr>\n",
       "    <tr>\n",
       "      <th>1220</th>\n",
       "      <td>2016-05-01</td>\n",
       "      <td>5</td>\n",
       "      <td>6</td>\n",
       "      <td>0</td>\n",
       "      <td>1.0</td>\n",
       "    </tr>\n",
       "    <tr>\n",
       "      <th>1227</th>\n",
       "      <td>2016-05-08</td>\n",
       "      <td>5</td>\n",
       "      <td>6</td>\n",
       "      <td>0</td>\n",
       "      <td>1.0</td>\n",
       "    </tr>\n",
       "    <tr>\n",
       "      <th>1458</th>\n",
       "      <td>2016-12-25</td>\n",
       "      <td>12</td>\n",
       "      <td>6</td>\n",
       "      <td>0</td>\n",
       "      <td>1.0</td>\n",
       "    </tr>\n",
       "    <tr>\n",
       "      <th>1465</th>\n",
       "      <td>2017-01-01</td>\n",
       "      <td>1</td>\n",
       "      <td>6</td>\n",
       "      <td>0</td>\n",
       "      <td>1.0</td>\n",
       "    </tr>\n",
       "    <tr>\n",
       "      <th>1779</th>\n",
       "      <td>2017-11-11</td>\n",
       "      <td>11</td>\n",
       "      <td>5</td>\n",
       "      <td>0</td>\n",
       "      <td>1.0</td>\n",
       "    </tr>\n",
       "  </tbody>\n",
       "</table>\n",
       "</div>"
      ],
      "text/plain": [
       "             ds  month  weekday  is_weekday  is_holiday_day\n",
       "94   2013-04-01      4        0           1             1.0\n",
       "198  2013-07-14      7        6           0             1.0\n",
       "308  2013-11-01     11        4           1             1.0\n",
       "496  2014-05-08      5        3           1             1.0\n",
       "673  2014-11-01     11        5           0             1.0\n",
       "861  2015-05-08      5        4           1             1.0\n",
       "1038 2015-11-01     11        6           0             1.0\n",
       "1220 2016-05-01      5        6           0             1.0\n",
       "1227 2016-05-08      5        6           0             1.0\n",
       "1458 2016-12-25     12        6           0             1.0\n",
       "1465 2017-01-01      1        6           0             1.0\n",
       "1779 2017-11-11     11        5           0             1.0"
      ]
     },
     "execution_count": 73,
     "metadata": {},
     "output_type": "execute_result"
    }
   ],
   "source": [
    "\n",
    "calendar_info.loc[indices_Hd_not_predicted]"
   ]
  },
  {
   "cell_type": "code",
   "execution_count": 74,
   "metadata": {},
   "outputs": [
    {
     "data": {
      "text/plain": [
       "12"
      ]
     },
     "execution_count": 74,
     "metadata": {},
     "output_type": "execute_result"
    }
   ],
   "source": [
    "len(indices_Hd_not_predicted)"
   ]
  },
  {
   "cell_type": "markdown",
   "metadata": {},
   "source": [
    "Days not predicted are mostly days on weekends except for  2013-04-01, 2013-11-01, 2014-05-08, 2015-05-08 which are similar to some holidays but also to non-working days. They could hence be predicted as non-working days which is fine"
   ]
  },
  {
   "cell_type": "code",
   "execution_count": 76,
   "metadata": {},
   "outputs": [
    {
     "data": {
      "image/png": "[encoded data removed]",
      "text/plain": [
       "<Figure size 1000x1000 with 9 Axes>"
      ]
     },
     "metadata": {
      "needs_background": "light"
     },
     "output_type": "display_data"
    }
   ],
   "source": [
    "nPlots=10#len(idxMaxError)\n",
    "nCols=5\n",
    "nRows=int(nPlots/nCols)+1\n",
    "fig = plt.figure(dpi=100,figsize=(10,10))\n",
    "for i in range(1, nPlots):\n",
    "    plt.subplot(nRows, nCols, i)\n",
    "    fig.subplots_adjust(hspace=.5)\n",
    "    indice=indices_Hd_not_predicted[i-1]\n",
    "    plt.plot(x[indice,:])\n",
    "    plt.plot(x_hat[indice,:])\n",
    "    plt.title( calendar_info.ds.dt.date.iloc[indice])"
   ]
  },
  {
   "cell_type": "markdown",
   "metadata": {},
   "source": [
    "# Detect Events as local outliers"
   ]
  },
  {
   "cell_type": "code",
   "execution_count": 77,
   "metadata": {},
   "outputs": [
    {
     "data": {
      "text/plain": [
       "<function matplotlib.pyplot.show(*args, **kw)>"
      ]
     },
     "execution_count": 77,
     "metadata": {},
     "output_type": "execute_result"
    },
    {
     "data": {
      "image/png": "[encoded data removed]",
      "text/plain": [
       "<Figure size 300x300 with 1 Axes>"
      ]
     },
     "metadata": {
      "needs_background": "light"
     },
     "output_type": "display_data"
    }
   ],
   "source": [
    "from sklearn.neighbors import NearestNeighbors\n",
    "neigh = NearestNeighbors(10)\n",
    "neigh.fit(x_encoded)\n",
    "\n",
    "[distance_knn,kneighbors]=neigh.kneighbors(x_encoded, 2, return_distance=True)\n",
    "nearest=distance_knn[:,1]\n",
    "fig = plt.figure(dpi=100,figsize=(3,3))\n",
    "plt.hist(nearest,bins=100)\n",
    "plt.show"
   ]
  },
  {
   "cell_type": "code",
   "execution_count": 78,
   "metadata": {},
   "outputs": [
    {
     "data": {
      "text/plain": [
       "DescribeResult(nobs=1830, minmax=(0.002066032360427631, 1.1948393669811612), mean=0.05158065464930297, variance=0.004200303640771685, skewness=6.516391073387694, kurtosis=73.90740199324071)"
      ]
     },
     "execution_count": 78,
     "metadata": {},
     "output_type": "execute_result"
    }
   ],
   "source": [
    "from scipy import stats\n",
    "\n",
    "stats.describe(nearest)"
   ]
  },
  {
   "cell_type": "code",
   "execution_count": 79,
   "metadata": {},
   "outputs": [
    {
     "data": {
      "text/plain": [
       "<function matplotlib.pyplot.show(*args, **kw)>"
      ]
     },
     "execution_count": 79,
     "metadata": {},
     "output_type": "execute_result"
    },
    {
     "data": {
      "image/png": "[encoded data removed]",
      "text/plain": [
       "<Figure size 300x300 with 1 Axes>"
      ]
     },
     "metadata": {
      "needs_background": "light"
     },
     "output_type": "display_data"
    }
   ],
   "source": [
    "fig = plt.figure(dpi=100,figsize=(3,3))\n",
    "plt.hist(nearest[indicesHd],bins=100)\n",
    "plt.show"
   ]
  },
  {
   "cell_type": "code",
   "execution_count": 80,
   "metadata": {},
   "outputs": [
    {
     "data": {
      "text/plain": [
       "DescribeResult(nobs=55, minmax=(0.011622080323431544, 0.6193157734187748), mean=0.1811970466420832, variance=0.019042028601234946, skewness=1.0052051409266696, kurtosis=0.401697569895211)"
      ]
     },
     "execution_count": 80,
     "metadata": {},
     "output_type": "execute_result"
    }
   ],
   "source": [
    "stats.describe(nearest[indicesHd])"
   ]
  },
  {
   "cell_type": "code",
   "execution_count": 81,
   "metadata": {},
   "outputs": [
    {
     "data": {
      "text/html": [
       "<div>\n",
       "<style scoped>\n",
       "    .dataframe tbody tr th:only-of-type {\n",
       "        vertical-align: middle;\n",
       "    }\n",
       "\n",
       "    .dataframe tbody tr th {\n",
       "        vertical-align: top;\n",
       "    }\n",
       "\n",
       "    .dataframe thead th {\n",
       "        text-align: right;\n",
       "    }\n",
       "</style>\n",
       "<table border=\"1\" class=\"dataframe\">\n",
       "  <thead>\n",
       "    <tr style=\"text-align: right;\">\n",
       "      <th></th>\n",
       "      <th>ds</th>\n",
       "      <th>month</th>\n",
       "      <th>weekday</th>\n",
       "      <th>is_weekday</th>\n",
       "      <th>is_holiday_day</th>\n",
       "    </tr>\n",
       "  </thead>\n",
       "  <tbody>\n",
       "    <tr>\n",
       "      <th>73</th>\n",
       "      <td>2013-03-11</td>\n",
       "      <td>3</td>\n",
       "      <td>0</td>\n",
       "      <td>1</td>\n",
       "      <td>0.0</td>\n",
       "    </tr>\n",
       "    <tr>\n",
       "      <th>94</th>\n",
       "      <td>2013-04-01</td>\n",
       "      <td>4</td>\n",
       "      <td>0</td>\n",
       "      <td>1</td>\n",
       "      <td>1.0</td>\n",
       "    </tr>\n",
       "    <tr>\n",
       "      <th>107</th>\n",
       "      <td>2013-04-14</td>\n",
       "      <td>4</td>\n",
       "      <td>6</td>\n",
       "      <td>0</td>\n",
       "      <td>0.0</td>\n",
       "    </tr>\n",
       "    <tr>\n",
       "      <th>369</th>\n",
       "      <td>2014-01-01</td>\n",
       "      <td>1</td>\n",
       "      <td>2</td>\n",
       "      <td>1</td>\n",
       "      <td>1.0</td>\n",
       "    </tr>\n",
       "    <tr>\n",
       "      <th>405</th>\n",
       "      <td>2014-02-06</td>\n",
       "      <td>2</td>\n",
       "      <td>3</td>\n",
       "      <td>1</td>\n",
       "      <td>0.0</td>\n",
       "    </tr>\n",
       "    <tr>\n",
       "      <th>727</th>\n",
       "      <td>2014-12-25</td>\n",
       "      <td>12</td>\n",
       "      <td>3</td>\n",
       "      <td>1</td>\n",
       "      <td>1.0</td>\n",
       "    </tr>\n",
       "    <tr>\n",
       "      <th>1458</th>\n",
       "      <td>2016-12-25</td>\n",
       "      <td>12</td>\n",
       "      <td>6</td>\n",
       "      <td>0</td>\n",
       "      <td>1.0</td>\n",
       "    </tr>\n",
       "    <tr>\n",
       "      <th>1465</th>\n",
       "      <td>2017-01-01</td>\n",
       "      <td>1</td>\n",
       "      <td>6</td>\n",
       "      <td>0</td>\n",
       "      <td>1.0</td>\n",
       "    </tr>\n",
       "    <tr>\n",
       "      <th>1490</th>\n",
       "      <td>2017-01-26</td>\n",
       "      <td>1</td>\n",
       "      <td>3</td>\n",
       "      <td>1</td>\n",
       "      <td>0.0</td>\n",
       "    </tr>\n",
       "    <tr>\n",
       "      <th>1491</th>\n",
       "      <td>2017-01-27</td>\n",
       "      <td>1</td>\n",
       "      <td>4</td>\n",
       "      <td>1</td>\n",
       "      <td>0.0</td>\n",
       "    </tr>\n",
       "    <tr>\n",
       "      <th>1690</th>\n",
       "      <td>2017-08-14</td>\n",
       "      <td>8</td>\n",
       "      <td>0</td>\n",
       "      <td>1</td>\n",
       "      <td>0.0</td>\n",
       "    </tr>\n",
       "    <tr>\n",
       "      <th>1805</th>\n",
       "      <td>2017-12-07</td>\n",
       "      <td>12</td>\n",
       "      <td>3</td>\n",
       "      <td>1</td>\n",
       "      <td>0.0</td>\n",
       "    </tr>\n",
       "    <tr>\n",
       "      <th>1823</th>\n",
       "      <td>2017-12-25</td>\n",
       "      <td>12</td>\n",
       "      <td>0</td>\n",
       "      <td>1</td>\n",
       "      <td>1.0</td>\n",
       "    </tr>\n",
       "    <tr>\n",
       "      <th>1828</th>\n",
       "      <td>2017-12-30</td>\n",
       "      <td>12</td>\n",
       "      <td>5</td>\n",
       "      <td>0</td>\n",
       "      <td>0.0</td>\n",
       "    </tr>\n",
       "  </tbody>\n",
       "</table>\n",
       "</div>"
      ],
      "text/plain": [
       "             ds  month  weekday  is_weekday  is_holiday_day\n",
       "73   2013-03-11      3        0           1             0.0\n",
       "94   2013-04-01      4        0           1             1.0\n",
       "107  2013-04-14      4        6           0             0.0\n",
       "369  2014-01-01      1        2           1             1.0\n",
       "405  2014-02-06      2        3           1             0.0\n",
       "727  2014-12-25     12        3           1             1.0\n",
       "1458 2016-12-25     12        6           0             1.0\n",
       "1465 2017-01-01      1        6           0             1.0\n",
       "1490 2017-01-26      1        3           1             0.0\n",
       "1491 2017-01-27      1        4           1             0.0\n",
       "1690 2017-08-14      8        0           1             0.0\n",
       "1805 2017-12-07     12        3           1             0.0\n",
       "1823 2017-12-25     12        0           1             1.0\n",
       "1828 2017-12-30     12        5           0             0.0"
      ]
     },
     "execution_count": 81,
     "metadata": {},
     "output_type": "execute_result"
    }
   ],
   "source": [
    "nearestThreshold=0.35\n",
    "calendar_info.loc[np.where(nearest>=nearestThreshold)]"
   ]
  },
  {
   "cell_type": "markdown",
   "metadata": {},
   "source": [
    "2013-03-11 and 2017-01-26/27 were big snowy events in France. 2013-04-14 was a punctual summer day in early spring. 2014-02-06 was a stormy day. Other days are either holidays or similar non-working days which can be analysed in the projector."
   ]
  },
  {
   "cell_type": "code",
   "execution_count": 82,
   "metadata": {},
   "outputs": [
    {
     "data": {
      "text/plain": [
       "array([0.58221033, 0.43124601, 0.37215222, 0.61931577, 0.44871903,\n",
       "       0.47452714, 0.41528439, 0.37215222, 0.46516691, 1.19483937,\n",
       "       0.44303197, 0.45068331, 0.43994025, 0.76402931])"
      ]
     },
     "execution_count": 82,
     "metadata": {},
     "output_type": "execute_result"
    }
   ],
   "source": [
    "indicesNear=[i for i in range(0,len(nearest)) if nearest[i]>=nearestThreshold]\n",
    "nearest[np.where(nearest>=nearestThreshold)]"
   ]
  },
  {
   "cell_type": "code",
   "execution_count": 83,
   "metadata": {},
   "outputs": [
    {
     "data": {
      "text/plain": [
       "<bound method Figure.show of <Figure size 1000x600 with 14 Axes>>"
      ]
     },
     "execution_count": 83,
     "metadata": {},
     "output_type": "execute_result"
    },
    {
     "data": {
      "image/png": "[encoded data removed]",
      "text/plain": [
       "<Figure size 1000x600 with 14 Axes>"
      ]
     },
     "metadata": {
      "needs_background": "light"
     },
     "output_type": "display_data"
    }
   ],
   "source": [
    "nPlots=len(indicesNear)#len(idxMaxError)\n",
    "nCols=5\n",
    "nRows=int(nPlots/nCols)+1\n",
    "fig = plt.figure(dpi=100,figsize=(10,nRows*2))\n",
    "for i in range(1, nPlots+1):\n",
    "    plt.subplot(nRows, nCols, i)\n",
    "    fig.subplots_adjust(hspace=.5)\n",
    "    indice=indicesNear[i-1]\n",
    "    plt.plot(x[indice,:])\n",
    "    plt.plot(x_hat[indice,:])\n",
    "    plt.title( calendar_info.ds.dt.date.iloc[indice])\n",
    "fig.show"
   ]
  },
  {
   "cell_type": "markdown",
   "metadata": {},
   "source": [
    "# Conclusions\n",
    "- We managed to properly condition on the expert feature passed as the residual latent space is almost independant from them\n",
    "- We recover holidays which are well-represented and can be predicted\n",
    "- We can use the latent projection to discover other non-working days to label such as days near holidays or Christmas week\n",
    "- When looking at local outliers, we discover first weather events to further analyze in a more appropriate conditional representation were they are better represented.\n",
    "\n",
    "\n"
   ]
  },
  {
   "cell_type": "code",
   "execution_count": null,
   "metadata": {},
   "outputs": [],
   "source": []
  },
  {
   "cell_type": "code",
   "execution_count": null,
   "metadata": {},
   "outputs": [],
   "source": []
  },
  {
   "cell_type": "code",
   "execution_count": null,
   "metadata": {},
   "outputs": [],
   "source": []
  }
 ],
 "metadata": {
  "jupytext": {
   "formats": "ipynb,py"
  },
  "kernelspec": {
   "display_name": "Python 3",
   "language": "python",
   "name": "python3"
  },
  "language_info": {
   "codemirror_mode": {
    "name": "ipython",
    "version": 3
   },
   "file_extension": ".py",
   "mimetype": "text/x-python",
   "name": "python",
   "nbconvert_exporter": "python",
   "pygments_lexer": "ipython3",
   "version": "3.6.6"
  }
 },
 "nbformat": 4,
 "nbformat_minor": 2
}
