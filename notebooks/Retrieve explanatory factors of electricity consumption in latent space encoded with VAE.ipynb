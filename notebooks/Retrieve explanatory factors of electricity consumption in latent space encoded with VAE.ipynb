{
 "cells": [
  {
   "cell_type": "markdown",
   "metadata": {},
   "source": [
    "# Loading and shapping of the data"
   ]
  },
  {
   "cell_type": "code",
   "execution_count": 2,
   "metadata": {},
   "outputs": [],
   "source": [
    "#import external libraries\n",
    "import sys\n",
    "import os\n",
    "import datetime\n",
    "import pandas as pd\n",
    "import numpy as np\n",
    "import pickle\n",
    "from matplotlib import pyplot as plt\n",
    "import seaborn as sn\n",
    "from scipy import stats\n",
    "import cv2 #from open-cv, to convert array to images\n",
    "\n",
    "import warnings\n",
    "warnings.filterwarnings('ignore')"
   ]
  },
  {
   "cell_type": "code",
   "execution_count": 3,
   "metadata": {},
   "outputs": [],
   "source": [
    "#paths in git\n",
    "\n",
    "#root git folder \n",
    "path_main_folder = '/home/goubetcle/Documents/CVAE/marota_cvae'\n",
    "#path_main_folder = '/home/jovyan'#specify the root folder of the git repo\n",
    "\n",
    "#add  to path root git folder \n",
    "sys.path.append(path_main_folder)\n",
    "#add  to path source code folder\n",
    "sys.path.append(path_main_folder+'/src')"
   ]
  },
  {
   "cell_type": "code",
   "execution_count": 7,
   "metadata": {},
   "outputs": [],
   "source": [
    "#import class and methods from src\n",
    "from keras import backend as K\n",
    "from CVAE.callbacks import NEpochLogger,callbackWeightLoss\n",
    "#from CVAE.cvae import compile_cvae, run_cvae\n",
    "from CVAE.cvae_model import CVAE, CVAE_emb, CAE\n",
    "from conso.load_shape_data import *\n",
    "\n",
    "import Visualisation.buildProjector\n",
    "from Visualisation.buildProjector import *\n",
    "from FeaturesScore.scoring import *\n",
    "from FeaturesScore.exploration import *\n",
    "\n",
    "#from conso.load_shape_data import get_x_conso_autoencoder\n",
    "from conso.conso_helpers import plot_latent_space_projection, pyplot_latent_space_projection_temp, pyplot_latent_space_projection_error\n"
   ]
  },
  {
   "cell_type": "code",
   "execution_count": 8,
   "metadata": {},
   "outputs": [
    {
     "data": {
      "text/html": [
       "<div>\n",
       "<style scoped>\n",
       "    .dataframe tbody tr th:only-of-type {\n",
       "        vertical-align: middle;\n",
       "    }\n",
       "\n",
       "    .dataframe tbody tr th {\n",
       "        vertical-align: top;\n",
       "    }\n",
       "\n",
       "    .dataframe thead th {\n",
       "        text-align: right;\n",
       "    }\n",
       "</style>\n",
       "<table border=\"1\" class=\"dataframe\">\n",
       "  <thead>\n",
       "    <tr style=\"text-align: right;\">\n",
       "      <th></th>\n",
       "      <th>ds</th>\n",
       "      <th>consumption_France</th>\n",
       "      <th>temperature_France</th>\n",
       "      <th>is_holiday_day</th>\n",
       "    </tr>\n",
       "  </thead>\n",
       "  <tbody>\n",
       "    <tr>\n",
       "      <th>0</th>\n",
       "      <td>2012-12-28 00:00:00</td>\n",
       "      <td>59679.0</td>\n",
       "      <td>8.817600</td>\n",
       "      <td>0.0</td>\n",
       "    </tr>\n",
       "    <tr>\n",
       "      <th>1</th>\n",
       "      <td>2012-12-28 00:30:00</td>\n",
       "      <td>58103.0</td>\n",
       "      <td>8.690875</td>\n",
       "      <td>0.0</td>\n",
       "    </tr>\n",
       "    <tr>\n",
       "      <th>2</th>\n",
       "      <td>2012-12-28 01:00:00</td>\n",
       "      <td>55354.0</td>\n",
       "      <td>8.564150</td>\n",
       "      <td>0.0</td>\n",
       "    </tr>\n",
       "    <tr>\n",
       "      <th>3</th>\n",
       "      <td>2012-12-28 01:30:00</td>\n",
       "      <td>55196.0</td>\n",
       "      <td>8.440525</td>\n",
       "      <td>0.0</td>\n",
       "    </tr>\n",
       "    <tr>\n",
       "      <th>4</th>\n",
       "      <td>2012-12-28 02:00:00</td>\n",
       "      <td>54324.0</td>\n",
       "      <td>8.316900</td>\n",
       "      <td>0.0</td>\n",
       "    </tr>\n",
       "  </tbody>\n",
       "</table>\n",
       "</div>"
      ],
      "text/plain": [
       "                   ds  consumption_France  temperature_France  is_holiday_day\n",
       "0 2012-12-28 00:00:00             59679.0            8.817600             0.0\n",
       "1 2012-12-28 00:30:00             58103.0            8.690875             0.0\n",
       "2 2012-12-28 01:00:00             55354.0            8.564150             0.0\n",
       "3 2012-12-28 01:30:00             55196.0            8.440525             0.0\n",
       "4 2012-12-28 02:00:00             54324.0            8.316900             0.0"
      ]
     },
     "execution_count": 8,
     "metadata": {},
     "output_type": "execute_result"
    }
   ],
   "source": [
    "# Load dataframe\n",
    "path_data = os.path.join(path_main_folder, 'data')\n",
    "dataset_csv = os.path.join(path_data, \"dataset.csv\")\n",
    "x_conso = pd.read_csv(dataset_csv, sep=\",\",)\n",
    "x_conso.ds = pd.to_datetime(x_conso.ds)\n",
    "\n",
    "#drop indices column\n",
    "x_conso=x_conso.drop(columns=x_conso.columns[0],axis=1)\n",
    "\n",
    "#Visualize data frame head\n",
    "x_conso.head(5)"
   ]
  },
  {
   "cell_type": "code",
   "execution_count": 10,
   "metadata": {},
   "outputs": [
    {
     "name": "stdout",
     "output_type": "stream",
     "text": [
      "['consumption_France']\n"
     ]
    }
   ],
   "source": [
    "name_set_plot = 'train'\n",
    "version = '-v1'\n",
    "nPoints=1830\n",
    "\n",
    "dict_xconso = {'train': x_conso}\n",
    "\n",
    "# Normalize input variables\n",
    "type_scaler = 's'\n",
    "dict_xconso, _ = normalize_xconso(dict_xconso, type_scaler = 'standard')"
   ]
  },
  {
   "cell_type": "code",
   "execution_count": 11,
   "metadata": {},
   "outputs": [],
   "source": [
    "dataset = get_dataset_autoencoder(dict_xconso=dict_xconso)"
   ]
  },
  {
   "cell_type": "code",
   "execution_count": 12,
   "metadata": {},
   "outputs": [],
   "source": [
    "calendar_info = pd.DataFrame(dataset[name_set_plot]['ds'])\n",
    "calendar_info['month'] = calendar_info.ds.dt.month\n",
    "calendar_info['weekday'] = calendar_info.ds.dt.weekday\n",
    "calendar_info['is_weekday'] = (calendar_info.weekday < 5).apply(lambda x:int(x))\n",
    "calendar_info = pd.merge(calendar_info, x_conso[['ds', 'is_holiday_day']], on='ds', how ='left')\n",
    "calendar_info.loc[calendar_info['is_holiday_day'].isna(),'is_holiday_day'] = 0"
   ]
  },
  {
   "cell_type": "code",
   "execution_count": 13,
   "metadata": {},
   "outputs": [],
   "source": [
    "#Study conso variations as importance factors\n",
    "slope = np.abs(np.diff(dataset['train']['x'][0]))\n",
    "#variationMax = np.max(slope, axis=1)\n",
    "variationMean = np.mean(slope, axis = 1)\n",
    "#calendar_info['load_variation_max'] = variationMax\n",
    "calendar_info['load_variation_mean'] = variationMean"
   ]
  },
  {
   "cell_type": "code",
   "execution_count": 14,
   "metadata": {},
   "outputs": [
    {
     "data": {
      "text/plain": [
       "count    1830.000000\n",
       "mean        0.008743\n",
       "std         0.093121\n",
       "min         0.000000\n",
       "25%         0.000000\n",
       "50%         0.000000\n",
       "75%         0.000000\n",
       "max         1.000000\n",
       "Name: potential_bridge_holiday, dtype: float64"
      ]
     },
     "execution_count": 14,
     "metadata": {},
     "output_type": "execute_result"
    }
   ],
   "source": [
    "#explicit the potential bridge days taken as extended holidays\n",
    "day_hol = calendar_info[['weekday', 'is_holiday_day']].copy().values\n",
    "bridge_index=[]\n",
    "for i in range(day_hol.shape[0]):\n",
    "    if day_hol[i,1]==1:\n",
    "        if day_hol[i,0]==1:\n",
    "            bridge_index.append(i-1)\n",
    "        elif day_hol[i,0]==3:\n",
    "            bridge_index.append(i+1)\n",
    "\n",
    "bridges = np.zeros(day_hol.shape[0])\n",
    "bridges[np.asarray(bridge_index)] = 1\n",
    "\n",
    "calendar_info['potential_bridge_holiday'] = bridges\n",
    "calendar_info['potential_bridge_holiday'].describe()"
   ]
  },
  {
   "cell_type": "code",
   "execution_count": 15,
   "metadata": {},
   "outputs": [],
   "source": [
    "factors = calendar_info.iloc[:,1:5].copy()\n",
    "columns_x = x_conso.columns\n",
    "conso_idx = np.argmax(['consumption' in c for c in x_conso.columns])\n",
    "temp_idx = np.argmax(['temperature' in c for c in x_conso.columns])\n",
    "dates = np.unique(x_conso['ds'].dt.date)\n",
    "temperatureMean=np.asarray([np.mean(x_conso[columns_x[temp_idx]].iloc[np.where(x_conso['ds'].dt.date==dates[k])]) for k in range(dates.shape[0])])\n",
    "\n",
    "factorMatrix = np.c_[factors.values,temperatureMean,variationMean]\n",
    "\n",
    "factorDesc={\n",
    "    'month':'category',\n",
    "    'weekday':'category',\n",
    "    'is_weekday':'category',\n",
    "    'is_holiday_day':'category',\n",
    "    'temperature':'regressor',\n",
    "    'load_delta_mean' : 'regressor'\n",
    "}"
   ]
  },
  {
   "cell_type": "markdown",
   "metadata": {},
   "source": [
    "# Tools to evaluate the representations"
   ]
  },
  {
   "cell_type": "code",
   "execution_count": 18,
   "metadata": {},
   "outputs": [],
   "source": [
    "#visualisation des metrics\n",
    "def display_metrics(model_eval, z_dim, factorDesc):\n",
    "    if 'reconstruction_error' in model_eval.keys():\n",
    "        for k,v in model_eval['reconstruction_error'].item():\n",
    "            print(k, ' : ', v)\n",
    "    print('Mutual Information Gap : %.2f'%model_eval['mig'])\n",
    "\n",
    "    fig = plt.figure(dpi=100,figsize=(10,8))\n",
    "\n",
    "    plt.subplot(1, 3, 1)\n",
    "    fig.subplots_adjust(hspace=0.5)\n",
    "    plt.bar(factorDesc.keys(),model_eval['informativeness'])\n",
    "    plt.xlabel('factors')\n",
    "    plt.xticks(rotation=75)\n",
    "    plt.ylim(top=1)\n",
    "    for index,data in enumerate(model_eval['informativeness']):\n",
    "        plt.text(x=index - 0.5, y =data+0.01 , s=\"%.2f\"%data , fontdict=dict(fontsize=10))\n",
    "    plt.title('Informativeness score : %.2f'%np.mean(model_eval['informativeness']))\n",
    "\n",
    "    plt.subplot(1, 3, 2)\n",
    "    plt.bar(np.arange(z_dim)+1,model_eval['disentanglement'])\n",
    "    plt.xlabel('latent variables')\n",
    "    plt.title('Disentanglement score : %.2f'%model_eval['mean_disentanglement']);\n",
    "\n",
    "    plt.subplot(1, 3, 3)\n",
    "    plt.bar(factorDesc.keys(),model_eval['compactness'])\n",
    "    plt.xlabel('factors')\n",
    "    plt.xticks(rotation=75)\n",
    "    plt.title('Compactness')\n",
    "    plt.tight_layout();"
   ]
  },
  {
   "cell_type": "code",
   "execution_count": null,
   "metadata": {},
   "outputs": [],
   "source": [
    "#visualisation d'une représentation 2D dans le notebook\n",
    "from sklearn.decomposition import PCA\n",
    "def prez_2D(x_encoded):\n",
    "    proj2D = PCA(2)\n",
    "    proj = proj2D.fit_transform(x_encoded)\n",
    "    plt.figure(figsize=(36,18))\n",
    "    \n",
    "    #visualisation des mois par un disque de fond coloré\n",
    "    for i in np.unique(factorMatrix[:,1]):\n",
    "        i = int(i)\n",
    "        index = factorMatrix[:,1]==i\n",
    "        plt.scatter(x=proj[index,0], y=proj[index,1], c= factorMatrix[index,0], marker = 'o', s=500, alpha=0.5, cmap = 'Paired')\n",
    "\n",
    "    plt.colorbar().set_label('month');\n",
    "    \n",
    "    #visualisation de la température par la coloration graduelle du jour de la semaine\n",
    "    for i in np.unique(factorMatrix[:,1]):\n",
    "        i = int(i)\n",
    "        index = factorMatrix[:,1]==i\n",
    "        plt.scatter(x=proj[index,0], y=proj[index,1], c= temperatureMean[index], marker = '$'+str(i)+'$', s=200)\n",
    "\n",
    "    plt.colorbar().set_label('temperature');"
   ]
  },
  {
   "cell_type": "code",
   "execution_count": null,
   "metadata": {},
   "outputs": [],
   "source": []
  }
 ],
 "metadata": {
  "kernelspec": {
   "display_name": "Python 3",
   "language": "python",
   "name": "python3"
  },
  "language_info": {
   "codemirror_mode": {
    "name": "ipython",
    "version": 3
   },
   "file_extension": ".py",
   "mimetype": "text/x-python",
   "name": "python",
   "nbconvert_exporter": "python",
   "pygments_lexer": "ipython3",
   "version": "3.6.6"
  }
 },
 "nbformat": 4,
 "nbformat_minor": 2
}
